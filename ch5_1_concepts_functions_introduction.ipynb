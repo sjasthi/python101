{
  "nbformat": 4,
  "nbformat_minor": 0,
  "metadata": {
    "colab": {
      "provenance": [],
      "toc_visible": true
    },
    "kernelspec": {
      "name": "python3",
      "display_name": "Python 3"
    },
    "language_info": {
      "name": "python"
    }
  },
  "cells": [
    {
      "cell_type": "markdown",
      "source": [
        "### Ch 5: Functions (Define once, Call many times)\n",
        "## Siva Jasthi\n",
        "* Functions: Introduction\n",
        "* Defining Functions (aka Signature)\n",
        "* Implementing Functions\n",
        "* Calling Functions\n",
        "* Void-Returning Functions\n",
        "* Built-in vs User-Defined Functions\n",
        "* Formal vs Actual Arguments\n",
        "* Positional Arguments\n",
        "* Keyword Arguments\n",
        "* Default Values (aka Optional Values)\n",
        "* Pass-By Value: Functions get a copy\n",
        "* Scope of Variables\n",
        "* Local vs Global variables\n",
        "* Functions returning Multiple Values\n",
        "* Variable Number of Arguments\n",
        "* Variable Number of keyword Arguments\n",
        "* Yielding (aka Generator) functions.\n",
        "\n"
      ],
      "metadata": {
        "id": "9mrsskjKzq5h"
      }
    },
    {
      "cell_type": "markdown",
      "source": [
        "## 5.1. Functions: Cheat Sheet\n",
        "```\n",
        "Function Definition Questions:\n",
        "\n",
        "1. What is the function name?\n",
        "\n",
        "2. What are the inputs to the fuction?\n",
        "\n",
        "3. What is the function doing? What is the purpose?\n",
        "(If you are using other's fuction, then it is blackbox)\n",
        "\n",
        "4. Is the function returing anything? (0 or 1 or N outputs)\n",
        "\n",
        "```\n",
        "\n",
        "\n",
        "```\n",
        "Function Invocation Questions:\n",
        "\n",
        "1. Is my function taking any inputs?\n",
        "\n",
        "2. How am I preparing those inputs\n",
        "-- Getting those from the user?\n",
        "-- Hard coding those??\n",
        "-- Getting those from other functions?\n",
        "\n",
        "3. Am I calling the functions with the required inputs?\n",
        "\n",
        "4. Is the function returning any outputs?\n",
        "\n",
        "5. What am I doing with those outputs?\n",
        "- displaying those?\n",
        "- passing those to other functions?\n",
        "\n",
        "```"
      ],
      "metadata": {
        "id": "VpUAz8bCoXYH"
      }
    },
    {
      "cell_type": "markdown",
      "source": [
        "## 5.2 Functions: An introduction\n",
        "\n",
        "References:\n",
        "1. https://www.w3schools.com/python/python_functions.asp\n",
        "2. https://python.plainenglish.io/10-levels-of-writing-python-functions-a0a29997ae79"
      ],
      "metadata": {
        "id": "PzxAmFDSOuU9"
      }
    },
    {
      "cell_type": "code",
      "source": [
        "#@title Find the max of three numbers (without using function concept)\n",
        "# Ask the user for three numbers.\n",
        "# And find and print the highest number.\n",
        "# And play this game four times.\n",
        "\n",
        "print('\\n\\nPlaying the game for the first time')\n",
        "num_1 = int(input('Enter number 1:'))\n",
        "num_2 = int(input('Enter number 2:'))\n",
        "num_3 = int(input('Enter number 3:'))\n",
        "\n",
        "if (num_1 > num_2):\n",
        "  max_num = num_1\n",
        "else:\n",
        "  max_num = num_2\n",
        "\n",
        "if (num_3 > max_num):\n",
        "  max_num = num_3\n",
        "\n",
        "print('Max of three numbers: ', max_num)\n",
        "\n",
        "\n",
        "\n",
        "print('\\n\\nPlaying the game for the second time')\n",
        "num_1 = int(input('Enter number 1:'))\n",
        "num_2 = int(input('Enter number 2:'))\n",
        "num_3 = int(input('Enter number 3:'))\n",
        "\n",
        "if (num_1 > num_2):\n",
        "  max_num = num_1\n",
        "else:\n",
        "  max_num = num_2\n",
        "\n",
        "if (num_3 > max_num):\n",
        "  max_num = num_3\n",
        "\n",
        "print('Max of three numbers: ', max_num)\n",
        "\n",
        "\n",
        "print('\\n\\nPlaying the game for the third time')\n",
        "num_1 = int(input('Enter number 1:'))\n",
        "num_2 = int(input('Enter number 2:'))\n",
        "num_3 = int(input('Enter number 3:'))\n",
        "\n",
        "if (num_1 > num_2):\n",
        "  max_num = num_1\n",
        "else:\n",
        "  max_num = num_2\n",
        "\n",
        "if (num_3 > max_num):\n",
        "  max_num = num_3\n",
        "\n",
        "print('Max of three numbers: ', max_num)\n",
        "\n"
      ],
      "metadata": {
        "colab": {
          "base_uri": "https://localhost:8080/",
          "height": 590
        },
        "id": "_ptYKyg5Rh6W",
        "outputId": "87043115-c563-49f2-cd81-25cfd73e6a19"
      },
      "execution_count": null,
      "outputs": [
        {
          "name": "stdout",
          "output_type": "stream",
          "text": [
            "\n",
            "\n",
            "Playing the game for the first time\n",
            "Enter number 1:78\n",
            "Enter number 2:8\n",
            "Enter number 3:9\n",
            "Max of three numbers:  78\n",
            "\n",
            "\n",
            "Playing the game for the second time\n",
            "Enter number 1:8\n",
            "Enter number 2:5\n",
            "Enter number 3:5\n",
            "Max of three numbers:  8\n",
            "\n",
            "\n",
            "Playing the game for the third time\n",
            "Enter number 1:5\n",
            "Enter number 2:\n"
          ]
        },
        {
          "output_type": "error",
          "ename": "ValueError",
          "evalue": "ignored",
          "traceback": [
            "\u001b[0;31m---------------------------------------------------------------------------\u001b[0m",
            "\u001b[0;31mValueError\u001b[0m                                Traceback (most recent call last)",
            "\u001b[0;32m<ipython-input-33-b709324c4134>\u001b[0m in \u001b[0;36m<cell line: 41>\u001b[0;34m()\u001b[0m\n\u001b[1;32m     39\u001b[0m \u001b[0mprint\u001b[0m\u001b[0;34m(\u001b[0m\u001b[0;34m'\\n\\nPlaying the game for the third time'\u001b[0m\u001b[0;34m)\u001b[0m\u001b[0;34m\u001b[0m\u001b[0;34m\u001b[0m\u001b[0m\n\u001b[1;32m     40\u001b[0m \u001b[0mnum_1\u001b[0m \u001b[0;34m=\u001b[0m \u001b[0mint\u001b[0m\u001b[0;34m(\u001b[0m\u001b[0minput\u001b[0m\u001b[0;34m(\u001b[0m\u001b[0;34m'Enter number 1:'\u001b[0m\u001b[0;34m)\u001b[0m\u001b[0;34m)\u001b[0m\u001b[0;34m\u001b[0m\u001b[0;34m\u001b[0m\u001b[0m\n\u001b[0;32m---> 41\u001b[0;31m \u001b[0mnum_2\u001b[0m \u001b[0;34m=\u001b[0m \u001b[0mint\u001b[0m\u001b[0;34m(\u001b[0m\u001b[0minput\u001b[0m\u001b[0;34m(\u001b[0m\u001b[0;34m'Enter number 2:'\u001b[0m\u001b[0;34m)\u001b[0m\u001b[0;34m)\u001b[0m\u001b[0;34m\u001b[0m\u001b[0;34m\u001b[0m\u001b[0m\n\u001b[0m\u001b[1;32m     42\u001b[0m \u001b[0mnum_3\u001b[0m \u001b[0;34m=\u001b[0m \u001b[0mint\u001b[0m\u001b[0;34m(\u001b[0m\u001b[0minput\u001b[0m\u001b[0;34m(\u001b[0m\u001b[0;34m'Enter number 3:'\u001b[0m\u001b[0;34m)\u001b[0m\u001b[0;34m)\u001b[0m\u001b[0;34m\u001b[0m\u001b[0;34m\u001b[0m\u001b[0m\n\u001b[1;32m     43\u001b[0m \u001b[0;34m\u001b[0m\u001b[0m\n",
            "\u001b[0;31mValueError\u001b[0m: invalid literal for int() with base 10: ''"
          ]
        }
      ]
    },
    {
      "cell_type": "code",
      "source": [
        "#@title Find the max of three numbers (using the function concept)\n",
        "\n",
        "def find_max(num_1, num_2, num_3):\n",
        "  if (num_1 > num_2):\n",
        "    max_num = num_1\n",
        "  else:\n",
        "    max_num = num_2\n",
        "\n",
        "  if (num_3 > max_num):\n",
        "    max_num = num_3\n",
        "\n",
        "  return max_num\n",
        "\n",
        "\n",
        "# Call the above function\n",
        "x = find_max(5, 106, 66, 56)\n",
        "print(x)\n",
        "\n",
        "y = find_max(8, 7, 19)\n",
        "print(y)\n",
        "\n",
        "z = find_max(-4, -6, -10)\n",
        "print(z)\n"
      ],
      "metadata": {
        "id": "tMl3c_epTAIS",
        "colab": {
          "base_uri": "https://localhost:8080/",
          "height": 245
        },
        "outputId": "48635d1d-47cc-4eed-da97-733be614657f"
      },
      "execution_count": null,
      "outputs": [
        {
          "output_type": "error",
          "ename": "TypeError",
          "evalue": "ignored",
          "traceback": [
            "\u001b[0;31m---------------------------------------------------------------------------\u001b[0m",
            "\u001b[0;31mTypeError\u001b[0m                                 Traceback (most recent call last)",
            "\u001b[0;32m<ipython-input-5-1b0e204d878e>\u001b[0m in \u001b[0;36m<cell line: 16>\u001b[0;34m()\u001b[0m\n\u001b[1;32m     14\u001b[0m \u001b[0;34m\u001b[0m\u001b[0m\n\u001b[1;32m     15\u001b[0m \u001b[0;31m# Call the above function\u001b[0m\u001b[0;34m\u001b[0m\u001b[0;34m\u001b[0m\u001b[0m\n\u001b[0;32m---> 16\u001b[0;31m \u001b[0mx\u001b[0m \u001b[0;34m=\u001b[0m \u001b[0mfind_max\u001b[0m\u001b[0;34m(\u001b[0m\u001b[0;36m5\u001b[0m\u001b[0;34m,\u001b[0m \u001b[0;36m106\u001b[0m\u001b[0;34m,\u001b[0m \u001b[0;36m66\u001b[0m\u001b[0;34m,\u001b[0m \u001b[0;36m56\u001b[0m\u001b[0;34m)\u001b[0m\u001b[0;34m\u001b[0m\u001b[0;34m\u001b[0m\u001b[0m\n\u001b[0m\u001b[1;32m     17\u001b[0m \u001b[0mprint\u001b[0m\u001b[0;34m(\u001b[0m\u001b[0mx\u001b[0m\u001b[0;34m)\u001b[0m\u001b[0;34m\u001b[0m\u001b[0;34m\u001b[0m\u001b[0m\n\u001b[1;32m     18\u001b[0m \u001b[0;34m\u001b[0m\u001b[0m\n",
            "\u001b[0;31mTypeError\u001b[0m: find_max() takes 3 positional arguments but 4 were given"
          ]
        }
      ]
    },
    {
      "cell_type": "code",
      "execution_count": null,
      "metadata": {
        "id": "jf7TN922Ray7",
        "colab": {
          "base_uri": "https://localhost:8080/"
        },
        "outputId": "1da6c346-58b9-4089-caf5-7024b2ffea78"
      },
      "outputs": [
        {
          "output_type": "stream",
          "name": "stdout",
          "text": [
            "max of 10,30 and 2:  30\n",
            "max of 4, 5, 5:  5\n",
            "max of 5, 5, 5:  5\n",
            "max of -2, 0, -3:  0\n",
            "max of 4, 5, 99:  99\n",
            "max of 1, 2, 3:  3\n",
            "max of 1.2, 2.3, 3.4:  3.4\n",
            "max of 'ox', 'zebra', 'donkey'  zebra\n"
          ]
        }
      ],
      "source": [
        "#@title getMax() Example Assignment 8.1\n",
        "#1.  there are some bugs in this code. Please ensure this code is bug-free for all numbers and is working correctly.\n",
        "#2. Also test this function with different types of strings and ensures that it is working for the strings also.\n",
        "\n",
        "#3. you should the testing for\n",
        "# - ints\n",
        "# - floats\n",
        "# - strings\n",
        "'''\n",
        "This function returns the maximum of three numbers or three strings.\n",
        "In the case strings, larger string appears later in the dictionary.\n",
        "Dictionary Order = Lexicographic Order\n",
        "'''\n",
        "\n",
        "# User-Defined Functions\n",
        "# Built-in Functions: print(), input()\n",
        "def getMax(a, b, c):\n",
        "  if (a > b) and (a > c):\n",
        "    return a\n",
        "  if (b > a) and (b > c):\n",
        "      return b\n",
        "  # otherwise, return c\n",
        "  return c\n",
        "\n",
        "# Using python's built-in function\n",
        "# def getMax(a, b, c):\n",
        "#   return max(a,b,c)\n",
        "\n",
        "# Using python's built-in function\n",
        "# def getMax(a, b, c):\n",
        "#   my_list = [a,b,c]\n",
        "#   return max(my_list)\n",
        "\n",
        "# Call the function to test it\n",
        "# Take Away 1\n",
        "# Function Definition by itself doesn't mean anything\n",
        "# To make use of the function, you must call it (you must \"invoke\" it)\n",
        "# aka = method invocation\n",
        "\n",
        "# Take Away 2\n",
        "# Analogy: When you call Ola or Uber or Lyft, you need to get into the taxi\n",
        "# Analogy: When you order a pizza, you must consume it\n",
        "# Analogy: When you call a function, you should use the value returned by it\n",
        "\n",
        "x = getMax(10, 30, 2)\n",
        "print(\"max of 10,30 and 2: \", x)\n",
        "\n",
        "y = getMax(4, 5, 5)\n",
        "print(\"max of 4, 5, 5: \", y)\n",
        "\n",
        "z = getMax(5, 5, 5)\n",
        "print(\"max of 5, 5, 5: \", z)\n",
        "\n",
        "z = getMax(-2, 0, -3)\n",
        "print(\"max of -2, 0, -3: \", z)\n",
        "\n",
        "z = getMax(4, 5, 99)\n",
        "print(\"max of 4, 5, 99: \", z)\n",
        "\n",
        "z = getMax(1, 2, 3)\n",
        "print(\"max of 1, 2, 3: \", z)\n",
        "\n",
        "z = getMax(1.2, 2.3, 3.4)\n",
        "print(\"max of 1.2, 2.3, 3.4: \", z)\n",
        "\n",
        "z = getMax('ox', 'zebra', 'donkey')\n",
        "print(\"max of 'ox', 'zebra', 'donkey' \", z)\n"
      ]
    },
    {
      "cell_type": "code",
      "source": [
        "#@title Built-in Functions vs User-Defined Functions\n",
        "\n",
        "# https://www.w3schools.com/python/python_ref_functions.asp\n",
        "\n",
        "x = max(4,5,99)\n",
        "print(\"max(4,5,99) = \", x)\n",
        "\n",
        "\n",
        "x = max(\"ox\", \"donkey\", \"zebra\")\n",
        "print('max(\"ox\", \"donkey\", \"zebra\") = ', x)\n",
        "\n",
        "x = max(4, 5, 99, 45, 34, 112)\n",
        "print(\"max(4, 5, 99, 45, 34, 112) = \", x)"
      ],
      "metadata": {
        "id": "qTGMyBwog6oP"
      },
      "execution_count": null,
      "outputs": []
    },
    {
      "cell_type": "code",
      "source": [
        "#@title Function execution stops upon the first return\n",
        "def show_message(a):\n",
        "  if a % 2 == 0:\n",
        "    print(20)\n",
        "    return\n",
        "  print(30)\n",
        "\n",
        "\n",
        "# calling the function\n",
        "show_message(501)"
      ],
      "metadata": {
        "colab": {
          "base_uri": "https://localhost:8080/"
        },
        "id": "4qXc_6zyhgaI",
        "outputId": "2619bdf0-2993-4c40-b91b-524379a8f75b"
      },
      "execution_count": null,
      "outputs": [
        {
          "output_type": "stream",
          "name": "stdout",
          "text": [
            "30\n"
          ]
        }
      ]
    },
    {
      "cell_type": "code",
      "source": [
        "#@title Position of the arguments matter and Number of arguments also matter.\n",
        "\n",
        "x = find_max(3, 4, 5)\n",
        "print('find_max(3,4,5) =', x)\n",
        "\n",
        "\n",
        "x = find_max(13, 9, 4)\n",
        "print('find_max(13,9,4) =', x)\n",
        "\n",
        "# TypeError: find_max() takes 3 positional arguments but 4 were given\n",
        "# x = find_max(4, 6, 7, 10)\n",
        "# print('find_max(4,6,7,10) = ', x)\n",
        "\n",
        "# x = find_max(4, 6)\n",
        "# print('find_max(4, 6) = ', x)\n",
        "\n",
        "# Use the functions in the place of variables\n",
        "print('find_max(30,40,15) =', find_max(30,40,15))\n",
        "\n",
        "print('find_max(413, 140, 15) =', find_max(413, 140, 15))\n",
        "\n",
        "# When a variable is expected, you can substitute that with a function\n",
        "z = find_max(find_max(3,4,5), find_max(1,2,3), 10)\n",
        "print(z)\n"
      ],
      "metadata": {
        "colab": {
          "base_uri": "https://localhost:8080/"
        },
        "id": "zV4i4JwZUi0d",
        "outputId": "2e032290-8da5-4191-cf8a-a784c80b8c97"
      },
      "execution_count": null,
      "outputs": [
        {
          "output_type": "stream",
          "name": "stdout",
          "text": [
            "numbers coming to the function are:  3 4 5\n",
            "find_max(3,4,5) = 5\n",
            "numbers coming to the function are:  13 9 4\n",
            "find_max(13,9,4) = 13\n",
            "numbers coming to the function are:  30 40 15\n",
            "find_max(30,40,15) = 40\n",
            "numbers coming to the function are:  413 140 15\n",
            "find_max(413, 140, 15) = 413\n",
            "numbers coming to the function are:  3 4 5\n",
            "numbers coming to the function are:  1 2 3\n",
            "numbers coming to the function are:  5 3 10\n",
            "10\n"
          ]
        }
      ]
    },
    {
      "cell_type": "code",
      "source": [
        "#@title Playing/Tinkering with the functions\n",
        "#1. this will not work. CASE matters. We will get \"NameError\"\n",
        "a = getMax(3,4,5)\n",
        "\n",
        "#2. TypeError: Doesn't work. Expecting three, but you gave me only 2\n",
        "b = getMax(2,3)\n",
        "\n",
        "#3. TypeError: Doesn't work. Expecting three, but you gave me 4\n",
        "#c = getMax(3,4,5,1)\n",
        "\n",
        "#4. Following works because we got lucky. 1. number of parameters matched\n",
        "# 2. comparison operators work on strings as well\n",
        "# Strings are checked in the dictionary order\n",
        "d = getMax(\"abc\", \"python\", \"dallas\")"
      ],
      "metadata": {
        "id": "5Hdo3wslZb5p"
      },
      "execution_count": null,
      "outputs": []
    },
    {
      "cell_type": "code",
      "source": [
        "#@title Define Once, Call many times\n",
        "def getLength(input_str):\n",
        "    x = len(input_str)\n",
        "    return x\n",
        "\n",
        "# call the function\n",
        "\n",
        "a = getLength(\"ABC\")\n",
        "print(\"length of ABC: \", a)\n",
        "\n",
        "a = getLength(\"ABCD\")\n",
        "print(\"length of ABCD: \", a)\n",
        "\n",
        "\n",
        "a = getLength(\"Python\")\n",
        "print(\"length of Python: \", a)"
      ],
      "metadata": {
        "id": "Y-ZdL8MYRuhi",
        "colab": {
          "base_uri": "https://localhost:8080/"
        },
        "outputId": "d921432c-ce32-4cb7-c96d-3bacd4091db6"
      },
      "execution_count": null,
      "outputs": [
        {
          "output_type": "stream",
          "name": "stdout",
          "text": [
            "length of ABC:  3\n",
            "length of ABCD:  4\n",
            "length of Python:  6\n"
          ]
        }
      ]
    },
    {
      "cell_type": "code",
      "source": [],
      "metadata": {
        "id": "NkBUg9QgSJ7U"
      },
      "execution_count": null,
      "outputs": []
    },
    {
      "cell_type": "code",
      "source": [
        "#@title Define first and Call later\n",
        "#\n",
        "# You can not call a function before it is defined.\n",
        "# for example, the following will give an error\n",
        "# name \"area_of_square\" is not defined\n",
        "#area = area_of_square(10)\n",
        "\n",
        "# you can define all the functions at one place\n",
        "# Once those are tested and proved, you can use them any number of times.\n",
        "\n",
        "# ======= defining the functions\n",
        "\n",
        "def area_of_square(x):\n",
        "    return x*x\n",
        "\n",
        "def area_of_circle(x):\n",
        "    import math\n",
        "    area = (math.pi) * x * x\n",
        "    return area\n",
        "\n",
        "def area_of_rectangle(x,y):\n",
        "    area = x * y\n",
        "    return area\n",
        "\n",
        "def perimeter_of_rectangle(x,y):\n",
        "    perimeter = (2*x) + (2*y)\n",
        "    return perimeter\n",
        "\n",
        "\n",
        "# === invoking / calling the functions\n",
        "\n",
        "x = area_of_square(10)\n",
        "print(\"Area of Square(10): \", x)\n",
        "\n",
        "y = 10\n",
        "z = area_of_circle(y)\n",
        "print(\"Area of Circle(10): \", z)\n",
        "\n",
        "a = 5\n",
        "b = 10\n",
        "c = area_of_rectangle(a,b)\n",
        "print(\"Area of Rectangle(5, 10): \", c)\n",
        "\n",
        "\n",
        "d = perimeter_of_rectangle(a,b)\n",
        "print(\"Area of Perimeter of Rectangle(5, 10): \", d)\n"
      ],
      "metadata": {
        "id": "YrhvjTA4fE9q"
      },
      "execution_count": null,
      "outputs": []
    },
    {
      "cell_type": "code",
      "source": [
        "#@title Void-Returning Function (Returns \"None\")\n",
        "'''\n",
        "Given a number x, this method prints the sequence of numbers\n",
        "from 1 to the input number x\n",
        "'''\n",
        "# printSequence is void-returning function\n",
        "# It returns None\n",
        "def printSequence(x):\n",
        "    for i in range(1, x+1):\n",
        "        print(i, end= ' ')\n",
        "\n",
        "# invoke the function\n",
        "# Using the return value None is not required\n",
        "x = printSequence(5)\n",
        "print(\"value returned be Void-returning function: \", x)\n",
        "\n",
        "\n",
        "printSequence(10)\n",
        "print()\n",
        "\n",
        "x = printSequence(6)\n",
        "print()\n",
        "print(\"printing the return value of a void-returning function: \", x)"
      ],
      "metadata": {
        "id": "g9qALkaeR21o",
        "colab": {
          "base_uri": "https://localhost:8080/"
        },
        "outputId": "5de6e84f-0dc8-4e29-94ad-759e8c12ff6e"
      },
      "execution_count": null,
      "outputs": [
        {
          "output_type": "stream",
          "name": "stdout",
          "text": [
            "1 2 3 4 5 value returned be Void-returning function:  None\n",
            "1 2 3 4 5 6 7 8 9 10 \n",
            "1 2 3 4 5 6 \n",
            "printing the return value of a void-returning function:  None\n"
          ]
        }
      ]
    },
    {
      "cell_type": "code",
      "source": [
        "#@title Value Returning Function ('return' statement must be there in the function)\n",
        "# Given a name, return the initials of first and last names\n",
        "def getInitials(input_str):\n",
        "    tokens = input_str.split()\n",
        "    first_initial = tokens[0][0]\n",
        "    last_initial = tokens[-1][0]\n",
        "    total_initials = first_initial + last_initial\n",
        "    return total_initials\n",
        "\n",
        "\n",
        "# Testing\n",
        "x = getInitials('Mona Lisa')\n",
        "print(x)\n",
        "\n",
        "y = getInitials('Siva Rama Krishna Jasthi')\n",
        "print(y)"
      ],
      "metadata": {
        "id": "_J5BBDLNL41l"
      },
      "execution_count": null,
      "outputs": []
    },
    {
      "cell_type": "code",
      "source": [
        "#@title 0 inputs, 0 return\n",
        "choice = 0\n",
        "def display_main_menu():\n",
        "  menu = '''\n",
        "         1. Search for a Student\n",
        "         2. Register a Student\n",
        "         3. Enroll a Student in a course\n",
        "         4. Help\n",
        "         5. Quit\n",
        "         '''\n",
        "  print(menu)\n",
        "  global choice\n",
        "  choice = int(input())\n",
        "\n",
        "\n",
        "# call the function\n",
        "display_main_menu()\n",
        "print('User selected: ', choice)\n",
        "\n",
        "\n",
        "# tinkering: What is returned by display_menu_function?\n",
        "x = display_main_menu()\n",
        "print(\"Value of x:\", x)  # What is the return value of a \"void function\""
      ],
      "metadata": {
        "colab": {
          "base_uri": "https://localhost:8080/"
        },
        "id": "cV7Vc6bPyFaP",
        "outputId": "d54ed10c-813a-4962-a26a-06d996eb17e0"
      },
      "execution_count": null,
      "outputs": [
        {
          "output_type": "stream",
          "name": "stdout",
          "text": [
            "\n",
            "         1. Search for a Student\n",
            "         2. Register a Student\n",
            "         3. Enroll a Student in a course\n",
            "         4. Help\n",
            "         5. Quit\n",
            "         \n",
            "1\n",
            "User selected:  1\n",
            "\n",
            "         1. Search for a Student\n",
            "         2. Register a Student\n",
            "         3. Enroll a Student in a course\n",
            "         4. Help\n",
            "         5. Quit\n",
            "         \n",
            "4\n",
            "Value of x: None\n"
          ]
        }
      ]
    },
    {
      "cell_type": "code",
      "source": [
        "#@title 0 inputs, 1 return\n",
        "# give me a random vowel\n",
        "def method_B():\n",
        "    import random\n",
        "    vowels = 'aeiou'\n",
        "    random_vowel = random.choice(vowels)\n",
        "    return random_vowel\n",
        "\n",
        "\n",
        "# call the methods\n",
        "r_vowel = method_B()\n",
        "print('random vowel: ', r_vowel)\n",
        "\n",
        "# I can use a function where variable is expected\n",
        "print('random vowel: ', method_B())"
      ],
      "metadata": {
        "id": "V-zOcBuGN0sb",
        "colab": {
          "base_uri": "https://localhost:8080/"
        },
        "outputId": "8aff0082-3e8e-421d-d1ea-c5bd7ac640b0"
      },
      "execution_count": null,
      "outputs": [
        {
          "output_type": "stream",
          "name": "stdout",
          "text": [
            "random vowel:  a\n",
            "random vowel:  o\n"
          ]
        }
      ]
    },
    {
      "cell_type": "code",
      "source": [
        "#@title 0 inputs, N returns\n",
        "# give me two consonants\n",
        "def method_C():\n",
        "    import random\n",
        "    consonants = 'abcdfghjklmnpqrstvwxyz'\n",
        "    random_c1 = random.choice(consonants)\n",
        "    random_c2 = random.choice(consonants)\n",
        "    while (random_c1 == random_c2):\n",
        "        random_c2 = random.choice(consonants)\n",
        "    return random_c1, random_c2  # this becomes a tuple\n",
        "\n",
        "\n",
        "# call the methods\n",
        "# assigning the return value to a tuple\n",
        "r_consonants = method_C()\n",
        "print('random consonants: ', r_consonants)\n",
        "print('type of return value: ', type(r_consonants))\n",
        "\n",
        "# what should I do if I want to print only the first consonant\n",
        "print('the first consonant: ', r_consonants[0])\n",
        "print('the second consonant: ', r_consonants[1])\n",
        "\n",
        "#--------\n",
        "# assigning the return value to explicit variables\n",
        "c1, c2 = method_C()\n",
        "print('the first consonant: ', c1)\n",
        "print('the second consonant: ', c2)\n"
      ],
      "metadata": {
        "id": "myItaht9Osq1",
        "colab": {
          "base_uri": "https://localhost:8080/"
        },
        "outputId": "d5f8a94c-9f52-4185-9ea4-e23a4cddc986"
      },
      "execution_count": null,
      "outputs": [
        {
          "output_type": "stream",
          "name": "stdout",
          "text": [
            "random consonants:  ('s', 'f')\n",
            "type of return value:  <class 'tuple'>\n",
            "the first consonant:  s\n",
            "the second consonant:  f\n",
            "the first consonant:  d\n",
            "the second consonant:  q\n"
          ]
        }
      ]
    },
    {
      "cell_type": "code",
      "source": [
        "#@title 1 input, 0 returns\n",
        "# greet the user\n",
        "def method_D(name):\n",
        "   print('Welcome', name)\n",
        "   print('Have fun programming')\n",
        "\n",
        "\n",
        "# call the methods\n",
        "method_D('Jane Doe')\n",
        "\n",
        "# tinkering: What is method_D returning?\n",
        "x = method_D('John Doe')\n",
        "print('Printing the reurn value: ', x)"
      ],
      "metadata": {
        "id": "CK_Wr5qvPYGo",
        "colab": {
          "base_uri": "https://localhost:8080/"
        },
        "outputId": "55ede95b-0b84-40f5-bc11-e31389f1d674"
      },
      "execution_count": null,
      "outputs": [
        {
          "output_type": "stream",
          "name": "stdout",
          "text": [
            "Welcome Jane Doe\n",
            "Have fun programming\n",
            "Welcome John Doe\n",
            "Have fun programming\n",
            "Printing the reurn value:  None\n"
          ]
        }
      ]
    },
    {
      "cell_type": "code",
      "source": [
        "#@title 1 input, 1 returns\n",
        "# convert a decimal to a binary\n",
        "def method_E(number):\n",
        "   binary_number = bin(number)\n",
        "   #print(binary_number)\n",
        "   return binary_number.replace(\"0b\", \"\")\n",
        "\n",
        "\n",
        "# call the methods\n",
        "b_10 = method_E(10)\n",
        "print(\"Binary of 10 : \", b_10)"
      ],
      "metadata": {
        "id": "wflphzA9H4Xb",
        "colab": {
          "base_uri": "https://localhost:8080/"
        },
        "outputId": "c2decae6-99e9-4abe-df90-737de2701c70"
      },
      "execution_count": null,
      "outputs": [
        {
          "output_type": "stream",
          "name": "stdout",
          "text": [
            "Binary of 10 :  1010\n"
          ]
        }
      ]
    },
    {
      "cell_type": "code",
      "source": [
        "#@title 1 input, N returns\n",
        "# Given a string, return the count of vowels and consonants\n",
        "def method_F(input_str):\n",
        "   vowels = 'aeiou'\n",
        "   v_count = 0\n",
        "   c_count = 0\n",
        "   for elem in input_str:\n",
        "     if elem in vowels:\n",
        "       v_count = v_count + 1\n",
        "     else:\n",
        "       c_count = c_count + 1\n",
        "\n",
        "   return v_count, c_count\n",
        "\n",
        "\n",
        "def method_F(input_str):\n",
        "   vowels = 'aeiou'\n",
        "   v_count = 0\n",
        "   for elem in input_str:\n",
        "     if elem in vowels:\n",
        "       v_count = v_count + 1\n",
        "\n",
        "   return v_count, (len(input_str) - v_count)\n",
        "\n",
        "# call the methods\n",
        "str_1 = 'Python'\n",
        "x = method_F(str_1)\n",
        "print(\"Vowel count: \", x[0], \" Consonant Count: \", x[1]);\n",
        "\n",
        "str_1 = 'Python'\n",
        "v, c = method_F(str_1)\n",
        "print(\"Vowel count: \", v, \" Consonant Count: \", c);"
      ],
      "metadata": {
        "id": "WWY-UplYIsnm",
        "colab": {
          "base_uri": "https://localhost:8080/"
        },
        "outputId": "59ecd8a6-0a9d-432d-ab90-4b346956d526"
      },
      "execution_count": null,
      "outputs": [
        {
          "output_type": "stream",
          "name": "stdout",
          "text": [
            "Vowel count:  1  Consonant Count:  5\n",
            "Vowel count:  1  Consonant Count:  5\n"
          ]
        }
      ]
    },
    {
      "cell_type": "code",
      "source": [
        "#@title N inputs, 0 returns\n",
        "# Given first name, middle name and last name, print the initials\n",
        "def method_G(f_name, m_name, l_name):\n",
        "  print(f_name[0], m_name[0], l_name[0])\n",
        "\n",
        "# invoke the method\n",
        "method_G('siva', 'rama', 'jasthi')\n",
        "\n",
        "def method_G1(f_name, m_name, l_name):\n",
        "  return f_name[0], m_name[0], l_name[0]\n",
        "\n",
        "# invoke the method\n",
        "f, m, l = method_G1('siva', 'rama', 'jasthi')\n",
        "print(f, m, l)\n",
        "\n"
      ],
      "metadata": {
        "id": "GyZIM-L2JzjE",
        "colab": {
          "base_uri": "https://localhost:8080/",
          "height": 228
        },
        "outputId": "892456d5-e0cc-4bc0-c504-3bd69917ff39"
      },
      "execution_count": null,
      "outputs": [
        {
          "output_type": "stream",
          "name": "stdout",
          "text": [
            "s r j\n"
          ]
        },
        {
          "output_type": "error",
          "ename": "ValueError",
          "evalue": "too many values to unpack (expected 2)",
          "traceback": [
            "\u001b[0;31m---------------------------------------------------------------------------\u001b[0m",
            "\u001b[0;31mValueError\u001b[0m                                Traceback (most recent call last)",
            "\u001b[0;32m<ipython-input-8-e99c8b444c4d>\u001b[0m in \u001b[0;36m<cell line: 13>\u001b[0;34m()\u001b[0m\n\u001b[1;32m     11\u001b[0m \u001b[0;34m\u001b[0m\u001b[0m\n\u001b[1;32m     12\u001b[0m \u001b[0;31m# invoke the method\u001b[0m\u001b[0;34m\u001b[0m\u001b[0;34m\u001b[0m\u001b[0m\n\u001b[0;32m---> 13\u001b[0;31m \u001b[0mf\u001b[0m\u001b[0;34m,\u001b[0m \u001b[0mm\u001b[0m \u001b[0;34m=\u001b[0m \u001b[0mmethod_G1\u001b[0m\u001b[0;34m(\u001b[0m\u001b[0;34m'siva'\u001b[0m\u001b[0;34m,\u001b[0m \u001b[0;34m'rama'\u001b[0m\u001b[0;34m,\u001b[0m \u001b[0;34m'jasthi'\u001b[0m\u001b[0;34m)\u001b[0m\u001b[0;34m\u001b[0m\u001b[0;34m\u001b[0m\u001b[0m\n\u001b[0m\u001b[1;32m     14\u001b[0m \u001b[0mprint\u001b[0m\u001b[0;34m(\u001b[0m\u001b[0mf\u001b[0m\u001b[0;34m,\u001b[0m \u001b[0mm\u001b[0m\u001b[0;34m)\u001b[0m\u001b[0;34m\u001b[0m\u001b[0;34m\u001b[0m\u001b[0m\n\u001b[1;32m     15\u001b[0m \u001b[0;34m\u001b[0m\u001b[0m\n",
            "\u001b[0;31mValueError\u001b[0m: too many values to unpack (expected 2)"
          ]
        }
      ]
    },
    {
      "cell_type": "code",
      "source": [
        "#@title N inputs, 1 returns\n",
        "# Given sales price and sales tax, find the total cost\n",
        "def method_H(price, tax_rate):\n",
        "  total_price = price + (price * tax_rate / 100)\n",
        "  return total_price\n",
        "\n",
        "# invoke the method\n",
        "t_p = method_H(200, 5)\n",
        "print('Total Price: ', t_p)\n",
        "\n",
        "t_p = method_H(400, 10)\n",
        "print('Total Price: ', t_p)"
      ],
      "metadata": {
        "id": "fJ8-kUYIKa7s",
        "colab": {
          "base_uri": "https://localhost:8080/"
        },
        "outputId": "c6f15989-c827-4231-ef10-858a947642b2"
      },
      "execution_count": null,
      "outputs": [
        {
          "output_type": "stream",
          "name": "stdout",
          "text": [
            "Total Price:  210.0\n",
            "Total Price:  440.0\n"
          ]
        }
      ]
    },
    {
      "cell_type": "code",
      "source": [
        "#@title N inputs, N returns\n",
        "# Give a list of numbers, find its max, min, range, length, mean\n",
        "def method_I(numbers):\n",
        "  max_value = max(numbers)\n",
        "  min_value = min(numbers)\n",
        "  range = max_value - min_value\n",
        "  length = len(numbers)\n",
        "  mean = sum(numbers) / length\n",
        "  return max_value, min_value, range, length, mean\n",
        "\n",
        "# invoke the method\n",
        "number_list = [1, 2, 3, 4, 5]\n",
        "stats = method_I(number_list)\n",
        "print('Max: ', stats[0])\n",
        "print('Min: ', stats[1])\n",
        "print('Range: ', stats[2])\n",
        "print('Length: ', stats[3])\n",
        "print('Mean: ', stats[4])"
      ],
      "metadata": {
        "id": "OVYcBYUHLN22",
        "colab": {
          "base_uri": "https://localhost:8080/"
        },
        "outputId": "08967aea-918d-4c82-9d67-38d67fd80865"
      },
      "execution_count": null,
      "outputs": [
        {
          "output_type": "stream",
          "name": "stdout",
          "text": [
            "Max:  5\n",
            "Min:  1\n",
            "Range:  4\n",
            "Length:  5\n",
            "Mean:  3.0\n"
          ]
        }
      ]
    },
    {
      "cell_type": "code",
      "source": [
        "#@title Printing a menu: An Example\n",
        "# Menu-Driven Programming\n",
        "MENU_OPTION = '''\n",
        "                 1. Enter a student\n",
        "                 2. Edit a student\n",
        "                 3. Search for a student\n",
        "                 4. Help\n",
        "                 5. Quit\n",
        "              '''\n",
        "\n",
        "def printMenu():\n",
        "    print(MENU_OPTION)\n",
        "    x = int(input(\"Make your choice\"))\n",
        "    return x\n",
        "\n",
        "\n",
        "def main():\n",
        "    while True:\n",
        "        x = printMenu()\n",
        "        if x == 5:\n",
        "            break\n",
        "        print(\"you have selected: \", x)\n",
        "\n",
        "\n",
        "# call the main function\n",
        "main()"
      ],
      "metadata": {
        "id": "iJtqmwfThRI2"
      },
      "execution_count": null,
      "outputs": []
    },
    {
      "cell_type": "code",
      "source": [
        "#@title Formal vs Actual Arguments\n",
        "\n",
        "# Formal Arguments are the arguments you use at the time of function definition\n",
        "# There can be only one set of formal arguments.\n",
        "\n",
        "# Function Definition\n",
        "def find_min(x, y):\n",
        "  if x < y:\n",
        "    return x\n",
        "  else:\n",
        "    return y\n",
        "\n",
        "\n",
        "# At the time of defining a function,\n",
        "# the arguments you use in the signature are \"generic\", \"formal\"\n",
        "# You only specify the order and number of parameters.\n",
        "# x and y in the above method signature are called \"FORMAL\" parameters\n",
        "# For each function definition, there can be only one set of \"FORMAL\" parameters.\n",
        "\n",
        "\n",
        "# Actual Arguments are the arguments you use while calling the function.\n",
        "# Actual Arguments can be many (one set for each function call)\n",
        "# calling the function\n",
        "a = 3\n",
        "b = 5\n",
        "x = find_min(a, b)\n",
        "print(x)\n",
        "\n",
        "y = find_min(10, -5)\n",
        "print(y)\n",
        "\n",
        "p = a + 1\n",
        "q = b + 2\n",
        "z = find_min(p, q)\n",
        "print(z)\n",
        "\n",
        "# Questions\n",
        "q = '''\n",
        "1. what are the formal parameters in this program?\n",
        "2. What are the actual parameters in this program?\n",
        "3. What is printed by line 12?\n",
        "4. What is printed by line 13?\n",
        "5. What are the parameters called at the time of function defnition?  O Formal O Actual\n",
        "6. What are the parameters called at the time of function invocation? O Formal O Actual\n",
        "'''\n",
        "\n",
        "\n"
      ],
      "metadata": {
        "id": "31bVccJ8SM5p"
      },
      "execution_count": null,
      "outputs": []
    },
    {
      "cell_type": "markdown",
      "source": [
        "# 5.3.None Keyword"
      ],
      "metadata": {
        "id": "4jPnRAPqUnto"
      }
    },
    {
      "cell_type": "code",
      "source": [
        "#@title Void returning methods (return value = None)\n",
        "# greet the user\n",
        "def method_D(name):\n",
        "   print('Welcome', name)\n",
        "   print('Have fun programming')\n",
        "\n",
        "\n",
        "\n",
        "\n",
        "# call the methods\n",
        "x = method_D('Jane Doe')\n",
        "print(x)\n",
        "\n",
        "method_D(\"John Doe\")"
      ],
      "metadata": {
        "id": "oH-wMp-iUk6z",
        "colab": {
          "base_uri": "https://localhost:8080/"
        },
        "outputId": "62f2b72c-7e63-43be-b933-39066672aef1"
      },
      "execution_count": null,
      "outputs": [
        {
          "output_type": "stream",
          "name": "stdout",
          "text": [
            "Welcome Jane Doe\n",
            "Have fun programming\n",
            "None\n",
            "Welcome John Doe\n",
            "Have fun programming\n"
          ]
        }
      ]
    },
    {
      "cell_type": "markdown",
      "source": [
        "#5.4. Functions get a copy"
      ],
      "metadata": {
        "id": "-XUQsi2q504Q"
      }
    },
    {
      "cell_type": "code",
      "source": [
        "#@title Functions get just a copy\n",
        "# This is called \"pass-by value\"\n",
        "\n",
        "def foo(x):\n",
        "  x = x + 5\n",
        "  return x\n",
        "\n",
        "\n",
        "# call the function\n",
        "a = 2\n",
        "print(\"Before foo(), a = \", a)\n",
        "b = foo(a)\n",
        "print(\"After foo(), a = \", a)\n",
        "\n",
        "print(\"return value from the function: \", b)"
      ],
      "metadata": {
        "id": "icAIqYgYke36"
      },
      "execution_count": null,
      "outputs": []
    },
    {
      "cell_type": "code",
      "source": [
        "a = 3\n",
        "\n",
        "def change(x):\n",
        "    x = 2\n",
        "\n",
        "print('before: ', a)\n",
        "change(a)\n",
        "print('after: ', a)\n",
        "\n",
        "# When a method is called, a COPY of the variable is passed.\n",
        "# a will not be given to the function\n",
        "# A copy of a (its value will be given to the function).\n",
        "# Anything you do inside the function will only impact the copy. The original variable will NOT be changed.\n",
        "\n"
      ],
      "metadata": {
        "id": "0nfokhtTIeAG"
      },
      "execution_count": null,
      "outputs": []
    },
    {
      "cell_type": "markdown",
      "source": [
        "# 5.5. Positional Arguments\n"
      ],
      "metadata": {
        "id": "mLoRPAIXDQ5_"
      }
    },
    {
      "cell_type": "code",
      "source": [
        "#@title Positional Arguments (Ex: 1. Number and order must match)\n",
        "def greet(name):\n",
        "  print('Hello ', name)\n",
        "\n",
        "# calling the funciton\n",
        "print('Calling greet() function')\n",
        "greet('python')\n",
        "greet('Amara')\n",
        "\n",
        "\n",
        "# If I call this method without any parameter, what happens?\n",
        "greet()"
      ],
      "metadata": {
        "id": "PZwSGPVRDvz2",
        "colab": {
          "base_uri": "https://localhost:8080/",
          "height": 228
        },
        "outputId": "450f31ae-ecf8-4e5c-a2da-a1c230b605ba"
      },
      "execution_count": null,
      "outputs": [
        {
          "output_type": "stream",
          "name": "stdout",
          "text": [
            "Calling greet() function\n",
            "Hello  python\n",
            "Hello  Amara\n"
          ]
        },
        {
          "output_type": "error",
          "ename": "TypeError",
          "evalue": "greet() missing 1 required positional argument: 'name'",
          "traceback": [
            "\u001b[0;31m---------------------------------------------------------------------------\u001b[0m",
            "\u001b[0;31mTypeError\u001b[0m                                 Traceback (most recent call last)",
            "\u001b[0;32m<ipython-input-3-383643fd585b>\u001b[0m in \u001b[0;36m<cell line: 0>\u001b[0;34m()\u001b[0m\n\u001b[1;32m     10\u001b[0m \u001b[0;34m\u001b[0m\u001b[0m\n\u001b[1;32m     11\u001b[0m \u001b[0;31m# If I call this method without any parameter, what happens?\u001b[0m\u001b[0;34m\u001b[0m\u001b[0;34m\u001b[0m\u001b[0m\n\u001b[0;32m---> 12\u001b[0;31m \u001b[0mgreet\u001b[0m\u001b[0;34m(\u001b[0m\u001b[0;34m)\u001b[0m\u001b[0;34m\u001b[0m\u001b[0;34m\u001b[0m\u001b[0m\n\u001b[0m",
            "\u001b[0;31mTypeError\u001b[0m: greet() missing 1 required positional argument: 'name'"
          ]
        }
      ]
    },
    {
      "cell_type": "code",
      "source": [],
      "metadata": {
        "colab": {
          "base_uri": "https://localhost:8080/"
        },
        "id": "uq8Y3NBjsf4l",
        "outputId": "a9d9c960-26ba-444f-de8c-4f798477d218"
      },
      "execution_count": null,
      "outputs": [
        {
          "output_type": "stream",
          "name": "stdout",
          "text": [
            "add_nums(5, 7) =  12\n",
            "8\n",
            "6\n",
            "8\n",
            "8\n"
          ]
        }
      ]
    },
    {
      "cell_type": "code",
      "source": [
        "#@title Positional Arguments (Ex. 2. Number and Order matter)\n",
        "\n",
        "def foo(name, email, marks):\n",
        "  print(\"Name: \", name)\n",
        "  print(\"Email: \", email)\n",
        "  print(\"Marks: \", marks)\n",
        "\n",
        "print('\\n1. Calling the function by the positional Arguments')\n",
        "foo('Amara', 'amara@gmail.com', 90)\n",
        "\n",
        "\n",
        "print('\\n\\n2. Calling the function by the positional Arguments')\n",
        "foo(30, 'Bhargav', \"Bhargav@gmail.com\")\n",
        "\n",
        "# There is no syntax error\n",
        "# However, there is logical error"
      ],
      "metadata": {
        "id": "L6d1w2LQDcF2",
        "colab": {
          "base_uri": "https://localhost:8080/"
        },
        "outputId": "9d387651-1a06-4733-9d29-d724195dfe26"
      },
      "execution_count": null,
      "outputs": [
        {
          "output_type": "stream",
          "name": "stdout",
          "text": [
            "\n",
            "1. Calling the function by the positional Arguments\n",
            "Name:  Amara\n",
            "Email:  amara@gmail.com\n",
            "Marks:  90\n",
            "\n",
            "\n",
            "2. Calling the function by the positional Arguments\n",
            "Name:  30\n",
            "Email:  Bhargav\n",
            "Marks:  Bhargav@gmail.com\n"
          ]
        }
      ]
    },
    {
      "cell_type": "code",
      "source": [
        "#@title (quiz) positional arguments - logical error\n",
        "\n",
        "def foo(name, marks):\n",
        "  print(\"Name: \", name)\n",
        "  print(\"Marks: \", marks)\n",
        "\n",
        "foo(10, 'bob')\n",
        "\n",
        "#What is wrong with the above code?"
      ],
      "metadata": {
        "id": "udT_tHO-xvds",
        "colab": {
          "base_uri": "https://localhost:8080/"
        },
        "outputId": "d7213148-eb85-42ce-b588-3576be6c9f54"
      },
      "execution_count": null,
      "outputs": [
        {
          "output_type": "stream",
          "name": "stdout",
          "text": [
            "Name:  10\n",
            "Marks:  bob\n"
          ]
        }
      ]
    },
    {
      "cell_type": "markdown",
      "source": [
        "#5.6. Keyword Arguments"
      ],
      "metadata": {
        "id": "qDx-Go4FPKWx"
      }
    },
    {
      "cell_type": "code",
      "source": [
        "#@title Keyword Arguments\n",
        "\n",
        "def foo(name, email, marks):\n",
        "  print(\"Name: \", name)\n",
        "  print(\"Email: \", email)\n",
        "  print(\"Marks: \", marks)\n",
        "\n",
        "print('\\n1. Calling the function by the positional Arguments')\n",
        "foo('Alex', 'alex@gmail.com', 20 )\n",
        "\n",
        "\n",
        "print(\"\\n\\n Incorrect way of calling - postion matches, but it doesn't make sense\")\n",
        "# this is not the correct way to call\n",
        "# it gives a illogical / nonsense output\n",
        "foo(15, 'Hanut', 'hanut@gmail.com')\n",
        "\n",
        "\n",
        "print(\"\\n\\n correct way of calling using KEYWORD arguments; when you use KEYWORD arguments, position doesn't matter\")\n",
        "# keyword arguments are your friends in such case.\n",
        "foo(marks = 15, name = 'Anna', email = 'anna@gmail.com')\n",
        "foo(email = 'bindu@gmail.com', marks = 25,   name = 'Bindu')\n",
        "foo(email = 'chris@gmail.com', name = 'chris', marks = 35)\n"
      ],
      "metadata": {
        "id": "SieY9g_xD6yy",
        "colab": {
          "base_uri": "https://localhost:8080/"
        },
        "outputId": "61b99109-03bd-40e0-806d-ca9de02bc4ce"
      },
      "execution_count": null,
      "outputs": [
        {
          "output_type": "stream",
          "name": "stdout",
          "text": [
            "\n",
            "1. Calling the function by the positional Arguments\n",
            "Name:  Alex\n",
            "Email:  alex@gmail.com\n",
            "Marks:  20\n",
            "\n",
            "\n",
            " Incorrect way of calling - postion matches, but it doesn't make sense\n",
            "Name:  15\n",
            "Email:  Hanut\n",
            "Marks:  hanut@gmail.com\n",
            "\n",
            "\n",
            " correct way of calling using KEYWORD arguments; when you use KEYWORD arguments, position doesn't matter\n",
            "Name:  Anna\n",
            "Email:  anna@gmail.com\n",
            "Marks:  15\n",
            "Name:  Bindu\n",
            "Email:  bindu@gmail.com\n",
            "Marks:  25\n",
            "Name:  chris\n",
            "Email:  chris@gmail.com\n",
            "Marks:  35\n"
          ]
        }
      ]
    },
    {
      "cell_type": "code",
      "source": [
        "#@title Forcing the keyword arguments\n",
        "#def foo(name, email, marks):\n",
        "# Right now, foo() can be called with 'positional' arguments\n",
        "#foo('siva', 'siva@gmail.com', 90)\n",
        "# it can also be called with keyword arguments (name-value pairs)\n",
        "#foo(marks = 90, name = 'siva', email = 'siva@gmail.com')\n",
        "# Question?: How can we force the users to specify the keyword arguments each time they call the function?\n",
        "#        =   How can we support only the 'keyword' arguments, but not the 'positional' arguments?\n",
        "# Solution: Use a * before the formal arguments. Anything that follows a * is a keyword argument\n",
        "def foo(*, name, email, marks):\n",
        "  print(\"Name: \", name)\n",
        "  print(\"Email: \", email)\n",
        "  print(\"Marks: \", marks)\n",
        "\n",
        "# the following invocation will not work\n",
        "# print('\\n1. Calling the function by the positional Arguments')\n",
        "# foo('Amara', 'amara@gmail.com', 90)\n",
        "# foo('Siva', 'siva@yahoo.com', 89)\n",
        "\n",
        "\n",
        "print('\\n2. Calling the function by the keyword Arguments (because I am forced to do that)')\n",
        "foo(name = 'Amara', email = 'amara@gmail.com', marks = 90)\n",
        "foo(name = 'Siva', email = 'siva@yahoo.com', marks = 89)\n",
        "foo(email = 'siva@yahoo.com', marks = 89, name = 'Siva')"
      ],
      "metadata": {
        "id": "OwNDmWuqOfd0",
        "colab": {
          "base_uri": "https://localhost:8080/"
        },
        "outputId": "21939c77-258f-4919-df5c-f5316fce0099"
      },
      "execution_count": null,
      "outputs": [
        {
          "output_type": "stream",
          "name": "stdout",
          "text": [
            "\n",
            "2. Calling the function by the keyword Arguments (because I am forced to do that)\n",
            "Name:  Amara\n",
            "Email:  amara@gmail.com\n",
            "Marks:  90\n",
            "Name:  Siva\n",
            "Email:  siva@yahoo.com\n",
            "Marks:  89\n",
            "Name:  Siva\n",
            "Email:  siva@yahoo.com\n",
            "Marks:  89\n"
          ]
        }
      ]
    },
    {
      "cell_type": "code",
      "source": [],
      "metadata": {
        "id": "mQ6F8Hf7QMCR",
        "colab": {
          "base_uri": "https://localhost:8080/"
        },
        "outputId": "a884ba38-0d03-4cdd-9b50-c7c7cbb8f37e"
      },
      "execution_count": null,
      "outputs": [
        {
          "output_type": "stream",
          "name": "stdout",
          "text": [
            "Name:  Bruhat\n",
            "Email:  bruhat@gmail.com\n",
            "Marks:  90\n",
            "Name:  Bruhat\n",
            "Email:  bruhat@gmail.com\n",
            "Marks:  0\n",
            "Name:  Bruhat\n",
            "Email:  bruhat@gmail.com\n",
            "Marks:  90\n",
            "Name:  Bruhat\n",
            "Email:  bruhat@gmail.com\n",
            "Marks:  90\n"
          ]
        }
      ]
    },
    {
      "cell_type": "markdown",
      "source": [
        "# 5.7.Optional Arguments"
      ],
      "metadata": {
        "id": "KTXVN_7CkwNX"
      }
    },
    {
      "cell_type": "code",
      "source": [
        "#@title Ordering a sandwich\n",
        "\n",
        "# you need to specify the type of sandwich and the size of sandwich\n",
        "# if you don't specify the type, i am going to give you a \"veggie\" sandwich\n",
        "# if you don't specify the size, I am going to give you a \"medium\" sandwich\n",
        "def get_sandwich(type = \"veggie\", size = \"medium\"):\n",
        "  print(f\"Here is your {size} {type} sandwich\")\n",
        "\n",
        "\n",
        "get_sandwich()\n",
        "\n",
        "get_sandwich(\"chicken\")\n",
        "get_sandwich(size = \"medium\")\n",
        "\n",
        "get_sandwich(\"spicy\", \"large\")\n",
        "get_sandwich(\"tuna\", \"small\")\n",
        "get_sandwich(\"ham\", \"medium\")"
      ],
      "metadata": {
        "colab": {
          "base_uri": "https://localhost:8080/"
        },
        "id": "OX9UTpPu5nAy",
        "outputId": "8c17643e-1461-471f-ef0a-083d17984156"
      },
      "execution_count": null,
      "outputs": [
        {
          "output_type": "stream",
          "name": "stdout",
          "text": [
            "Here is your medium veggie sandwich\n",
            "Here is your medium chicken sandwich\n",
            "Here is your medium veggie sandwich\n",
            "Here is your large spicy sandwich\n",
            "Here is your small tuna sandwich\n",
            "Here is your medium ham sandwich\n"
          ]
        }
      ]
    },
    {
      "cell_type": "code",
      "source": [
        "#@title Optional Arguments\n",
        "\n",
        "def add_nums(a = 5, b = 3):\n",
        "  result = a + b\n",
        "  return result\n",
        "\n",
        "p = add_nums(3)\n",
        "print(p)\n",
        "\n",
        "q = add_nums()\n",
        "print(q)\n",
        "\n",
        "r = add_nums(10, 20)\n",
        "print(r)\n"
      ],
      "metadata": {
        "colab": {
          "base_uri": "https://localhost:8080/"
        },
        "id": "sukg_RXf4J08",
        "outputId": "c57fbdff-84a2-4cf4-f30e-88e760e9ed78"
      },
      "execution_count": null,
      "outputs": [
        {
          "output_type": "stream",
          "name": "stdout",
          "text": [
            "6\n"
          ]
        }
      ]
    },
    {
      "cell_type": "code",
      "source": [
        "#@title Specifying the default\n",
        "\n",
        "# Thus, the \"name\" argument became optional\n",
        "def greet(name = 'Stranger'):\n",
        "  print('Hello ', name)\n",
        "\n",
        "# calling the funciton\n",
        "greet('Alex')\n",
        "greet() # name will automatically becomes \"stranger\"\n",
        "        # Thus we will say \"name is an optional parameter\""
      ],
      "metadata": {
        "colab": {
          "base_uri": "https://localhost:8080/"
        },
        "id": "Y6H6vzRWlK5Q",
        "outputId": "820123ea-7cde-4463-991b-2438a9643e18"
      },
      "execution_count": null,
      "outputs": [
        {
          "output_type": "stream",
          "name": "stdout",
          "text": [
            "Hello  Alex\n",
            "Hello  Stranger\n"
          ]
        }
      ]
    },
    {
      "cell_type": "code",
      "source": [
        "#@title Mixing Positional, Keyword Arguments and Optional Arguments\n",
        "# This mechanism helps lot of flexibility in how we call the function.\n",
        "# Immensely useful in data sciece, data mining, and machine learning\n",
        "#For example, see https://pandas.pydata.org/docs/reference/api/pandas.read_csv.html\n",
        "def foo(name, *, email, marks = 60):\n",
        "  print(\"Name: \", name)\n",
        "  print(\"Email: \", email)\n",
        "  print(\"Marks: \", marks)\n",
        "\n",
        "foo(\"Bruhat\", email = \"bruhat@gmail.com\", marks = 90)\n",
        "foo(\"Antara\", email = \"antara@gmail.com\")\n",
        "foo(\"Antara2\", email = \"antara2@gmail.com\", marks = 80)\n",
        "foo(\"Antara3\",  marks = 80, email = \"antara3@gmail.com\")"
      ],
      "metadata": {
        "colab": {
          "base_uri": "https://localhost:8080/"
        },
        "id": "5gR3ZZmF7v-t",
        "outputId": "70400338-7aac-47e7-d12d-262a542e273a"
      },
      "execution_count": null,
      "outputs": [
        {
          "output_type": "stream",
          "name": "stdout",
          "text": [
            "Name:  Bruhat\n",
            "Email:  bruhat@gmail.com\n",
            "Marks:  90\n",
            "Name:  Antara\n",
            "Email:  antara@gmail.com\n",
            "Marks:  60\n",
            "Name:  Antara2\n",
            "Email:  antara2@gmail.com\n",
            "Marks:  80\n",
            "Name:  Antara3\n",
            "Email:  antara3@gmail.com\n",
            "Marks:  80\n"
          ]
        }
      ]
    },
    {
      "cell_type": "markdown",
      "source": [
        "#5.8 (later). Variable Number of Arguments (*args)\n",
        "\n",
        "\n"
      ],
      "metadata": {
        "id": "CZDCmRKGggp-"
      }
    },
    {
      "cell_type": "code",
      "source": [
        "#@title Sending variable number of arguments (brute force - not optimal)\n",
        "\n",
        "def max_of_nums2(a, b):\n",
        "  if a > b:\n",
        "    return a\n",
        "  else:\n",
        "    return b\n",
        "\n",
        "print(\"1: \", max_of_nums2(2, 3))\n",
        "\n",
        "\n",
        "def max_of_nums3(a, b, c):\n",
        "  if a > b and a > c:\n",
        "    return a\n",
        "  elif b > a and b > c:\n",
        "    return b\n",
        "  else:\n",
        "    return c\n",
        "\n",
        "print(\"2: \", max_of_nums3(56, 43, 89))\n",
        "\n",
        "\n",
        "def max_of_nums4(a, b, c, d):\n",
        "  x = max_of_nums2(a, b)\n",
        "  y = max_of_nums2(c, d)\n",
        "  z = max_of_nums2(x, y)\n",
        "  return z\n",
        "\n",
        "print(\"3: \", max_of_nums4(56, 43, 89, 34))\n",
        "\n",
        "\n"
      ],
      "metadata": {
        "id": "0cPWxCJDFpw5",
        "colab": {
          "base_uri": "https://localhost:8080/"
        },
        "outputId": "24c0b66d-c5eb-4874-ee6a-2d5cdbbc7f33"
      },
      "execution_count": null,
      "outputs": [
        {
          "output_type": "stream",
          "name": "stdout",
          "text": [
            "1:  3\n",
            "2:  89\n",
            "3:  89\n"
          ]
        }
      ]
    },
    {
      "cell_type": "code",
      "source": [
        "#@title Sending a list (traditional way)\n",
        "\n",
        "def max_of_nums(some_list):\n",
        "  x = max(some_list)\n",
        "  return x\n",
        "\n",
        "print(\"1: \", max_of_nums([2, 3]))\n",
        "\n",
        "print(\"2: \", max_of_nums([56, 43, 89]))\n",
        "\n",
        "print(\"3: \", max_of_nums([56, 43, 89, 34]))\n"
      ],
      "metadata": {
        "colab": {
          "base_uri": "https://localhost:8080/"
        },
        "id": "nVo4Ix7p4gpQ",
        "outputId": "0fdf70f2-47e7-455b-e467-d00d035d8b20"
      },
      "execution_count": null,
      "outputs": [
        {
          "output_type": "stream",
          "name": "stdout",
          "text": [
            "i am in max1\n",
            "max1 of given list:  99\n",
            "i am in max1\n",
            "max2 of given tuple:  34\n"
          ]
        }
      ]
    },
    {
      "cell_type": "code",
      "source": [
        "#@title Sending a tuple (traditional way)\n",
        "\n",
        "def max_of_nums(some_nums):\n",
        "  x = max(some_nums)\n",
        "  return x\n",
        "\n",
        "print(\"1: \", max_of_nums((2, 3)))\n",
        "\n",
        "print(\"2: \", max_of_nums((56, 43, 89)))\n",
        "\n",
        "print(\"3: \", max_of_nums((56, 43, 89, 34)))"
      ],
      "metadata": {
        "id": "ZeWLfqoxCfBc"
      },
      "execution_count": null,
      "outputs": []
    },
    {
      "cell_type": "code",
      "source": [
        "#@title Sending variable number of arguments (using *args)\n",
        "# When you have * prefix in front of a variable,\n",
        "# that becomes a TUPLE behind the scenes\n",
        "# variable number of arguments\n",
        "#@title Sending a variable number of arguments\n",
        "\n",
        "def max_of_nums(*nums):\n",
        "  x = max(nums)\n",
        "  return x\n",
        "\n",
        "\n",
        "print('passing 2 arguments:', max_of_nums(87, 193))\n",
        "print('passing 3 arguments:', max_of_nums(87, 293, 67))\n",
        "print('passing 4 arguments:', max_of_nums(87, 78, 393, 67))"
      ],
      "metadata": {
        "id": "tqTZ96gTESYL",
        "colab": {
          "base_uri": "https://localhost:8080/"
        },
        "outputId": "0c677589-4d67-4f74-ea78-02789dd53648"
      },
      "execution_count": null,
      "outputs": [
        {
          "output_type": "stream",
          "name": "stdout",
          "text": [
            "passing 2 arguments: 193\n",
            "passing 3 arguments: 293\n",
            "passing 4 arguments: 393\n"
          ]
        }
      ]
    },
    {
      "cell_type": "code",
      "source": [
        "#@title Data type of varargs (prefixed with *)\n",
        "\n",
        "def max_of_nums(*nums):\n",
        "  print(type(nums))\n",
        "  x = max(nums)\n",
        "  return x\n",
        "\n",
        "\n",
        "print('passing 2 arguments:', max_of_nums(87, 193))\n",
        "print('passing 3 arguments:', max_of_nums(87, 293, 67))\n",
        "print('passing 4 arguments:', max_of_nums(87, 78, 393, 67))"
      ],
      "metadata": {
        "colab": {
          "base_uri": "https://localhost:8080/"
        },
        "id": "x1BVtdjiENL6",
        "outputId": "43bf660e-6078-40d0-f57f-8f451f077c3a"
      },
      "execution_count": null,
      "outputs": [
        {
          "output_type": "stream",
          "name": "stdout",
          "text": [
            "<class 'tuple'>\n",
            "passing 2 arguments: 193\n",
            "<class 'tuple'>\n",
            "passing 3 arguments: 293\n",
            "<class 'tuple'>\n",
            "passing 4 arguments: 393\n"
          ]
        }
      ]
    },
    {
      "cell_type": "markdown",
      "source": [
        "#5.9 (later). Variable number of key-value arguments (**kwargs)"
      ],
      "metadata": {
        "id": "dKV2Q91pgwss"
      }
    },
    {
      "cell_type": "code",
      "source": [
        "#@title **kwargs (variable number of key-value arguments)\n",
        "\n",
        "# k = key\n",
        "# w = word\n",
        "# args = arguments\n",
        "\n",
        "def foo(**kwargs):\n",
        "  print('what is the type of **kwargs?', type(kwargs))\n",
        "  for key, value in kwargs.items():\n",
        "    print(key, '--->', value)\n",
        "\n",
        "\n",
        "# kwargs can be called with a different name, but that is a bad idea\n",
        "# def foo(**xyz):\n",
        "#   print('what is the type of **kwargs?', type(xyz))\n",
        "#   for key, value in xyz.items():\n",
        "#     print(key, '--->', value)\n",
        "\n",
        "\n",
        "# call the function - by keyword arguments\n",
        "\n",
        "print('\\nCalling the function by the Keyword Arguments (3 keyword arguments)')\n",
        "foo(marks = 20, email = 'alex@gmail.com', name = 'Alex')\n",
        "\n",
        "print('\\nCalling the function by the Keyword Arguments (5 keyword arguments)')\n",
        "foo(email = 'jane@gmail.com', marks = 99,  name = 'Jane', major = 'CS', language = 'Python')\n",
        "\n"
      ],
      "metadata": {
        "id": "PKhSAyV1EoLz",
        "colab": {
          "base_uri": "https://localhost:8080/"
        },
        "outputId": "e5578796-26fb-4189-cf43-346bc54659ba"
      },
      "execution_count": null,
      "outputs": [
        {
          "output_type": "stream",
          "name": "stdout",
          "text": [
            "\n",
            "Calling the function by the Keyword Arguments (3 keyword arguments)\n",
            "what is the type of **kwargs? <class 'dict'>\n",
            "marks ---> 20\n",
            "email ---> alex@gmail.com\n",
            "name ---> Alex\n",
            "\n",
            "Calling the function by the Keyword Arguments (5 keyword arguments)\n",
            "what is the type of **kwargs? <class 'dict'>\n",
            "email ---> jane@gmail.com\n",
            "marks ---> 99\n",
            "name ---> Jane\n",
            "major ---> CS\n",
            "language ---> Python\n"
          ]
        }
      ]
    },
    {
      "cell_type": "code",
      "source": [
        "#@title An example of **kwargs\n",
        "# This function returs the name with the highest marks and marks\n",
        "# Assume that we do not know the number of students in the class\n",
        "# we are given their ID as the argument name and their marks as the value\n",
        "def get_id_with_max_marks(**kwargs):\n",
        "  print(kwargs)\n",
        "  max_marks = 0\n",
        "  our_key = ''\n",
        "  our_marks = 0\n",
        "  for k,v in kwargs.items():\n",
        "    if v > max_marks:\n",
        "      our_key = k\n",
        "      our_marks = v\n",
        "      max_marks = our_marks\n",
        "  return our_key, our_marks\n",
        "\n",
        "# testing\n",
        "x,y = get_id_with_max_marks( alex = 6, barb = 90, chris = 89, diana = 98)\n",
        "print('Name: ', x, 'Marks: ', y)\n",
        "\n",
        "x,y = get_id_with_max_marks( alex = 6, barb = 90, chris = 89, diana = 98, zack = 101)\n",
        "print('Name: ', x, 'Marks: ', y)"
      ],
      "metadata": {
        "id": "j_HJ_r_yUeHc"
      },
      "execution_count": null,
      "outputs": []
    },
    {
      "cell_type": "code",
      "source": [],
      "metadata": {
        "id": "06xEfC61fTs3"
      },
      "execution_count": null,
      "outputs": []
    }
  ]
}