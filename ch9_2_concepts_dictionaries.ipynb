{
  "nbformat": 4,
  "nbformat_minor": 0,
  "metadata": {
    "colab": {
      "provenance": [],
      "toc_visible": true
    },
    "kernelspec": {
      "name": "python3",
      "display_name": "Python 3"
    },
    "language_info": {
      "name": "python"
    }
  },
  "cells": [
    {
      "cell_type": "markdown",
      "source": [
        "# Dictionaries: An introduction"
      ],
      "metadata": {
        "id": "MigA18Nk7QIJ"
      }
    },
    {
      "cell_type": "code",
      "source": [
        "#@title What are the dict( ) methods?\n",
        "\n",
        "dict_methods = dir(dict)\n",
        "#print(type(dict_methods))\n",
        "# print(\"Dictionary Methods:\")\n",
        "# print(dict_methods)\n",
        "\n",
        "for cmd in dict_methods:\n",
        "  if '__' not in cmd:\n",
        "    print(cmd)\n",
        "\n",
        "#del dict[key]  = dict.popitem(key)\n",
        "help(dict.popitem)\n",
        "help(dict.pop)"
      ],
      "metadata": {
        "colab": {
          "base_uri": "https://localhost:8080/"
        },
        "id": "LUTOXRIykc6K",
        "outputId": "8bed0c77-4384-4fbf-e9a3-77a1ce2e52c8"
      },
      "execution_count": null,
      "outputs": [
        {
          "output_type": "stream",
          "name": "stdout",
          "text": [
            "clear\n",
            "copy\n",
            "fromkeys\n",
            "get\n",
            "items\n",
            "keys\n",
            "pop\n",
            "popitem\n",
            "setdefault\n",
            "update\n",
            "values\n",
            "Help on method_descriptor:\n",
            "\n",
            "popitem(self, /)\n",
            "    Remove and return a (key, value) pair as a 2-tuple.\n",
            "    \n",
            "    Pairs are returned in LIFO (last-in, first-out) order.\n",
            "    Raises KeyError if the dict is empty.\n",
            "\n",
            "Help on method_descriptor:\n",
            "\n",
            "pop(...)\n",
            "    D.pop(k[,d]) -> v, remove specified key and return the corresponding value.\n",
            "    \n",
            "    If the key is not found, return the default if given; otherwise,\n",
            "    raise a KeyError.\n",
            "\n"
          ]
        }
      ]
    },
    {
      "cell_type": "code",
      "source": [
        "#@title Creating an empty dictionary (add adding keys)\n",
        "# You can create a dictionary in one of the two ways\n",
        "students  = {}\n",
        "#students = dict()\n",
        "\n",
        "# You can add key value pairs through index notation.\n",
        "students[101] = \"anna\"\n",
        "students[102] = \"bindu\"\n",
        "students[103] = \"chris\"\n",
        "\n",
        "print(students)\n",
        "print(type(students))\n",
        "\n",
        "\n"
      ],
      "metadata": {
        "colab": {
          "base_uri": "https://localhost:8080/"
        },
        "id": "LgZONX2_YPcP",
        "outputId": "22490fbe-ea95-4083-cf3e-10db5f3287a9"
      },
      "execution_count": null,
      "outputs": [
        {
          "output_type": "stream",
          "name": "stdout",
          "text": [
            "{101: 'anna', 102: 'bindu', 103: 'chris'}\n",
            "<class 'dict'>\n"
          ]
        }
      ]
    },
    {
      "cell_type": "code",
      "source": [
        "#@title Creating a dictionary and adding keys in one step\n",
        "# You can create a dictionary in one of the two ways\n",
        "students  = { 101: \"anna\",\n",
        "              102: \"bindu\",\n",
        "              103: \"chris\"}\n",
        "print(students)\n"
      ],
      "metadata": {
        "colab": {
          "base_uri": "https://localhost:8080/"
        },
        "id": "FcG3uKjrcb59",
        "outputId": "7d2e4379-8634-48cb-eb93-8f4b6d7a0408"
      },
      "execution_count": null,
      "outputs": [
        {
          "output_type": "stream",
          "name": "stdout",
          "text": [
            "{101: 'anna', 102: 'bindu', 103: 'chris'}\n"
          ]
        }
      ]
    },
    {
      "cell_type": "code",
      "source": [
        "#@title you can use the built-in function len( ) on the dictionaries\n",
        "students  = { 101: \"anna\",\n",
        "              102: \"bindu\",\n",
        "              103: \"chris\"}\n",
        "print('Length of the dictionary = Number of KEYS = ', len(students))"
      ],
      "metadata": {
        "colab": {
          "base_uri": "https://localhost:8080/"
        },
        "id": "Y9yXgCw1l24w",
        "outputId": "c50c7b81-da57-4462-b7eb-0e4d97e5b101"
      },
      "execution_count": null,
      "outputs": [
        {
          "output_type": "stream",
          "name": "stdout",
          "text": [
            "Length of the dictionary = Number of KEYS =  3\n"
          ]
        }
      ]
    },
    {
      "cell_type": "code",
      "source": [
        "#@title Accessing a KEY through index notation\n",
        "y = students[102]\n",
        "print(\"the value of the key 102: \", y)"
      ],
      "metadata": {
        "colab": {
          "base_uri": "https://localhost:8080/"
        },
        "id": "zFkV0utxBBSE",
        "outputId": "26625c3d-50ca-4732-9455-5ec54bd645fe"
      },
      "execution_count": null,
      "outputs": [
        {
          "output_type": "stream",
          "name": "stdout",
          "text": [
            "the value of the key 102:  bindu\n"
          ]
        }
      ]
    },
    {
      "cell_type": "code",
      "source": [
        "#@title Accessing a KEY through get() method\n",
        "x = students.get(101)\n",
        "print(\"the value of the key 101: \", x)\n",
        "\n",
        "y = students[101]\n",
        "print(\"the value of the key 101: \", y)\n"
      ],
      "metadata": {
        "colab": {
          "base_uri": "https://localhost:8080/"
        },
        "id": "mZ4HVQyAKZj8",
        "outputId": "f6db4651-5e6d-4158-ac54-6b26b67dd45c"
      },
      "execution_count": null,
      "outputs": [
        {
          "output_type": "stream",
          "name": "stdout",
          "text": [
            "the value of the key 101:  anna\n",
            "the value of the key 101:  anna\n"
          ]
        }
      ]
    },
    {
      "cell_type": "code",
      "source": [
        "#@title Watch out for KeyError\n",
        "# You can not access a KEY that doesn't exist\n",
        "students  = { 101: \"anna\",\n",
        "              102: \"bindu\",\n",
        "              103: \"chris\"}\n",
        "\n",
        "x = students[101]  # ok\n",
        "print('student at key 101: ', x)\n",
        "y = students[999]  # not ok\n",
        "print('student at key 999: ', y)"
      ],
      "metadata": {
        "colab": {
          "base_uri": "https://localhost:8080/",
          "height": 245
        },
        "id": "Ne6xky8QlQUQ",
        "outputId": "99246150-27ed-406a-e740-55b3c35f89c7"
      },
      "execution_count": null,
      "outputs": [
        {
          "output_type": "stream",
          "name": "stdout",
          "text": [
            "student at key 101:  anna\n"
          ]
        },
        {
          "output_type": "error",
          "ename": "KeyError",
          "evalue": "ignored",
          "traceback": [
            "\u001b[0;31m---------------------------------------------------------------------------\u001b[0m",
            "\u001b[0;31mKeyError\u001b[0m                                  Traceback (most recent call last)",
            "\u001b[0;32m<ipython-input-6-5e43ebecf7ad>\u001b[0m in \u001b[0;36m<cell line: 9>\u001b[0;34m()\u001b[0m\n\u001b[1;32m      7\u001b[0m \u001b[0mx\u001b[0m \u001b[0;34m=\u001b[0m \u001b[0mstudents\u001b[0m\u001b[0;34m[\u001b[0m\u001b[0;36m101\u001b[0m\u001b[0;34m]\u001b[0m  \u001b[0;31m# ok\u001b[0m\u001b[0;34m\u001b[0m\u001b[0;34m\u001b[0m\u001b[0m\n\u001b[1;32m      8\u001b[0m \u001b[0mprint\u001b[0m\u001b[0;34m(\u001b[0m\u001b[0;34m'student at key 101: '\u001b[0m\u001b[0;34m,\u001b[0m \u001b[0mx\u001b[0m\u001b[0;34m)\u001b[0m\u001b[0;34m\u001b[0m\u001b[0;34m\u001b[0m\u001b[0m\n\u001b[0;32m----> 9\u001b[0;31m \u001b[0my\u001b[0m \u001b[0;34m=\u001b[0m \u001b[0mstudents\u001b[0m\u001b[0;34m[\u001b[0m\u001b[0;36m999\u001b[0m\u001b[0;34m]\u001b[0m  \u001b[0;31m# not ok\u001b[0m\u001b[0;34m\u001b[0m\u001b[0;34m\u001b[0m\u001b[0m\n\u001b[0m\u001b[1;32m     10\u001b[0m \u001b[0mprint\u001b[0m\u001b[0;34m(\u001b[0m\u001b[0;34m'student at key 999: '\u001b[0m\u001b[0;34m,\u001b[0m \u001b[0my\u001b[0m\u001b[0;34m)\u001b[0m\u001b[0;34m\u001b[0m\u001b[0;34m\u001b[0m\u001b[0m\n",
            "\u001b[0;31mKeyError\u001b[0m: 999"
          ]
        }
      ]
    },
    {
      "cell_type": "code",
      "source": [
        "#@title Check to see whether a Key exists (before accessing its value)\n",
        "if 999 in students:\n",
        "  y = students[999]  # not ok\n",
        "  print('student at key 999: ', y)"
      ],
      "metadata": {
        "id": "LwmdB6eYrB6L"
      },
      "execution_count": null,
      "outputs": []
    },
    {
      "cell_type": "code",
      "source": [
        "#@title Checking for membership\n",
        "books = {}\n",
        "\n",
        "books['101'] = \"python\"\n",
        "books['999'] = \"Time Magazine\"\n",
        "books['102'] = \"java\"\n",
        "books['103'] = \"javascript\"\n",
        "\n",
        "# check whether a specific key is in dictionary or not\n",
        "key_to_find = '101'\n",
        "if key_to_find in books:\n",
        "  print(\"key\", key_to_find, \"is found.\")\n",
        "  print(\"its value is: \", books[key_to_find])\n",
        "\n",
        "key_to_find = 'abc'\n",
        "# the following will give a KEY error.\n",
        "# So, it is a good idea to check whether KEY exists or not\n",
        "#print(books[key_to_find])\n",
        "if key_to_find in books:\n",
        "  print(\"key\", key_to_find, \"is found:\")\n",
        "  print(\"its value is: \", books[key_to_find])\n",
        "else:\n",
        "   print(\"key\", key_to_find, \"is NOT found.\")\n"
      ],
      "metadata": {
        "colab": {
          "base_uri": "https://localhost:8080/"
        },
        "id": "4kvk0lch4mtJ",
        "outputId": "ad6ed871-9f58-4b4e-c0e6-3d5f9ef503db"
      },
      "execution_count": null,
      "outputs": [
        {
          "output_type": "stream",
          "name": "stdout",
          "text": [
            "key 101 is found.\n",
            "its value is:  python\n",
            "key abc is NOT found.\n"
          ]
        }
      ]
    },
    {
      "cell_type": "code",
      "source": [
        "#@title Checking for membership (inverse operation)\n",
        "some_key = 999\n",
        "# not in\n",
        "if some_key not in books:\n",
        "  print(some_key, 'not found')\n",
        "else:\n",
        "  print(some_key, 'key found')\n"
      ],
      "metadata": {
        "id": "pK6yVmJmLTOH",
        "colab": {
          "base_uri": "https://localhost:8080/"
        },
        "outputId": "cb1f6d43-e60a-4e27-e4e8-e01fdee029ee"
      },
      "execution_count": null,
      "outputs": [
        {
          "output_type": "stream",
          "name": "stdout",
          "text": [
            "999 not found\n"
          ]
        }
      ]
    },
    {
      "cell_type": "code",
      "source": [
        "#@title Traversal options (demo in the classroom)\n",
        "names_dict = {'dhurv' : 5,\n",
        "              'srikar': 3,\n",
        "              'kamali': 4,\n",
        "              'david' : 5,\n",
        "              'chitra' : 2}\n",
        "\n",
        "\n",
        "# 1. I want to print only the KEYS\n",
        "#print(names_dict.keys())  # all are printed in one line\n",
        "print(\"1.1.Printing the keys of a dictionary using the keys() method\")\n",
        "for key in names_dict.keys():\n",
        "    print(key)\n",
        "\n",
        "print(\"\\n\\n1.1.Printing the keys of a dictionary (default)\")\n",
        "for key in names_dict:\n",
        "    print(key)\n",
        "\n",
        "# I want to print only the VALUES\n",
        "print(\"\\n\\n2.Printing the values of a dictionary\")\n",
        "for value in names_dict.values():\n",
        "    print(value)\n",
        "\n",
        "# 3. I want to print both KEY-VALUE pairs\n",
        "print(\"3.1. Get the KEYS and for each KEY, get the VALUE: two step process\")\n",
        "for key in names_dict:\n",
        "    value = names_dict[key]\n",
        "    print(key, \"--->\", value)\n",
        "\n",
        "print(\"3.2. Get the KEYS and VALUES in one step\")\n",
        "for key, value in names_dict.items():\n",
        "    print(key, \"--->\", value)\n"
      ],
      "metadata": {
        "id": "wdZVQJDnBpm2"
      },
      "execution_count": null,
      "outputs": []
    },
    {
      "cell_type": "code",
      "execution_count": null,
      "metadata": {
        "colab": {
          "base_uri": "https://localhost:8080/"
        },
        "id": "2eXmEfEeXbIB",
        "outputId": "207cafff-7ca0-45ae-ec15-b5747e62fa85"
      },
      "outputs": [
        {
          "output_type": "stream",
          "name": "stdout",
          "text": [
            "999\n",
            "101\n",
            "abc\n",
            "102\n",
            "pqr\n",
            "456\n"
          ]
        }
      ],
      "source": [
        "#@title Traversal of a dictionary (KEYS)\n",
        "# create an empty dictionary\n",
        "customers = {}\n",
        "\n",
        "# We need two things: key and value\n",
        "# assume key = id and value = name\n",
        "\n",
        "# add some customers to the dictionary\n",
        "customers['999'] = 'Alice'\n",
        "customers['101'] = 'John Doe'\n",
        "customers['abc'] = 'Bob'\n",
        "customers['102'] = 'Jane Doe'\n",
        "customers['pqr'] = 'Bob Jr.'\n",
        "customers['456'] = 'Scooby'\n",
        "\n",
        "# Navigating the dictionary\n",
        "for key in customers:\n",
        "  print(key)\n",
        "\n",
        "\n",
        "# for key in customers.keys():\n",
        "#   print(key)\n",
        "\n",
        "# Navigating the dictionary\n",
        "# dictionary.keys()  or dictionary\n",
        "print(\"dictinary = dictionary.keys()\")\n",
        "for key in customers.keys():\n",
        "  print(key)"
      ]
    },
    {
      "cell_type": "code",
      "source": [
        "#@title Traversal of dictionaries (VALUES)\n",
        "\n",
        "for value in customers.values():\n",
        "  print(value)"
      ],
      "metadata": {
        "colab": {
          "base_uri": "https://localhost:8080/"
        },
        "id": "LHUaornDbp6z",
        "outputId": "1275e7c6-1e19-40cb-d9dc-11abb41d50a0"
      },
      "execution_count": null,
      "outputs": [
        {
          "output_type": "stream",
          "name": "stdout",
          "text": [
            "Alice\n",
            "John Doe\n",
            "Bob\n",
            "Jane Doe\n",
            "Bob Jr.\n",
            "Scooby\n"
          ]
        }
      ]
    },
    {
      "cell_type": "code",
      "source": [
        "#@title Traversal of dictionaries (KEYS and VALUES)\n",
        "# create an empty dictionary\n",
        "customers = {}\n",
        "\n",
        "# We need two things: key and value\n",
        "# assume key = id and value = name\n",
        "\n",
        "# add some customers to the dictionary\n",
        "customers['999'] = 'Alice'\n",
        "customers['101'] = 'Jooby'\n",
        "customers['456'] = 'Dooohn Doe'\n",
        "customers['abc'] = 'Bob'\n",
        "customers['102'] = 'Jane Doe'\n",
        "customers['pqr'] = 'Bob Jr.'\n",
        "customers['456'] = 'Sc'\n",
        "\n",
        "for key, value in customers.items():\n",
        "  print(key, '-->', value)\n",
        "\n",
        "# for index, value in enumerate(my_list):\n",
        "#   print(index, '-->', value)"
      ],
      "metadata": {
        "colab": {
          "base_uri": "https://localhost:8080/"
        },
        "id": "cKAsy3ko2HlN",
        "outputId": "03af9b1f-76ec-42f6-b98d-8d6866bcd10b"
      },
      "execution_count": null,
      "outputs": [
        {
          "output_type": "stream",
          "name": "stdout",
          "text": [
            "999 --> Alice\n",
            "101 --> Jooby\n",
            "456 --> Sc\n",
            "abc --> Bob\n",
            "102 --> Jane Doe\n",
            "pqr --> Bob Jr.\n"
          ]
        }
      ]
    },
    {
      "cell_type": "code",
      "source": [
        "#@ title Add the following key to the dictionary\n",
        "key = \"888\"\n",
        "value = \"siva jasthi\"\n",
        "\n",
        "customers[key] = value\n",
        "\n",
        "for key in customers:\n",
        "  value = customers[key]\n",
        "  print(\"ID: \", key, \"Name: \", value)\n"
      ],
      "metadata": {
        "colab": {
          "base_uri": "https://localhost:8080/"
        },
        "id": "xmc4nnnDXvZ3",
        "outputId": "f47b71d8-cf68-45f2-8f17-bf32f76cbd6e"
      },
      "execution_count": null,
      "outputs": [
        {
          "output_type": "stream",
          "name": "stdout",
          "text": [
            "ID:  999 Name:  Alice\n",
            "ID:  101 Name:  John Doe\n",
            "ID:  abc Name:  Bob\n",
            "ID:  102 Name:  Jane Doe\n",
            "ID:  pqr Name:  Bob Jr.\n",
            "ID:  456 Name:  Doo\n",
            "ID:  888 Name:  siva jasthi\n"
          ]
        }
      ]
    },
    {
      "cell_type": "code",
      "source": [
        "# add the following key to the dictionary\n",
        "key = \"888\"\n",
        "value = \"alex\"\n",
        "\n",
        "customers[key] = value\n",
        "\n",
        "for key in customers:\n",
        "  value = customers[key]\n",
        "  print(\"ID: \", key, \"Name: \", value)"
      ],
      "metadata": {
        "colab": {
          "base_uri": "https://localhost:8080/"
        },
        "id": "heczL1A1YE2S",
        "outputId": "812c1f88-2b63-4e8d-b5ff-c7346d024589"
      },
      "execution_count": null,
      "outputs": [
        {
          "output_type": "stream",
          "name": "stdout",
          "text": [
            "ID:  999 Name:  Alice\n",
            "ID:  101 Name:  John Doe\n",
            "ID:  abc Name:  Bob\n",
            "ID:  102 Name:  Jane Doe\n",
            "ID:  pqr Name:  Bob Jr.\n",
            "ID:  456 Name:  Doo\n",
            "ID:  888 Name:  alex\n"
          ]
        }
      ]
    },
    {
      "cell_type": "code",
      "source": [
        "# How can I store both name and email in the value field?\n",
        "# create an empty dictionary\n",
        "customers = {}\n",
        "\n",
        "# We need two things: key and value\n",
        "# assume key = id and value = name\n",
        "\n",
        "# add some customers to the dictionary\n",
        "customers['999'] = ['Alice', \"alice@gmail.com\"]\n",
        "customers['101'] = ['John Doe', \"john_doe@yahoo.com\"]\n",
        "customers['abc'] = ['Bob', 'bob@yahoo.com']\n",
        "customers['102'] = ['Jane Doe', 'jane_doe@aol.com']\n",
        "customers['pqr'] = ['Bob Jr.', 'bob_jr@gmail.com']\n",
        "customers['456'] = ['Scooby', 'scooby1@gmail.com']\n",
        "customers['457'] = ['Scooby', 'scooby2@gmail.com']\n",
        "\n",
        "for key in customers:\n",
        "  value = customers[key]\n",
        "  print(\"ID: \", key, \"Name: \", value)"
      ],
      "metadata": {
        "colab": {
          "base_uri": "https://localhost:8080/"
        },
        "id": "Cj9B8h-1YQdD",
        "outputId": "53a9e925-00ad-4471-fc4e-78cd15138582"
      },
      "execution_count": null,
      "outputs": [
        {
          "output_type": "stream",
          "name": "stdout",
          "text": [
            "ID:  999 Name:  ['Alice', 'alice@gmail.com']\n",
            "ID:  101 Name:  ['John Doe', 'john_doe@yahoo.com']\n",
            "ID:  abc Name:  ['Bob', 'bob@yahoo.com']\n",
            "ID:  102 Name:  ['Jane Doe', 'jane_doe@aol.com']\n",
            "ID:  pqr Name:  ['Bob Jr.', 'bob_jr@gmail.com']\n",
            "ID:  456 Name:  ['Scooby', 'scooby1@gmail.com']\n",
            "ID:  457 Name:  ['Scooby', 'scooby2@gmail.com']\n"
          ]
        }
      ]
    },
    {
      "cell_type": "code",
      "source": [
        "# Update the dictionary so that the value has a third field called ID which is same as the KEY.\n",
        "\n",
        "# ID:  999 Name:  ['Alice', 'alice@gmail.com', 999]\n",
        "# ID:  101 Name:  ['John Doe', 'john_doe@yahoo.com', '101'\n",
        "# ID:  abc Name:  ['Bob', 'bob@yahoo.com','abc']\n",
        "# ID:  102 Name:  ['Jane Doe', 'jane_doe@aol.com', '102']\n",
        "# ID:  pqr Name:  ['Bob Jr.', 'bob_jr@gmail.com', 'pqr']\n",
        "# ID:  456 Name:  ['Scooby', 'scooby1@gmail.com', '456']\n",
        "# ID:  457 Name:  ['Scooby', 'scooby2@gmail.com''457']\n",
        "\n",
        "for key in customers:\n",
        "  current_value = customers[key]\n",
        "  current_value.append(key)\n",
        "  # customers[key] = current_value\n",
        "\n",
        "\n",
        "for key in customers:\n",
        "  value = customers[key]\n",
        "  print(\"ID: \", key, \"Name: \", value)\n",
        "\n"
      ],
      "metadata": {
        "colab": {
          "base_uri": "https://localhost:8080/"
        },
        "id": "h2HxgHJzY2u_",
        "outputId": "bc4885ff-25ce-4934-8ad3-937d0e0c3cb1"
      },
      "execution_count": null,
      "outputs": [
        {
          "output_type": "stream",
          "name": "stdout",
          "text": [
            "ID:  999 Name:  ['Alice', 'alice@gmail.com', '999']\n",
            "ID:  101 Name:  ['John Doe', 'john_doe@yahoo.com', '101']\n",
            "ID:  abc Name:  ['Bob', 'bob@yahoo.com', 'abc']\n",
            "ID:  102 Name:  ['Jane Doe', 'jane_doe@aol.com', '102']\n",
            "ID:  pqr Name:  ['Bob Jr.', 'bob_jr@gmail.com', 'pqr']\n",
            "ID:  456 Name:  ['Scooby', 'scooby1@gmail.com', '456']\n",
            "ID:  457 Name:  ['Scooby', 'scooby2@gmail.com', '457']\n"
          ]
        }
      ]
    },
    {
      "cell_type": "code",
      "source": [
        "#@title Update Value for a Key\n",
        "#How do you update the value for a KEY?\n",
        "# Simply assign a value to the existing key. And the value will be updated\n",
        "books = {}\n",
        "\n",
        "books['101'] = \"python\"\n",
        "books['102'] = \"java\"\n",
        "for key, value in books.items():\n",
        "  print(key, '-->', value)\n",
        "\n",
        "books['101'] = \"javascript\"\n",
        "\n",
        "for key, value in books.items():\n",
        "  print(key, '-->', value)"
      ],
      "metadata": {
        "colab": {
          "base_uri": "https://localhost:8080/"
        },
        "id": "cuxBVcBo3NOH",
        "outputId": "3ce6e969-89d6-4311-8432-7c8a0843f614"
      },
      "execution_count": null,
      "outputs": [
        {
          "output_type": "stream",
          "name": "stdout",
          "text": [
            "101 --> python\n",
            "102 --> java\n",
            "101 --> javascript\n",
            "102 --> java\n"
          ]
        }
      ]
    },
    {
      "cell_type": "code",
      "source": [
        "#@title Removing a KEY (pop)\n",
        "car = {\n",
        "  \"brand\": \"Ford\",\n",
        "  \"model\": \"Mustang\",\n",
        "  \"year\": 1964,\n",
        "  \"cost\": 90000,\n",
        "  \"is_new\": True\n",
        "}\n",
        "\n",
        "\n",
        "print('Getting the list of key-value pairs before POP')\n",
        "for key, value in car.items():\n",
        "  print(key, '-->', value)\n",
        "\n",
        "car.pop(\"model\")\n",
        "\n",
        "\n",
        "print('\\n\\nGetting the list of key-value pairs after POP')\n",
        "for key, value in car.items():\n",
        "  print(key, '-->', value)\n"
      ],
      "metadata": {
        "colab": {
          "base_uri": "https://localhost:8080/"
        },
        "id": "SqIBgL8J6a8n",
        "outputId": "2213feac-4583-42d0-b6c7-fd3d2715857e"
      },
      "execution_count": null,
      "outputs": [
        {
          "output_type": "stream",
          "name": "stdout",
          "text": [
            "Getting the list of key-value pairs before POP\n",
            "brand --> Ford\n",
            "model --> Mustang\n",
            "year --> 1964\n",
            "cost --> 90000\n",
            "is_new --> True\n",
            "\n",
            "\n",
            "Getting the list of key-value pairs after POP\n",
            "brand --> Ford\n",
            "year --> 1964\n",
            "cost --> 90000\n",
            "is_new --> True\n"
          ]
        }
      ]
    },
    {
      "cell_type": "code",
      "source": [
        "#@title Removing a KEY (pop) that doesn't exist\n",
        "car = {\n",
        "  \"brand\": \"Ford\",\n",
        "  \"model\": \"Mustang\",\n",
        "  \"year\": 1964,\n",
        "  \"cost\": 90000,\n",
        "  \"is_new\": True\n",
        "}\n",
        "\n",
        "\n",
        "print('Getting the list of key-value pairs before POP')\n",
        "for key, value in car.items():\n",
        "  print(key, '-->', value)\n",
        "\n",
        "car.pop(\"color\")\n",
        "\n"
      ],
      "metadata": {
        "colab": {
          "base_uri": "https://localhost:8080/",
          "height": 311
        },
        "id": "lyH0xkJ_VvTa",
        "outputId": "ce38a990-9fce-4dfb-ccc7-17063a357f36"
      },
      "execution_count": null,
      "outputs": [
        {
          "output_type": "stream",
          "name": "stdout",
          "text": [
            "Getting the list of key-value pairs before POP\n",
            "brand --> Ford\n",
            "model --> Mustang\n",
            "year --> 1964\n",
            "cost --> 90000\n",
            "is_new --> True\n"
          ]
        },
        {
          "output_type": "error",
          "ename": "KeyError",
          "evalue": "'color'",
          "traceback": [
            "\u001b[0;31m---------------------------------------------------------------------------\u001b[0m",
            "\u001b[0;31mKeyError\u001b[0m                                  Traceback (most recent call last)",
            "\u001b[0;32m<ipython-input-14-0d277142f689>\u001b[0m in \u001b[0;36m<cell line: 15>\u001b[0;34m()\u001b[0m\n\u001b[1;32m     13\u001b[0m   \u001b[0mprint\u001b[0m\u001b[0;34m(\u001b[0m\u001b[0mkey\u001b[0m\u001b[0;34m,\u001b[0m \u001b[0;34m'-->'\u001b[0m\u001b[0;34m,\u001b[0m \u001b[0mvalue\u001b[0m\u001b[0;34m)\u001b[0m\u001b[0;34m\u001b[0m\u001b[0;34m\u001b[0m\u001b[0m\n\u001b[1;32m     14\u001b[0m \u001b[0;34m\u001b[0m\u001b[0m\n\u001b[0;32m---> 15\u001b[0;31m \u001b[0mcar\u001b[0m\u001b[0;34m.\u001b[0m\u001b[0mpop\u001b[0m\u001b[0;34m(\u001b[0m\u001b[0;34m\"color\"\u001b[0m\u001b[0;34m)\u001b[0m\u001b[0;34m\u001b[0m\u001b[0;34m\u001b[0m\u001b[0m\n\u001b[0m\u001b[1;32m     16\u001b[0m \u001b[0;34m\u001b[0m\u001b[0m\n",
            "\u001b[0;31mKeyError\u001b[0m: 'color'"
          ]
        }
      ]
    },
    {
      "cell_type": "code",
      "source": [
        "#@title Removing a KEY (pop) that doesn't exist (check 1)\n",
        "car = {\n",
        "  \"brand\": \"Ford\",\n",
        "  \"model\": \"Mustang\",\n",
        "  \"year\": 1964,\n",
        "  \"cost\": 90000,\n",
        "  \"is_new\": True\n",
        "}\n",
        "\n",
        "\n",
        "print('Getting the list of key-value pairs before POP')\n",
        "for key, value in car.items():\n",
        "  print(key, '-->', value)\n",
        "\n",
        "if \"color\" in car:\n",
        "  car.pop(\"color\")\n",
        "else:\n",
        "  print(\"\\n\\nkey color doesn't exist\")\n",
        "\n"
      ],
      "metadata": {
        "colab": {
          "base_uri": "https://localhost:8080/"
        },
        "id": "_R9UyTWaV8TM",
        "outputId": "03a180d5-ceab-468d-cb23-3f3fc89db3bc"
      },
      "execution_count": null,
      "outputs": [
        {
          "output_type": "stream",
          "name": "stdout",
          "text": [
            "Getting the list of key-value pairs before POP\n",
            "brand --> Ford\n",
            "model --> Mustang\n",
            "year --> 1964\n",
            "cost --> 90000\n",
            "is_new --> True\n",
            "key color doesn't exist\n"
          ]
        }
      ]
    },
    {
      "cell_type": "code",
      "source": [
        "#@title Removing a KEY (pop) that doesn't exist (check 2)\n",
        "car = {\n",
        "  \"brand\": \"Ford\",\n",
        "  \"model\": \"Mustang\",\n",
        "  \"year\": 1964,\n",
        "  \"cost\": 90000,\n",
        "  \"is_new\": True\n",
        "}\n",
        "\n",
        "\n",
        "print('Getting the list of key-value pairs before POP')\n",
        "for key, value in car.items():\n",
        "  print(key, '-->', value)\n",
        "\n",
        "# remove the \"color\" key.\n",
        "# if it doesn't exist, return a default value\n",
        "\n",
        "car.pop(\"color\", \"key color doesn't exist\")\n",
        "car.pop(\"is_new\", \"the key 'is_new' doesn't exist\")"
      ],
      "metadata": {
        "colab": {
          "base_uri": "https://localhost:8080/"
        },
        "id": "Tug5q4-yWJFO",
        "outputId": "1153c666-8e44-4d44-9f57-39697082e3f5"
      },
      "execution_count": null,
      "outputs": [
        {
          "output_type": "stream",
          "name": "stdout",
          "text": [
            "Getting the list of key-value pairs before POP\n",
            "brand --> Ford\n",
            "model --> Mustang\n",
            "year --> 1964\n",
            "cost --> 90000\n",
            "is_new --> True\n"
          ]
        },
        {
          "output_type": "execute_result",
          "data": {
            "text/plain": [
              "True"
            ]
          },
          "metadata": {},
          "execution_count": 17
        }
      ]
    },
    {
      "cell_type": "code",
      "source": [
        "#@title Removing the last Key (popitem)\n",
        "car = {\n",
        "  \"brand\": \"Ford\",\n",
        "  \"model\": \"Mustang\",\n",
        "  \"year\": 1964,\n",
        "  \"cost\": 90000,\n",
        "  \"is_new\": True\n",
        "}\n",
        "\n",
        "\n",
        "print('\\nTest 1: Getting the list of key-value pairs')\n",
        "for key, value in car.items():\n",
        "  print(key, '-->', value)\n",
        "\n",
        "car.popitem()\n",
        "\n",
        "\n",
        "print('\\nTest 2: Getting the list of key-value pairs after popitem()')\n",
        "for key, value in car.items():\n",
        "  print(key, '-->', value)\n",
        "\n",
        "car['company'] = 'Ford'\n",
        "\n",
        "\n",
        "\n",
        "print('\\nTest 3: Getting the list of key-value pairs after adding a key \"company\"')\n",
        "for key, value in car.items():\n",
        "  print(key, '-->', value)\n",
        "\n",
        "car.popitem()\n",
        "\n",
        "\n",
        "print('\\nTest 4: Getting the list of key-value pairs after popitem()')\n",
        "for key, value in car.items():\n",
        "  print(key, '-->', value)"
      ],
      "metadata": {
        "colab": {
          "base_uri": "https://localhost:8080/"
        },
        "id": "x_nAe6USdVWN",
        "outputId": "4a66a99a-8988-4c05-a942-900a7c54b75e"
      },
      "execution_count": null,
      "outputs": [
        {
          "output_type": "stream",
          "name": "stdout",
          "text": [
            "\n",
            "Test 1: Getting the list of key-value pairs\n",
            "brand --> Ford\n",
            "model --> Mustang\n",
            "year --> 1964\n",
            "cost --> 90000\n",
            "is_new --> True\n",
            "\n",
            "Test 2: Getting the list of key-value pairs after popitem()\n",
            "brand --> Ford\n",
            "model --> Mustang\n",
            "year --> 1964\n",
            "cost --> 90000\n",
            "\n",
            "Test 3: Getting the list of key-value pairs after adding a key \"company\"\n",
            "brand --> Ford\n",
            "model --> Mustang\n",
            "year --> 1964\n",
            "cost --> 90000\n",
            "company --> Ford\n",
            "\n",
            "Test 4: Getting the list of key-value pairs after popitem()\n",
            "brand --> Ford\n",
            "model --> Mustang\n",
            "year --> 1964\n",
            "cost --> 90000\n"
          ]
        }
      ]
    },
    {
      "cell_type": "code",
      "source": [
        "#@title Removing a Key (through \"del\")\n",
        "car = {\n",
        "  \"brand\": \"Ford\",\n",
        "  \"model\": \"Mustang\",\n",
        "  \"year\": 1964,\n",
        "  \"cost\": 90000,\n",
        "  \"is_new\": True\n",
        "}\n",
        "\n",
        "print(car)\n",
        "del car['model']\n",
        "del car['cost']\n",
        "print(car)"
      ],
      "metadata": {
        "colab": {
          "base_uri": "https://localhost:8080/",
          "height": 254
        },
        "id": "rTjuRvfWMCpS",
        "outputId": "03510d89-0372-4b54-bb11-00f1a9277c1b"
      },
      "execution_count": null,
      "outputs": [
        {
          "output_type": "stream",
          "name": "stdout",
          "text": [
            "{'brand': 'Ford', 'model': 'Mustang', 'year': 1964, 'cost': 90000, 'is_new': True}\n"
          ]
        },
        {
          "output_type": "error",
          "ename": "KeyError",
          "evalue": "ignored",
          "traceback": [
            "\u001b[0;31m---------------------------------------------------------------------------\u001b[0m",
            "\u001b[0;31mKeyError\u001b[0m                                  Traceback (most recent call last)",
            "\u001b[0;32m<ipython-input-4-5a409a39b980>\u001b[0m in \u001b[0;36m<cell line: 12>\u001b[0;34m()\u001b[0m\n\u001b[1;32m     10\u001b[0m \u001b[0mprint\u001b[0m\u001b[0;34m(\u001b[0m\u001b[0mcar\u001b[0m\u001b[0;34m)\u001b[0m\u001b[0;34m\u001b[0m\u001b[0;34m\u001b[0m\u001b[0m\n\u001b[1;32m     11\u001b[0m \u001b[0;32mdel\u001b[0m \u001b[0mcar\u001b[0m\u001b[0;34m[\u001b[0m\u001b[0;34m'model'\u001b[0m\u001b[0;34m]\u001b[0m\u001b[0;34m\u001b[0m\u001b[0;34m\u001b[0m\u001b[0m\n\u001b[0;32m---> 12\u001b[0;31m \u001b[0;32mdel\u001b[0m \u001b[0mcar\u001b[0m\u001b[0;34m[\u001b[0m\u001b[0;34m'cosjjjt'\u001b[0m\u001b[0;34m]\u001b[0m\u001b[0;34m\u001b[0m\u001b[0;34m\u001b[0m\u001b[0m\n\u001b[0m\u001b[1;32m     13\u001b[0m \u001b[0mprint\u001b[0m\u001b[0;34m(\u001b[0m\u001b[0mcar\u001b[0m\u001b[0;34m)\u001b[0m\u001b[0;34m\u001b[0m\u001b[0;34m\u001b[0m\u001b[0m\n",
            "\u001b[0;31mKeyError\u001b[0m: 'cosjjjt'"
          ]
        }
      ]
    },
    {
      "cell_type": "code",
      "source": [
        "#@title Adding two dictionaries (update)\n",
        "\n",
        "car1 = {\n",
        "  \"brand\": \"Ford\",\n",
        "  \"model\": \"Mustang\",\n",
        "  \"year\": 1964\n",
        "}\n",
        "\n",
        "car2 = {\n",
        "  \"color\": \"black\",\n",
        "  \"price\": 20000,\n",
        "  \"new\": False\n",
        "}\n",
        "\n",
        "whole_car = { }\n",
        "whole_car.update(car1)\n",
        "whole_car.update(car2)\n",
        "\n",
        "for k,v in whole_car.items():\n",
        "  print(k, '-->', v)\n"
      ],
      "metadata": {
        "colab": {
          "base_uri": "https://localhost:8080/"
        },
        "id": "vLthNPqT92vd",
        "outputId": "918751fe-83d5-4cb4-9d0c-468097e614f9"
      },
      "execution_count": null,
      "outputs": [
        {
          "output_type": "stream",
          "name": "stdout",
          "text": [
            "brand --> Ford\n",
            "model --> Mustang\n",
            "year --> 1964\n",
            "color --> black\n",
            "price --> 20000\n",
            "new --> False\n"
          ]
        }
      ]
    },
    {
      "cell_type": "code",
      "source": [
        "#@title Dictionary from keys list\n",
        "\n",
        "keys_list = [101, 102, 103, 104, 105]\n",
        "names_dict = dict.fromkeys(keys_list)\n",
        "print(names_dict)\n",
        "\n",
        "names_dict_1 = dict.fromkeys(keys_list, \"abc\")\n",
        "print(names_dict_1)\n",
        "\n",
        "number_dictionary = dict.fromkeys(range(1,11), \"pqr\")\n",
        "print(number_dictionary)"
      ],
      "metadata": {
        "colab": {
          "base_uri": "https://localhost:8080/"
        },
        "id": "REoaAOP5fi_S",
        "outputId": "baf20043-d497-4b8a-f9ae-42184c245294"
      },
      "execution_count": null,
      "outputs": [
        {
          "output_type": "stream",
          "name": "stdout",
          "text": [
            "{101: None, 102: None, 103: None, 104: None, 105: None}\n",
            "{101: 'abc', 102: 'abc', 103: 'abc', 104: 'abc', 105: 'abc'}\n",
            "{1: 'pqr', 2: 'pqr', 3: 'pqr', 4: 'pqr', 5: 'pqr', 6: 'pqr', 7: 'pqr', 8: 'pqr', 9: 'pqr', 10: 'pqr'}\n"
          ]
        }
      ]
    },
    {
      "cell_type": "code",
      "source": [
        "#@title Deleting vs Clearing the dictionary\n",
        "car = {\n",
        "  \"brand\": \"Ford\",\n",
        "  \"model\": \"Mustang\",\n",
        "  \"year\": 1964,\n",
        "  \"cost\": 90000,\n",
        "  \"is_new\": True\n",
        "}\n",
        "\n",
        "\n",
        "print('Getting the list of key-value pairs')\n",
        "print(\"Number of items in the dictionary: \", len(car))\n",
        "for key, value in car.items():\n",
        "  print(key, '-->', value)\n",
        "\n",
        "# All the items from the dictionary are cleared.\n",
        "# However, the dictionary will still remain.\n",
        "car.clear()\n",
        "print('Getting the list of key-value pairs after clearing')\n",
        "print(\"Number of items in the dictionary: \", len(car))\n",
        "for key, value in car.items():\n",
        "  print(key, '-->', value)\n",
        "\n",
        "del car\n",
        "print('Getting the list of key-value pairs after deleting')\n",
        "# the following will give NameError because car no longer exists\n",
        "#print(\"Number of items in the dictionary: \", len(car))\n"
      ],
      "metadata": {
        "colab": {
          "base_uri": "https://localhost:8080/"
        },
        "id": "XUn92kra6so9",
        "outputId": "4fbacc24-7455-4c52-e4b6-db35604c2d17"
      },
      "execution_count": null,
      "outputs": [
        {
          "output_type": "stream",
          "name": "stdout",
          "text": [
            "Getting the list of key-value pairs\n",
            "Number of items in the dictionary:  5\n",
            "brand --> Ford\n",
            "model --> Mustang\n",
            "year --> 1964\n",
            "cost --> 90000\n",
            "is_new --> True\n",
            "Getting the list of key-value pairs after clearing\n",
            "Number of items in the dictionary:  0\n",
            "Getting the list of key-value pairs after deleting\n"
          ]
        }
      ]
    },
    {
      "cell_type": "code",
      "source": [
        "#@title Sorting a dictionary by KEY (Sorting Keys and Getting the Values)\n",
        "names_hobbies = {}\n",
        "names_hobbies['chris'] = \"singing\"\n",
        "names_hobbies['diane'] = \"reading\"\n",
        "names_hobbies['barb'] = \"movies\"\n",
        "names_hobbies['anna'] = \"travel\"\n",
        "\n",
        "print('before sorting')\n",
        "for k, v in names_hobbies.items():\n",
        "  print(k, '-->', v)\n",
        "\n",
        "# perform the sorting\n",
        "keys_list = names_hobbies.keys()\n",
        "sorted_keys = sorted(keys_list)\n",
        "\n",
        "print('\\n\\nafter sorting')\n",
        "for key in sorted_keys:\n",
        "  value = names_hobbies[key]\n",
        "  print(key, '-->', value)"
      ],
      "metadata": {
        "colab": {
          "base_uri": "https://localhost:8080/"
        },
        "id": "FJOGOMhdBVIK",
        "outputId": "b51abe9a-ac6f-4319-f724-6f43a1689b6b"
      },
      "execution_count": null,
      "outputs": [
        {
          "output_type": "stream",
          "name": "stdout",
          "text": [
            "before sorting\n",
            "chris --> singing\n",
            "diane --> reading\n",
            "barb --> movies\n",
            "anna --> travel\n",
            "\n",
            "\n",
            "after sorting\n",
            "anna --> travel\n",
            "barb --> movies\n",
            "chris --> singing\n",
            "diane --> reading\n"
          ]
        }
      ]
    },
    {
      "cell_type": "code",
      "source": [
        "#@title Sorting a dictionary by KEY (using the lambda)\n",
        "my_dict = {}\n",
        "my_dict['chris'] = \"flying\"\n",
        "my_dict['diane'] = \"reading\"\n",
        "my_dict['barb'] = \"movies\"\n",
        "my_dict['anna'] = \"boating\"\n",
        "\n",
        "print('Given dictionary: ', my_dict)\n",
        "\n",
        "# sort the dictionary by values in ascending order\n",
        "sorted_dict = dict(sorted(my_dict.items(), key=lambda item: item[0]))\n",
        "\n",
        "# print the sorted dictionary\n",
        "print('Sorted Dictionary By Key: ')\n",
        "for key, value in sorted_dict.items():\n",
        "  print(key, '-->', value)\n",
        "\n",
        "#TODO: How to order the string values in descending order?"
      ],
      "metadata": {
        "id": "mMwyCvKXdU5C",
        "colab": {
          "base_uri": "https://localhost:8080/"
        },
        "outputId": "18cd1b95-2d33-46fe-845b-b16ff8d1f1b2"
      },
      "execution_count": null,
      "outputs": [
        {
          "output_type": "stream",
          "name": "stdout",
          "text": [
            "Given dictionary:  {'chris': 'flying', 'diane': 'reading', 'barb': 'movies', 'anna': 'boating'}\n",
            "Sorted Dictionary By Key: \n",
            "anna --> boating\n",
            "barb --> movies\n",
            "chris --> flying\n",
            "diane --> reading\n"
          ]
        }
      ]
    },
    {
      "cell_type": "code",
      "source": [
        "#@title Sorting a dictionary by VALUE (using the lambda)\n",
        "my_dict = {}\n",
        "my_dict['chris'] = \"flying\"\n",
        "my_dict['diane'] = \"reading\"\n",
        "my_dict['barb'] = \"movies\"\n",
        "my_dict['anna'] = \"boating\"\n",
        "\n",
        "print('Given dictionary: ', my_dict)\n",
        "\n",
        "# sort the dictionary by values in ascending order\n",
        "sorted_dict = dict(sorted(my_dict.items(), key=lambda item: item[1]))\n",
        "\n",
        "# print the sorted dictionary\n",
        "print('Sorted Dictionary By Value: ')\n",
        "for key, value in sorted_dict.items():\n",
        "  print(key, '-->', value)"
      ],
      "metadata": {
        "colab": {
          "base_uri": "https://localhost:8080/"
        },
        "id": "OsUcIuZJYO3Y",
        "outputId": "5b945d64-591f-4dc7-eff3-97a8570d9cc6"
      },
      "execution_count": null,
      "outputs": [
        {
          "output_type": "stream",
          "name": "stdout",
          "text": [
            "Given dictionary:  {'chris': 'flying', 'diane': 'reading', 'barb': 'movies', 'anna': 'boating'}\n",
            "Sorted Dictionary By Value: \n",
            "anna --> boating\n",
            "chris --> flying\n",
            "barb --> movies\n",
            "diane --> reading\n"
          ]
        }
      ]
    },
    {
      "cell_type": "code",
      "source": [
        "#@title Sorting values in ascending/descending order\n",
        "import json\n",
        "\n",
        "my_dict = {}\n",
        "my_dict['chris'] = 100\n",
        "my_dict['diane'] = 300\n",
        "my_dict['barb'] = 88\n",
        "my_dict['anna'] = 99\n",
        "\n",
        "print('Given dictionary')\n",
        "print(my_dict)\n",
        "\n",
        "# sort the dictionary by values in ascending order\n",
        "sorted_dict = dict(sorted(my_dict.items(), key=lambda item: item[1]))\n",
        "\n",
        "# print the sorted dictionary\n",
        "print('Sorted the values in ascending order')\n",
        "print(json.dumps(sorted_dict, indent = 6))\n",
        "\n",
        "\n",
        "# sort the dictionary by values in descending order\n",
        "sorted_dict = dict(sorted(my_dict.items(), key=lambda item: -item[1]))\n",
        "\n",
        "# print the sorted dictionary\n",
        "print('Sorted the values in descending order')\n",
        "print(json.dumps(sorted_dict, indent = 6))"
      ],
      "metadata": {
        "colab": {
          "base_uri": "https://localhost:8080/"
        },
        "id": "I8KE8FllXsSS",
        "outputId": "c1b223e6-00a7-4f0f-a1c9-b77e8d85fecf"
      },
      "execution_count": null,
      "outputs": [
        {
          "output_type": "stream",
          "name": "stdout",
          "text": [
            "Given dictionary\n",
            "{'chris': 100, 'diane': 300, 'barb': 88, 'anna': 99}\n",
            "Sorted the values in ascending order\n",
            "{\n",
            "      \"barb\": 88,\n",
            "      \"anna\": 99,\n",
            "      \"chris\": 100,\n",
            "      \"diane\": 300\n",
            "}\n",
            "Sorted the values in descending order\n",
            "{\n",
            "      \"diane\": 300,\n",
            "      \"chris\": 100,\n",
            "      \"anna\": 99,\n",
            "      \"barb\": 88\n",
            "}\n"
          ]
        }
      ]
    },
    {
      "cell_type": "code",
      "source": [
        "#@title Sorting a Dictionary (first by value, then by key) (ascending)\n",
        "import json\n",
        "# javascript object notation\n",
        "\n",
        "abc = {\n",
        "    \"banana\": \"yellow\",\n",
        "    \"apple\": \"red\",\n",
        "    \"grape\": \"purple\",\n",
        "    \"orange\": \"orange\",\n",
        "    \"cherry\": \"red\",\n",
        "    \"pear\": \"green\"\n",
        "}\n",
        "\n",
        "# Sort the dictionary by value and then by key\n",
        "sorted_abc = sorted(abc.items(), key=lambda item: (item[1], item[0]))\n",
        "\n",
        "# Create a new dictionary from the sorted list of tuples\n",
        "sorted_dict = dict(sorted_abc)\n",
        "\n",
        "# Pretty print the sorted dictionary\n",
        "print(sorted_dict)\n",
        "pretty_sorted_dict = json.dumps(sorted_dict, indent=4)\n",
        "print(pretty_sorted_dict)\n"
      ],
      "metadata": {
        "colab": {
          "base_uri": "https://localhost:8080/"
        },
        "id": "UjO3-PUbU9Go",
        "outputId": "077197e4-7390-46d5-d454-64d1e0932c33"
      },
      "execution_count": null,
      "outputs": [
        {
          "output_type": "stream",
          "name": "stdout",
          "text": [
            "{'pear': 'green', 'orange': 'orange', 'grape': 'purple', 'apple': 'red', 'cherry': 'red', 'banana': 'yellow'}\n",
            "{\n",
            "    \"pear\": \"green\",\n",
            "    \"orange\": \"orange\",\n",
            "    \"grape\": \"purple\",\n",
            "    \"apple\": \"red\",\n",
            "    \"cherry\": \"red\",\n",
            "    \"banana\": \"yellow\"\n",
            "}\n"
          ]
        }
      ]
    },
    {
      "cell_type": "code",
      "source": [
        "#@title Sorting a Dictionary (first by value - descending, then by key)\n",
        "import json\n",
        "# javascript object notation\n",
        "\n",
        "abc = {\n",
        "    \"banana\": 50,\n",
        "    \"apple\": 90,\n",
        "    \"grape\": 450,\n",
        "    \"orange\": 99,\n",
        "    \"cherry\": 99,\n",
        "    \"pear\": 30\n",
        "}\n",
        "\n",
        "# Sort the dictionary by value and then by key\n",
        "sorted_abc = sorted(abc.items(), key=lambda item: (-item[1], item[0]))\n",
        "\n",
        "# Create a new dictionary from the sorted list of tuples\n",
        "sorted_dict = dict(sorted_abc)\n",
        "\n",
        "# Pretty print the sorted dictionary\n",
        "print(sorted_dict)\n",
        "pretty_sorted_dict = json.dumps(sorted_dict, indent=4)\n",
        "print(pretty_sorted_dict)\n"
      ],
      "metadata": {
        "colab": {
          "base_uri": "https://localhost:8080/"
        },
        "id": "_LXTE7bCZp3u",
        "outputId": "234d32e3-b262-4fa2-c212-2cfd24262cf6"
      },
      "execution_count": null,
      "outputs": [
        {
          "output_type": "stream",
          "name": "stdout",
          "text": [
            "{'grape': 450, 'cherry': 99, 'orange': 99, 'apple': 90, 'banana': 50, 'pear': 30}\n",
            "{\n",
            "    \"grape\": 450,\n",
            "    \"cherry\": 99,\n",
            "    \"orange\": 99,\n",
            "    \"apple\": 90,\n",
            "    \"banana\": 50,\n",
            "    \"pear\": 30\n",
            "}\n"
          ]
        }
      ]
    },
    {
      "cell_type": "code",
      "source": [
        "#@title Sorting a Dictionary (first by value - ascending, then by key - descending)\n",
        "import json\n",
        "# javascript object notation\n",
        "\n",
        "abc = {\n",
        "    50 : \"banana\",\n",
        "    90: \"apple\",\n",
        "    450: \"grape\",\n",
        "    199: \"orange\",\n",
        "    99: \"orange\",\n",
        "    30: \"pear\"\n",
        "}\n",
        "\n",
        "# Sort the dictionary by value and then by key\n",
        "sorted_abc = sorted(abc.items(), key=lambda item: (item[1], -item[0]))\n",
        "\n",
        "# Create a new dictionary from the sorted list of tuples\n",
        "sorted_dict = dict(sorted_abc)\n",
        "\n",
        "# Pretty print the sorted dictionary\n",
        "print(sorted_dict)\n",
        "pretty_sorted_dict = json.dumps(sorted_dict, indent=4)\n",
        "print(pretty_sorted_dict)\n"
      ],
      "metadata": {
        "colab": {
          "base_uri": "https://localhost:8080/"
        },
        "id": "kDLVE1PaaN0N",
        "outputId": "33d6065d-77ef-42d4-d0a5-5d4e17393a0b"
      },
      "execution_count": null,
      "outputs": [
        {
          "output_type": "stream",
          "name": "stdout",
          "text": [
            "{90: 'apple', 50: 'banana', 450: 'grape', 99: 'orange', 199: 'orange', 30: 'pear'}\n",
            "{\n",
            "    \"90\": \"apple\",\n",
            "    \"50\": \"banana\",\n",
            "    \"450\": \"grape\",\n",
            "    \"99\": \"orange\",\n",
            "    \"199\": \"orange\",\n",
            "    \"30\": \"pear\"\n",
            "}\n"
          ]
        }
      ]
    },
    {
      "cell_type": "code",
      "source": [
        "#@title Keys are immutable (What can be used as a KEY?)\n",
        "names_hobbies = {}\n",
        "names_hobbies['chris'] = \"singing\"\n",
        "names_hobbies[4] = \"reading\"\n",
        "names_hobbies[True] = \"movies\"\n",
        "names_hobbies[4.5] = \"travel\"\n",
        "\n",
        "\n",
        "# How can I change the KEY value from \"chris\" to \"rock\"?\n",
        "# you must delete the key, and add a new key\n",
        "\n",
        "\n",
        "# Using a tuple as the key\n",
        "x = (4,5)\n",
        "names_hobbies[x] = \"TV\"\n",
        "\n",
        "print(names_hobbies)\n",
        "\n",
        "# #Using a list as the key (not permitted)\n",
        "# y = [5,6]\n",
        "# names_hobbies[y] = \"456\"\n",
        "\n",
        "\n",
        "#TypeError: unhashable type: 'list' --> You are trying to use an mutable type as a KEY. You can not do that.\n",
        "\n"
      ],
      "metadata": {
        "colab": {
          "base_uri": "https://localhost:8080/"
        },
        "id": "U6It1RZSUmQc",
        "outputId": "c2aaa64e-bd34-49ee-f801-7d4d170a8d8d"
      },
      "execution_count": null,
      "outputs": [
        {
          "output_type": "stream",
          "name": "stdout",
          "text": [
            "{'chris': 'singing', 4: 'reading', True: 'movies', 4.5: 'travel', (4, 5): 'TV'}\n"
          ]
        }
      ]
    },
    {
      "cell_type": "code",
      "source": [
        "#@title set default value for the key\n",
        "# if key exists, return its value\n",
        "# if the key doesn't exist, add the key with the default value\n",
        "car = {\n",
        "  \"brand\": \"Ford\",\n",
        "  \"model\": \"Mustang\",\n",
        "  \"year\": 1964\n",
        "}\n",
        "\n",
        "# x = car.setdefault(\"model\", \"Bronco\")\n",
        "# print('Before setting the default key: ', car)\n",
        "# y = car.setdefault(\"price\", 100)\n",
        "# print('After setting the default key: ', car)\n",
        "\n",
        "car.setdefault(\"model\", \"Bronco\")\n",
        "print('Before setting the default key: ', car)\n",
        "car.setdefault(\"price\", 100)\n",
        "print('After setting the default key: ', car)\n"
      ],
      "metadata": {
        "colab": {
          "base_uri": "https://localhost:8080/"
        },
        "id": "nsw7M8mMJxOx",
        "outputId": "9aefc91b-5bc5-496f-e5a8-579fd634b89c"
      },
      "execution_count": null,
      "outputs": [
        {
          "output_type": "stream",
          "name": "stdout",
          "text": [
            "Before setting the default key:  {'brand': 'Ford', 'model': 'Mustang', 'year': 1964}\n",
            "After setting the default key:  {'brand': 'Ford', 'model': 'Mustang', 'year': 1964, 'price': 100}\n"
          ]
        }
      ]
    },
    {
      "cell_type": "code",
      "source": [
        "#@title Can we add dictionaries using the + sign?\n",
        "nums_1 = [1,2,3]\n",
        "nums_2 = [2,3,4]\n",
        "nums = nums_1 + nums_2\n",
        "print(nums)\n",
        "\n",
        "dict_1 = {'a': 1, 'b': 2, 'c': 3}\n",
        "dict_2 = {'b': 1, 'c': 2, 'd' : 3}\n",
        "#dict_x = dict_1 + dict_2\n",
        "dict_1.update(dict_2)\n",
        "print(dict_1)"
      ],
      "metadata": {
        "colab": {
          "base_uri": "https://localhost:8080/"
        },
        "id": "l45Jl68BceYf",
        "outputId": "f0cd9696-e2cc-46b7-e14d-63e6227afe1a"
      },
      "execution_count": null,
      "outputs": [
        {
          "output_type": "stream",
          "name": "stdout",
          "text": [
            "[1, 2, 3, 2, 3, 4]\n",
            "{'a': 1, 'b': 1, 'c': 2, 'd': 3}\n"
          ]
        }
      ]
    },
    {
      "cell_type": "markdown",
      "source": [
        "# Quizzes\n",
        "- https://realpython.com/quizzes/python-dicts/  (9 questions)\n",
        "- https://pynative.com/python-dictionary-quiz/ (14 questions)\n",
        "- https://www.geeksforgeeks.org/python-dictionary-quiz/ (30 questions)"
      ],
      "metadata": {
        "id": "ZJsHKwcsBRhb"
      }
    },
    {
      "cell_type": "code",
      "source": [
        "#@title Sorting tuples\n",
        "def select_key(word):\n",
        "  return word[0]\n",
        "\n",
        "mfg = [ ['a', 10], ['x', 10], ['c', 10] ]\n",
        "\n",
        "print(mfg)\n",
        "mfg_s = sorted(mfg, key=select_key)\n",
        "print(mfg_s)"
      ],
      "metadata": {
        "colab": {
          "base_uri": "https://localhost:8080/"
        },
        "id": "5Yg_SU6Tg5rf",
        "outputId": "ea58be33-6168-46b6-b585-c36ebda663d7"
      },
      "execution_count": null,
      "outputs": [
        {
          "output_type": "stream",
          "name": "stdout",
          "text": [
            "[['a', 10], ['x', 10], ['c', 10]]\n",
            "[['a', 10], ['c', 10], ['x', 10]]\n"
          ]
        }
      ]
    },
    {
      "cell_type": "code",
      "source": [
        "#@title Sorting tuples (default order is first element)\n",
        "# you need the key only when you want to go after other elements in the list\n",
        "\n",
        "mfg = [ ['a', 10], ['x', 10], ['c', 10] ]\n",
        "\n",
        "print(mfg)\n",
        "mfg_s = sorted(mfg)\n",
        "print(mfg_s)"
      ],
      "metadata": {
        "colab": {
          "base_uri": "https://localhost:8080/"
        },
        "id": "ytHaeerWbRak",
        "outputId": "caf8fec9-a3aa-4d0e-ee62-01f62ef10b0b"
      },
      "execution_count": null,
      "outputs": [
        {
          "output_type": "stream",
          "name": "stdout",
          "text": [
            "[['a', 10], ['x', 10], ['c', 10]]\n",
            "[['a', 10], ['c', 10], ['x', 10]]\n"
          ]
        }
      ]
    }
  ]
}