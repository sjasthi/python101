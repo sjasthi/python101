{
  "nbformat": 4,
  "nbformat_minor": 0,
  "metadata": {
    "colab": {
      "provenance": [],
      "toc_visible": true
    },
    "kernelspec": {
      "name": "python3",
      "display_name": "Python 3"
    },
    "language_info": {
      "name": "python"
    }
  },
  "cells": [
    {
      "cell_type": "markdown",
      "source": [
        "### Ch 5: Functions and Scope (Master)\n",
        "## Siva Jasthi\n",
        "* Functions: Introduction\n",
        "* Defining Functions (aka Signature)\n",
        "* Implementing Functions\n",
        "* Calling Functions\n",
        "* Void-Returning Functions\n",
        "* Built-in vs User-Defined Functions\n",
        "* Formal vs Actual Arguments\n",
        "* Positional Arguments\n",
        "* Keyword Arguments\n",
        "* Default Values (aka Optional Values)\n",
        "* Pass-By Value: Functions get a copy\n",
        "* Scope of Variables\n",
        "* Local vs Global variables\n",
        "* Functions returning Multiple Values\n",
        "* Variable Number of Arguments\n",
        "* Variable Number of keyword Arguments\n",
        "* Yielding (aka Generator) functions.\n",
        "\n"
      ],
      "metadata": {
        "id": "9mrsskjKzq5h"
      }
    },
    {
      "cell_type": "markdown",
      "source": [
        "#**5.9. Scope of Variables**\n",
        "\n",
        "## **Variable Scoping**\n",
        "\n",
        "[1] LOCAL Variables: Variables defined within a function have local scope and are only accessible within that specific function.\n",
        "\n",
        "[2] GLOBAL variables: Variables defined outside of any function have global scope and can be accessed from anywhere within the script.\n",
        "\n",
        "## **Local vs. Global Variables**\n",
        "\n",
        "[3] When a variable with the same name as global scope is redefined within a function, it becomes a local variable (it shadows the global variable). In such case, the local variable takes precedence within the function. Modifying a local variable does not affect the corresponding global variable with the same name.\n",
        "\n",
        "[4] To modify a global variable from within a function, you can use the global keyword.\n",
        "\n",
        "## **Passing of variables as function arguments**\n",
        "\n",
        "[5] If immutable objects (e.g., integers, floats, booleans, strings) are passed as an argument, only their values (= a copy of the value) are passed to the function. So, any changes made to these variables within the function do not affect the original global object.\n",
        "\n",
        "[6] If mutable objects (e.g., lists, dictionaries) are passed as an argument, their address location (= a copy of the address location) is passed to the function. So, any changes made within the function will affect the original global object.\n"
      ],
      "metadata": {
        "id": "NKwYi2iLFR-i"
      }
    },
    {
      "cell_type": "code",
      "source": [
        "#@title Rule 1: You can't access local variables outside of a function\n",
        "\n",
        "# Variable Scoping: [1] Variables defined within a function have local scope and are only accessible within that specific function.\n",
        "\n",
        "# Analogy: Money you have in your pocket\n",
        "\n",
        "# define function\n",
        "def foo():\n",
        "  a = 20  # local scope\n",
        "  print(a)\n",
        "\n",
        "# call the function\n",
        "foo()\n",
        "#print('accessing a variable that is defined in the function: ', a)\n",
        "\n",
        "\n",
        "# RULE 1:  A variable defined inside a function is LOCAL to a fuction; It can not be accessed outside the function"
      ],
      "metadata": {
        "id": "abs8Ljq8FXho",
        "colab": {
          "base_uri": "https://localhost:8080/",
          "height": 238
        },
        "outputId": "55ed934c-1ddb-487b-d54d-db53a23291a3"
      },
      "execution_count": null,
      "outputs": [
        {
          "output_type": "stream",
          "name": "stdout",
          "text": [
            "20\n"
          ]
        },
        {
          "output_type": "error",
          "ename": "NameError",
          "evalue": "name 'a' is not defined",
          "traceback": [
            "\u001b[0;31m---------------------------------------------------------------------------\u001b[0m",
            "\u001b[0;31mNameError\u001b[0m                                 Traceback (most recent call last)",
            "\u001b[0;32m<ipython-input-1-f8ea56b6edba>\u001b[0m in \u001b[0;36m<cell line: 14>\u001b[0;34m()\u001b[0m\n\u001b[1;32m     12\u001b[0m \u001b[0;31m# call the function\u001b[0m\u001b[0;34m\u001b[0m\u001b[0;34m\u001b[0m\u001b[0m\n\u001b[1;32m     13\u001b[0m \u001b[0mfoo\u001b[0m\u001b[0;34m(\u001b[0m\u001b[0;34m)\u001b[0m\u001b[0;34m\u001b[0m\u001b[0;34m\u001b[0m\u001b[0m\n\u001b[0;32m---> 14\u001b[0;31m \u001b[0mprint\u001b[0m\u001b[0;34m(\u001b[0m\u001b[0;34m'accessing a variable that is defined in the function: '\u001b[0m\u001b[0;34m,\u001b[0m \u001b[0ma\u001b[0m\u001b[0;34m)\u001b[0m\u001b[0;34m\u001b[0m\u001b[0;34m\u001b[0m\u001b[0m\n\u001b[0m\u001b[1;32m     15\u001b[0m \u001b[0;34m\u001b[0m\u001b[0m\n\u001b[1;32m     16\u001b[0m \u001b[0;34m\u001b[0m\u001b[0m\n",
            "\u001b[0;31mNameError\u001b[0m: name 'a' is not defined"
          ]
        }
      ]
    },
    {
      "cell_type": "code",
      "source": [
        "#@title Rule 2: Global variables can be accessed anywhere\n",
        "\n",
        "# [Rule 2] Variable Scoping: Any variables defined outside of any function have a global scope\n",
        "# and can be accessed from anywhere within the script (that is.. even inside the functions)\n",
        "\n",
        "# analogy: Money on the dining table\n",
        "x = 10\n",
        "\n",
        "\n",
        "def baz():\n",
        "   # I can access a global variables inside a function\n",
        "   print('the value of global variable inside the function: ', x)\n",
        "\n",
        "\n",
        "#call the function\n",
        "baz()\n",
        "\n",
        "# access global outside the funciton\n",
        "print('the value of global variable outside the function: ', x)\n"
      ],
      "metadata": {
        "colab": {
          "base_uri": "https://localhost:8080/"
        },
        "id": "oDCRA3veaKPu",
        "outputId": "1c593a9e-6e92-4242-bc2c-04f024eed2ee"
      },
      "execution_count": null,
      "outputs": [
        {
          "output_type": "stream",
          "name": "stdout",
          "text": [
            "the value of global variable inside the function:  10\n",
            "the value of global variable outside the function:  10\n"
          ]
        }
      ]
    },
    {
      "cell_type": "code",
      "source": [
        "#@title Rule 3: If you shadow a global variable, it becomes a local variable.\n",
        "\n",
        "# [3] When a variable with the same name as global scope is redefined within a function,\n",
        "# it becomes a local variable (it shadows the global variable).\n",
        "\n",
        "# In such case, the local variable takes precedence within the function.\n",
        "# Modifying a local variable does not affect the corresponding global variable with the same name.\n",
        "\n",
        "# global variable\n",
        "x = \"hello\"\n",
        "\n",
        "def foo():\n",
        "  x = \"hi\"  # shadowing the global variable\n",
        "  print(x)\n",
        "\n",
        "# call the function\n",
        "print(x)\n",
        "foo()\n",
        "print(x)\n",
        "\n"
      ],
      "metadata": {
        "id": "UEn93qvqbfC0",
        "colab": {
          "base_uri": "https://localhost:8080/"
        },
        "outputId": "9504ae74-a9d2-43f6-e9ef-02cd8363c25e"
      },
      "execution_count": null,
      "outputs": [
        {
          "output_type": "stream",
          "name": "stdout",
          "text": [
            "hello\n",
            "hi\n",
            "hello\n"
          ]
        }
      ]
    },
    {
      "cell_type": "code",
      "source": [
        "#@title Rule 4. If you shadow a variable, and if you want to change the global, use \"global\" keyword\n",
        "\n",
        "#[4] To modify a global variable from within a function, you can use the global keyword.\n",
        "\n",
        "x = 10\n",
        "\n",
        "def foo3():\n",
        "  x = 99\n",
        "  print(x)\n",
        "\n",
        "def foo4():\n",
        "  global x\n",
        "  x = 88\n",
        "  print(x)\n",
        "\n",
        "\n",
        "# call the function\n",
        "print('x value before calling foo3 which has shadowed x: ', x)\n",
        "foo3()\n",
        "print('x value after calling foo3 which has shadowed x: ', x)\n",
        "\n",
        "\n",
        "print('\\nx value before calling foo4 which has global key word: ', x)\n",
        "foo4()\n",
        "print('x value before calling foo4 which has global key word: ', x)\n"
      ],
      "metadata": {
        "colab": {
          "base_uri": "https://localhost:8080/"
        },
        "id": "_9VfEl6LcxCy",
        "outputId": "53abf217-992d-4b5f-ecfd-4d9e32dc7286"
      },
      "execution_count": null,
      "outputs": [
        {
          "output_type": "stream",
          "name": "stdout",
          "text": [
            "x value before calling foo3 which has shadowed x:  10\n",
            "99\n",
            "x value after calling foo3 which has shadowed x:  10\n",
            "\n",
            "x value before calling foo4 which has global key word:  10\n",
            "88\n",
            "x value before calling foo4 which has global key word:  88\n"
          ]
        }
      ]
    },
    {
      "cell_type": "code",
      "source": [
        "#@title Rule 5: When you pass an (immutable) argument to a function, you only pass a copy.\n",
        "\n",
        "#[5] If immutable objects (e.g., integers, floats, booleans, strings) are passed as an argument,\n",
        "# only their values (= a copy of the value) are passed to the function.\n",
        "# So, any changes made to these variables within the function do not impact the original global object.\n",
        "\n",
        "x = 30\n",
        "\n",
        "def foo5(x):\n",
        "  x = x * 2\n",
        "  print(\"inside the function foo5:\", x)\n",
        "\n",
        "# call the function\n",
        "print('Before calling foo5: ', x)\n",
        "foo5(x)\n",
        "print('After calling foo5: ', x)\n",
        "\n",
        "\n"
      ],
      "metadata": {
        "colab": {
          "base_uri": "https://localhost:8080/"
        },
        "id": "eSsxY3t6eWTs",
        "outputId": "dd69ec5c-90e6-4afa-b37e-5dc7d7ca7394"
      },
      "execution_count": null,
      "outputs": [
        {
          "output_type": "stream",
          "name": "stdout",
          "text": [
            "Before calling foo5:  30\n",
            "inside the function foo5: 60\n",
            "After calling foo5:  30\n"
          ]
        }
      ]
    },
    {
      "cell_type": "code",
      "source": [
        "#@title Rule 6: When you pass an (mutable) argument to a function, you pass their address location.\n",
        "\n",
        "#[6] If mutable objects (e.g., lists, dictionaries) are passed as an argument, their address location (= a copy of the address location) is passed to the function.\n",
        "# So, any changes made within the function will affect the original global object\n",
        "\n",
        "x = [10, 20]\n",
        "\n",
        "def foo6(x):\n",
        "  x.append(15)\n",
        "  print(\"value of list inside foo6:\", x)\n",
        "\n",
        "# call the function\n",
        "print('value of the list before calling foo6: ', x)\n",
        "foo6(x)\n",
        "print('value of the list after calling foo6: ', x)\n"
      ],
      "metadata": {
        "colab": {
          "base_uri": "https://localhost:8080/"
        },
        "id": "kxYAyoYzZyG8",
        "outputId": "281de4b1-30ec-4bd0-a301-1b6488b720ee"
      },
      "execution_count": null,
      "outputs": [
        {
          "output_type": "stream",
          "name": "stdout",
          "text": [
            "value of the list before calling foo6:  [10, 20]\n",
            "value of list inside foo6: [10, 20, 15]\n",
            "value of the list after calling foo6:  [10, 20, 15]\n"
          ]
        }
      ]
    },
    {
      "cell_type": "markdown",
      "source": [
        "#5.10. Variable Scope: Examples"
      ],
      "metadata": {
        "id": "92YCnYTpIXbM"
      }
    },
    {
      "cell_type": "markdown",
      "source": [
        "How does python think while resolving the variables?\n",
        "\n",
        "- is variable defined inside my function?\n",
        "- if yes, it is a local variable\n",
        "- if not, is it defined globally?\n",
        "- if yes, I am going to use it\n",
        "- if it is not defined globally as well, it is an error\n",
        "- if global keyword is used, I will then treat the local variable with the same name as the global variable.\n",
        "\n"
      ],
      "metadata": {
        "id": "rYVdOYGFx-Du"
      }
    },
    {
      "cell_type": "code",
      "source": [
        "#@title Example 1: While Rule?\n",
        "x = 3\n",
        "\n",
        "def foo_x():\n",
        "  y = 8\n",
        "  return (x + y)\n",
        "\n",
        "print(foo_x())\n",
        "\n"
      ],
      "metadata": {
        "colab": {
          "base_uri": "https://localhost:8080/"
        },
        "id": "t22AxLvrymSM",
        "outputId": "2c3164dd-e011-498a-f10a-ae744b0f8573"
      },
      "execution_count": null,
      "outputs": [
        {
          "output_type": "stream",
          "name": "stdout",
          "text": [
            "11\n"
          ]
        }
      ]
    },
    {
      "cell_type": "code",
      "source": [
        "#@title Example 2: While Rule?\n",
        "x = 4\n",
        "\n",
        "def foo_x():\n",
        "  x = 2\n",
        "  y = 1\n",
        "  return (x + y)\n",
        "\n",
        "print(foo_x())"
      ],
      "metadata": {
        "colab": {
          "base_uri": "https://localhost:8080/"
        },
        "id": "hwj4OOOQmqAw",
        "outputId": "59db28f5-0312-4ff0-b201-ed7b6d5301ba"
      },
      "execution_count": null,
      "outputs": [
        {
          "output_type": "stream",
          "name": "stdout",
          "text": [
            "3\n"
          ]
        }
      ]
    },
    {
      "cell_type": "code",
      "source": [
        "#@title Example 3: While Rule?\n",
        "x = 6\n",
        "\n",
        "def foo_x():\n",
        "  a = x\n",
        "  y = -2\n",
        "  return (a + y)\n",
        "\n",
        "print(foo_x())\n",
        "\n"
      ],
      "metadata": {
        "colab": {
          "base_uri": "https://localhost:8080/"
        },
        "id": "wchdiVZjnNuZ",
        "outputId": "3717a8c8-7496-4aa2-e49b-ca8c3874ee7e"
      },
      "execution_count": null,
      "outputs": [
        {
          "output_type": "stream",
          "name": "stdout",
          "text": [
            "4\n"
          ]
        }
      ]
    },
    {
      "cell_type": "code",
      "source": [
        "#@title Example 4: While Rule?\n",
        "x = 6\n",
        "\n",
        "def foo_x():\n",
        "  global x\n",
        "  x = 1\n",
        "  y = 2\n",
        "  return (x + y)\n",
        "\n",
        "print(foo_x() + x)"
      ],
      "metadata": {
        "colab": {
          "base_uri": "https://localhost:8080/"
        },
        "id": "5Q2onDr5nkZl",
        "outputId": "c0fd989c-528b-4af3-8dce-830c16a22c42"
      },
      "execution_count": null,
      "outputs": [
        {
          "output_type": "stream",
          "name": "stdout",
          "text": [
            "9\n"
          ]
        }
      ]
    },
    {
      "cell_type": "code",
      "source": [
        "#@title Example 5: While Rule?\n",
        "x = 1\n",
        "\n",
        "def foo_x():\n",
        "  x = 6\n",
        "  y = 2\n",
        "  return (x + y)\n",
        "\n",
        "a = foo_x()\n",
        "print(a + x)"
      ],
      "metadata": {
        "colab": {
          "base_uri": "https://localhost:8080/"
        },
        "id": "zrPtDf6znysL",
        "outputId": "ac778ec4-10f5-45ea-a336-39c57728e052"
      },
      "execution_count": null,
      "outputs": [
        {
          "output_type": "stream",
          "name": "stdout",
          "text": [
            "9\n"
          ]
        }
      ]
    },
    {
      "cell_type": "code",
      "source": [
        "#@title Example 6: While Rule?\n",
        "x = 6\n",
        "\n",
        "def foo_x():\n",
        "  global x\n",
        "  x = 1\n",
        "  y = 2\n",
        "  return (x+y)\n",
        "\n",
        "a = foo_x()\n",
        "print(x + a)"
      ],
      "metadata": {
        "colab": {
          "base_uri": "https://localhost:8080/"
        },
        "id": "aClBcxTboNUu",
        "outputId": "569d42ae-58f7-4e72-fb5b-d8f97b89420a"
      },
      "execution_count": null,
      "outputs": [
        {
          "output_type": "stream",
          "name": "stdout",
          "text": [
            "4\n"
          ]
        }
      ]
    },
    {
      "cell_type": "code",
      "source": [
        "#@title Example 7: While Rule?\n",
        "def foo_x():\n",
        "  global x\n",
        "  x = 5\n",
        "  y = 1\n",
        "  return (x + y)\n",
        "\n",
        "a = foo_x()\n",
        "print(x + a)"
      ],
      "metadata": {
        "colab": {
          "base_uri": "https://localhost:8080/"
        },
        "id": "mB8DxMory_gQ",
        "outputId": "eeb62eab-05a2-4567-918b-336e1514a750"
      },
      "execution_count": null,
      "outputs": [
        {
          "output_type": "stream",
          "name": "stdout",
          "text": [
            "11\n"
          ]
        }
      ]
    },
    {
      "cell_type": "code",
      "source": [
        "#@title Example 8: While Rule?\n",
        "x = 4\n",
        "\n",
        "def foo(x):\n",
        "    x = x + 1\n",
        "    return x\n",
        "\n",
        "a = foo(x)\n",
        "print(a + x)"
      ],
      "metadata": {
        "id": "aVmzyA8VFxj6",
        "colab": {
          "base_uri": "https://localhost:8080/"
        },
        "outputId": "6009fdd6-1266-48cc-b230-e34d69564017"
      },
      "execution_count": null,
      "outputs": [
        {
          "output_type": "stream",
          "name": "stdout",
          "text": [
            "9\n"
          ]
        }
      ]
    },
    {
      "cell_type": "code",
      "source": [
        "#@title Example 9: While Rule?\n",
        "x = 3\n",
        "\n",
        "def foo():\n",
        "  global x\n",
        "  x = 8\n",
        "  return x\n",
        "\n",
        "a = foo()\n",
        "print(x + a)"
      ],
      "metadata": {
        "id": "ffBSZECnF0vU",
        "colab": {
          "base_uri": "https://localhost:8080/"
        },
        "outputId": "db9d6add-53d3-473b-f3d5-fa6626980337"
      },
      "execution_count": null,
      "outputs": [
        {
          "output_type": "stream",
          "name": "stdout",
          "text": [
            "16\n"
          ]
        }
      ]
    },
    {
      "cell_type": "code",
      "source": [
        "#@title Example 10: Which Rule?\n",
        "# This is how python thinks\n",
        "# I came inside the method.\n",
        "# Someone is referring to a variable called \"x\"\n",
        "# Do I know it?\n",
        "# Yes. It is defined at the global level\n",
        "# OK. Let me use that variable\n",
        "# Rebinding is NOT happening = You didn't define the same variable inside the function\n",
        "\n",
        "\n",
        "x = 22\n",
        "\n",
        "def foo():\n",
        "    y = x + 1\n",
        "    print(y, end = ' ')\n",
        "\n",
        "foo()\n",
        "print(x)"
      ],
      "metadata": {
        "id": "cfEZsFDcF1B3",
        "colab": {
          "base_uri": "https://localhost:8080/"
        },
        "outputId": "c7e7e19f-ebc4-4364-ab30-47127f275081"
      },
      "execution_count": null,
      "outputs": [
        {
          "output_type": "stream",
          "name": "stdout",
          "text": [
            "23 22\n"
          ]
        }
      ]
    },
    {
      "cell_type": "code",
      "source": [
        "#@title Example 11: Which Rule?\n",
        "\n",
        "# Rebinding of global variable is happening inside the function\n",
        "\n",
        "# This is how python thinks\n",
        "# I came inside the method.\n",
        "# Someone defined a variable called \"x\". Let me use it.\n",
        "# I don't care about any global variable with the same name\n",
        "# Rebinding is happening = You defined the same variable inside the function\n",
        "x = 8\n",
        "\n",
        "def foo():\n",
        "    x = 2\n",
        "    y = x + 3\n",
        "    print(y)\n",
        "\n",
        "print(x)\n",
        "foo()\n",
        "print(x)"
      ],
      "metadata": {
        "id": "Rqf_t7bLF_p5",
        "colab": {
          "base_uri": "https://localhost:8080/"
        },
        "outputId": "5421daff-1103-4d46-f752-e0c73c7a065b"
      },
      "execution_count": null,
      "outputs": [
        {
          "output_type": "stream",
          "name": "stdout",
          "text": [
            "8\n",
            "5\n",
            "8\n"
          ]
        }
      ]
    },
    {
      "cell_type": "code",
      "source": [
        "#@title Example 12: Which Rule?\n",
        "\n",
        "x = [5, 10]\n",
        "\n",
        "def foo(x):\n",
        "  x.append(99)\n",
        "  print(\"value of list inside foo:\", x)\n",
        "\n",
        "# call the function\n",
        "print('value of the list before calling foo: ', x)\n",
        "foo(x)\n",
        "print('value of the list after calling foo: ', x)\n"
      ],
      "metadata": {
        "colab": {
          "base_uri": "https://localhost:8080/"
        },
        "id": "EGXagbmdbBlu",
        "outputId": "04602aff-3cdf-487f-a877-15a1f39b272f"
      },
      "execution_count": null,
      "outputs": [
        {
          "output_type": "stream",
          "name": "stdout",
          "text": [
            "value of the list before calling foo:  [5, 10]\n",
            "value of list inside foo: [5, 10, 99]\n",
            "value of the list after calling foo:  [5, 10, 99]\n"
          ]
        }
      ]
    }
  ]
}