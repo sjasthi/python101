{
  "nbformat": 4,
  "nbformat_minor": 0,
  "metadata": {
    "colab": {
      "provenance": [],
      "toc_visible": true
    },
    "kernelspec": {
      "name": "python3",
      "display_name": "Python 3"
    },
    "language_info": {
      "name": "python"
    }
  },
  "cells": [
    {
      "cell_type": "markdown",
      "source": [
        "# Chapter 3. Conditions and Boolean Logic\n",
        "# Siva.Jasthi@gmail.com\n",
        "# Python 101\n",
        "\n",
        "```\n",
        "Comparison Operators\n",
        "a == b        is a equal to b?\n",
        "a != b\n",
        "a > b\n",
        "a < b\n",
        "a >= b\n",
        "a <= b\n",
        "```\n",
        "\n",
        "```\n",
        "Logical Operators\n",
        "a and b         This is True only if both a and b are True\n",
        "a or b          This is Ture if either of a or b is True\n",
        "not a           This is True when a is False\n",
        "```\n",
        "\n",
        "```\n",
        "Truth Table\n",
        "True and True    --> True\n",
        "True and False\n",
        "False and True\n",
        "False and False\n",
        "\n",
        "True or True\n",
        "True or False\n",
        "False or True\n",
        "False or False\n",
        "\n",
        "not True\n",
        "not False\n",
        "\n",
        "not (True or False)\n",
        "\n",
        "```\n",
        "\n",
        "```\n",
        "The expresstion (condition) must be one of these two values\n",
        "- True\n",
        "- False\n",
        "```\n",
        "\n",
        "```\n",
        "if (cond):\n",
        "  statement\n",
        "```\n",
        "\n",
        "```\n",
        "if (cond):\n",
        "  statement1\n",
        "else:\n",
        "  statement2\n",
        "```\n",
        "\n",
        "```\n",
        "if (cond):\n",
        "  statement1\n",
        "elif (cond):\n",
        "  statement2\n",
        "elif (cond):\n",
        "  statement3\n",
        "else:\n",
        "  statement4\n",
        "```\n",
        "\n",
        "```\n",
        "if (cond):\n",
        "   if (cond):\n",
        "      statement1\n",
        "   else:\n",
        "      statement2\n",
        "else:\n",
        "   if (cond):\n",
        "      statement3\n",
        "   else:\n",
        "      statement4\n",
        "```\n"
      ],
      "metadata": {
        "id": "gQCb0HOWAVP7"
      }
    },
    {
      "cell_type": "markdown",
      "source": [
        "# 3.1. Comparison operators and Boolean Logic\n",
        "\n",
        "- Pay attention to = (assignment operator) and == (equals to operator)\n",
        "- a = b (take the value of b and assign it to a\n",
        "- a == b (is a equals to b?)\n",
        "\n",
        "- Comparison operators\n",
        "- (equals to) ==\n",
        "- (not equals to) !=\n",
        "- (greater than) >\n",
        "- (less than) <\n",
        "- (greater than or equals to) >=\n",
        "- (less than or equals to) <=\n",
        "\n",
        "```\n",
        "True and True = True\n",
        "False and False = False\n",
        "True and False = False\n",
        "False and True = False\n",
        "\n",
        "True or True = True\n",
        "False or True = True\n",
        "True or False = True\n",
        "False or False = False\n",
        "\n",
        "```"
      ],
      "metadata": {
        "id": "qt9mZepGEoKs"
      }
    },
    {
      "cell_type": "code",
      "execution_count": null,
      "metadata": {
        "id": "uUmNlX-HAC3L"
      },
      "outputs": [],
      "source": [
        "#@title Comparison operators\n",
        "a = 10\n",
        "b = 20\n",
        "c = 5\n",
        "d = 5\n",
        "\n",
        "x = (a == b)   # False\n",
        "y = (a != b)  # True\n",
        "z = (a > b)   # False\n",
        "p = (a < b)   # True\n",
        "q = (c + d < a + b)  #True\n",
        "r = (c+b < a) # False\n",
        "s = (a + b == c * 6)  # True\n",
        "t = (a - b < c)  # True\n",
        "u = (c <= d)  # True\n",
        "v = (d <= c) # True\n",
        "w = (d < c) # False\n"
      ]
    },
    {
      "cell_type": "code",
      "source": [
        "#@title Truth Table (aka Boolean Logic) (Excercise 1)\n",
        "\n",
        "a = True\n",
        "b = False\n",
        "c = True\n",
        "\n",
        "\n",
        "# AND : Both must True for the entire condition to be True\n",
        "# True AND True   -->  True\n",
        "# True AND False  -->  False\n",
        "# False AND True  -->  False\n",
        "# False AND False -->  False\n",
        "\n",
        "\n",
        "# AND : Either of the conditions must True for the entire condition to be True\n",
        "# True or True   -->   True\n",
        "# True or False  -->   True\n",
        "# False or True  -->   True\n",
        "# False or False -->   False\n",
        "\n",
        "#NOT:  inverse of False = True, inverse of True = False\n",
        "# not True --> False\n",
        "# not False --> True\n"
      ],
      "metadata": {
        "colab": {
          "base_uri": "https://localhost:8080/"
        },
        "id": "zEY9hh0L8gGx",
        "outputId": "064c7a41-c426-4893-a62b-22f669b8c86b"
      },
      "execution_count": null,
      "outputs": [
        {
          "output_type": "stream",
          "name": "stdout",
          "text": [
            "True\n",
            "False\n",
            "False\n",
            "False\n",
            "True\n",
            "True\n",
            "True\n",
            "False\n",
            "True\n",
            "False\n"
          ]
        }
      ]
    },
    {
      "cell_type": "code",
      "source": [
        "#@title Boolean Logic (Excercise 2)\n",
        "a = 10\n",
        "b = 5\n",
        "c = 3\n",
        "\n",
        "x = (a > c) and (b > c)\n",
        "y = (a < c) or (b + c < a)\n",
        "z = not(y)\n",
        "p = not((a < c) or (b + c > a))\n",
        "q = not (not(a == 2 * b))"
      ],
      "metadata": {
        "id": "BNbotPAldO2c"
      },
      "execution_count": null,
      "outputs": []
    },
    {
      "cell_type": "code",
      "source": [
        "#@title logical and\n",
        "\n",
        "# is the child > 16 years old AND if the child is taller than 5 feet,\n",
        "#the child can then enter the ride\n",
        "child_age = 17\n",
        "child_height = 5.2\n",
        "p = (child_age > 16) and (child_height > 5)  # T and T = T\n",
        "\n",
        "child_age = 14\n",
        "child_height = 5.2\n",
        "q = (child_age > 16) and (child_height > 5)  # F and T = F\n",
        "\n",
        "\n",
        "child_age = 20\n",
        "child_height = 4.8\n",
        "r = (child_age > 16) and (child_height > 5)  # T and F = F\n",
        "\n",
        "child_age = 16\n",
        "child_height = 4.8\n",
        "s = (child_age > 16) and (child_height > 5)  # F and F = F"
      ],
      "metadata": {
        "id": "aAPP5iBGBCk0"
      },
      "execution_count": null,
      "outputs": []
    },
    {
      "cell_type": "code",
      "source": [
        "#@title logical or\n",
        "\n",
        "# is the child > 16 years old or if the child is taller than 6 feet,\n",
        "# then child can then enter the ride\n",
        "child_age = 17\n",
        "child_height = 5.2\n",
        "p = (child_age > 16) or (child_height > 5)  # T or T = T\n",
        "\n",
        "child_age = 14\n",
        "child_height = 5.2\n",
        "q = (child_age > 16) or (child_height > 5)  # F or T = T\n",
        "\n",
        "\n",
        "child_age = 20\n",
        "child_height = 4.8\n",
        "r = (child_age > 16) or (child_height > 5)  # T or F = T\n",
        "\n",
        "\n",
        "child_age = 16\n",
        "child_height = 4.8\n",
        "s = (child_age > 16) or (child_height > 5)  # F or F = F"
      ],
      "metadata": {
        "id": "OIp-7v0iBG6D"
      },
      "execution_count": null,
      "outputs": []
    },
    {
      "cell_type": "code",
      "source": [
        "#@title logical not\n",
        "# complimentary to the inner result\n",
        "\n",
        "# is the child > 16 years old or if the child is taller than 6 feet,\n",
        "# then child can then enter the ride\n",
        "child_age = 17\n",
        "child_height = 5.2\n",
        "p = (child_age > 16) or (child_height > 5)  # T or T = T\n",
        "a = not(p)\n",
        "\n",
        "child_age = 14\n",
        "child_height = 5.2\n",
        "q = (child_age > 16) or (child_height > 5)  # F or T = T\n",
        "b = not(q)\n",
        "\n",
        "child_age = 20\n",
        "child_height = 4.8\n",
        "r = (child_age > 16) or (child_height > 5)  # T or F = T\n",
        "c = not(r)\n",
        "\n",
        "child_age = 16\n",
        "child_height = 4.8\n",
        "s = (child_age > 16) or (child_height > 5)  # F or F = F\n",
        "d = not(s)"
      ],
      "metadata": {
        "id": "JIymv1kQBYxT"
      },
      "execution_count": null,
      "outputs": []
    },
    {
      "cell_type": "markdown",
      "source": [
        "# 3.2. Short Circuit Evaluation of Boolean Expressions"
      ],
      "metadata": {
        "id": "w10xEGUeFkiY"
      }
    },
    {
      "cell_type": "code",
      "source": [
        "#@title 0 is False; 1 is True  (as well as non-zero is also True)\n",
        "\n",
        "a = False\n",
        "b = True\n",
        "c = 0\n",
        "d = 1\n",
        "\n",
        "p = a == b\n",
        "q = a == c\n",
        "r = a == d\n",
        "s = (b == c)\n",
        "t = (b == d)\n",
        "\n",
        "print(p)\n",
        "print(q)\n",
        "print(r)\n",
        "print(s)\n",
        "print(t)"
      ],
      "metadata": {
        "id": "DK3pp0GXFt2H",
        "colab": {
          "base_uri": "https://localhost:8080/"
        },
        "outputId": "ab3caf1e-6c84-46c9-b535-69ae7ac82496"
      },
      "execution_count": null,
      "outputs": [
        {
          "output_type": "stream",
          "name": "stdout",
          "text": [
            "False\n",
            "True\n",
            "False\n",
            "False\n",
            "True\n"
          ]
        }
      ]
    },
    {
      "cell_type": "code",
      "source": [
        "#@title OR stops at the first True (ex.1)\n",
        "x = 8 or 7 or 0 or 10\n",
        "print(x)"
      ],
      "metadata": {
        "id": "yzbLVTkmGD30"
      },
      "execution_count": null,
      "outputs": []
    },
    {
      "cell_type": "code",
      "source": [
        "#@title OR stops at the first True (ex.2)\n",
        "x = 0 or True or False or 0 or 9 or 10\n",
        "print(x)"
      ],
      "metadata": {
        "colab": {
          "base_uri": "https://localhost:8080/"
        },
        "id": "G41eHrb5QpVd",
        "outputId": "ea2119be-c92a-47e3-9068-19470a422e65"
      },
      "execution_count": null,
      "outputs": [
        {
          "output_type": "stream",
          "name": "stdout",
          "text": [
            "True\n"
          ]
        }
      ]
    },
    {
      "cell_type": "code",
      "source": [
        "#@title AND stops at the first False (ex.1)\n",
        "x = 5 and 0 and 9 and 10\n",
        "print(x)"
      ],
      "metadata": {
        "id": "iXuOAllmGHNA",
        "colab": {
          "base_uri": "https://localhost:8080/"
        },
        "outputId": "99c6fdcc-702a-4560-fce0-d171d2a84056"
      },
      "execution_count": null,
      "outputs": [
        {
          "output_type": "stream",
          "name": "stdout",
          "text": [
            "0\n"
          ]
        }
      ]
    },
    {
      "cell_type": "code",
      "source": [
        "#@title AND stops at the first False (ex.2)\n",
        "x = 0 and 5 and 9 and 10\n",
        "print(x)"
      ],
      "metadata": {
        "colab": {
          "base_uri": "https://localhost:8080/"
        },
        "id": "X3BCvTiFRQu_",
        "outputId": "1f67a40a-8498-4732-8d6b-5d9f69eea21b"
      },
      "execution_count": null,
      "outputs": [
        {
          "output_type": "stream",
          "name": "stdout",
          "text": [
            "0\n"
          ]
        }
      ]
    },
    {
      "cell_type": "code",
      "source": [
        "#@title AND stops at the first False (ex.3)\n",
        "x = -8 and 5 and 9 and 0 and 10\n",
        "print(x)"
      ],
      "metadata": {
        "colab": {
          "base_uri": "https://localhost:8080/"
        },
        "id": "XY_sFQSjRbxN",
        "outputId": "a916499f-fb64-4073-8b9a-9ebc070bfe30"
      },
      "execution_count": null,
      "outputs": [
        {
          "output_type": "stream",
          "name": "stdout",
          "text": [
            "0\n"
          ]
        }
      ]
    },
    {
      "cell_type": "code",
      "source": [
        "#@title Practice Exercise 1: Boolean Logic\n",
        "# Comparison operators\n",
        "a,b,c = 10,20,5\n",
        "\n",
        "x = (a == b)  #False\n",
        "y = (a != b)  #True\n",
        "z = (a > b)   #False\n",
        "p = (a < b)   #True\n",
        "r = (c+b < a) #False\n",
        "s = (a+b == c*6)  #True\n",
        "t = (a-b < c)  #True\n",
        "\n",
        "# and or not\n",
        "# and means both the conditions must be true. Then only, the entire condition is true\n",
        "u = (x and y)  #False\n",
        "\n",
        "# or means - if atleast one condition is true, then the whole condition is true\n",
        "v = (x or y)   #True\n",
        "\n",
        "# not means -- just the opposite\n",
        "w = (not x)   # True\n",
        "\n",
        "x1 = (s and t)   # True\n",
        "y1 = (x or z)    # False\n",
        "z1 = (not (p or z))  #False"
      ],
      "metadata": {
        "id": "c72fGQsh6dC8"
      },
      "execution_count": null,
      "outputs": []
    },
    {
      "cell_type": "code",
      "source": [
        "#@title Practice Exercise 2: Boolean Logic\n",
        "\n",
        "p = 3\n",
        "q = 9\n",
        "r = 8\n",
        "s = 2\n",
        "t = 15\n",
        "\n",
        "\n",
        "\n",
        "# Indicate True or False or value for each of these values\n",
        "a = (p < q)\n",
        "b = (p == t)\n",
        "c = (s + s + 1 == 5)\n",
        "d = (s*s + 1 == p)\n",
        "e = (s*s*s > p)\n",
        "f = (r >= q)\n",
        "g = (p >= t)\n",
        "h = (t <= p)\n",
        "i = (p + t) * 2 == r\n",
        "j = (p != t)\n",
        "k = (p != q)\n",
        "l = j and k\n",
        "m = j or k\n",
        "n = (j and k) or (j or k)\n",
        "o = (p <= 10) and (q == 6)\n",
        "u = not (r >= q)\n",
        "v = not(s == 2) and not(r < 5)\n",
        "w = not (p == t) or not(p == q)\n",
        "x = not(m) and not(v)\n",
        "x = (q - p == 1) and (p + 2 < t)\n",
        "y = not(not (x))\n",
        "z = (r + s + t <= 27)\n"
      ],
      "metadata": {
        "id": "-BsddZXTvsBp"
      },
      "execution_count": null,
      "outputs": []
    },
    {
      "cell_type": "markdown",
      "source": [
        "# 3.3.Conditions: Branching logic"
      ],
      "metadata": {
        "id": "hIC3YuJUagXp"
      }
    },
    {
      "cell_type": "code",
      "source": [
        "#@title If conditions: day of week example (Version 1)\n",
        "'''\n",
        "Question 1:\n",
        "If the user enters 1 as the input,\n",
        "what are all the line numbers python interpreter stops?\n",
        "\n",
        "Question 2:\n",
        "If the user enters 3 as the input,\n",
        "what are all the line numbers python interpreter stops?\n",
        "\n",
        "Question 3:\n",
        "If the user enters 8 as the input,\n",
        "what are all the line numbers python interpreter stops?\n",
        "\n",
        "'''\n",
        "\n",
        "number = input('Enter a number in the range of 1 through 7: ')\n",
        "number = int(number)\n",
        "\n",
        "if (number == 1):\n",
        "  print('Monday')\n",
        "\n",
        "if (number == 2):\n",
        "  print('Tuesday')\n",
        "\n",
        "if (number == 3):\n",
        "  print('Wednesday')\n",
        "\n",
        "if (number == 4):\n",
        "  print('Thursday')\n",
        "\n",
        "if (number == 5):\n",
        "  print('Friday')\n",
        "\n",
        "if (number == 6):\n",
        "  print('Saturday')\n",
        "\n",
        "if (number == 7):\n",
        "  print('Sunday')"
      ],
      "metadata": {
        "id": "oMs1q1imTb6U"
      },
      "execution_count": null,
      "outputs": []
    },
    {
      "cell_type": "code",
      "source": [
        "#@title if and elif conditions: day of week example (Verison 2)\n",
        "\n",
        "'''\n",
        "Question 1:\n",
        "If the user enters 1 as the input,\n",
        "what are all the line numbers python interpreter stops?\n",
        "\n",
        "Question 2:\n",
        "If the user enters 3 as the input,\n",
        "what are all the line numbers python interpreter stops?\n",
        "\n",
        "Question 3:\n",
        "If the user enters 8 as the input,\n",
        "what are all the line numbers python interpreter stops?\n",
        "'''\n",
        "\n",
        "number = input('Enter a number in the range of 1 through 7: ')\n",
        "number = int(number)\n",
        "\n",
        "if (number == 1):\n",
        "  print('Monday')\n",
        "\n",
        "elif (number == 2):\n",
        "  print('Tuesday')\n",
        "\n",
        "elif (number == 3):\n",
        "  print('Wednesday')\n",
        "\n",
        "elif (number == 4):\n",
        "  print('Thursday')\n",
        "\n",
        "elif (number == 5):\n",
        "  print('Friday')\n",
        "\n",
        "elif (number == 6):\n",
        "  print('Saturday')\n",
        "\n",
        "elif (number == 7):\n",
        "  print('Sunday')"
      ],
      "metadata": {
        "id": "DQ9WtXJXUNuh"
      },
      "execution_count": null,
      "outputs": []
    },
    {
      "cell_type": "code",
      "source": [
        "#@title if, elif and else conditions: day of week example (Verison 3) (Perfect)\n",
        "\n",
        "'''\n",
        "Question 1:\n",
        "If the user enters 1 as the input,\n",
        "what are all the line numbers python interpreter stops?\n",
        "\n",
        "Question 2:\n",
        "If the user enters 3 as the input,\n",
        "what are all the line numbers python interpreter stops?\n",
        "\n",
        "Question 3:\n",
        "If the user enters 8 as the input,\n",
        "what are all the line numbers python interpreter stops?\n",
        "'''\n",
        "\n",
        "number = input('Enter a number in the range of 1 through 7')\n",
        "number = int(number)\n",
        "\n",
        "if (number == 1):\n",
        "  print('Monday')\n",
        "\n",
        "elif (number == 2):\n",
        "  print('Tuesday')\n",
        "\n",
        "elif (number == 3):\n",
        "  print('Wednesday')\n",
        "\n",
        "elif (number == 4):\n",
        "  print('Thursday')\n",
        "\n",
        "elif (number == 5):\n",
        "  print('Friday')\n",
        "\n",
        "elif (number == 6):\n",
        "  print('Saturday')\n",
        "\n",
        "elif (number == 7):\n",
        "  print('Sunday')\n",
        "\n",
        "else:\n",
        "  print('error: the number must be between 1 and 7')"
      ],
      "metadata": {
        "id": "zPs_o-q3UrmS"
      },
      "execution_count": null,
      "outputs": []
    },
    {
      "cell_type": "code",
      "source": [],
      "metadata": {
        "id": "SeJfJeyn6nOt"
      },
      "execution_count": null,
      "outputs": []
    },
    {
      "cell_type": "code",
      "source": [
        "#@title Example: if.. else\n",
        "num1 = 6\n",
        "num2 = 8\n",
        "num3 = 2\n",
        "\n",
        "if (num1 < num2):\n",
        "   num1 = num2   # 8, 8, 2\n",
        "else:\n",
        "   num3 = num2\n",
        "\n",
        "if (num2 >= num3):\n",
        "  num1 = num2 + num3   # 10, 8, 2\n",
        "\n",
        "sum = num1 + num2 + num3  # 20\n",
        "print(sum)"
      ],
      "metadata": {
        "colab": {
          "base_uri": "https://localhost:8080/"
        },
        "id": "TrKzwgJSDF6_",
        "outputId": "7843368e-53d1-4bbc-e03e-6b4aa3b62be3"
      },
      "execution_count": null,
      "outputs": [
        {
          "output_type": "stream",
          "name": "stdout",
          "text": [
            "20\n"
          ]
        }
      ]
    },
    {
      "cell_type": "code",
      "source": [
        "#@title Example: Nested if.. else conditions\n",
        "score1 = 400\n",
        "score2 = 800\n",
        "\n",
        "result = 2\n",
        "\n",
        "if (score1 > 500):\n",
        "  result = result + 1\n",
        "  if (score2 > 500):\n",
        "    result = result + 1\n",
        "  else:\n",
        "    result = result + 2\n",
        "else:\n",
        "  result = result + 5\n",
        "  if (score2 > 500):\n",
        "    result = result + 1\n",
        "  else:\n",
        "    result = result -1\n",
        "\n",
        "print(result)\n"
      ],
      "metadata": {
        "id": "F4LsCjmUEM03"
      },
      "execution_count": null,
      "outputs": []
    },
    {
      "cell_type": "code",
      "source": [
        "#@title Example: Nested if else conditions\n",
        "# if possible, avoid those\n",
        "age = int(input(\"enter the age: \"))\n",
        "\n",
        "if (age <= 1):\n",
        "    print(\"you are an infant\")\n",
        "\n",
        "else:\n",
        "    if (age > 1) and (age <= 13):\n",
        "        print(\"you can not vote\")\n",
        "        print(\"you are a child\")\n",
        "\n",
        "    else:\n",
        "        if age >=13 and (age < 20):\n",
        "            print(\"you are a teen\")\n",
        "            if (age == 18) or (age == 19) or (age == 20):\n",
        "                print(\"you can vote\")\n",
        "        else:\n",
        "            if (age >= 20) and (age <= 100):\n",
        "                print(\"you can vote\")\n",
        "                print(\"you are an adult\")\n",
        "\n",
        "            else:\n",
        "                print(\"Error: incorrect age is input\")"
      ],
      "metadata": {
        "id": "KSrPVRNDPRJ5"
      },
      "execution_count": null,
      "outputs": []
    }
  ]
}