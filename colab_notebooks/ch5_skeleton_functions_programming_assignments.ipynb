{
  "nbformat": 4,
  "nbformat_minor": 0,
  "metadata": {
    "colab": {
      "provenance": [],
      "toc_visible": true
    },
    "kernelspec": {
      "name": "python3",
      "display_name": "Python 3"
    },
    "language_info": {
      "name": "python"
    }
  },
  "cells": [
    {
      "cell_type": "markdown",
      "source": [
        "# Chapter 5: (Skeleton) Functions\n",
        "# Learn and Help\n",
        "##Empowering Minds, Inspiring Generosity!\n",
        "##www.learnandhelp.com\n",
        "\n",
        "#Siva Jasthi, Ph.D.\n",
        "##Chief Instructor\n",
        "\n"
      ],
      "metadata": {
        "id": "79svnr0KcsIv"
      }
    },
    {
      "cell_type": "markdown",
      "source": [
        "```\n",
        "Function Definition Questions:\n",
        "\n",
        "1. What is the function name?\n",
        "\n",
        "2. What are the inputs to the fuction?\n",
        "\n",
        "3. What is the function doing? What is the purpose?\n",
        "\n",
        "4. Is the function returing anything? (0 or 1 or N outputs)\n",
        "\n",
        "```\n",
        "\n",
        "\n",
        "```\n",
        "Function Invocation Questions:\n",
        "\n",
        "1. Is my function taking any inputs?\n",
        "\n",
        "2. How am I preparing those inputs\n",
        "-- Getting those from the user?\n",
        "-- Hard coding those??\n",
        "-- Getting those from other functions?\n",
        "\n",
        "3. Am I calling the functions with the required inputs?\n",
        "\n",
        "4. Is the function returning any outputs?\n",
        "\n",
        "5. What am I doing with those outputs?\n",
        "- displaying those?\n",
        "- passing those to other functions?\n",
        "\n",
        "```"
      ],
      "metadata": {
        "id": "gdqdXHGrmG4F"
      }
    },
    {
      "cell_type": "markdown",
      "source": [
        "\n",
        "## Chapter 5: Functions"
      ],
      "metadata": {
        "id": "9i2VOE9_zdX3"
      }
    },
    {
      "cell_type": "markdown",
      "source": [
        "### 1.Kilometer Converter Problem\n",
        "\n",
        "Write a program that asks the user to enter a distance in kilometers, then converts that distance to miles.\n",
        "\n",
        "The conversion formula is as follows:\n",
        "Miles = Kilometers × 0.6214"
      ],
      "metadata": {
        "id": "AZ5b4V2Ivq6E"
      }
    },
    {
      "cell_type": "code",
      "source": [
        "#@title 1. Kilometer Converter Problem\n",
        "\n",
        "'''\n",
        " This method takes in kilometers as the input\n",
        " and returns miles as the output\n",
        "'''\n",
        "def km_to_miles(kilometers):\n",
        "  miles = kilometers * 0.6214\n",
        "  return miles\n",
        "\n",
        "\n",
        "# calling the function\n",
        "km = float(input('Enter the kilometers: '))\n",
        "miles = km_to_miles(km)\n",
        "print('1. Miles: ', miles)\n",
        "\n",
        "# calling the function\n",
        "miles = km_to_miles(25)\n",
        "print('2. Miles: ', miles)\n",
        "\n",
        "# calling the function\n",
        "x = 65\n",
        "miles = km_to_miles(x)\n",
        "print('3. Miles: ', miles)\n"
      ],
      "metadata": {
        "id": "C2sl3MJ1vzI8",
        "colab": {
          "base_uri": "https://localhost:8080/"
        },
        "outputId": "1ea6cec4-fc31-4dfe-a28d-7d2c9a354071"
      },
      "execution_count": null,
      "outputs": [
        {
          "output_type": "stream",
          "name": "stdout",
          "text": [
            "Enter the kilometers: 45\n",
            "1. Miles:  27.962999999999997\n",
            "2. Miles:  15.534999999999998\n",
            "3. Miles:  40.391\n"
          ]
        }
      ]
    },
    {
      "cell_type": "markdown",
      "source": [],
      "metadata": {
        "id": "jFmaDO7z1uiU"
      }
    },
    {
      "cell_type": "markdown",
      "source": [
        "### 2.Sales Tax Program Refactoring\n",
        "\n",
        "Programming Exercise #6 in Chapter 2 was the Sales Tax program. For that exercise, you were\n",
        "asked to write a program that calculates and displays the county and state sales tax on a\n",
        "purchase. If you have already written that program, redesign it so the subtasks are in functions.\n",
        "If you have not already written that program, write it using functions.\n"
      ],
      "metadata": {
        "id": "XMKQRFAoCQkT"
      }
    },
    {
      "cell_type": "code",
      "source": [
        "#@title 2. sales tax program refractoring\n"
      ],
      "metadata": {
        "id": "5nnrbFm1CTc8",
        "outputId": "fea40be1-825a-48ba-b818-4c47f1418ac8",
        "colab": {
          "base_uri": "https://localhost:8080/"
        }
      },
      "execution_count": null,
      "outputs": [
        {
          "output_type": "stream",
          "name": "stdout",
          "text": [
            "What is the sales tax in your state?5\n",
            "What is the sales tax in your county?10\n",
            "How much is the purchase?500\n",
            "Your total is 8000.0\n"
          ]
        }
      ]
    },
    {
      "cell_type": "markdown",
      "source": [
        "### 3.How Much Insurance?\n",
        "Many financial experts advise that property owners should insure their homes or buildings for at\n",
        "least 80 percent of the amount it would cost to replace the structure. Write a program that asks\n",
        "the user to enter the replacement cost of a building, then displays the minimum amount of\n",
        "insurance he or she should buy for the property.\n"
      ],
      "metadata": {
        "id": "BcXyAm7sE8Uq"
      }
    },
    {
      "cell_type": "code",
      "source": [
        "#@title How much Insurance?\n",
        "\n",
        "# functin definition\n",
        "def get_min_insurance(building_cost):\n",
        "   min_insurance_needed = building_cost * 0.80\n",
        "   return min_insurance_needed\n",
        "\n",
        "# call the function\n",
        "x = 200000\n",
        "x = float(input(\"enter the cost of the building\"))\n",
        "y = get_min_insurance(x)\n",
        "print(f'minimum insurance needed for the building that costs {x} is {y}')"
      ],
      "metadata": {
        "id": "a2nrUan7E9lw",
        "outputId": "7ada1ea6-3324-472f-e401-6afabd31196e",
        "colab": {
          "base_uri": "https://localhost:8080/"
        }
      },
      "execution_count": null,
      "outputs": [
        {
          "output_type": "stream",
          "name": "stdout",
          "text": [
            "enter the cost of the building400000\n",
            "minimum insurance needed for the building that costs 400000.0 is 320000.0\n"
          ]
        }
      ]
    },
    {
      "cell_type": "markdown",
      "source": [
        "### 4.Automobile Costs\n",
        "\n",
        "Write a program that asks the user to enter the monthly costs for the following expenses\n",
        "incurred from operating his or her automobile: loan payment, insurance, gas, oil, tires, and\n",
        "maintenance. The program should then display the total monthly cost of these expenses, and the\n",
        "total annual cost of these expenses.\n"
      ],
      "metadata": {
        "id": "XBt2HSPmF1D-"
      }
    },
    {
      "cell_type": "code",
      "source": [
        "#@title Automobile Costs\n"
      ],
      "metadata": {
        "id": "CgFzAFIZF3Up",
        "outputId": "652ea197-c119-470b-be59-250c9a3ac17b",
        "colab": {
          "base_uri": "https://localhost:8080/"
        }
      },
      "execution_count": null,
      "outputs": [
        {
          "output_type": "stream",
          "name": "stdout",
          "text": [
            "how much do you spend on your car loan monthly?400\n",
            "how much do you spend on gas monthly?30\n",
            "how much do you spend on tires monthly?30\n",
            "how much do you spend on oil monthly?20\n",
            "how much do you spend on insurance monthly?20\n",
            "how much do you spend on maintence monthly?40\n",
            "Your monthly total is: None\n",
            "your yearly total is: 0\n"
          ]
        }
      ]
    },
    {
      "cell_type": "markdown",
      "source": [
        "### 5.Property Tax\n",
        "A county collects property taxes on the assessment value of property, which is 60 percent of the\n",
        "property’s actual value.\n",
        "\n",
        "For example, if an acre of land is valued at 10,000 dollars, its assessment\n",
        "value is 6,000 dollars. The property tax is then 72¢ for each $100 of the assessment value.\n",
        "\n",
        "The tax for\n",
        "the acre assessed at 6,000 dollars will be  $43.20.\n",
        "\n",
        "Write a program that asks for the actual value of a\n",
        "piece of property and displays the assessment value and property tax.\n"
      ],
      "metadata": {
        "id": "UwVWa9wEH4zg"
      }
    },
    {
      "cell_type": "code",
      "source": [
        "#@title Property Tax\n",
        "# setup the constants\n"
      ],
      "metadata": {
        "id": "fvVeTiT0H9O0",
        "outputId": "0112bb79-3191-4c4c-f88c-e5590eff111f",
        "colab": {
          "base_uri": "https://localhost:8080/"
        }
      },
      "execution_count": null,
      "outputs": [
        {
          "output_type": "stream",
          "name": "stdout",
          "text": [
            "how much did you pay for your house?100000\n",
            "Your assessment value will be: 60000.0\n",
            " And your property tax will be: 432.0\n"
          ]
        }
      ]
    },
    {
      "cell_type": "markdown",
      "source": [
        "### 6.Calories from Fat and Carbohydrates\n",
        "A nutritionist who works for a fitness club helps members by evaluating their diets. As part of\n",
        "her evaluation, she asks members for the number of fat grams and carbohydrate grams that they\n",
        "consumed in a day. Then, she calculates the number of calories that result from the fat, using the\n",
        "following formula:\n",
        "\n",
        "calories from fat=fat grams × 9\n",
        "\n",
        "Next, she calculates the number of calories that result from the carbohydrates, using the\n",
        "following formula:\n",
        "\n",
        "calories from carbs=carb grams × 4\n",
        "\n",
        "The nutritionist asks you to write a program that will make these calculations"
      ],
      "metadata": {
        "id": "qt_nd6YWJPzW"
      }
    },
    {
      "cell_type": "code",
      "source": [
        "#@title Calories from Fat and Carbohydrates\n",
        "\n",
        "\n",
        "# TODO\n",
        "# ask the questions\n",
        "# call the functions\n",
        "# get the results\n",
        "# print the final additions and result\n",
        "\n"
      ],
      "metadata": {
        "id": "Z0v1Ius6JcmU",
        "outputId": "912c6a4f-01f7-4510-d126-69b85382f6bd",
        "colab": {
          "base_uri": "https://localhost:8080/"
        }
      },
      "execution_count": null,
      "outputs": [
        {
          "output_type": "stream",
          "name": "stdout",
          "text": [
            "how much carbs do you get in a day?100\n",
            "how much fat do you get in a day?20\n",
            "You get 180  calories a day from fat and 400  calories a day from carbs.\n",
            "Your total calories in a day are: 580\n"
          ]
        }
      ]
    },
    {
      "cell_type": "markdown",
      "source": [
        "### 7.Stadium seating\n",
        "```\n",
        "There are three seating categories at a stadium. Class A seats cost $20,\n",
        "Class B seats cost $15, and Class C seats cost $10.\n",
        "\n",
        "Write a program that asks how many tickets for each class of seats were sold,\n",
        "then displays the amount of income generated from ticket sales.\n",
        "```"
      ],
      "metadata": {
        "id": "ewX5Q0EtzB7O"
      }
    },
    {
      "cell_type": "code",
      "source": [
        "#@title 7. Stadium Seating\n",
        "\n",
        "# define the function\n",
        "def get_total_income(a_count, b_count, c_count):\n",
        "  #TODO\n",
        "  pass\n",
        "\n",
        "# call the function after getting the inputs from the user\n",
        "#TODO\n"
      ],
      "metadata": {
        "id": "1GoMhd9mzFBF"
      },
      "execution_count": null,
      "outputs": []
    },
    {
      "cell_type": "markdown",
      "source": [
        "### 8.Paint Job Estimator\n",
        "\n",
        "A painting company has determined that for every 112 square feet of wall space, one gallon of paint and eight hours of labor will be required. The company charges $35.00 per hour for labor.\n",
        "\n",
        "Write a program that asks the user to enter the square feet of wall space to be painted and the price of the paint per gallon. The program should display the following data:\n",
        "\n",
        "- The number of gallons of paint required\n",
        "- The hours of labor required\n",
        "- The cost of the paint\n",
        "- The labor charges\n",
        "- The total cost of the paint job\n"
      ],
      "metadata": {
        "id": "W3FYU2elyzJD"
      }
    },
    {
      "cell_type": "code",
      "source": [
        "#@title 8. Paint Job Estimator\n",
        "# 112 square feet of wall space\n",
        "# 1 gallon\n",
        "# 8 hours labor\n",
        "# 35 per hour of labor\n",
        "\n",
        "# input1 = wall_space\n",
        "# input2 = price of the paint per gallon\n",
        "\n"
      ],
      "metadata": {
        "colab": {
          "base_uri": "https://localhost:8080/",
          "height": 269
        },
        "id": "BYwsdKhfy4nl",
        "outputId": "077752ab-21b9-4f58-b0cf-83f3293049ab"
      },
      "execution_count": null,
      "outputs": [
        {
          "name": "stdout",
          "output_type": "stream",
          "text": [
            "How much wall space are you painting?8\n",
            "what is the cost of the paint per gallon?y\n"
          ]
        },
        {
          "output_type": "error",
          "ename": "ValueError",
          "evalue": "ignored",
          "traceback": [
            "\u001b[0;31m---------------------------------------------------------------------------\u001b[0m",
            "\u001b[0;31mValueError\u001b[0m                                Traceback (most recent call last)",
            "\u001b[0;32m<ipython-input-13-5ebffaf1ae7d>\u001b[0m in \u001b[0;36m<module>\u001b[0;34m\u001b[0m\n\u001b[1;32m     29\u001b[0m \u001b[0;34m\u001b[0m\u001b[0m\n\u001b[1;32m     30\u001b[0m \u001b[0mpaint_price\u001b[0m \u001b[0;34m=\u001b[0m \u001b[0minput\u001b[0m\u001b[0;34m(\u001b[0m\u001b[0;34m\"what is the cost of the paint per gallon?\"\u001b[0m\u001b[0;34m)\u001b[0m\u001b[0;34m\u001b[0m\u001b[0;34m\u001b[0m\u001b[0m\n\u001b[0;32m---> 31\u001b[0;31m \u001b[0mpaint_price\u001b[0m \u001b[0;34m=\u001b[0m \u001b[0mfloat\u001b[0m\u001b[0;34m(\u001b[0m\u001b[0mpaint_price\u001b[0m\u001b[0;34m)\u001b[0m\u001b[0;34m\u001b[0m\u001b[0;34m\u001b[0m\u001b[0m\n\u001b[0m\u001b[1;32m     32\u001b[0m \u001b[0;34m\u001b[0m\u001b[0m\n\u001b[1;32m     33\u001b[0m \u001b[0;31m# call the method\u001b[0m\u001b[0;34m\u001b[0m\u001b[0;34m\u001b[0m\u001b[0;34m\u001b[0m\u001b[0m\n",
            "\u001b[0;31mValueError\u001b[0m: could not convert string to float: 'y'"
          ]
        }
      ]
    },
    {
      "cell_type": "markdown",
      "source": [
        "###9.Monthly Sales Tax\n",
        "\n",
        "A retail company must file a monthly sales tax report listing the total sales for the month, and the amount of state and county sales tax collected. The state sales tax rate is 5 percent and the county sales tax rate is 2.5 percent.\n",
        "\n",
        "Write a program that asks the user to enter the total sales for\n",
        "the month. From this figure, the application should calculate and display the following:\n",
        "\n",
        "- The amount of county sales tax\n",
        "- The amount of state sales tax\n",
        "- The total sales tax (county plus state)"
      ],
      "metadata": {
        "id": "SxmH7wpBPJBR"
      }
    },
    {
      "cell_type": "code",
      "source": [
        "#@title 9. Monthly Sales Tax\n",
        "# input: total_sales\n",
        "# output: county_sales_tax\n",
        "#         state_sales_tax\n",
        "#         total_sales_tax\n"
      ],
      "metadata": {
        "colab": {
          "base_uri": "https://localhost:8080/"
        },
        "id": "gIEroLX3PJV6",
        "outputId": "e7c730c3-667a-4ad2-90cf-9f2356e1fc84"
      },
      "execution_count": null,
      "outputs": [
        {
          "output_type": "stream",
          "name": "stdout",
          "text": [
            "Enter the total sales: 1000\n",
            "Total Sales  1000.0\n",
            "County Tax:  25.0\n",
            "State Tax:  50.0\n",
            "Total Tax:  75.0\n"
          ]
        }
      ]
    },
    {
      "cell_type": "markdown",
      "source": [
        "###10.Feet to Inches\n",
        "\n",
        "One foot equals 12 inches. Write a function named feet_to_inches that accepts a number of feet as an argument and returns the number of inches in that many feet. Use the function in a program that prompts the user to enter a number of feet then displays the number of inches in that many feet.\n"
      ],
      "metadata": {
        "id": "JH8CWzfsPJrv"
      }
    },
    {
      "cell_type": "code",
      "source": [
        "#@title 10. Feet to Inches\n",
        "'''\n",
        "The Feet to Inches Problem\n",
        "One foot equals 12 inches. Write a function named feet_to_inches that accepts a number of\n",
        "feet as an argument and returns the number of inches in that many feet. Use the function in a\n",
        "program that prompts the user to enter a number of feet then displays the number of inches in\n",
        "that many feet.\n",
        "'''\n"
      ],
      "metadata": {
        "colab": {
          "base_uri": "https://localhost:8080/",
          "height": 252
        },
        "id": "hnEsjEmrPJ7w",
        "outputId": "ea7ca81d-5114-48bd-cedb-106ee519421c"
      },
      "execution_count": null,
      "outputs": [
        {
          "name": "stdout",
          "output_type": "stream",
          "text": [
            "Enter the number of feetabc\n"
          ]
        },
        {
          "output_type": "error",
          "ename": "ValueError",
          "evalue": "ignored",
          "traceback": [
            "\u001b[0;31m---------------------------------------------------------------------------\u001b[0m",
            "\u001b[0;31mValueError\u001b[0m                                Traceback (most recent call last)",
            "\u001b[0;32m<ipython-input-4-a31fc5565a67>\u001b[0m in \u001b[0;36m<module>\u001b[0;34m\u001b[0m\n\u001b[1;32m     14\u001b[0m \u001b[0;34m\u001b[0m\u001b[0m\n\u001b[1;32m     15\u001b[0m \u001b[0;31m# get the input\u001b[0m\u001b[0;34m\u001b[0m\u001b[0;34m\u001b[0m\u001b[0;34m\u001b[0m\u001b[0m\n\u001b[0;32m---> 16\u001b[0;31m \u001b[0minput_feet\u001b[0m \u001b[0;34m=\u001b[0m \u001b[0mfloat\u001b[0m\u001b[0;34m(\u001b[0m\u001b[0minput\u001b[0m\u001b[0;34m(\u001b[0m\u001b[0;34m\"Enter the number of feet\"\u001b[0m\u001b[0;34m)\u001b[0m\u001b[0;34m)\u001b[0m\u001b[0;34m\u001b[0m\u001b[0;34m\u001b[0m\u001b[0m\n\u001b[0m\u001b[1;32m     17\u001b[0m \u001b[0;34m\u001b[0m\u001b[0m\n\u001b[1;32m     18\u001b[0m \u001b[0;31m# call the method;\u001b[0m\u001b[0;34m\u001b[0m\u001b[0;34m\u001b[0m\u001b[0;34m\u001b[0m\u001b[0m\n",
            "\u001b[0;31mValueError\u001b[0m: could not convert string to float: 'abc'"
          ]
        }
      ]
    },
    {
      "cell_type": "markdown",
      "source": [
        "### 11.Math Quiz\n",
        "\n",
        "```\n",
        "Write a program that gives simple math quizzes. The program should display two random numbers that are to be added, such as:\n",
        " 247\n",
        "+ 129\n",
        "The program should allow the student to enter the answer.\n",
        "If the answer is correct, a message of congratulations should be displayed.\n",
        "If the answer is incorrect, a message showing the correct answer should be displayed.\n",
        "```"
      ],
      "metadata": {
        "id": "NlECLrU-wliD"
      }
    },
    {
      "cell_type": "code",
      "source": [
        "#@title Math Quiz\n"
      ],
      "metadata": {
        "colab": {
          "base_uri": "https://localhost:8080/"
        },
        "id": "Ki5qUGOKwpaD",
        "outputId": "3c0c72a5-b2f0-48c8-9736-dbeb00ad8caf"
      },
      "execution_count": null,
      "outputs": [
        {
          "output_type": "stream",
          "name": "stdout",
          "text": [
            "8  +  5\n",
            "What is the answer? = 13\n",
            "Congratulations! You answered it correctly!\n"
          ]
        }
      ]
    },
    {
      "cell_type": "markdown",
      "source": [
        "### 12.Maximum of Two Values\n",
        "Write a function named max that accepts two integer values as arguments and returns the value\n",
        "that is the greater of the two. For example, if 7 and 12 are passed as arguments to the function,\n",
        "the function should return 12. Use the function in a program that prompts the user to enter two\n",
        "integer values. The program should display the value that is the greater of the two."
      ],
      "metadata": {
        "id": "vEaa_MFX3I8r"
      }
    },
    {
      "cell_type": "code",
      "source": [
        "#@title Maximum of Two Values\n",
        "#1. function definition\n"
      ],
      "metadata": {
        "id": "qkznsOgV3K5D"
      },
      "execution_count": null,
      "outputs": []
    },
    {
      "cell_type": "markdown",
      "source": [
        "### 13.Falling Distance\n",
        "When an object is falling because of gravity, the following formula can be used to determine the\n",
        "distance the object falls in a specific time period:\n",
        "\n",
        "d = (1*2) g * (t**2)\n",
        "\n",
        "The variables in the formula are as follows: d is the distance in meters, g is 9.8, and t is the\n",
        "amount of time, in seconds, that the object has been falling.\n",
        "\n",
        "Write a function named falling_distance that accepts an object’s falling time (in seconds) as\n",
        "an argument. The function should return the distance, in meters, that the object has fallen during\n",
        "that time interval. Write a program that calls the function in a loop that passes the values 1\n",
        "through 10 as arguments and displays the return value.\n"
      ],
      "metadata": {
        "id": "6PSnj3RK3NBr"
      }
    },
    {
      "cell_type": "code",
      "source": [
        "#@title Falling Distance"
      ],
      "metadata": {
        "id": "tjxu6yNH3Xyj"
      },
      "execution_count": null,
      "outputs": []
    },
    {
      "cell_type": "markdown",
      "source": [
        "### 14.Kinetic Energy\n",
        "In physics, an object that is in motion is said to have kinetic energy. The following formula can\n",
        "be used to determine a moving object’s kinetic energy:\n",
        "\n",
        "KE=(1/2) * m * (v ^2)\n",
        "\n",
        "The variables in the formula are as follows: KE is the kinetic energy, m is the object’s mass in\n",
        "kilograms, and v is the object’s velocity in meters per second.\n",
        "\n",
        "Write a function named kinetic_energy that accepts an object’s mass (in kilograms) and\n",
        "velocity (in meters per second) as arguments. The function should return the amount of kinetic\n",
        "energy that the object has. Write a program that asks the user to enter values for mass and\n",
        "velocity, then calls the kinetic_energy function to get the object’s kinetic energy"
      ],
      "metadata": {
        "id": "IS3OZ6Bt3Z6W"
      }
    },
    {
      "cell_type": "code",
      "source": [
        "#@title Kinetic Energy\n"
      ],
      "metadata": {
        "id": "oOEVk8DQ3iPE"
      },
      "execution_count": null,
      "outputs": []
    },
    {
      "cell_type": "markdown",
      "source": [
        "### 15.Average Grade\n",
        "\n",
        "```\n",
        "Write a program that asks the user to enter five test scores.\n",
        "The program should display a letter grade for each score and the average test score.\n",
        "\n",
        "Write the following functions in the program:\n",
        "\n",
        "calc_average. This function should accept five test scores as arguments and\n",
        "return the average of the scores.\n",
        "\n",
        "determine_grade. This function should accept a test score as an argument and\n",
        "return a letter grade for the score based on the following grading scale:\n",
        "\n",
        "Score Letter Grade\n",
        "90–100 A\n",
        "80–89 B\n",
        "70–79 C\n",
        "60–69 D\n",
        "Below 60 F\n",
        "\n",
        "```"
      ],
      "metadata": {
        "id": "FyO3NViryi3D"
      }
    },
    {
      "cell_type": "code",
      "source": [
        "#@title Average Grade\n",
        "# first define the functions\n",
        "'''\n",
        "THis method takes in five scores and returns the average\n",
        "'''\n",
        "\n",
        "testScores = []\n",
        "allTestScores = 0\n",
        "average = 0\n",
        "\n",
        "testScores.append(float(input(\"What is your first test score \")))\n",
        "testScores.append(float(input(\"What is your secound test score \")))\n",
        "testScores.append(float(input(\"What is your third test score \")))\n",
        "testScores.append(float(input(\"What is your fourth test score \")))\n",
        "\n",
        "if testScores[0] >= 90:\n",
        "  print(\"your first score is A\")\n",
        "elif 89 > testScores[0] >= 80:\n",
        "  print(\"your first score is B\")\n",
        "\n",
        "elif 79 > testScores[0] >= 70:\n",
        "  print(\"your first score is C\")\n",
        "\n",
        "elif 69 > testScores[0] >= 60:\n",
        "  print(\"your first score is D\")\n",
        "\n",
        "elif  testScores[0] < 60:\n",
        "  print(\"your first score is F\")\n",
        "\n",
        "\n",
        "\n",
        "if testScores[1] >= 90:\n",
        "  print(\"your secound score is A\")\n",
        "elif 89 > testScores[1] >= 80:\n",
        "  print(\"your secound score is B\")\n",
        "\n",
        "elif 79 > testScores[1] >= 70:\n",
        "  print(\"your secound score is C\")\n",
        "\n",
        "elif 69 > testScores[1] >= 60:\n",
        "  print(\"your secound score is D\")\n",
        "\n",
        "elif  testScores[1] < 60:\n",
        "  print(\"your secound score is F\")\n",
        "\n",
        "\n",
        "\n",
        "if testScores[2] >= 90:\n",
        "  print(\"your third score is A\")\n",
        "elif 89 > testScores[2] >= 80:\n",
        "  print(\"your third score is B\")\n",
        "\n",
        "elif 79 > testScores[2] >= 70:\n",
        "  print(\"your third score is C\")\n",
        "\n",
        "elif 69 > testScores[2] >= 60:\n",
        "  print(\"your third score is D\")\n",
        "\n",
        "elif  testScores[2] < 60:\n",
        "  print(\"your third score is F\")\n",
        "\n",
        "\n",
        "\n",
        "if testScores[3] >= 90:\n",
        "  print(\"your first score is A\")\n",
        "elif 89 > testScores[3] >= 80:\n",
        "  print(\"your first score is B\")\n",
        "\n",
        "elif 79 > testScores[3] >= 70:\n",
        "  print(\"your first score is C\")\n",
        "\n",
        "elif 69 > testScores[3] >= 60:\n",
        "  print(\"your first score is D\")\n",
        "\n",
        "elif  testScores[3] < 60:\n",
        "  print(\"your first score is F\")\n",
        "\n",
        "\n",
        "for v in range(0,len(testScores)):\n",
        "  allTestScores = testScores[v] + allTestScores\n",
        "\n",
        "\n",
        "\n",
        "average = allTestScores/len(testScores)\n",
        "print(\"This is your average\", average)"
      ],
      "metadata": {
        "colab": {
          "base_uri": "https://localhost:8080/"
        },
        "id": "J-Gy9PmLyl78",
        "outputId": "f3f46ceb-6f1c-4aca-842e-7819edd62c11"
      },
      "execution_count": null,
      "outputs": [
        {
          "output_type": "stream",
          "name": "stdout",
          "text": [
            "What is your first test score 78\n",
            "What is your secound test score 98\n",
            "What is your third test score 87\n",
            "What is your fourth test score 67\n",
            "your first score is C\n",
            "your secound score is A\n",
            "your third score is B\n",
            "your first score is D\n",
            "This is your average 82.5\n"
          ]
        }
      ]
    },
    {
      "cell_type": "markdown",
      "source": [
        "### 16.Odd/Even Counter\n",
        "In this chapter, you saw an example of how to write an algorithm that determines whether a\n",
        "number is even or odd. Write a program that generates 100 random numbers and ke"
      ],
      "metadata": {
        "id": "JWjuxXca2x4j"
      }
    },
    {
      "cell_type": "code",
      "source": [
        "#@title 16. Odd/Even Counter\n",
        "import random\n",
        "\n",
        "'''\n",
        "This method generates 1000 random numbers\n",
        "and return the count of odd numbers and the count of even numbers.\n",
        "INPUTS: none\n",
        "OUTPUTS: two (odd count and even count)\n",
        "'''\n",
        "\n",
        "numbers = []\n",
        "\n",
        "even = 0\n",
        "odd = 0\n",
        "\n",
        "for x in range(0,100):\n",
        "  numbers.append(random.randint(1,1000))\n",
        "\n",
        "for x in range(0,100):\n",
        "  if numbers[x] % 2 == 0:\n",
        "    even += 1\n",
        "  elif numbers[x] % 2 != 0:\n",
        "    odd += 1\n",
        "print(\"there are\", odd ,\"odd numbers\")\n",
        "print(\"there are\", even ,\"even numbers\")"
      ],
      "metadata": {
        "colab": {
          "base_uri": "https://localhost:8080/"
        },
        "id": "ut9OP0z620eD",
        "outputId": "c82a5b00-2f51-44ac-a4b1-fe6044612f45"
      },
      "execution_count": null,
      "outputs": [
        {
          "output_type": "stream",
          "name": "stdout",
          "text": [
            "there are 53 odd numbers\n",
            "there are 47 even numbers\n"
          ]
        }
      ]
    },
    {
      "cell_type": "markdown",
      "source": [
        "### 17.Prime Numbers\n",
        "\n",
        "A prime number is a number that is only evenly divisible by itself and 1. For example, the number 5 is prime because it can only be evenly divided by 1 and 5.\n",
        "The number 6, however, is not prime because it can be divided evenly by 1, 2, 3, and 6.\n",
        "\n",
        "Write a Boolean function named is_prime which takes an integer as an argument and returns true if the argument is a prime number, or false otherwise. Use the function in a program that prompts the user to enter a number then displays a message indicating whether the number is prime.\n",
        "\n",
        "Tip: Recall that the % operator divides one number by another and returns the remainder of the division. In an expression such as num1 % num2, the % operator will return 0 if num1 is evenly divisible by num2."
      ],
      "metadata": {
        "id": "elnO5UMis-nF"
      }
    },
    {
      "cell_type": "code",
      "execution_count": null,
      "metadata": {
        "colab": {
          "base_uri": "https://localhost:8080/"
        },
        "id": "RXSm5eV4sz4d",
        "outputId": "3db6f504-7dc3-4daa-e6c4-7b05765a5f85"
      },
      "outputs": [
        {
          "output_type": "stream",
          "name": "stdout",
          "text": [
            "is 3 a prime?  True\n",
            "is 4 a prime?  False\n",
            "is 5 a prime?  True\n",
            "is 6 a prime?  False\n",
            "is 7 a prime?  True\n",
            "is 29 a prime?  True\n",
            "is 30 a prime?  False\n"
          ]
        }
      ],
      "source": [
        "#@title 17. Prime Numbers\n"
      ]
    },
    {
      "cell_type": "markdown",
      "source": [
        "### 18.Prime Number List\n",
        "\n",
        "This exercise assumes that you have already written the is_prime function in Programming Exercise 17. Write another program that displays all of the prime numbers from 1 to 100. The program should have a loop that calls the is_prime function.\n"
      ],
      "metadata": {
        "id": "w3bBnT1g2gNl"
      }
    },
    {
      "cell_type": "code",
      "source": [
        "#@title 18. Prime Number List\n"
      ],
      "metadata": {
        "colab": {
          "base_uri": "https://localhost:8080/"
        },
        "id": "VjjymtDG2mBC",
        "outputId": "98dab448-6922-47d6-8a46-7afbc1aa1b94"
      },
      "execution_count": null,
      "outputs": [
        {
          "output_type": "stream",
          "name": "stdout",
          "text": [
            "1 is prime?  True\n",
            "2 is prime?  True\n",
            "3 is prime?  True\n",
            "5 is prime?  True\n",
            "7 is prime?  True\n",
            "11 is prime?  True\n",
            "13 is prime?  True\n",
            "17 is prime?  True\n",
            "19 is prime?  True\n",
            "23 is prime?  True\n",
            "29 is prime?  True\n",
            "31 is prime?  True\n",
            "37 is prime?  True\n",
            "41 is prime?  True\n",
            "43 is prime?  True\n",
            "47 is prime?  True\n",
            "53 is prime?  True\n",
            "59 is prime?  True\n",
            "61 is prime?  True\n",
            "67 is prime?  True\n",
            "71 is prime?  True\n",
            "73 is prime?  True\n",
            "79 is prime?  True\n",
            "83 is prime?  True\n",
            "89 is prime?  True\n",
            "97 is prime?  True\n"
          ]
        }
      ]
    },
    {
      "cell_type": "markdown",
      "source": [
        "### 19.Future Value\n",
        "Suppose you have a certain amount of money in a savings account that earns compound\n",
        "monthly interest, and you want to calculate the amount that you will have after a specific\n",
        "number of months. The formula is as follows:\n",
        "\n",
        "F = P × (1+i) ** t\n",
        "\n",
        "(Note: It is to the power, not multiplication)\n",
        "\n",
        "The terms in the formula are:\n",
        "F is the future value of the account after the specified time period.\n",
        "P is the present value of the account.\n",
        "i is the monthly interest rate.\n",
        "t is the number of months.\n",
        "\n",
        "Write a program that prompts the user to enter the account’s present value, monthly interest\n",
        "rate, and the number of months that the money will be left in the account. The program should\n",
        "pass these values to a function that returns the future value of the account, after the specified\n",
        "number of months. The program should display the account’s future value."
      ],
      "metadata": {
        "id": "FCsdfs0AzL6F"
      }
    },
    {
      "cell_type": "code",
      "source": [
        "#@title 19. Future Value\n",
        "\n",
        "#1. define the functions\n",
        "\n",
        "\n",
        "#2. Prepare the inputs\n",
        "\n",
        "#3 Call the function and assign the return value to a variable\n",
        "\n",
        "#4 and print the outputs"
      ],
      "metadata": {
        "colab": {
          "base_uri": "https://localhost:8080/"
        },
        "id": "neF3XUWhzLIW",
        "outputId": "1059ab38-71e1-41db-f1ca-2181ae1765fb"
      },
      "execution_count": null,
      "outputs": [
        {
          "output_type": "stream",
          "name": "stdout",
          "text": [
            "How much is currently in the account?1000\n",
            "What is the interest rate on the account?6\n",
            "How many months are you calculating for?12\n",
            "Your accounts value after 12.0 months is: 2012.1964718355514\n"
          ]
        }
      ]
    },
    {
      "cell_type": "markdown",
      "source": [
        "### 20.Random Number Guessing Game\n",
        "\n",
        "Write a program that generates a random number in the range of 1 through 100, and asks the\n",
        "user to guess what the number is. If the user’s guess is higher than the random number, the\n",
        "program should display “Too high, try again.” If the user’s guess is lower than the random\n",
        "number, the program should display “Too low, try again.” If the user guesses the number, the\n",
        "application should congratulate the user and generate a new random number so the game can\n",
        "start over.\n",
        "\n",
        "Optional Enhancement: Enhance the game so it keeps count of the number of guesses that the\n",
        "user makes. When the user correctly guesses the random number, the program should display\n",
        "the number of guesses"
      ],
      "metadata": {
        "id": "MSkS_uIyssjp"
      }
    },
    {
      "cell_type": "code",
      "source": [
        "# get a random number between 1 and 100 (let us call that as 'answer')\n",
        "\n",
        "# initiaize the guess to some number  \"guess = 0\"\n",
        "\n",
        "#setup a while loop so that it keeps on going if (guess != answer)\n",
        "      # ask the user to guess the number and get the guess\n",
        "\n",
        "      # check if the guess matches the answer.\n",
        "      # if it matches, 'congrtulations'\n",
        "\n",
        "\n",
        "      # if the guess < answer\n",
        "      # print \"too low\"\n",
        "      #\n",
        "\n",
        "      # if the guess > answer\n",
        "      # print \"too high\""
      ],
      "metadata": {
        "id": "4QBqILyUsyMe"
      },
      "execution_count": null,
      "outputs": []
    },
    {
      "cell_type": "code",
      "source": [
        "#@title 20. Random Number Guessing Game\n"
      ],
      "metadata": {
        "id": "7zmc0sU3yaFG"
      },
      "execution_count": null,
      "outputs": []
    },
    {
      "cell_type": "markdown",
      "source": [
        "### 21.Rock, Paper, Scissors\n",
        "\n",
        "```\n",
        "Write a program that lets the user play the game of Rock, Paper, Scissors against the computer.\n",
        "The program should work as follows:\n",
        "1. When the program begins, a random number in the range of 1 through 3 is generated. If the number is 1, then the computer has chosen rock. If the number is 2, then the computer has chosen paper. If the number is 3, then the computer has chosen scissors. (Don’t display the computer’s choice yet.)\n",
        "2. The user enters his or her choice of “rock,” “paper,” or “scissors” at the keyboard.\n",
        "3. The computer’s choice is displayed.\n",
        "4. A winner is selected according to the following rules:\n",
        "\n",
        "If one player chooses rock and the other player chooses scissors, then rock wins. (Rock smashes scissors.)\n",
        "\n",
        "If one player chooses scissors and the other player chooses paper, then scissors wins. (Scissors cuts paper.)\n",
        "\n",
        "If one player chooses paper and the other player chooses rock, then paper wins. (Paper wraps rock.)\n",
        "\n",
        "If both players make the same choice, the game must be played again to determine the winner.\n",
        "\n",
        "```"
      ],
      "metadata": {
        "id": "KZDc3ZDYzVM0"
      }
    },
    {
      "cell_type": "code",
      "source": [
        "#@title 21. Rock, Paper, Scissors\n",
        "\n",
        "#===== all functions ==========\n",
        "'''\n",
        "This method returns a random choice made by the computer\n",
        "It generates a random number first; and converts the random number\n",
        "to 'Rock', 'Paper' or 'Scissors'\n",
        "'''\n",
        "\n",
        "\n",
        "'''\n",
        "If one player chooses rock and the other player chooses scissors,\n",
        "then rock wins. (Rock smashes scissors.)\n",
        "If one player chooses scissors and the other player chooses paper, then scissors wins.\n",
        "(Scissors cuts paper.)\n",
        "If one player chooses paper and the other player chooses rock, then paper wins. (Paper\n",
        "wraps rock.)\n",
        "If both players make the same choice, the game must be played again to determine the\n",
        "winner.\n",
        "\n",
        "'''"
      ],
      "metadata": {
        "id": "XU6FYqcHzYDR",
        "colab": {
          "base_uri": "https://localhost:8080/"
        },
        "outputId": "ab3f57f4-350d-4087-9f6e-ea5837179dbc"
      },
      "execution_count": null,
      "outputs": [
        {
          "output_type": "stream",
          "name": "stdout",
          "text": [
            "Enter your choice (1 for Rock, 2 for Paper, 3 for Scissors): 1\n",
            "User Choice:  Rock\n",
            "Computer Choice:  Paper\n",
            "Computer Wins\n"
          ]
        }
      ]
    }
  ]
}