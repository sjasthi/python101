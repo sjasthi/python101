{
  "nbformat": 4,
  "nbformat_minor": 0,
  "metadata": {
    "colab": {
      "provenance": [],
      "toc_visible": true
    },
    "kernelspec": {
      "name": "python3",
      "display_name": "Python 3"
    },
    "language_info": {
      "name": "python"
    }
  },
  "cells": [
    {
      "cell_type": "markdown",
      "source": [
        "# Chapter 4: (Skeleton) While and For Loops\n",
        "# Learn and Help\n",
        "##Empowering Minds, Inspiring Generosity!\n",
        "##www.learnandhelp.com\n",
        "\n",
        "#Siva Jasthi, Ph.D.\n",
        "##Chief Instructor\n",
        "\n"
      ],
      "metadata": {
        "id": "wgYqRmogSGXL"
      }
    },
    {
      "cell_type": "code",
      "source": [
        "# Questions to ask while writing WHILE loops\n",
        "\n",
        "1. What is the condition I am checking? At some point of time, the condition has to be FALSE.\n",
        "\n",
        "2. What is the variable(s) showing up in the condition?\n",
        "\n",
        "3. How are you initializing the variables (before the while loop)?\n",
        "\n",
        "4. How are you updating (incrementing or decrementing) the vairables inside the loop?\n",
        "\n"
      ],
      "metadata": {
        "id": "rcajVcOryk-I"
      },
      "execution_count": null,
      "outputs": []
    },
    {
      "cell_type": "code",
      "execution_count": null,
      "metadata": {
        "id": "e5TkQfKRR6di"
      },
      "outputs": [],
      "source": []
    },
    {
      "cell_type": "code",
      "source": [
        "#@title 4.1 The Bug Collector Problem (while loop)\n",
        "'''\n",
        "A bug collector collects bugs every day for five days. Write a program that keeps a running total\n",
        "of the number of bugs collected during the five days. The loop should ask for the number of\n",
        "bugs collected for each day, and when the loop is finished, the program should display the total\n",
        "number of bugs collected.\n",
        "'''\n",
        "\n",
        "# where am I starting?\n",
        "day_count = 5\n",
        "day = 1\n",
        "total = 0\n",
        "\n",
        "# what am I checking?\n",
        "while (day <= day_count):\n",
        "# what am I doing inside the loop?\n",
        "     # get the inputs\n",
        "     bug_count = input(f\"Number of bugs you caught on Day {day}: \" )\n",
        "     bug_count = int(bug_count)\n",
        "\n",
        "     # keep track of the total\n",
        "     total = total + bug_count\n",
        "\n",
        "     # make the condition fail\n",
        "     day = day + 1\n",
        "\n",
        "# what am I doing outside the loop?\n",
        "print(f\"Total number of bugs you caught: {total}\")\n",
        "\n",
        "# '''\n",
        "# # the expected output\n",
        "# Number of bugs you caught on Day 1: 4\n",
        "# Number of bugs you caught on Day 2: 3\n",
        "# Number of bugs you caught on Day 3: 0\n",
        "# Number of bugs you caught on Day 4: 5\n",
        "# Number of bugs you caught on Day 5: 1\n",
        "# Total number of bugs you caught: 13\n",
        "# '''\n"
      ],
      "metadata": {
        "id": "Rpu-mDYwSH1D",
        "colab": {
          "base_uri": "https://localhost:8080/"
        },
        "outputId": "ae405e53-dbb7-46cb-9df8-cfe6d29a6abc"
      },
      "execution_count": null,
      "outputs": [
        {
          "output_type": "stream",
          "name": "stdout",
          "text": [
            "Number of bugs you caught on Day 1: 5\n",
            "Number of bugs you caught on Day 2: 4\n",
            "Number of bugs you caught on Day 3: 7\n",
            "Number of bugs you caught on Day 4: 8\n",
            "Number of bugs you caught on Day 5: 0\n",
            "Total number of bugs you caught: 24\n"
          ]
        }
      ]
    },
    {
      "cell_type": "code",
      "source": [
        "#@title 4.1 The Bug Collector Problem (for loop)\n",
        "'''\n",
        "A bug collector collects bugs every day for five days. Write a program that keeps a running total\n",
        "of the number of bugs collected during the five days. The loop should ask for the number of\n",
        "bugs collected for each day, and when the loop is finished, the program should display the total\n",
        "number of bugs collected.\n",
        "'''\n",
        "\n",
        "total = 0\n",
        "for day in range(1, 6):\n",
        "     bug_count = input(f\"Number of bugs you caught on Day {day}: \" )\n",
        "     bug_count = int(bug_count)\n",
        "\n",
        "     # keep track of the total\n",
        "     total = total + bug_count\n",
        "\n",
        "print(\"total:\", total)\n"
      ],
      "metadata": {
        "id": "7CGzsaNJpPJM",
        "colab": {
          "base_uri": "https://localhost:8080/"
        },
        "outputId": "e14a4d98-194f-48f5-9568-04409a60dacf"
      },
      "execution_count": null,
      "outputs": [
        {
          "output_type": "stream",
          "name": "stdout",
          "text": [
            "Number of bugs you caught on Day 1: 5\n",
            "Number of bugs you caught on Day 2: 7\n",
            "Number of bugs you caught on Day 3: 5\n",
            "Number of bugs you caught on Day 4: 3\n",
            "Number of bugs you caught on Day 5: 6\n",
            "total: 26\n"
          ]
        }
      ]
    },
    {
      "cell_type": "code",
      "source": [
        "#@title 4.2. Calories Burned (for loop)\n",
        "'''\n",
        "Running on a particular treadmill you burn 4.2 calories per minute. Write a program that uses a\n",
        "loop to display the number of calories burned after 10, 15, 20, 25, and 30 minutes.\n",
        "'''\n",
        "calorie_burn = 4.2\n",
        "time = 10\n",
        "\n",
        "while time <= 30:\n",
        "    calorie_total = calorie_burn * time\n",
        "    print(f\"Time: {time} minutes, Calories Burned: {calorie_total}\")\n",
        "    time = time + 5\n"
      ],
      "metadata": {
        "id": "Du8AcTTVSTOq",
        "colab": {
          "base_uri": "https://localhost:8080/"
        },
        "outputId": "7db5a80d-6ce5-4ec2-f4bb-45b05e4ea8eb"
      },
      "execution_count": null,
      "outputs": [
        {
          "output_type": "stream",
          "name": "stdout",
          "text": [
            "Time: 10 minutes, Calories Burned: 42.0\n",
            "Time: 15 minutes, Calories Burned: 63.0\n",
            "Time: 20 minutes, Calories Burned: 84.0\n",
            "Time: 25 minutes, Calories Burned: 105.0\n",
            "Time: 30 minutes, Calories Burned: 126.0\n"
          ]
        }
      ]
    },
    {
      "cell_type": "code",
      "source": [
        "#@title 4.2. Calories Burned (while loop)\n",
        "'''\n",
        "Running on a particular treadmill you burn 4.2 calories per minute. Write a program that uses a\n",
        "loop to display the number of calories burned after 10, 15, 20, 25, and 30 minutes.\n",
        "'''\n",
        "\n",
        "calorie_burn = 4.2\n",
        "time = 10\n",
        "for time in range(10, 31, 5):\n",
        "    calorie_total = calorie_burn * time\n",
        "    print(f\"Time: {time} minutes, Calories Burned: {calorie_total}\")\n"
      ],
      "metadata": {
        "colab": {
          "base_uri": "https://localhost:8080/"
        },
        "id": "MQFWODh_paZ0",
        "outputId": "e6589ffc-24d5-45d9-ce69-5c3afb2e4f5a"
      },
      "execution_count": null,
      "outputs": [
        {
          "output_type": "stream",
          "name": "stdout",
          "text": [
            "Time: 10 minutes, Calories Burned: 42.0\n",
            "Time: 15 minutes, Calories Burned: 63.0\n",
            "Time: 20 minutes, Calories Burned: 84.0\n",
            "Time: 25 minutes, Calories Burned: 105.0\n",
            "Time: 30 minutes, Calories Burned: 126.0\n"
          ]
        }
      ]
    },
    {
      "cell_type": "code",
      "source": [
        "#@title 4.3. Budget Analysis (while sentinel)\n",
        "'''\n",
        "Write a program that asks the user to enter the amount that he or she has budgeted for a month.\n",
        "A loop should then prompt the user to enter each of his or her expenses for the month and keep\n",
        "a running total. When the loop finishes, the program should display the amount that the user is\n",
        "over or under budget.\n",
        "\n",
        "'''\n",
        "\n",
        "budget = float  (input(\"What is your monthly budget?\"))\n",
        "expense = 0\n",
        "total = 0\n",
        "\n",
        "while True:\n",
        "  expense = float(input(\"enter your expense (enter 0 to end): \"))\n",
        "\n",
        "  if (float <= 0): # sentinel\n",
        "    break\n",
        "\n",
        "  total = total + expense\n",
        "\n",
        "# outside the loop\n",
        "if (total > budget):\n",
        "  print(f\"You are over budget by {total - budget}\")\n",
        "elif (total == budget):\n",
        "  print(\"You are on budget\")\n",
        "else\n",
        "  print(f\"You are under budget by {budget - total}\")"
      ],
      "metadata": {
        "id": "_zClybimS4sM"
      },
      "execution_count": null,
      "outputs": []
    },
    {
      "cell_type": "code",
      "source": [
        "#@title 4.4. Distance Analyzed (for loop)\n",
        "'''\n",
        "The distance a vehicle travels can be calculated as follows:\n",
        "distan⁡ce = speed × time\n",
        "For example, if a train travels 40 miles per hour for three hours, the distance traveled is 120\n",
        "miles. Write a program that asks the user for the speed of a vehicle (in miles per hour) and the\n",
        "number of hours it has traveled. It should then use a loop to display the distance the vehicle has\n",
        "traveled for each hour of that time period.\n",
        "'''\n",
        "\n",
        "time = int(input(\"What is the time in hours spent traveling on train?\"))\n",
        "speed = int(input(\"What is the speed in MPH of the train?\"))\n",
        "time_counter = 1\n",
        "\n",
        "for time_counter in range(1, time + 1):\n",
        "  distance = speed * time_counter\n",
        "  print(f\"Time traveled is {time_counter} hours and the speed is {speed} MPH so the total distance is {distance} miles\")\n"
      ],
      "metadata": {
        "colab": {
          "base_uri": "https://localhost:8080/"
        },
        "id": "FoJV4tlhqMGW",
        "outputId": "321a32d6-be4d-4a46-a204-a6e1b98ae0dc"
      },
      "execution_count": null,
      "outputs": [
        {
          "output_type": "stream",
          "name": "stdout",
          "text": [
            "What is the time in hours spent traveling on train?8\n",
            "What is the speed in MPH of the train?40\n",
            "Time traveled is 1 hours and the speed is 40 MPH so the total distance is 40 miles\n",
            "Time traveled is 2 hours and the speed is 40 MPH so the total distance is 80 miles\n",
            "Time traveled is 3 hours and the speed is 40 MPH so the total distance is 120 miles\n",
            "Time traveled is 4 hours and the speed is 40 MPH so the total distance is 160 miles\n",
            "Time traveled is 5 hours and the speed is 40 MPH so the total distance is 200 miles\n",
            "Time traveled is 6 hours and the speed is 40 MPH so the total distance is 240 miles\n",
            "Time traveled is 7 hours and the speed is 40 MPH so the total distance is 280 miles\n",
            "Time traveled is 8 hours and the speed is 40 MPH so the total distance is 320 miles\n"
          ]
        }
      ]
    },
    {
      "cell_type": "code",
      "source": [
        "#@title 4.4. Distance Analyzed (while loop)\n",
        "'''\n",
        "The distance a vehicle travels can be calculated as follows:\n",
        "distan⁡ce = speed × time\n",
        "For example, if a train travels 40 miles per hour for three hours, the distance traveled is 120\n",
        "miles. Write a program that asks the user for the speed of a vehicle (in miles per hour) and the\n",
        "number of hours it has traveled. It should then use a loop to display the distance the vehicle has\n",
        "traveled for each hour of that time period.\n",
        "'''\n",
        "\n",
        "time = int(input(\"What is the time in hours spent traveling on train?\"))\n",
        "speed = int(input(\"What is the speed in MPH of the train?\"))\n",
        "time_counter = 1\n",
        "\n",
        "while time_counter <= time:\n",
        "  distance = speed * time_counter\n",
        "  print(f\"Time traveled is {time_counter} hours and the speed is {speed} MPH so the total distance is {distance} miles\")\n",
        "  time_counter = time_counter + 1"
      ],
      "metadata": {
        "id": "j7Z_lwVUTCci",
        "colab": {
          "base_uri": "https://localhost:8080/"
        },
        "outputId": "17861d64-51e6-488f-e03a-85759b0629c0"
      },
      "execution_count": null,
      "outputs": [
        {
          "output_type": "stream",
          "name": "stdout",
          "text": [
            "What is the time in hours spent traveling on train?10\n",
            "What is the speed in MPH of the train?40\n",
            "Time traveled is 1 hours and the speed is 40 MPH so the total distance is 40 miles\n",
            "Time traveled is 2 hours and the speed is 40 MPH so the total distance is 80 miles\n",
            "Time traveled is 3 hours and the speed is 40 MPH so the total distance is 120 miles\n",
            "Time traveled is 4 hours and the speed is 40 MPH so the total distance is 160 miles\n",
            "Time traveled is 5 hours and the speed is 40 MPH so the total distance is 200 miles\n",
            "Time traveled is 6 hours and the speed is 40 MPH so the total distance is 240 miles\n",
            "Time traveled is 7 hours and the speed is 40 MPH so the total distance is 280 miles\n",
            "Time traveled is 8 hours and the speed is 40 MPH so the total distance is 320 miles\n",
            "Time traveled is 9 hours and the speed is 40 MPH so the total distance is 360 miles\n",
            "Time traveled is 10 hours and the speed is 40 MPH so the total distance is 400 miles\n"
          ]
        }
      ]
    },
    {
      "cell_type": "code",
      "source": [
        "#@title 4.5 Average Rainfall (nested for loop)\n",
        "'''\n",
        "Write a program that uses nested loops to collect data and calculate the average rainfall over a\n",
        "period of years. The program should first ask for the number of years. The outer loop will\n",
        "iterate once for each year. The inner loop will iterate twelve times, once for each month. Each\n",
        "iteration of the inner loop will ask the user for the inches of rainfall for that month. After all\n",
        "iterations, the program should display the number of months, the total inches of rainfall, and the\n",
        "average rainfall per month for the entire period.\n",
        "'''"
      ],
      "metadata": {
        "id": "Weq3Ei1kTUIs"
      },
      "execution_count": null,
      "outputs": []
    },
    {
      "cell_type": "code",
      "source": [
        "#@title 4.5 Average Rainfall (nested while loop)\n",
        "'''\n",
        "Write a program that uses nested loops to collect data and calculate the average rainfall over a\n",
        "period of years. The program should first ask for the number of years. The outer loop will\n",
        "iterate once for each year. The inner loop will iterate twelve times, once for each month. Each\n",
        "iteration of the inner loop will ask the user for the inches of rainfall for that month. After all\n",
        "iterations, the program should display the number of months, the total inches of rainfall, and the\n",
        "average rainfall per month for the entire period.\n",
        "'''"
      ],
      "metadata": {
        "id": "Xq3aY9JNRc-a"
      },
      "execution_count": null,
      "outputs": []
    },
    {
      "cell_type": "code",
      "source": [
        "#@title 4.6 Celsius to Fahrenheit Table (for loop)\n",
        "\n",
        "'''\n",
        "Write a program that displays a table of the Celsius temperatures 0 through 20 and their\n",
        "Fahrenheit equivalents. The formula for converting a temperature from Celsius to Fahrenheit is\n",
        "F= 95 C + 32\n",
        "where F is the Fahrenheit temperature, and C is the Celsius temperature. Your program must\n",
        "use a loop to display the table.\n",
        "'''\n"
      ],
      "metadata": {
        "id": "hi9QFNY5TecE",
        "colab": {
          "base_uri": "https://localhost:8080/"
        },
        "outputId": "662eb857-0f3d-4bad-82ee-61cc1ed21426"
      },
      "execution_count": null,
      "outputs": [
        {
          "output_type": "stream",
          "name": "stdout",
          "text": [
            "Celsius  Fahrenheit\n",
            "0 32\n",
            "1 127\n",
            "2 222\n",
            "3 317\n",
            "4 412\n",
            "5 507\n",
            "6 602\n",
            "7 697\n",
            "8 792\n",
            "9 887\n",
            "10 982\n",
            "11 1077\n",
            "12 1172\n",
            "13 1267\n",
            "14 1362\n",
            "15 1457\n",
            "16 1552\n",
            "17 1647\n",
            "18 1742\n",
            "19 1837\n",
            "20 1932\n"
          ]
        }
      ]
    },
    {
      "cell_type": "code",
      "source": [
        "#@title 4.6 Celsius to Fahrenheit Table (while loop)\n",
        "\n",
        "'''\n",
        "Write a program that displays a table of the Celsius temperatures 0 through 20 and their\n",
        "Fahrenheit equivalents. The formula for converting a temperature from Celsius to Fahrenheit is\n",
        "F= 95 C + 32\n",
        "where F is the Fahrenheit temperature, and C is the Celsius temperature. Your program must\n",
        "use a loop to display the table.\n",
        "'''\n"
      ],
      "metadata": {
        "id": "XJm9r7G8Rgfc"
      },
      "execution_count": null,
      "outputs": []
    },
    {
      "cell_type": "code",
      "source": [
        "# 4.6. Using the for loop\n"
      ],
      "metadata": {
        "colab": {
          "base_uri": "https://localhost:8080/"
        },
        "id": "bD3XJnOAT6o4",
        "outputId": "68976c21-f0ce-49fd-9434-27a3b554150b"
      },
      "execution_count": null,
      "outputs": [
        {
          "output_type": "stream",
          "name": "stdout",
          "text": [
            "Celsius  Fahrenheit\n",
            "0 32\n",
            "1 127\n",
            "2 222\n",
            "3 317\n",
            "4 412\n",
            "5 507\n",
            "6 602\n",
            "7 697\n",
            "8 792\n",
            "9 887\n",
            "10 982\n",
            "11 1077\n",
            "12 1172\n",
            "13 1267\n",
            "14 1362\n",
            "15 1457\n",
            "16 1552\n",
            "17 1647\n",
            "18 1742\n",
            "19 1837\n",
            "20 1932\n"
          ]
        }
      ]
    },
    {
      "cell_type": "code",
      "source": [
        "#@title 4.7. Pennies for Pay (for loop)\n",
        "'''\n",
        "Write a program that calculates the amount of money a person would earn over a period of time\n",
        "if his or her salary is one penny the first day, two pennies the second day, and continues to\n",
        "double each day. The program should ask the user for the number of days. Display a table\n",
        "showing what the salary was for each day, then show the total pay at the end of the period. The\n",
        "output should be displayed in a dollar amount, not the number of pennies.\n",
        "'''\n"
      ],
      "metadata": {
        "id": "Bl7bxUO8SgQT",
        "colab": {
          "base_uri": "https://localhost:8080/"
        },
        "outputId": "a508c45e-0c3f-4972-c4a6-3a7e079d8c25"
      },
      "execution_count": null,
      "outputs": [
        {
          "output_type": "stream",
          "name": "stdout",
          "text": [
            "Enter the number of days: 6\n",
            "Day\tSalary\n",
            "-----------------\n",
            "1\t$0.01\n",
            "2\t$0.02\n",
            "3\t$0.04\n",
            "4\t$0.08\n",
            "5\t$0.16\n",
            "6\t$0.32\n",
            "Total pay: $ 0.64\n"
          ]
        }
      ]
    },
    {
      "cell_type": "code",
      "source": [
        "#@title 4.7 Pennies for Pay (using While loop)\n",
        "# version 2: while loop\n"
      ],
      "metadata": {
        "colab": {
          "base_uri": "https://localhost:8080/"
        },
        "id": "vmAeqzSPU8mA",
        "outputId": "8a467e95-88b7-4d0b-f953-99d67692161f"
      },
      "execution_count": null,
      "outputs": [
        {
          "output_type": "stream",
          "name": "stdout",
          "text": [
            "Enter the number of days: 5\n",
            "Day\tSalary\n",
            "-----------------\n",
            "1\t$0.01\n",
            "2\t$0.02\n",
            "3\t$0.04\n",
            "4\t$0.08\n",
            "5\t$0.16\n",
            "Total pay: $ 0.31000000000000005\n"
          ]
        }
      ]
    },
    {
      "cell_type": "code",
      "source": [
        "#@title 4.8. Sum of Numbers (while loop sentinel)\n",
        "'''\n",
        "Write a program with a loop that asks the user to enter a series of positive numbers. The user should enter a negative number to signal the end of the series. After all the positive numbers have been entered, the program should display their sum.\n",
        "'''\n",
        "\n"
      ],
      "metadata": {
        "id": "Hbym9-rNRl36"
      },
      "execution_count": null,
      "outputs": []
    },
    {
      "cell_type": "code",
      "source": [
        "#@title 4.9. Ocean Levels (for loop)\n",
        "'''\n",
        "Assuming the ocean’s level is currently rising at about 1.6 millimeters per year, create an\n",
        "application that displays the number of millimeters that the ocean will have risen each year for\n",
        "the next 25 years.\n",
        "'''\n",
        "\n"
      ],
      "metadata": {
        "id": "GaYD3ayyTu6K",
        "colab": {
          "base_uri": "https://localhost:8080/"
        },
        "outputId": "438c7d11-f466-464e-8b0e-a498defc5cc2"
      },
      "execution_count": null,
      "outputs": [
        {
          "output_type": "stream",
          "name": "stdout",
          "text": [
            "OUTPUT FOR WHILE LOOP\n",
            "0 year :  2023 ocean level : 2000\n",
            "1 year :  2024 ocean level : 2001.6\n",
            "2 year :  2025 ocean level : 2003.1999999999998\n",
            "3 year :  2026 ocean level : 2004.7999999999997\n",
            "4 year :  2027 ocean level : 2006.3999999999996\n",
            "5 year :  2028 ocean level : 2007.9999999999995\n",
            "6 year :  2029 ocean level : 2009.5999999999995\n",
            "7 year :  2030 ocean level : 2011.1999999999994\n",
            "8 year :  2031 ocean level : 2012.7999999999993\n",
            "9 year :  2032 ocean level : 2014.3999999999992\n",
            "10 year :  2033 ocean level : 2015.999999999999\n",
            "11 year :  2034 ocean level : 2017.599999999999\n",
            "12 year :  2035 ocean level : 2019.199999999999\n",
            "13 year :  2036 ocean level : 2020.7999999999988\n",
            "14 year :  2037 ocean level : 2022.3999999999987\n",
            "15 year :  2038 ocean level : 2023.9999999999986\n",
            "16 year :  2039 ocean level : 2025.5999999999985\n",
            "17 year :  2040 ocean level : 2027.1999999999985\n",
            "18 year :  2041 ocean level : 2028.7999999999984\n",
            "19 year :  2042 ocean level : 2030.3999999999983\n",
            "20 year :  2043 ocean level : 2031.9999999999982\n",
            "21 year :  2044 ocean level : 2033.599999999998\n",
            "22 year :  2045 ocean level : 2035.199999999998\n",
            "23 year :  2046 ocean level : 2036.799999999998\n",
            "24 year :  2047 ocean level : 2038.3999999999978\n"
          ]
        }
      ]
    },
    {
      "cell_type": "code",
      "source": [
        "#@title 4.9. Ocean Levels (while loop)\n",
        "'''\n",
        "Assuming the ocean’s level is currently rising at about 1.6 millimeters per year, create an\n",
        "application that displays the number of millimeters that the ocean will have risen each year for\n",
        "the next 25 years.\n",
        "'''\n",
        "\n"
      ],
      "metadata": {
        "id": "s3iSZqi9Rp1b"
      },
      "execution_count": null,
      "outputs": []
    },
    {
      "cell_type": "code",
      "source": [
        "#@title 4.10. Tuition Increase (for loop)\n",
        "'''\n",
        "At one college, the tuition for a full-time student is $8,000 per semester. It has been announced\n",
        "that the tuition will increase by 3 percent each year for the next 5 years. Write a program with a\n",
        "loop that displays the projected semester tuition amount for the next 5 years.\n",
        "'''\n",
        "\n"
      ],
      "metadata": {
        "id": "rCleQgCTT4Di"
      },
      "execution_count": null,
      "outputs": []
    },
    {
      "cell_type": "code",
      "source": [
        "#@title 4.10. Tuition Increase (while loop)\n",
        "'''\n",
        "At one college, the tuition for a full-time student is $8,000 per semester. It has been announced\n",
        "that the tuition will increase by 3 percent each year for the next 5 years. Write a program with a\n",
        "loop that displays the projected semester tuition amount for the next 5 years.\n",
        "'''"
      ],
      "metadata": {
        "id": "QpwRMKppQ8CS"
      },
      "execution_count": null,
      "outputs": []
    },
    {
      "cell_type": "code",
      "source": [
        "#@title 4.11. Weight Loss (for loop)\n",
        "\n",
        "'''\n",
        "If a moderately active person cuts their calorie intake by 500 calories a day, they can typically\n",
        "lose about 4 pounds a month. Write a program that lets the user enter their starting weight, then\n",
        "creates and displays a table showing what their expected weight will be at the end of each\n",
        "month for the next 6 months if they stay on this diet.\n",
        "'''"
      ],
      "metadata": {
        "id": "3uXp9EhzUKnF"
      },
      "execution_count": null,
      "outputs": []
    },
    {
      "cell_type": "code",
      "source": [
        "#@title 4.11. Weight Loss (while loop)\n",
        "\n",
        "'''\n",
        "If a moderately active person cuts their calorie intake by 500 calories a day, they can typically\n",
        "lose about 4 pounds a month. Write a program that lets the user enter their starting weight, then\n",
        "creates and displays a table showing what their expected weight will be at the end of each\n",
        "month for the next 6 months if they stay on this diet.\n",
        "'''"
      ],
      "metadata": {
        "id": "TzSR9qwkRwIc"
      },
      "execution_count": null,
      "outputs": []
    },
    {
      "cell_type": "code",
      "source": [
        "#@title 4.12. Calculating the Factorial of a Number (for loop)\n",
        "'''\n",
        "In mathematics, the notation n! represents the factorial of the nonnegative integer n. The\n",
        "factorial of n is the product of all the nonnegative integers from 1 to n. For example,\n",
        "7!=1×2×3×4×5×6×7=5,040\n",
        "and\n",
        "4!=1×2×3×4=24\n",
        "Write a program that lets the user enter a nonnegative integer then uses a loop to calculate the\n",
        "factorial of that number. Display the factorial.\n",
        "'''\n"
      ],
      "metadata": {
        "id": "Xph53gfpUQYM"
      },
      "execution_count": null,
      "outputs": []
    },
    {
      "cell_type": "code",
      "source": [
        "#@title 4.12. Calculating the Factorial of a Number (while loop)\n",
        "'''\n",
        "In mathematics, the notation n! represents the factorial of the nonnegative integer n. The\n",
        "factorial of n is the product of all the nonnegative integers from 1 to n. For example,\n",
        "7!=1×2×3×4×5×6×7=5,040\n",
        "and\n",
        "4!=1×2×3×4=24\n",
        "Write a program that lets the user enter a nonnegative integer then uses a loop to calculate the\n",
        "factorial of that number. Display the factorial.\n",
        "'''\n"
      ],
      "metadata": {
        "id": "SUvWkSG6RCQi"
      },
      "execution_count": null,
      "outputs": []
    },
    {
      "cell_type": "code",
      "source": [
        "#@title 4.13. Population (for loop)\n",
        "'''\n",
        "Write a program that predicts the approximate size of a population of organisms. The\n",
        "application should use text boxes to allow the user to enter the starting number of organisms,\n",
        "the average daily population increase (as a percentage), and the number of days the organisms\n",
        "will be left to multiply. For example, assume the user enters the following values:\n",
        "Starting number of organisms: 2\n",
        "Average daily increase: 30%\n",
        "Number of days to multiply: 10\n",
        "The program should display the following table of data:\n",
        "'''\n"
      ],
      "metadata": {
        "id": "_z8P2c44UaNL"
      },
      "execution_count": null,
      "outputs": []
    },
    {
      "cell_type": "code",
      "source": [
        "#@title 4.13. Population (while loop)\n",
        "'''\n",
        "Write a program that predicts the approximate size of a population of organisms. The\n",
        "application should use text boxes to allow the user to enter the starting number of organisms,\n",
        "the average daily population increase (as a percentage), and the number of days the organisms\n",
        "will be left to multiply. For example, assume the user enters the following values:\n",
        "Starting number of organisms: 2\n",
        "Average daily increase: 30%\n",
        "Number of days to multiply: 10\n",
        "The program should display the following table of data:\n",
        "'''\n"
      ],
      "metadata": {
        "id": "PNnTb8LSR0JM"
      },
      "execution_count": null,
      "outputs": []
    },
    {
      "cell_type": "code",
      "source": [
        "#@title 4.14. Nested Loop #1 (for loop)\n",
        "'''\n",
        "Write a program that uses nested loops to draw this pattern:\n",
        "*******\n",
        "******\n",
        "*****\n",
        "****\n",
        "***\n",
        "**\n",
        "*\n",
        "'''\n"
      ],
      "metadata": {
        "id": "Oje2JemeUjUj"
      },
      "execution_count": null,
      "outputs": []
    },
    {
      "cell_type": "code",
      "source": [
        "#@title 4.14. Nested Loop #1 (while loop)\n",
        "'''\n",
        "Write a program that uses nested loops to draw this pattern:\n",
        "*******\n",
        "******\n",
        "*****\n",
        "****\n",
        "***\n",
        "**\n",
        "*\n",
        "'''\n"
      ],
      "metadata": {
        "id": "Wv-1Lhv6R87i"
      },
      "execution_count": null,
      "outputs": []
    },
    {
      "cell_type": "code",
      "source": [
        "#@title 4.15. Nested Loop #2 (for loop)\n",
        "Write a program that uses nested loops to draw this pattern:\n",
        "##\n",
        "#  #\n",
        "#   #\n",
        "#    #\n",
        "#     #\n",
        "#      #\n"
      ],
      "metadata": {
        "id": "0rkjr5Q6Uwxj"
      },
      "execution_count": null,
      "outputs": []
    },
    {
      "cell_type": "code",
      "source": [
        "#@title 4.15. Nested Loop #2 (while loop)\n",
        "Write a program that uses nested loops to draw this pattern:\n",
        "##\n",
        "#  #\n",
        "#   #\n",
        "#    #\n",
        "#     #\n",
        "#      #\n"
      ],
      "metadata": {
        "id": "6CSfBAjHSALx"
      },
      "execution_count": null,
      "outputs": []
    }
  ]
}
