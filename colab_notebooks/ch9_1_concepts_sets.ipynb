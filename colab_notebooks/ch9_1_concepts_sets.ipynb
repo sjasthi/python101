{
  "nbformat": 4,
  "nbformat_minor": 0,
  "metadata": {
    "colab": {
      "provenance": [],
      "toc_visible": true
    },
    "kernelspec": {
      "name": "python3",
      "display_name": "Python 3"
    },
    "language_info": {
      "name": "python"
    }
  },
  "cells": [
    {
      "cell_type": "markdown",
      "source": [
        "# Sets: An introduction\n",
        "### Python 101\n",
        "### Siva.Jasthi@metrostate.edu\n",
        "\n",
        "### https://www.w3schools.com/python/python_ref_set.asp\n",
        "\n"
      ],
      "metadata": {
        "id": "P-lbl6dI6UY9"
      }
    },
    {
      "cell_type": "code",
      "execution_count": null,
      "metadata": {
        "colab": {
          "base_uri": "https://localhost:8080/"
        },
        "id": "ip7inLAa2vE4",
        "outputId": "3026a0b5-e772-4120-8582-2ab617eab180"
      },
      "outputs": [
        {
          "output_type": "stream",
          "name": "stdout",
          "text": [
            "add\n",
            "clear\n",
            "copy\n",
            "difference\n",
            "difference_update\n",
            "discard\n",
            "intersection\n",
            "intersection_update\n",
            "isdisjoint\n",
            "issubset\n",
            "issuperset\n",
            "pop\n",
            "remove\n",
            "symmetric_difference\n",
            "symmetric_difference_update\n",
            "union\n",
            "update\n"
          ]
        }
      ],
      "source": [
        "#@title What are all Set methods?\n",
        "set_functions = dir(set)\n",
        "for fn in set_functions:\n",
        "  if '__' not in fn:\n",
        "    print(fn)"
      ]
    },
    {
      "cell_type": "code",
      "source": [
        "#@title Get help on the set methods\n",
        "help(set.discard)"
      ],
      "metadata": {
        "colab": {
          "base_uri": "https://localhost:8080/"
        },
        "id": "IKUboknW1U9o",
        "outputId": "2ab2b3a0-09c6-435a-c9c6-305b4a244c06"
      },
      "execution_count": null,
      "outputs": [
        {
          "output_type": "stream",
          "name": "stdout",
          "text": [
            "Help on method_descriptor:\n",
            "\n",
            "discard(...)\n",
            "    Remove an element from a set if it is a member.\n",
            "    \n",
            "    If the element is not a member, do nothing.\n",
            "\n"
          ]
        }
      ]
    },
    {
      "cell_type": "code",
      "source": [
        "#@title Creating an empty set\n",
        "set_x = {}  # Do not use this construct. This is a \"dict\"\n",
        "set_x = set()\n",
        "print(type(set_x))\n",
        "if type(set_x) == set:\n",
        "  print(\"set_x is a set\")\n"
      ],
      "metadata": {
        "colab": {
          "base_uri": "https://localhost:8080/"
        },
        "id": "H9DLvh6F3AwR",
        "outputId": "f4b41748-f9ef-45d2-f866-a4d653e2bdb6"
      },
      "execution_count": null,
      "outputs": [
        {
          "output_type": "stream",
          "name": "stdout",
          "text": [
            "<class 'set'>\n",
            "set_x is a set\n"
          ]
        }
      ]
    },
    {
      "cell_type": "code",
      "source": [
        "#@title Creating a set with some elements\n",
        "set_x = {3,4,5}\n",
        "print(set_x)"
      ],
      "metadata": {
        "colab": {
          "base_uri": "https://localhost:8080/"
        },
        "id": "amAebJVDgemB",
        "outputId": "00550e68-f5f9-4179-fb73-cd1abd28aa2a"
      },
      "execution_count": null,
      "outputs": [
        {
          "output_type": "stream",
          "name": "stdout",
          "text": [
            "{3, 4, 5}\n"
          ]
        }
      ]
    },
    {
      "cell_type": "code",
      "source": [
        "#@title Adding elements to the set\n",
        "set_x = set()\n",
        "\n",
        "set_x.add(10)\n",
        "print(set_x)\n",
        "\n",
        "set_x.add(20)\n",
        "print(set_x)\n",
        "\n",
        "set_x.add(30)\n",
        "print(set_x)\n",
        "\n",
        "# add() takes only one argument. You can not give multiple arguments to add() method.\n",
        "#set_x.add(30,40)\n",
        "\n"
      ],
      "metadata": {
        "colab": {
          "base_uri": "https://localhost:8080/",
          "height": 279
        },
        "id": "JbKt2bifp86u",
        "outputId": "8ad47324-138d-40ee-82a4-7d34aa50c954"
      },
      "execution_count": null,
      "outputs": [
        {
          "output_type": "stream",
          "name": "stdout",
          "text": [
            "{10}\n",
            "{10, 20}\n",
            "{10, 20, 30}\n"
          ]
        },
        {
          "output_type": "error",
          "ename": "TypeError",
          "evalue": "ignored",
          "traceback": [
            "\u001b[0;31m---------------------------------------------------------------------------\u001b[0m",
            "\u001b[0;31mTypeError\u001b[0m                                 Traceback (most recent call last)",
            "\u001b[0;32m<ipython-input-4-8a9b28d27f1f>\u001b[0m in \u001b[0;36m<cell line: 14>\u001b[0;34m()\u001b[0m\n\u001b[1;32m     12\u001b[0m \u001b[0;34m\u001b[0m\u001b[0m\n\u001b[1;32m     13\u001b[0m \u001b[0;31m# add() takes only one argument. You can not give multiple arguments to add() method.\u001b[0m\u001b[0;34m\u001b[0m\u001b[0;34m\u001b[0m\u001b[0m\n\u001b[0;32m---> 14\u001b[0;31m \u001b[0mset_x\u001b[0m\u001b[0;34m.\u001b[0m\u001b[0madd\u001b[0m\u001b[0;34m(\u001b[0m\u001b[0;36m30\u001b[0m\u001b[0;34m,\u001b[0m\u001b[0;36m40\u001b[0m\u001b[0;34m)\u001b[0m\u001b[0;34m\u001b[0m\u001b[0;34m\u001b[0m\u001b[0m\n\u001b[0m\u001b[1;32m     15\u001b[0m \u001b[0;34m\u001b[0m\u001b[0m\n",
            "\u001b[0;31mTypeError\u001b[0m: set.add() takes exactly one argument (2 given)"
          ]
        }
      ]
    },
    {
      "cell_type": "code",
      "source": [
        "#@title Sets can't contain duplicates\n",
        "set_x = set()\n",
        "\n",
        "set_x.add(10)\n",
        "set_x.add(30)\n",
        "set_x.add(20)\n",
        "print('#1. Set : ', set_x)\n",
        "\n",
        "# Adding a duplicate elements\n",
        "# These are simply ignored\n",
        "set_x.add(10)\n",
        "set_x.add(30)\n",
        "print('#2. Set : ', set_x)\n",
        "\n",
        "# But you can add a new unique element\n",
        "set_x.add(50)\n",
        "print('#3. Set : ', set_x)\n"
      ],
      "metadata": {
        "colab": {
          "base_uri": "https://localhost:8080/"
        },
        "id": "sdgZgH5D8kA3",
        "outputId": "7c067f9e-4610-4284-a693-8b832000c527"
      },
      "execution_count": null,
      "outputs": [
        {
          "output_type": "stream",
          "name": "stdout",
          "text": [
            "#1. Set :  {10, 20, 30}\n",
            "#2. Set :  {10, 20, 30}\n",
            "#3. Set :  {10, 20, 50, 30}\n"
          ]
        }
      ]
    },
    {
      "cell_type": "code",
      "source": [
        "#@title Creating a set from a list or tuple\n",
        "seq = [10, 20, 30, 10, 40]\n",
        "#seq = (10, 20, 30, 10, 40)\n",
        "my_set = set(seq)\n",
        "\n",
        "print('List: ', seq)\n",
        "print('Length of list/tuple: ', len(seq))\n",
        "print('Set: ', my_set)\n",
        "print('Length of Set: ', len(my_set))\n",
        "\n",
        "print('\\n\\n----- Observations ----------')\n",
        "print('List/Tuple is ordered while Set is not ordered')\n",
        "print('List/Tuple can contain duplicates. But Set can not contain duplicates')"
      ],
      "metadata": {
        "colab": {
          "base_uri": "https://localhost:8080/"
        },
        "id": "IPp-HF8gOo0A",
        "outputId": "58003770-9e5d-4d45-eca6-46f7019554e6"
      },
      "execution_count": null,
      "outputs": [
        {
          "output_type": "stream",
          "name": "stdout",
          "text": [
            "List:  [10, 20, 30, 10, 40]\n",
            "Length of list/tuple:  5\n",
            "Set:  {40, 10, 20, 30}\n",
            "Length of Set:  4\n",
            "\n",
            "\n",
            "----- Observations ----------\n",
            "List/Tuple is ordered while Set is not ordered\n",
            "List/Tuple can contain duplicates. But Set can not contain duplicates\n"
          ]
        }
      ]
    },
    {
      "cell_type": "code",
      "source": [
        "#@title Cool example: Finding whether a list has duplicates\n",
        "# Find whether a list has any duplicate elements\n",
        "\n",
        "# Version 1\n",
        "nums = [1, 2, 4, 5, 2]\n",
        "nums = [1, 2, 4, 5]\n",
        "\n",
        "has_duplicates = False\n",
        "for elem in nums:\n",
        "    count_of_elem = nums.count(elem)\n",
        "    if count_of_elem > 1:\n",
        "        has_duplicates = True\n",
        "        print(\"List does contain duplicates\")\n",
        "        break\n",
        "else:\n",
        "    print(\"List does not contain duplicates\")\n",
        "\n",
        "# Version 2\n",
        "\n",
        "nums = [1, 2, 4, 5, 2]\n",
        "print(\" Does the List contain duplicates? = \", len(nums)  != len(set(nums)) )\n"
      ],
      "metadata": {
        "id": "YzLUcmkI1tTj"
      },
      "execution_count": null,
      "outputs": []
    },
    {
      "cell_type": "code",
      "source": [
        "#@title Creating a set from Dictionary keys\n",
        "my_dict = { 1: 'a', 2: 'b', 3: 'c', 4: 'c'}\n",
        "\n",
        "my_set = set(my_dict.keys())\n",
        "#my_set = set(my_dict)\n",
        "\n",
        "print(my_set)"
      ],
      "metadata": {
        "colab": {
          "base_uri": "https://localhost:8080/"
        },
        "id": "4MaO9JXyQM4p",
        "outputId": "c4730f7a-4335-4dca-b8c0-015ec0e94368"
      },
      "execution_count": null,
      "outputs": [
        {
          "output_type": "stream",
          "name": "stdout",
          "text": [
            "{1, 2, 3, 4}\n"
          ]
        }
      ]
    },
    {
      "cell_type": "code",
      "source": [
        "#@title Creating a set from Dictionary Values\n",
        "my_dict = { 1: 'a', 2: 'b', 3: 'c'}\n",
        "my_set = set(my_dict.values())\n",
        "print(my_set)"
      ],
      "metadata": {
        "colab": {
          "base_uri": "https://localhost:8080/"
        },
        "id": "N4YhLYQgQm4S",
        "outputId": "4d304dba-302d-4c64-87bf-5969f3dcd7a6"
      },
      "execution_count": null,
      "outputs": [
        {
          "output_type": "stream",
          "name": "stdout",
          "text": [
            "{'b', 'a', 'c'}\n"
          ]
        }
      ]
    },
    {
      "cell_type": "code",
      "source": [
        "#@title Creating a set from a string\n",
        "my_set = set('abracadabra')\n",
        "print(my_set)"
      ],
      "metadata": {
        "colab": {
          "base_uri": "https://localhost:8080/"
        },
        "id": "e0DjVQk3Hbsv",
        "outputId": "1e3319b7-9f83-409c-cd82-c8ed8690db01"
      },
      "execution_count": null,
      "outputs": [
        {
          "output_type": "stream",
          "name": "stdout",
          "text": [
            "{'c', 'r', 'a', 'b', 'd'}\n"
          ]
        }
      ]
    },
    {
      "cell_type": "code",
      "source": [
        "#@title Can't do: Accessing items by index\n",
        "set_x = set()\n",
        "set_x.add(10)\n",
        "set_x.add(20)\n",
        "set_x.add(30)\n",
        "\n",
        "# following is not possible\n",
        "y = set_x[0]"
      ],
      "metadata": {
        "colab": {
          "base_uri": "https://localhost:8080/",
          "height": 201
        },
        "id": "0xIkVs7vxdNd",
        "outputId": "f9d90857-eeb3-4664-c61c-1b331b1d8ac3"
      },
      "execution_count": null,
      "outputs": [
        {
          "output_type": "error",
          "ename": "TypeError",
          "evalue": "ignored",
          "traceback": [
            "\u001b[0;31m---------------------------------------------------------------------------\u001b[0m",
            "\u001b[0;31mTypeError\u001b[0m                                 Traceback (most recent call last)",
            "\u001b[0;32m<ipython-input-13-d6376a336aca>\u001b[0m in \u001b[0;36m<cell line: 8>\u001b[0;34m()\u001b[0m\n\u001b[1;32m      6\u001b[0m \u001b[0;34m\u001b[0m\u001b[0m\n\u001b[1;32m      7\u001b[0m \u001b[0;31m# following is not possible\u001b[0m\u001b[0;34m\u001b[0m\u001b[0;34m\u001b[0m\u001b[0m\n\u001b[0;32m----> 8\u001b[0;31m \u001b[0my\u001b[0m \u001b[0;34m=\u001b[0m \u001b[0mset_x\u001b[0m\u001b[0;34m[\u001b[0m\u001b[0;36m0\u001b[0m\u001b[0;34m]\u001b[0m\u001b[0;34m\u001b[0m\u001b[0;34m\u001b[0m\u001b[0m\n\u001b[0m",
            "\u001b[0;31mTypeError\u001b[0m: 'set' object is not subscriptable"
          ]
        }
      ]
    },
    {
      "cell_type": "code",
      "source": [
        "#@title Can't do: Setting items by index\n",
        "set_x = set()\n",
        "set_x.add(10)\n",
        "set_x.add(20)\n",
        "set_x.add(30)\n",
        "\n",
        "# following is not possible\n",
        "set_x[4] = 99"
      ],
      "metadata": {
        "colab": {
          "base_uri": "https://localhost:8080/",
          "height": 201
        },
        "id": "ZM6okt-PSBUI",
        "outputId": "b88d23e6-ffcc-4586-e3a4-0de4f8e0cc99"
      },
      "execution_count": null,
      "outputs": [
        {
          "output_type": "error",
          "ename": "TypeError",
          "evalue": "ignored",
          "traceback": [
            "\u001b[0;31m---------------------------------------------------------------------------\u001b[0m",
            "\u001b[0;31mTypeError\u001b[0m                                 Traceback (most recent call last)",
            "\u001b[0;32m<ipython-input-14-9508968ba6c0>\u001b[0m in \u001b[0;36m<cell line: 8>\u001b[0;34m()\u001b[0m\n\u001b[1;32m      6\u001b[0m \u001b[0;34m\u001b[0m\u001b[0m\n\u001b[1;32m      7\u001b[0m \u001b[0;31m# following is not possible\u001b[0m\u001b[0;34m\u001b[0m\u001b[0;34m\u001b[0m\u001b[0m\n\u001b[0;32m----> 8\u001b[0;31m \u001b[0mset_x\u001b[0m\u001b[0;34m[\u001b[0m\u001b[0;36m4\u001b[0m\u001b[0;34m]\u001b[0m \u001b[0;34m=\u001b[0m \u001b[0;36m99\u001b[0m\u001b[0;34m\u001b[0m\u001b[0;34m\u001b[0m\u001b[0m\n\u001b[0m",
            "\u001b[0;31mTypeError\u001b[0m: 'set' object does not support item assignment"
          ]
        }
      ]
    },
    {
      "cell_type": "code",
      "source": [
        "#@title Traversal of the sets using for loop\n",
        "set_x = set()\n",
        "set_x.add('john doe')\n",
        "set_x.add('john.doe@gmail.com')\n",
        "set_x.add(40)\n",
        "set_x.add(2000.56)\n",
        "\n",
        "# traverse the set using the for loop\n",
        "for elem in set_x:\n",
        "  print(elem)"
      ],
      "metadata": {
        "colab": {
          "base_uri": "https://localhost:8080/"
        },
        "id": "o-IZwlV_-Jr_",
        "outputId": "f8170bd9-f8df-498f-9e2e-9ac4258650d9"
      },
      "execution_count": null,
      "outputs": [
        {
          "output_type": "stream",
          "name": "stdout",
          "text": [
            "40\n",
            "john.doe@gmail.com\n",
            "john doe\n",
            "2000.56\n"
          ]
        }
      ]
    },
    {
      "cell_type": "code",
      "source": [
        "#@title Different ways of printing the set\n",
        "set_x = {'mon', 'tue', 'wed', 'thu', 'fri', 'sat', 'sun'}\n",
        "print('\\nprint(set_x)')\n",
        "print(set_x)\n",
        "\n",
        "print('\\nprint(*set_x)')\n",
        "print(*set_x)\n",
        "\n",
        "print(\"\\nprint(*set_x, sep=',')\")\n",
        "print(*set_x, sep=', ')\n",
        "\n",
        "print(\"\\nprint through traversal\")\n",
        "for x in set_x:\n",
        "  print(x)"
      ],
      "metadata": {
        "colab": {
          "base_uri": "https://localhost:8080/"
        },
        "id": "i7bWPZY1uHyb",
        "outputId": "ab0035f2-39ae-479e-b409-345643faf33f"
      },
      "execution_count": null,
      "outputs": [
        {
          "output_type": "stream",
          "name": "stdout",
          "text": [
            "\n",
            "print(set_x)\n",
            "{'wed', 'mon', 'sun', 'tue', 'fri', 'thu', 'sat'}\n",
            "\n",
            "print(*set_x)\n",
            "wed mon sun tue fri thu sat\n",
            "\n",
            "print(*set_x, sep=',')\n",
            "wed, mon, sun, tue, fri, thu, sat\n",
            "\n",
            "print through traversal\n",
            "wed\n",
            "mon\n",
            "sun\n",
            "tue\n",
            "fri\n",
            "thu\n",
            "sat\n"
          ]
        }
      ]
    },
    {
      "cell_type": "code",
      "source": [
        "#@title Sets are NOT ordered (the order you add != the order you want to see)\n",
        "set_x = set()\n",
        "set_x.add(10)\n",
        "set_x.add(30)\n",
        "set_x.add(20)\n",
        "set_x.add(40)\n",
        "set_x.add(50)\n",
        "\n",
        "print(\"Order of adding: 10, 30, 20, 40, 50\")\n",
        "print(\"Order in the set\", set_x)"
      ],
      "metadata": {
        "colab": {
          "base_uri": "https://localhost:8080/"
        },
        "id": "Sp1D-wCg7C53",
        "outputId": "787c8e51-64d1-4c82-d119-7f20fa1d08e6"
      },
      "execution_count": null,
      "outputs": [
        {
          "output_type": "stream",
          "name": "stdout",
          "text": [
            "Order of adding: 10, 30, 20, 40, 50\n",
            "Order in the set {40, 10, 50, 20, 30}\n"
          ]
        }
      ]
    },
    {
      "cell_type": "code",
      "source": [
        "#@title Removing an item (remove()- may get KEY ERROR)\n",
        "set_x = set()\n",
        "set_x.add(10)\n",
        "set_x.add(30)\n",
        "set_x.add(20)\n",
        "set_x.add(40)\n",
        "set_x.add(50)\n",
        "\n",
        "print(\"Before removal, the set = \", set_x)\n",
        "set_x.remove(20)\n",
        "print(\"After removing 20, the set = \", set_x)\n",
        "\n",
        "set_x.remove(20)\n",
        "\n",
        "set_x.discard(20)"
      ],
      "metadata": {
        "colab": {
          "base_uri": "https://localhost:8080/"
        },
        "id": "fbLghc6s-fjb",
        "outputId": "01e3e640-5065-46fb-bab3-94d2a58f4f30"
      },
      "execution_count": null,
      "outputs": [
        {
          "output_type": "stream",
          "name": "stdout",
          "text": [
            "Before removal, the set =  {40, 10, 50, 20, 30}\n",
            "After removing 20, the set =  {40, 10, 50, 30}\n"
          ]
        }
      ]
    },
    {
      "cell_type": "code",
      "source": [
        "#@title Removing an item (discard() - will not get KEY ERROR\n",
        "set_x = set()\n",
        "set_x.add(10)\n",
        "set_x.add(30)\n",
        "set_x.add(20)\n",
        "set_x.add(40)\n",
        "set_x.add(50)\n",
        "\n",
        "print(\"Before discard, the set = \", set_x)\n",
        "set_x.discard(20)\n",
        "print(\"After discard 20, the set = \", set_x)\n",
        "\n",
        "\n",
        "# you can try to discard an element that doesn't exist\n",
        "# it will be simply ignored; You will ot get KEY ERROR\n",
        "print('Discarding a non-existing element will be ignored')\n",
        "set_x.discard(99)\n",
        "\n",
        "\n",
        "x = set_x.discard(60)\n",
        "print('discard() returns: ', x)"
      ],
      "metadata": {
        "colab": {
          "base_uri": "https://localhost:8080/"
        },
        "id": "y1WBBTXECe-v",
        "outputId": "9f789adf-1ee9-449e-b193-96c4f4bb2e0c"
      },
      "execution_count": null,
      "outputs": [
        {
          "output_type": "stream",
          "name": "stdout",
          "text": [
            "Before discard, the set =  {40, 10, 50, 20, 30}\n",
            "After discard 20, the set =  {40, 10, 50, 30}\n",
            "Discarding a non-existing element will be ignored\n",
            "discard() returns:  None\n"
          ]
        }
      ]
    },
    {
      "cell_type": "code",
      "source": [
        "#@title remove and add methods do not return any value (returns None)\n",
        "\n",
        "# remove method doesn't return anything\n",
        "# add method doesn't return anything\n",
        "# both are VOID methods\n",
        "set_x = set()\n",
        "set_x.add(10)\n",
        "set_x.add(30)\n",
        "x = set_x.add(20)\n",
        "print('add() returns: ', x)\n",
        "\n",
        "\n",
        "y = set_x.remove(20)\n",
        "print('remove() returns: ', y)"
      ],
      "metadata": {
        "id": "b4C49GGM9DJ_",
        "colab": {
          "base_uri": "https://localhost:8080/"
        },
        "outputId": "ef07fe9a-4c88-4347-d9b3-94cd6b60083b"
      },
      "execution_count": null,
      "outputs": [
        {
          "output_type": "stream",
          "name": "stdout",
          "text": [
            "add() returns:  None\n",
            "remove() returns:  None\n"
          ]
        }
      ]
    },
    {
      "cell_type": "code",
      "source": [
        "#@title Take out a random item from the set (Remove and Return)  through pop()\n",
        "set_x = set()\n",
        "set_x.add(10)\n",
        "set_x.add(30)\n",
        "set_x.add(20)\n",
        "\n",
        "\n",
        "print(\"Before pop, the set = \", set_x)\n",
        "a = set_x.pop()\n",
        "print(\"After popping a random element, the set = \", set_x)\n",
        "print('The value popped by pop(): ', a)"
      ],
      "metadata": {
        "colab": {
          "base_uri": "https://localhost:8080/"
        },
        "id": "5VVATUKzDBBt",
        "outputId": "ffc70622-0e42-4df9-abf4-abadd6438a94"
      },
      "execution_count": null,
      "outputs": [
        {
          "output_type": "stream",
          "name": "stdout",
          "text": [
            "Before pop, the set =  {10, 20, 30}\n",
            "After popping a random element, the set =  {20, 30}\n",
            "The value popped by pop():  10\n"
          ]
        }
      ]
    },
    {
      "cell_type": "code",
      "source": [
        "#@title Membership Operator in is supported on sets\n",
        "# you can't remove an item that doesn't exist\n",
        "# You will get KEY ERROR\n",
        "set_x = set()\n",
        "set_x.add(10)\n",
        "set_x.add(30)\n",
        "set_x.add(20)\n",
        "set_x.add(40)\n",
        "set_x.add(50)\n",
        "\n",
        "#set_x.remove(99)\n",
        "\n",
        "if 99 in set_x:\n",
        "  set_x.remove(99)\n",
        "else:\n",
        "  print(\"99 doesn't exist\")\n",
        "\n"
      ],
      "metadata": {
        "colab": {
          "base_uri": "https://localhost:8080/"
        },
        "id": "Yi-RsHe88pTS",
        "outputId": "1d56b259-2899-4e58-a1d7-ca3ca9eb0332"
      },
      "execution_count": null,
      "outputs": [
        {
          "output_type": "stream",
          "name": "stdout",
          "text": [
            "99 doesn't exist\n"
          ]
        }
      ]
    },
    {
      "cell_type": "code",
      "source": [
        "#@title Using the Built-in Functions\n",
        "set_x = set()\n",
        "set_x.add(10)\n",
        "set_x.add(30)\n",
        "set_x.add(20)\n",
        "set_x.add(40)\n",
        "set_x.add(50)\n",
        "\n",
        "print('len of a set: ', len(set_x))\n",
        "print('max of a set: ', max(set_x))\n",
        "print('min of a set: ', min(set_x))\n",
        "print('sum of a set: ', sum(set_x))"
      ],
      "metadata": {
        "colab": {
          "base_uri": "https://localhost:8080/"
        },
        "id": "2yqTiWsbB1sO",
        "outputId": "0e6da948-e3b8-465a-fadd-583733ef6d72"
      },
      "execution_count": null,
      "outputs": [
        {
          "output_type": "stream",
          "name": "stdout",
          "text": [
            "len of a set:  5\n",
            "max of a set:  50\n",
            "min of a set:  10\n",
            "sum of a set:  150\n"
          ]
        }
      ]
    },
    {
      "cell_type": "code",
      "source": [
        "#@title Food for thought: Can you read a random element from a set without removing it()?\n",
        "\n",
        "set_x = set()\n",
        "set_x.add(10)\n",
        "set_x.add(30)\n",
        "set_x.add(20)\n",
        "set_x.add(40)\n",
        "set_x.add(50)\n",
        "\n",
        "\n",
        "#Option 1: use the for loop\n",
        "print('Original Set: ', set_x)\n",
        "\n",
        "for x in set_x:\n",
        "  break\n",
        "\n",
        "print('A random element: ', x)\n",
        "print('Set after reading a random element: ', set_x)\n",
        "\n",
        "# Option 2: remove and add\n",
        "x = set_x.pop()\n",
        "print('A random element: ', x)\n",
        "set_x.add(x)\n",
        "print('Set after adding back the random element: ', set_x)\n"
      ],
      "metadata": {
        "colab": {
          "base_uri": "https://localhost:8080/"
        },
        "id": "1W9Ze6EbHzTC",
        "outputId": "704ddbc5-74bf-4b9e-d910-4902d620fc87"
      },
      "execution_count": null,
      "outputs": [
        {
          "output_type": "stream",
          "name": "stdout",
          "text": [
            "Original Set:  {40, 10, 50, 20, 30}\n",
            "A random element:  40\n",
            "Set after reading a random element:  {40, 10, 50, 20, 30}\n",
            "A random element:  40\n",
            "Set after adding back the random element:  {40, 10, 50, 20, 30}\n"
          ]
        }
      ]
    },
    {
      "cell_type": "code",
      "source": [
        "#@title Copying a set to create another set (2 remotes = 2 TVs)\n",
        "\n",
        "set_x = set()\n",
        "set_x.add(10)\n",
        "set_x.add(30)\n",
        "set_x.add(20)\n",
        "set_x.add(40)\n",
        "set_x.add(50)\n",
        "\n",
        "\n",
        "print('Original Set set_x: ', set_x)\n",
        "set_y = set_x.copy()\n",
        "print('Copied Set set_y: ', set_y)\n",
        "\n",
        "# print('\\nPopping two random elements from set_y')\n",
        "# set_y.pop()\n",
        "# set_y.pop()\n",
        "print('Original Set set_x: ', set_x)\n",
        "print('Copied Set set_y: ', set_y)\n",
        "\n",
        "#Using the built-in function id() to inspect\n",
        "print(\"\\nid of set_x: \", id(set_x))\n",
        "print(\"id of set_y: \", id(set_y))\n",
        "\n",
        "print('is identity of set_x and set_y same?  id(set_x) == id(set_y) : ', id(set_x) == id (set_y) )\n",
        "print('is equality of set_x and set_y same?  set_x == set_y : ', set_x == set_y)\n"
      ],
      "metadata": {
        "colab": {
          "base_uri": "https://localhost:8080/"
        },
        "id": "PzDaDOEfSM05",
        "outputId": "948a0847-74eb-49f9-b201-02ccd3eb0b80"
      },
      "execution_count": null,
      "outputs": [
        {
          "output_type": "stream",
          "name": "stdout",
          "text": [
            "Original Set set_x:  {40, 10, 50, 20, 30}\n",
            "Copied Set set_y:  {50, 20, 40, 10, 30}\n",
            "Original Set set_x:  {40, 10, 50, 20, 30}\n",
            "Copied Set set_y:  {50, 20, 40, 10, 30}\n",
            "\n",
            "id of set_x:  139965387303840\n",
            "id of set_y:  139965387303616\n",
            "is identity of set_x and set_y same?  id(set_x) == id(set_y) :  False\n",
            "is eequality of set_x and set_y same?  set_x == set_y :  True\n"
          ]
        }
      ]
    },
    {
      "cell_type": "code",
      "source": [
        "#@title Equating a set to another set (2 remotes = 1 TV)\n",
        "\n",
        "set_x = set()\n",
        "set_x.add(10)\n",
        "set_x.add(30)\n",
        "set_x.add(20)\n",
        "set_x.add(40)\n",
        "set_x.add(50)\n",
        "\n",
        "\n",
        "print('Set set_x: ', set_x)\n",
        "set_y = set_x\n",
        "print('Set set_y: ', set_y)\n",
        "\n",
        "print('\\nPopping two random elements from set_y')\n",
        "set_y.pop()\n",
        "set_y.pop()\n",
        "print('Original Set set_x: ', set_x)\n",
        "print('Copied Set set_y: ', set_y)\n",
        "\n",
        "#Using the built-in function id() to inspect\n",
        "print(\"\\nid of set_x: \", id(set_x))\n",
        "print(\"id of set_y: \", id(set_y))\n",
        "\n",
        "\n",
        "print('is identity of set_x and set_y same?  id(set_x) == id(set_y) : ', id(set_x) == id (set_y) )\n",
        "print('is equality of set_x and set_y same?  set_x == set_y : ', set_x == set_y)\n"
      ],
      "metadata": {
        "colab": {
          "base_uri": "https://localhost:8080/"
        },
        "id": "ZOy6XhioYSYq",
        "outputId": "ab3ef54c-37ec-471e-c989-f02071751cf8"
      },
      "execution_count": null,
      "outputs": [
        {
          "output_type": "stream",
          "name": "stdout",
          "text": [
            "Set set_x:  {40, 10, 50, 20, 30}\n",
            "Set set_y:  {40, 10, 50, 20, 30}\n",
            "\n",
            "Popping two random elements from set_y\n",
            "Original Set set_x:  {50, 20, 30}\n",
            "Copied Set set_y:  {50, 20, 30}\n",
            "\n",
            "id of set_x:  139965387304064\n",
            "id of set_y:  139965387304064\n",
            "is identity of set_x and set_y same?  id(set_x) == id(set_y) :  True\n",
            "is equality of set_x and set_y same?  set_x == set_y :  True\n"
          ]
        }
      ]
    },
    {
      "cell_type": "code",
      "source": [
        "#@title Updating / Extending a Set\n",
        "set_x = set()\n",
        "set_x.add('anna')\n",
        "set_x.add('bindu')\n",
        "set_x.add('chris')\n",
        "\n",
        "\n",
        "set_y = set()\n",
        "set_y.add('alex')\n",
        "set_y.add('bob')\n",
        "set_y.add('anna')\n",
        "\n",
        "\n",
        "#printing those sets\n",
        "print('set_x', set_x)\n",
        "print('set_y', set_y)\n",
        "\n",
        "# Extend the set_x with the elements from set_y\n",
        "print('\\n\\nExtending the set_x with the elements from set_y')\n",
        "set_x.update(set_y)\n",
        "print('set_x', set_x)\n",
        "print('set_y', set_y)\n",
        "\n",
        "# Extend the set_y with the elements from set_x\n",
        "print('\\n\\nExtending the set_y with the elements from set_x')\n",
        "\n",
        "set_x = set()\n",
        "set_x.add('anna')\n",
        "set_x.add('bindu')\n",
        "set_x.add('chris')\n",
        "\n",
        "set_y = set()\n",
        "set_y.add('alex')\n",
        "set_y.add('bob')\n",
        "set_y.add('anna')\n",
        "\n",
        "set_y.update(set_x)\n",
        "print('set_x', set_x)\n",
        "print('set_y', set_y)"
      ],
      "metadata": {
        "colab": {
          "base_uri": "https://localhost:8080/"
        },
        "id": "JS31XKZyqJQT",
        "outputId": "64e83554-30a7-4de5-f8a8-b915561dc163"
      },
      "execution_count": null,
      "outputs": [
        {
          "output_type": "stream",
          "name": "stdout",
          "text": [
            "set_x {'anna', 'chris', 'bindu'}\n",
            "set_y {'anna', 'bob', 'alex'}\n",
            "\n",
            "\n",
            "Extending the set_x with the elements from set_y\n",
            "set_x {'anna', 'bindu', 'chris', 'alex', 'bob'}\n",
            "set_y {'anna', 'bob', 'alex'}\n",
            "\n",
            "\n",
            "Extending the set_y with the elements from set_x\n",
            "set_x {'anna', 'chris', 'bindu'}\n",
            "set_y {'anna', 'bindu', 'chris', 'alex', 'bob'}\n"
          ]
        }
      ]
    },
    {
      "cell_type": "code",
      "source": [
        "#@title Clearing (emptying) a set\n",
        "set_x = set()\n",
        "set_x.add('anna')\n",
        "set_x.add('bindu')\n",
        "set_x.add('chris')\n",
        "\n",
        "print('set_x = ', set_x)\n",
        "set_x.clear()\n",
        "\n",
        "print('set_x after clear() = ', set_x)"
      ],
      "metadata": {
        "id": "uDn2w9GSBIV4"
      },
      "execution_count": null,
      "outputs": []
    },
    {
      "cell_type": "code",
      "source": [
        "#@title Checking for membership\n",
        "set_x = set()\n",
        "set_x.add('anna')\n",
        "set_x.add('bindu')\n",
        "set_x.add('chris')\n",
        "set_x.add('diana')\n",
        "\n",
        "print('Checking for membership - in')\n",
        "print('is chris in the set? = ', ('chris' in set_x))\n",
        "print('is siva in the set? = ', ('siva' in set_x))\n",
        "\n",
        "print('\\nChecking for membership - not in (inverse of in)')\n",
        "print('is anna not in the set? = ', ('anna' not in set_x))\n",
        "print('is bob not in the set? = ', ('bob' not in set_x))\n"
      ],
      "metadata": {
        "id": "jBQZM6lXBLwu"
      },
      "execution_count": null,
      "outputs": []
    },
    {
      "cell_type": "markdown",
      "source": [
        "# Set Operations"
      ],
      "metadata": {
        "id": "_HqekEU1AVfw"
      }
    },
    {
      "cell_type": "code",
      "source": [
        "#@title Examples of Set Operations\n",
        "nums1 = [4, 5, 6, 7]\n",
        "nums2 = [ 4, 6, 8, 9]\n",
        "\n",
        "nums1_set = set(nums1)\n",
        "nums2_set = set(nums2)\n",
        "\n",
        "print(\"Difference (nums2 - nums1): \", nums2_set.difference(nums1_set))\n",
        "print(\"Difference (nums2 - nums1): \", set.difference(nums2_set, nums1_set))\n",
        "print(\"Difference (nums2 - nums1): \",   nums2_set - nums1_set)\n",
        "\n",
        "\n",
        "\n",
        "print(\"Difference (nums1 - nums2): \", nums1_set.difference(nums2_set))\n",
        "print(\"Difference (nums1 - nums2): \", set.difference(nums1_set, nums2_set))\n",
        "print(\"Difference (nums1 - nums2): \",   nums1_set - nums2_set)\n",
        "\n",
        "print(\"Symmetric Difference: \", nums1_set.symmetric_difference(nums2_set))\n",
        "print(\"Symmetric Difference:: \", set.symmetric_difference(nums1_set, nums2_set))\n",
        "print(\"Symmetric Difference:: \",   nums2_set ^ nums1_set)\n",
        "\n",
        "\n",
        "print(\"Union: \", nums1_set.union(nums2_set))\n",
        "print(\"Union: \", set.union(nums1_set, nums2_set))\n",
        "print(\"Union: \",  nums2_set | nums1_set )\n",
        "\n",
        "print(\"Intersection: \", nums1_set.intersection(nums2_set))\n",
        "print(\"Intersection: \", set.intersection(nums1_set, nums2_set))\n",
        "print(\"Intersection: \", nums1_set  & nums2_set)"
      ],
      "metadata": {
        "id": "uNCYijMF7pYj"
      },
      "execution_count": null,
      "outputs": []
    },
    {
      "cell_type": "code",
      "source": [
        "#@title Set Operations: Union |\n",
        "\n",
        "set_x = set()\n",
        "set_x.add('anna')\n",
        "set_x.add('bindu')\n",
        "set_x.add('chris')\n",
        "\n",
        "\n",
        "set_y = set()\n",
        "set_y.add('alex')\n",
        "set_y.add('bob')\n",
        "set_y.add('anna')\n",
        "\n",
        "\n",
        "#printing those sets\n",
        "print('set_x', set_x)\n",
        "print('set_y', set_y)\n",
        "\n",
        "\n",
        "\n",
        "# Union of two sets  - you can combine using a specific \"set\"\n",
        "print('\\n\\nUnion of two sets  - you can combine using specific \"set\"')\n",
        "set_2 = set_x.union(set_y)\n",
        "print('set_2', set_2)\n",
        "\n",
        "\n",
        "# Union of two sets  - you can combine using a specific \"set\"\n",
        "print('\\n\\nUnion of two sets  - using | operator')\n",
        "set_3 = set_x | set_y\n",
        "print('set_3', set_3)"
      ],
      "metadata": {
        "colab": {
          "base_uri": "https://localhost:8080/"
        },
        "id": "aLP_Gq8BZ2qv",
        "outputId": "a2cae73c-d4f4-4384-d135-979f593822cf"
      },
      "execution_count": null,
      "outputs": [
        {
          "output_type": "stream",
          "name": "stdout",
          "text": [
            "set_x {'anna', 'chris', 'bindu'}\n",
            "set_y {'anna', 'bob', 'alex'}\n",
            "\n",
            "\n",
            "Union of two sets  - you can combine using generic \"set\"\n",
            "set_1 {'anna', 'bindu', 'chris', 'alex', 'bob'}\n",
            "\n",
            "\n",
            "Union of two sets  - you can combine using specific \"set\"\n",
            "set_2 {'anna', 'bindu', 'chris', 'alex', 'bob'}\n",
            "\n",
            "\n",
            "Union of two sets  - using | operator\n",
            "set_3 {'anna', 'bindu', 'chris', 'alex', 'bob'}\n"
          ]
        }
      ]
    },
    {
      "cell_type": "code",
      "source": [
        "#@title Set Operations: Intersection &\n",
        "\n",
        "set_x = set()\n",
        "set_x.add('anna')\n",
        "set_x.add('bindu')\n",
        "set_x.add('chris')\n",
        "\n",
        "\n",
        "set_y = set()\n",
        "set_y.add('alex')\n",
        "set_y.add('bob')\n",
        "set_y.add('anna')\n",
        "\n",
        "\n",
        "#printing those sets\n",
        "print('set_x', set_x)\n",
        "print('set_y', set_y)\n",
        "\n",
        "\n",
        "\n",
        "# Intersection of two sets\n",
        "print('\\n\\nIntersection of two sets  - you can intersect using a spcific \"set\"')\n",
        "set_1 = set_x.intersection(set_y)\n",
        "print('set_1', set_1)\n",
        "\n",
        "# Intersection of two sets\n",
        "print('\\n\\nIntersection of two sets  - using & operator')\n",
        "set_1 = set_x & set_y\n",
        "print('set_1', set_1)\n"
      ],
      "metadata": {
        "colab": {
          "base_uri": "https://localhost:8080/"
        },
        "id": "lF3SILqSvAMH",
        "outputId": "bcb97479-09d8-4442-b395-7d75b6903d7a"
      },
      "execution_count": null,
      "outputs": [
        {
          "output_type": "stream",
          "name": "stdout",
          "text": [
            "set_x {'chris', 'anna', 'bindu'}\n",
            "set_y {'bob', 'alex', 'anna'}\n",
            "\n",
            "\n",
            "Intersection of two sets  - you can intersect using a spcific \"set\"\n",
            "set_1 {'anna'}\n",
            "\n",
            "\n",
            "Intersection of two sets  - using & operator\n",
            "set_1 {'anna'}\n"
          ]
        }
      ]
    },
    {
      "cell_type": "code",
      "source": [
        "#@title Set Operations: Difference -\n",
        "\n",
        "set_x = set()\n",
        "set_x.add('anna')\n",
        "set_x.add('bindu')\n",
        "set_x.add('chris')\n",
        "\n",
        "\n",
        "set_y = set()\n",
        "set_y.add('alex')\n",
        "set_y.add('bob')\n",
        "set_y.add('anna')\n",
        "\n",
        "\n",
        "#printing those sets\n",
        "print('set_x', set_x)\n",
        "print('set_y', set_y)\n",
        "\n",
        "\n",
        "# Difference between two sets\n",
        "print('\\n\\nDifference between two sets  - you can intersect using a generic \"set\"')\n",
        "set_x_y = set.difference(set_x, set_y)\n",
        "print('set_x_y', set_x_y)\n",
        "\n",
        "\n",
        "# Difference between two sets\n",
        "print('\\n\\nDifference between two sets  - you can intersect using a specific \"set\"')\n",
        "set_x_y = set_x.difference(set_y)\n",
        "print('set_x_y', set_x_y)\n",
        "\n",
        "\n",
        "# Difference between two sets\n",
        "print('\\n\\nDifference between two sets (x-y)  - Using minus (-) operator')\n",
        "set_x_y = set_x - set_y\n",
        "print('set_x_y', set_x_y)\n",
        "\n",
        "\n",
        "# Difference between two sets\n",
        "print('\\n\\nDifference between two sets (y-x)  - Using minus (-) operator')\n",
        "set_y_x = set_y  - set_x\n",
        "print('set_y_x', set_y_x)"
      ],
      "metadata": {
        "colab": {
          "base_uri": "https://localhost:8080/"
        },
        "id": "ZQTk4vHpyqPe",
        "outputId": "d9a37c12-e10f-4e6c-ccb5-8ebd46530f3e"
      },
      "execution_count": null,
      "outputs": [
        {
          "output_type": "stream",
          "name": "stdout",
          "text": [
            "set_x {'anna', 'chris', 'bindu'}\n",
            "set_y {'anna', 'bob', 'alex'}\n",
            "\n",
            "\n",
            "Difference between two sets  - you can intersect using a generic \"set\"\n",
            "set_x_y {'bindu', 'chris'}\n",
            "\n",
            "\n",
            "Difference between two sets  - you can intersect using a specific \"set\"\n",
            "set_x_y {'bindu', 'chris'}\n",
            "\n",
            "\n",
            "Difference between two sets (x-y)  - Using minus (-) operator\n",
            "set_x_y {'bindu', 'chris'}\n",
            "\n",
            "\n",
            "Difference between two sets (y-x)  - Using minus (-) operator\n",
            "set_y_x {'bob', 'alex'}\n"
          ]
        }
      ]
    },
    {
      "cell_type": "code",
      "source": [
        "#@title Set Operations: Symmetric Difference ^\n",
        "\n",
        "set_x = set()\n",
        "set_x.add('anna')\n",
        "set_x.add('bindu')\n",
        "set_x.add('chris')\n",
        "\n",
        "\n",
        "set_y = set()\n",
        "set_y.add('alex')\n",
        "set_y.add('bob')\n",
        "set_y.add('anna')\n",
        "\n",
        "\n",
        "#printing those sets\n",
        "print('set_x', set_x)\n",
        "print('set_y', set_y)\n",
        "\n",
        "\n",
        "\n",
        "# Difference between two sets\n",
        "print('\\n\\nSymmertri Difference between two sets  - you can do symmetric difference a specific \"set\"')\n",
        "set_x_y = set_x.symmetric_difference(set_y)\n",
        "print('set_x_y', set_x_y)\n",
        "\n",
        "\n",
        "# Difference between two sets\n",
        "print('\\n\\nSymmetric Difference between two sets (x-y)  - Using caret (^) operator')\n",
        "set_x_y = set_x ^ set_y\n",
        "print('set_x_y', set_x_y)\n",
        "\n"
      ],
      "metadata": {
        "colab": {
          "base_uri": "https://localhost:8080/"
        },
        "id": "juLMyhBB0HQJ",
        "outputId": "16b4e468-c5c8-4611-9ad2-da9ba88e0ef3"
      },
      "execution_count": null,
      "outputs": [
        {
          "output_type": "stream",
          "name": "stdout",
          "text": [
            "set_x {'anna', 'chris', 'bindu'}\n",
            "set_y {'anna', 'bob', 'alex'}\n",
            "\n",
            "\n",
            "Symmertri Difference between two sets  - you can do symmetric difference using a generic \"set\"\n",
            "set_x_y {'bindu', 'bob', 'chris', 'alex'}\n",
            "\n",
            "\n",
            "Symmertri Difference between two sets  - you can do symmetric difference a specific \"set\"\n",
            "set_x_y {'bindu', 'bob', 'chris', 'alex'}\n",
            "\n",
            "\n",
            "Symmetric Difference between two sets (x-y)  - Using caret (^) operator\n",
            "set_x_y {'bindu', 'bob', 'chris', 'alex'}\n"
          ]
        }
      ]
    },
    {
      "cell_type": "code",
      "source": [
        "#@title Set operations: are two sets same?  == operator\n",
        "set_x = set(['anna', 'bindu', 'chris'])\n",
        "set_y = set(['alex', 'bob', 'anna'])\n",
        "set_z = set(['bindu', 'anna', 'chris'])\n",
        "\n",
        "\n",
        "#printing those sets\n",
        "print('set_x', set_x)\n",
        "print('set_y', set_y)\n",
        "print('set_z', set_z)\n",
        "\n",
        "print('set_x == set_y ', set_x == set_y)\n",
        "print('set_x == set_z ', set_x == set_z)\n"
      ],
      "metadata": {
        "colab": {
          "base_uri": "https://localhost:8080/"
        },
        "id": "2UNv8I66Kb1Q",
        "outputId": "4e48a9c7-8042-4549-a4a6-4f449ac4299b"
      },
      "execution_count": null,
      "outputs": [
        {
          "output_type": "stream",
          "name": "stdout",
          "text": [
            "set_x {'anna', 'chris', 'bindu'}\n",
            "set_y {'anna', 'bob', 'alex'}\n",
            "set_z {'bindu', 'chris', 'anna'}\n",
            "set_x == set_y  False\n",
            "set_x == set_z  True\n"
          ]
        }
      ]
    },
    {
      "cell_type": "code",
      "source": [
        "#@title Set operations: is X a superset of Y?  > operator\n",
        "set_x = set(['anna', 'bindu', 'chris', 'diana'])\n",
        "set_y = set(['anna', 'diana'])\n",
        "set_z = set(['anna', 'fiona'])\n",
        "\n",
        "#printing those sets\n",
        "print('set_x', set_x)\n",
        "print('set_y', set_y)\n",
        "print('set_z', set_z)\n",
        "\n",
        "print('set_x.issuperset(set_y) = ', set_x.issuperset(set_y))\n",
        "print('set_x.issuperset(set_z) = ', set_x.issuperset(set_z))\n",
        "\n",
        "\n",
        "print('set_x > set_y = ', set_x > set_y)\n",
        "print('set_x > set_z = ', set_x > set_z)\n",
        "\n"
      ],
      "metadata": {
        "colab": {
          "base_uri": "https://localhost:8080/"
        },
        "id": "aYIe8Git7AEx",
        "outputId": "298027c0-503d-4d14-e34e-6750a934e8ab"
      },
      "execution_count": null,
      "outputs": [
        {
          "output_type": "stream",
          "name": "stdout",
          "text": [
            "set_x {'anna', 'diana', 'chris', 'bindu'}\n",
            "set_y {'anna', 'diana'}\n",
            "set_z {'anna', 'fiona'}\n",
            "set_x.issuperset(set_y) =  True\n",
            "set_x.issuperset(set_z) =  False\n",
            "set_x > set_y =  True\n",
            "set_x > set_z =  False\n"
          ]
        }
      ]
    },
    {
      "cell_type": "code",
      "source": [
        "#@title Set operations: is X a subset of Y? < operator\n",
        "set_x = set(['anna', 'bindu'])\n",
        "set_y = set(['anna', 'bindu', 'chris', 'diana'])\n",
        "set_z = set(['anna', 'fiona'])\n",
        "\n",
        "#printing those sets\n",
        "print('set_x', set_x)\n",
        "print('set_y', set_y)\n",
        "print('set_z', set_z)\n",
        "\n",
        "print('set_x.issubset(set_y) = ', set_x.issubset(set_y))\n",
        "print('set_x.issubset(set_z) = ', set_x.issubset(set_z))\n",
        "\n",
        "print('set_x < set_y = ', set_x < set_y)\n",
        "print('set_x < set_z = ', set_x < set_z)"
      ],
      "metadata": {
        "colab": {
          "base_uri": "https://localhost:8080/"
        },
        "id": "xZ3kRqZQ7hfI",
        "outputId": "7b2e0ff8-1ff6-4cf9-f2c5-941426e0b707"
      },
      "execution_count": null,
      "outputs": [
        {
          "output_type": "stream",
          "name": "stdout",
          "text": [
            "set_x {'anna', 'bindu'}\n",
            "set_y {'anna', 'diana', 'chris', 'bindu'}\n",
            "set_z {'anna', 'fiona'}\n",
            "set_x.issubset(set_y) =  True\n",
            "set_x.issubset(set_z) =  False\n",
            "set_x < set_y =  True\n",
            "set_x < set_z =  False\n"
          ]
        }
      ]
    },
    {
      "cell_type": "code",
      "source": [
        "#@title Set operations: are two sets disjoint?\n",
        "set_x = set(['anna', 'bindu', 'chris'])\n",
        "set_y = set(['alex', 'bob', 'anna'])\n",
        "set_z = set(['zack', 'xavier', 'yulin'])\n",
        "\n",
        "\n",
        "#printing those sets\n",
        "print('set_x', set_x)\n",
        "print('set_y', set_y)\n",
        "print('set_z', set_z)\n",
        "\n",
        "print('set_x.isdisjoint(set_y) = ', set_x.isdisjoint(set_y))\n",
        "print('set_x.isdisjoint(set_z) = ', set_x.isdisjoint(set_z))\n"
      ],
      "metadata": {
        "colab": {
          "base_uri": "https://localhost:8080/"
        },
        "id": "1NEzUMh76Eq4",
        "outputId": "c8d7274c-410b-4b1f-d7bf-4235b9885f38"
      },
      "execution_count": null,
      "outputs": [
        {
          "output_type": "stream",
          "name": "stdout",
          "text": [
            "set_x {'anna', 'chris', 'bindu'}\n",
            "set_y {'anna', 'bob', 'alex'}\n",
            "set_z {'yulin', 'zack', 'xavier'}\n",
            "set_x.isdisjoint(set_y) =  False\n",
            "set_x.isdisjoint(set_z) =  True\n"
          ]
        }
      ]
    },
    {
      "cell_type": "code",
      "source": [
        "#@title Set Operations with update  (not common)\n",
        "set_x = set()\n",
        "set_x.add('anna')\n",
        "set_x.add('bindu')\n",
        "set_x.add('chris')\n",
        "\n",
        "\n",
        "set_y = set()\n",
        "set_y.add('alex')\n",
        "set_y.add('bob')\n",
        "set_y.add('anna')\n",
        "\n",
        "\n",
        "#printing those sets\n",
        "print('set_x', set_x)\n",
        "print('set_y', set_y)\n",
        "\n",
        "set_x.difference_update(set_y)\n",
        "print('set_x.difference_update(set_y)', set_x)\n",
        "\n",
        "set_x = set(['anna', 'bindu', 'chris'])\n",
        "set_x.symmetric_difference_update(set_y)\n",
        "print('set_x.symmetric_difference_update(set_y)', set_x)\n",
        "\n",
        "\n",
        "set_x = set(['anna', 'bindu', 'chris'])\n",
        "set_x.intersection_update(set_y)\n",
        "print('set_x.intersection_update(set_y)', set_x)"
      ],
      "metadata": {
        "colab": {
          "base_uri": "https://localhost:8080/"
        },
        "id": "ZOua4osN02Jy",
        "outputId": "8212312c-4d92-4b57-8fca-804dba9c7d0a"
      },
      "execution_count": null,
      "outputs": [
        {
          "output_type": "stream",
          "name": "stdout",
          "text": [
            "set_x {'anna', 'chris', 'bindu'}\n",
            "set_y {'anna', 'bob', 'alex'}\n",
            "set_x.difference_update(set_y) {'chris', 'bindu'}\n",
            "set_x.symmetric_difference_update(set_y) {'chris', 'alex', 'bindu', 'bob'}\n",
            "set_x.intersection_update(set_y) {'anna'}\n"
          ]
        }
      ]
    },
    {
      "cell_type": "code",
      "source": [],
      "metadata": {
        "colab": {
          "base_uri": "https://localhost:8080/"
        },
        "id": "fAt0GYF32YTz",
        "outputId": "71f76d72-4936-48d0-a885-d4075eb2df9a"
      },
      "execution_count": null,
      "outputs": [
        {
          "output_type": "stream",
          "name": "stdout",
          "text": [
            "set_x =  {'anna', 'chris', 'bindu'}\n",
            "set_x after clear() =  set()\n"
          ]
        }
      ]
    },
    {
      "cell_type": "code",
      "source": [],
      "metadata": {
        "colab": {
          "base_uri": "https://localhost:8080/"
        },
        "id": "LE5CkVJ04-Fo",
        "outputId": "e2e7eace-393f-46e5-af5d-d5fb309597b9"
      },
      "execution_count": null,
      "outputs": [
        {
          "output_type": "stream",
          "name": "stdout",
          "text": [
            "Checking for membership - in\n",
            "is chris in the set? =  True\n",
            "is siva in the set? =  False\n",
            "\n",
            "Checking for membership - not in (inverse of in)\n",
            "is anna not in the set? =  False\n",
            "is bob not in the set? =  True\n"
          ]
        }
      ]
    },
    {
      "cell_type": "code",
      "source": [
        "#@title Cool Oneliners #1\n",
        "\n",
        "# define a function that returns True if the list contains duplicates\n",
        "def contains_duplicates(input_list):\n",
        "  return (len(input_list) != len(set(input_list)))\n",
        "\n",
        "#\n",
        "print('contains_duplicates([3,4,5,6] = ', contains_duplicates([3,4,5,6]) )\n",
        "print('contains_duplicates([3,4,5,6, 4] = ', contains_duplicates([3,4,5,6, 4]))"
      ],
      "metadata": {
        "colab": {
          "base_uri": "https://localhost:8080/"
        },
        "id": "EGXlBt-w5vUy",
        "outputId": "7b25021b-8186-4237-b0db-d443c82bbacd"
      },
      "execution_count": null,
      "outputs": [
        {
          "output_type": "stream",
          "name": "stdout",
          "text": [
            "contains_duplicates([3,4,5,6] =  False\n",
            "contains_duplicates([3,4,5,6, 4] =  True\n"
          ]
        }
      ]
    },
    {
      "cell_type": "code",
      "source": [
        "#@title Cool Oneliners #2\n",
        "\n",
        "# Given two lists of hobbies, define a function that returns the list of common hobbies\n",
        "def common_hobbies(h1, h2):\n",
        "  return list(set(h1) & set(h2))\n",
        "#\n",
        "hobbies_1 = ['reading', 'movies', 'travel', 'comedy']\n",
        "hobbies_2 = ['ethnic foods',  'movies', 'comedy', 'hiking']\n",
        "\n",
        "\n",
        "print('common_hobbies = ', common_hobbies(hobbies_1, hobbies_2) )\n"
      ],
      "metadata": {
        "colab": {
          "base_uri": "https://localhost:8080/"
        },
        "id": "EvmKbqOG_AyP",
        "outputId": "e8f8421c-fed7-4edc-c3a1-102b06e9e2c8"
      },
      "execution_count": null,
      "outputs": [
        {
          "output_type": "stream",
          "name": "stdout",
          "text": [
            "common_hobbies =  ['movies', 'comedy']\n"
          ]
        }
      ]
    },
    {
      "cell_type": "code",
      "source": [
        "#@title Tricky Snippet: Why is this giving an error?\n",
        "#Hint: The elements of the set MUST be immutable.\n",
        "\n",
        "list_1 = [1,2,3]\n",
        "list_2 = [2,3,1]\n",
        "\n",
        "set_x = set()\n",
        "set_x.add(list_1)\n",
        "set_x.add(list_2)\n",
        "print(set_x)\n",
        "\n",
        "\n"
      ],
      "metadata": {
        "colab": {
          "base_uri": "https://localhost:8080/",
          "height": 235
        },
        "id": "f1uumwRhBDB4",
        "outputId": "735815a8-042a-4e6c-f341-8bd59c588012"
      },
      "execution_count": null,
      "outputs": [
        {
          "output_type": "error",
          "ename": "TypeError",
          "evalue": "ignored",
          "traceback": [
            "\u001b[0;31m---------------------------------------------------------------------------\u001b[0m",
            "\u001b[0;31mTypeError\u001b[0m                                 Traceback (most recent call last)",
            "\u001b[0;32m<ipython-input-1-b10209d06ebd>\u001b[0m in \u001b[0;36m<module>\u001b[0;34m\u001b[0m\n\u001b[1;32m      6\u001b[0m \u001b[0;34m\u001b[0m\u001b[0m\n\u001b[1;32m      7\u001b[0m \u001b[0mset_x\u001b[0m \u001b[0;34m=\u001b[0m \u001b[0mset\u001b[0m\u001b[0;34m(\u001b[0m\u001b[0;34m)\u001b[0m\u001b[0;34m\u001b[0m\u001b[0;34m\u001b[0m\u001b[0m\n\u001b[0;32m----> 8\u001b[0;31m \u001b[0mset_x\u001b[0m\u001b[0;34m.\u001b[0m\u001b[0madd\u001b[0m\u001b[0;34m(\u001b[0m\u001b[0mlist_1\u001b[0m\u001b[0;34m)\u001b[0m\u001b[0;34m\u001b[0m\u001b[0;34m\u001b[0m\u001b[0m\n\u001b[0m\u001b[1;32m      9\u001b[0m \u001b[0mset_x\u001b[0m\u001b[0;34m.\u001b[0m\u001b[0madd\u001b[0m\u001b[0;34m(\u001b[0m\u001b[0mlist_2\u001b[0m\u001b[0;34m)\u001b[0m\u001b[0;34m\u001b[0m\u001b[0;34m\u001b[0m\u001b[0m\n\u001b[1;32m     10\u001b[0m \u001b[0mprint\u001b[0m\u001b[0;34m(\u001b[0m\u001b[0mset_x\u001b[0m\u001b[0;34m)\u001b[0m\u001b[0;34m\u001b[0m\u001b[0;34m\u001b[0m\u001b[0m\n",
            "\u001b[0;31mTypeError\u001b[0m: unhashable type: 'list'"
          ]
        }
      ]
    },
    {
      "cell_type": "code",
      "source": [
        "#@title Tricky Snippet: Why is this not giving an error?\n",
        "#Hint: The elements of the set MUST be immutable.\n",
        "tuple_1 = (1,2,3)\n",
        "tuple_2 = (2,3,1)\n",
        "\n",
        "set_x = set()\n",
        "set_x.add(tuple_1)\n",
        "set_x.add(tuple_2)\n",
        "print(set_x)"
      ],
      "metadata": {
        "colab": {
          "base_uri": "https://localhost:8080/"
        },
        "id": "R00hflWGB_gJ",
        "outputId": "c4e95168-7d8a-4d80-a085-7dcf10a5cff7"
      },
      "execution_count": null,
      "outputs": [
        {
          "output_type": "stream",
          "name": "stdout",
          "text": [
            "{(2, 3, 1), (1, 2, 3)}\n"
          ]
        }
      ]
    },
    {
      "cell_type": "code",
      "source": [
        "#@title Python Quizzes on Sets  (Try it on your own)\n",
        "\n",
        "https://pynative.com/python-set-quiz/\n",
        "\n",
        "https://realpython.com/quizzes/python-sets/\n"
      ],
      "metadata": {
        "id": "ZxGY68L8nn9j"
      },
      "execution_count": null,
      "outputs": []
    },
    {
      "cell_type": "markdown",
      "source": [],
      "metadata": {
        "id": "J1Mun9UPEe-R"
      }
    },
    {
      "cell_type": "code",
      "source": [
        "x = {4,5,6}\n",
        "y = {5,6,7}\n",
        "\n",
        "print( (x&y) < y)"
      ],
      "metadata": {
        "colab": {
          "base_uri": "https://localhost:8080/"
        },
        "id": "kVv-N-oqIgOv",
        "outputId": "7e7af67b-8122-4478-8fb9-c0fbde7aa7b8"
      },
      "execution_count": null,
      "outputs": [
        {
          "output_type": "stream",
          "name": "stdout",
          "text": [
            "{5, 6}\n",
            "True\n"
          ]
        }
      ]
    },
    {
      "cell_type": "markdown",
      "source": [
        "# Sets: Programming Exercises (Case Studies)"
      ],
      "metadata": {
        "id": "gKynBxoBEiKO"
      }
    },
    {
      "cell_type": "markdown",
      "source": [
        "**1. Intersection of two sets:** Let's say you have a database of customers who have purchased products in the past week and another database of customers who have visited your website in the past week. You can use the intersection of the two sets to find out which customers have both made a purchase and visited your website.\n",
        "\n",
        "**2. Removing duplicates from a list using sets:** Let's say you have a list of email addresses from customers who have signed up for your newsletter, but some of the addresses are duplicated. You can use a set to remove the duplicates and ensure that each customer only receives your newsletter once.\n",
        "\n",
        "**3. Finding unique values in a list of dictionaries:** Let's say you have a list of dictionaries containing data about your customers, including their names, email addresses, and phone numbers. You can use sets to find out which unique email addresses or phone numbers are in the list, which can help you identify customers who may be using multiple email addresses or phone numbers.\n",
        "\n",
        "**4. Checking for similarities in two sets of data:** Let's say you have a database of customers who have purchased products from your store and another database of customers who have returned products. You can use sets to find out which customers appear in both databases, which can help you identify potential issues with your products.\n",
        "\n",
        "**5. Union of two sets:** Let's say you have a list of customers who have purchased products from your store and another list of customers who have signed up for your newsletter. You can use the union of the two sets to create a single list of all customers who have interacted with your brand in some way.\n",
        "\n",
        "**6. Checking for subsets:** Let's say you have a database of customers who have made purchases from your store in the past month and another database of customers who have made purchases in the past week. You can use sets to check if the set of customers who made purchases in the past week is a subset of the set of customers who made purchases in the past month.\n",
        "\n",
        "**7. Finding the difference between two sets:** Let's say you have a list of customers who have signed up for your newsletter and another list of customers who have unsubscribed from your newsletter. You can use the difference between the two sets to find out which customers are still subscribed to your newsletter.\n",
        "\n",
        "**8. Finding the symmetric difference between two sets:** Let's say you have a list of customers who have purchased products from your store in the past month and another list of customers who have purchased products in the past week. You can use the symmetric difference between the two sets to find out which customers made a purchase in either the past week or the past month, but not both.\n",
        "\n",
        "**9. Checking for disjoint sets:** Let's say you have a list of customers who have purchased products from your store and another list of customers who have never made a purchase. You can use sets to check if the two lists are disjoint, which can help you identify potential customers who have not yet made a purchase.\n",
        "\n",
        "**10. Finding the intersection of multiple sets**: Let's say you have a list of customers who have made purchases in the past week, another list of customers who have made purchases in the past month, and a third list of customers who have made purchases in the past year. You can use the intersection of all three sets to find out which customers have made a purchase in each time period."
      ],
      "metadata": {
        "id": "nuZn-rscElWP"
      }
    },
    {
      "cell_type": "code",
      "source": [
        "#@title 2.Remove duplicates from a list using sets\n",
        "\n",
        "# Verstion 1.0 Using brute force approach (list - traversal)\n",
        "# my_list = [1, 3, 1, 4, 3]\n",
        "\n",
        "# new_list = []\n",
        "# for elem in my_list:\n",
        "#   if elem not in new_list:\n",
        "#     new_list.append(elem)\n",
        "\n",
        "# # print the lists\n",
        "# print('Original List: ', my_list)\n",
        "# print('New List: ', new_list)\n",
        "\n",
        "\n",
        "\n",
        "# Verstion 2.0 Using sets\n",
        "my_list = [1, 3, 1, 4, 3]\n",
        "new_list = list(set(my_list))\n",
        "print('Original List: ', my_list)\n",
        "print('New List: ', new_list)"
      ],
      "metadata": {
        "id": "Qt_K2eksEoB-",
        "colab": {
          "base_uri": "https://localhost:8080/"
        },
        "outputId": "90a87089-d7a4-4f82-ad83-c42fd0ea9a3a"
      },
      "execution_count": null,
      "outputs": [
        {
          "output_type": "stream",
          "name": "stdout",
          "text": [
            "Original List:  [1, 3, 1, 4, 3]\n",
            "New List:  [1, 3, 4]\n"
          ]
        }
      ]
    },
    {
      "cell_type": "code",
      "source": [
        "#@title 5. Union of two sets (or two lists)\n",
        "\n",
        "#Version 1.0  using the list traversal\n",
        "list_1 = [1, 3, 4, 4]\n",
        "list_2 = [3, 4, 5, 5]\n",
        "#union_list = [1, 3, 4, 5]  # How do we get this union_list?\n",
        "\n",
        "union_list = []\n",
        "for elem in list_1:\n",
        "  if elem not in union_list:\n",
        "    union_list.append(elem)\n",
        "\n",
        "for elem in list_2:\n",
        "  if elem not in union_list:\n",
        "    union_list.append(elem)\n",
        "\n",
        "# print the lists\n",
        "print('List 1: ', list_1)\n",
        "print('List 2: ', list_2)\n",
        "print('Union: ', union_list)\n",
        "\n",
        "\n",
        "\n",
        "#Version 2.0  using the sets\n",
        "list_1 = [1, 3, 4, 4]\n",
        "list_2 = [3, 4, 5, 5]\n",
        "\n",
        "union_list = list(set(list_1 + list_2))\n",
        "print('List 1: ', list_1)\n",
        "print('List 2: ', list_2)\n",
        "print('Union: ', union_list)\n",
        "\n"
      ],
      "metadata": {
        "colab": {
          "base_uri": "https://localhost:8080/"
        },
        "id": "94SxJ35B40YT",
        "outputId": "190b09e4-2ac3-4637-f7f5-073ceaf86cf6"
      },
      "execution_count": null,
      "outputs": [
        {
          "output_type": "stream",
          "name": "stdout",
          "text": [
            "List 1:  [1, 3, 4, 4]\n",
            "List 2:  [3, 4, 5, 5]\n",
            "Union:  [1, 3, 4, 5]\n",
            "List 1:  [1, 3, 4, 4]\n",
            "List 2:  [3, 4, 5, 5]\n",
            "Union:  [1, 3, 4, 5]\n"
          ]
        }
      ]
    }
  ]
}