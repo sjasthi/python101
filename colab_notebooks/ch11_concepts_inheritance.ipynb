{
  "nbformat": 4,
  "nbformat_minor": 0,
  "metadata": {
    "colab": {
      "provenance": [],
      "toc_visible": true
    },
    "kernelspec": {
      "name": "python3",
      "display_name": "Python 3"
    },
    "language_info": {
      "name": "python"
    }
  },
  "cells": [
    {
      "cell_type": "markdown",
      "source": [
        "#Chapter 11. Inheritace (Master)\n",
        "## Siva.Jasthi@metrostate.edu\n",
        "### Python 101"
      ],
      "metadata": {
        "id": "xg63C9rrYT9f"
      }
    },
    {
      "cell_type": "markdown",
      "source": [
        "# Inheritance Basics\n"
      ],
      "metadata": {
        "id": "x56RTNIgfbC8"
      }
    },
    {
      "cell_type": "code",
      "source": [
        "#@title Basic class\n",
        "class Foo():\n",
        "  def __init__(self):\n",
        "    print('Foo is created')\n",
        "\n",
        "  def __str__(self):\n",
        "    return ('Here is Foo')\n",
        "\n",
        "# creating the class\n",
        "f = Foo()\n",
        "print(f)\n"
      ],
      "metadata": {
        "colab": {
          "base_uri": "https://localhost:8080/"
        },
        "id": "WubVg7TrPumE",
        "outputId": "131c3505-309e-4000-8f05-85cea0048edc"
      },
      "execution_count": null,
      "outputs": [
        {
          "output_type": "stream",
          "name": "stdout",
          "text": [
            "Foo is created\n",
            "Here is Foo\n"
          ]
        }
      ]
    },
    {
      "cell_type": "code",
      "source": [
        "#@title Basic class extending from object\n",
        "class Foo(object):\n",
        "  def __init__(self):\n",
        "    print('Foo is created')\n",
        "\n",
        "  def __str__(self):\n",
        "    return ('Here is Foo')\n",
        "\n",
        "# creating the class\n",
        "f = Foo()\n",
        "print(f)"
      ],
      "metadata": {
        "colab": {
          "base_uri": "https://localhost:8080/"
        },
        "id": "5msS0NGQQN2Y",
        "outputId": "a19b32b8-8d63-410e-a0e6-eeaeaec11ad2"
      },
      "execution_count": null,
      "outputs": [
        {
          "output_type": "stream",
          "name": "stdout",
          "text": [
            "Foo is created\n",
            "Here is Foo\n"
          ]
        }
      ]
    },
    {
      "cell_type": "code",
      "source": [
        "#@title Basic class extending from object\n",
        "class Foo(object):\n",
        "  def __init__(self):\n",
        "    print('Foo is created')\n",
        "\n",
        "  def __str__(self):\n",
        "    return ('Here is Foo')\n",
        "\n",
        "# creating the class\n",
        "f = Foo()\n",
        "print(f)"
      ],
      "metadata": {
        "colab": {
          "base_uri": "https://localhost:8080/"
        },
        "id": "08n5KGUFQVsI",
        "outputId": "1d3019f4-3dab-4242-fa0c-7d9bd174f7f2"
      },
      "execution_count": null,
      "outputs": [
        {
          "output_type": "stream",
          "name": "stdout",
          "text": [
            "Foo is created\n",
            "Here is Foo\n"
          ]
        }
      ]
    },
    {
      "cell_type": "code",
      "source": [
        "#@title Extending a parent class\n",
        "class Baz(Foo):\n",
        "  def __init__(self):\n",
        "    print('Baz: a child class is created')\n",
        "\n",
        "  def __str__(self):\n",
        "    return (\"Here is Baz\")\n",
        "\n",
        "#creating the class\n",
        "b = Baz()\n",
        "print(b)\n"
      ],
      "metadata": {
        "colab": {
          "base_uri": "https://localhost:8080/"
        },
        "id": "6EHXF05OQvgp",
        "outputId": "cc8cb1b1-f425-4fb3-dc6b-1bfd93019f07"
      },
      "execution_count": null,
      "outputs": [
        {
          "output_type": "stream",
          "name": "stdout",
          "text": [
            "Baz: a child class is created\n",
            "Her is Baz\n"
          ]
        }
      ]
    },
    {
      "cell_type": "markdown",
      "source": [
        "# Inheritance (Example 1)"
      ],
      "metadata": {
        "id": "l3RuRKkyPp9N"
      }
    },
    {
      "cell_type": "code",
      "source": [
        "#@title Student class (base class)\n",
        "class Student():\n",
        "    def __init__(self, fname, lname):\n",
        "        self.__first_name = fname\n",
        "        self.__last_name = lname\n",
        "\n",
        "    # def __repr__(self):\n",
        "    #     return \"First Name: \" + self.__first_name + \\\n",
        "    #            \" Last Name: \" + self.__last_name\n",
        "\n",
        "    # def __str__(self):\n",
        "    #      return \"First Name: \" + self.__first_name + \\\n",
        "    #            \" Last Name: \" + self.__last_name\n",
        "\n",
        "# creating instances\n",
        "student_1 = Student(\"Siva\",\"Jasthi\")\n",
        "student_2 = Student(\"Mahesh\",\"Sunkara\")\n",
        "student_3 = Student(\"Amit\",\"Samtani\")\n",
        "\n",
        "print(student_1)\n",
        "print(student_2)\n",
        "print(student_3)"
      ],
      "metadata": {
        "colab": {
          "base_uri": "https://localhost:8080/"
        },
        "id": "zj2mAl-b4Apb",
        "outputId": "d1e3fcf5-5f5b-4cf9-f431-159998b1014d"
      },
      "execution_count": null,
      "outputs": [
        {
          "output_type": "stream",
          "name": "stdout",
          "text": [
            "<__main__.Student object at 0x7b0e3e0c27d0>\n",
            "<__main__.Student object at 0x7b0e3e0c2110>\n",
            "<__main__.Student object at 0x7b0e3e0c20b0>\n"
          ]
        }
      ]
    },
    {
      "cell_type": "code",
      "source": [
        "#@title Student class (base class) (extends from object)\n",
        "# By default, \"object\" is the parent of all the python classes\n",
        "# Because it is the default parent, it is NOT required to specify that a python class extends from (object)\n",
        "# class Student(object)  == class Student()\n",
        "\n",
        "class Student(object):\n",
        "    def __init__(self, fname, lname):\n",
        "        self.__first_name = fname\n",
        "        self.__last_name = lname\n",
        "\n",
        "    # def __repr__(self):\n",
        "    #     return \"First Name: \" + self.__first_name + \\\n",
        "    #            \" Last Name: \" + self.__last_name\n",
        "\n",
        "    # def __str__(self):\n",
        "    #      return \"First Name: \" + self.__first_name + \\\n",
        "    #            \" Last Name: \" + self.__last_name\n",
        "\n",
        "# creating instances\n",
        "student_1 = Student(\"Siva\",\"Jasthi\")\n",
        "student_2 = Student(\"Mahesh\",\"Sunkara\")\n",
        "student_3 = Student(\"Amit\",\"Samtani\")\n",
        "\n",
        "# When I print an object, the __str__ method is getting resolved at the parent\n",
        "print(student_1)\n",
        "print(student_2)\n",
        "print(student_3)"
      ],
      "metadata": {
        "id": "VInKbXrtBN4P",
        "colab": {
          "base_uri": "https://localhost:8080/"
        },
        "outputId": "2b2d23d5-20f9-4278-97a8-7c5254e7a954"
      },
      "execution_count": null,
      "outputs": [
        {
          "output_type": "stream",
          "name": "stdout",
          "text": [
            "<__main__.Student object at 0x7b0e3e24f400>\n",
            "<__main__.Student object at 0x7b0e3e24f280>\n",
            "<__main__.Student object at 0x7b0e3e24f5e0>\n"
          ]
        }
      ]
    },
    {
      "cell_type": "code",
      "source": [
        "#@title Student class (base class) (with our own __repr__ and __str__ methods\n",
        "\n",
        "class Student():\n",
        "    def __init__(self, fname, lname):\n",
        "        self.__first_name = fname\n",
        "        self.__last_name = lname\n",
        "\n",
        "    def __repr__(self):\n",
        "        return \"First Name: \" + self.__first_name + \\\n",
        "               \" Last Name: \" + self.__last_name\n",
        "\n",
        "    def __str__(self):\n",
        "         return \"First Name: \" + self.__first_name + \\\n",
        "               \" Last Name: \" + self.__last_name\n",
        "\n",
        "# creating instances\n",
        "student_1 = Student(\"Siva\",\"Jasthi\")\n",
        "student_2 = Student(\"Mahesh\",\"Sunkara\")\n",
        "student_3 = Student(\"Amit\",\"Samtani\")\n",
        "\n",
        "# When I print an object, the __str__ method is getting resolved at the parent\n",
        "print(student_1)\n",
        "print(student_2)\n",
        "print(student_3)"
      ],
      "metadata": {
        "colab": {
          "base_uri": "https://localhost:8080/"
        },
        "id": "tRUWZwdpCAMh",
        "outputId": "7af4a3cc-a2db-4770-dd37-c3598894607a"
      },
      "execution_count": null,
      "outputs": [
        {
          "output_type": "stream",
          "name": "stdout",
          "text": [
            "First Name: Siva Last Name: Jasthi\n",
            "First Name: Mahesh Last Name: Sunkara\n",
            "First Name: Amit Last Name: Samtani\n"
          ]
        }
      ]
    },
    {
      "cell_type": "code",
      "source": [
        "#@title InternationalStudent (child class)\n",
        "class Student():\n",
        "    def __init__(self, fname, lname):\n",
        "        self.__first_name = fname\n",
        "        self.__last_name = lname\n",
        "\n",
        "    def __repr__(self):\n",
        "        return \"First Name: \" + self.__first_name + \\\n",
        "               \" Last Name: \" + self.__last_name\n",
        "\n",
        "    def __str__(self):\n",
        "         return \"First Name: \" + self.__first_name + \\\n",
        "               \" Last Name: \" + self.__last_name\n",
        "\n",
        "\n",
        "class InternationalStudent(Student):\n",
        "    pass\n",
        "\n",
        "# creating instances\n",
        "intl_student_1 = InternationalStudent(\"Siva\",\"Jasthi\")\n",
        "intl_student_2 = InternationalStudent(\"Mahesh\",\"Sunkara\")\n",
        "intl_student_3 = InternationalStudent(\"Amit\",\"Samtani\")\n",
        "\n",
        "#priting the instances\n",
        "print(intl_student_1)\n",
        "print(intl_student_1)\n",
        "print(intl_student_1)\n"
      ],
      "metadata": {
        "id": "aSeCaQgK54Jy",
        "colab": {
          "base_uri": "https://localhost:8080/"
        },
        "outputId": "ec37f418-b13d-4ac2-93d7-cf14b75698aa"
      },
      "execution_count": null,
      "outputs": [
        {
          "output_type": "stream",
          "name": "stdout",
          "text": [
            "First Name: Siva Last Name: Jasthi\n",
            "First Name: Siva Last Name: Jasthi\n",
            "First Name: Siva Last Name: Jasthi\n"
          ]
        }
      ]
    },
    {
      "cell_type": "code",
      "source": [
        "#@title International Student (child class) (Case 1: Adding additional attributes)\n",
        "\n",
        "class Student():\n",
        "    def __init__(self, fname, lname):\n",
        "        self.__first_name = fname\n",
        "        self.__last_name = lname\n",
        "\n",
        "    def __repr__(self):\n",
        "        return f\"first_name {self.__first_name}  last_name: {self.__last_name}\"\n",
        "\n",
        "    def __str__(self):\n",
        "         return \"First Name: \" + self.__first_name + \\\n",
        "               \" Last Name: \" + self.__last_name\n",
        "\n",
        "\n",
        "# CHILD can not exist without the PARENT\n",
        "# If a CHILD is having some additional attributes, construct those in the CHILD class.\n",
        "# And all other attributes the CHILD is getting from the parent, construct those in the PARENT class (super)\n",
        "class InternationalStudent(Student):\n",
        "    def __init__(self, fname, lname, a_country, a_language):\n",
        "        super().__init__(fname, lname)\n",
        "        self.__country = a_country\n",
        "        self.__language = a_language\n",
        "\n",
        "        #self.firstName = fname\n",
        "        #self.lastName = lname\n",
        "        #self.country = a_country\n",
        "        #self.language = a_language\n",
        "\n",
        "# creating instances\n",
        "intl_student_1 = InternationalStudent(\"Siva\", \"Jasthi\", \"India\", \"Telugu\")\n",
        "intl_student_2 = InternationalStudent(\"Mahesh\", \"Sunkara\", \"India\",\"Telugu\")\n",
        "intl_student_3 = InternationalStudent(\"Amit\", \"Samtani\", \"MaharshTra\", \"Marathi\")\n",
        "\n",
        "#priting the instances\n",
        "'''\n",
        "#how is python thinking when you are printing an instance\n",
        "1. Does the instance has __str__ function? Great! Use it\n",
        "2. Does the parent of the instance - does it have __str__ function? Then use that\n",
        "3. Does the instance has __repr__ function? Then use it\n",
        "4. Does the parent of the instance - does it have __repr__ function? Then use that\n",
        "5. The question 2, 3 and 4 will be asked till we reach the root class \"object\"\n",
        "'''\n",
        "\n",
        "print(intl_student_1)  #\n",
        "print(intl_student_2)\n",
        "print(intl_student_3)"
      ],
      "metadata": {
        "colab": {
          "base_uri": "https://localhost:8080/"
        },
        "id": "QqMzjjSD6mCQ",
        "outputId": "3eb48515-c172-4ca9-ff58-dc24d20e88b5"
      },
      "execution_count": null,
      "outputs": [
        {
          "output_type": "stream",
          "name": "stdout",
          "text": [
            "First Name: Siva Last Name: Jasthi\n",
            "First Name: Mahesh Last Name: Sunkara\n",
            "First Name: Amit Last Name: Samtani\n"
          ]
        }
      ]
    },
    {
      "cell_type": "code",
      "source": [
        "#@title International Student (child class) (Case 2: Overwriting parent's methods)\n",
        "class Student():\n",
        "    def __init__(self, fname, lname):\n",
        "        self.__first_name = fname\n",
        "        self.__last_name = lname\n",
        "\n",
        "    def __repr__(self):\n",
        "        return f\"first_name {self.__first_name}  last_name: {self.__last_name}\"\n",
        "\n",
        "    def __str__(self):\n",
        "         return \"First Name: \" + self.__first_name + \\\n",
        "               \" Last Name: \" + self.__last_name\n",
        "\n",
        "    def get_first_name(self):\n",
        "      return self.__first_name\n",
        "\n",
        "    def get_last_name(self):\n",
        "      return self.__last_name\n",
        "\n",
        "\n",
        "class InternationalStudent(Student):\n",
        "    def __init__(self, fname, lname, a_country, a_language):\n",
        "        super().__init__(fname, lname)\n",
        "        self.__country = a_country\n",
        "        self.__language = a_language\n",
        "\n",
        "    def __repr__(self):\n",
        "        return \"__first_name: \" + self.get_first_name() + \\\n",
        "               \" __last_name: \" + self.get_last_name()  + \\\n",
        "               \" __country: \" + self.__country  + \\\n",
        "               \"__language: \" + self.__language\n",
        "\n",
        "    def __str__(self):\n",
        "         return \"First Name: \" + self.get_first_name() + \\\n",
        "               \" Last Name: \" + self.get_last_name()  + \\\n",
        "               \" Country: \" + self.__country  + \\\n",
        "               \" Language: \" + self.__language\n",
        "\n",
        "\n",
        "\n",
        "\n",
        "# creating instances\n",
        "intl_student_1 = InternationalStudent(\"Siva\",\"Jasthi\", \"India\", \"Telugu\")\n",
        "intl_student_2 = InternationalStudent(\"Mahesh\",\"Sunkara\", \"India\",\"Telugu\")\n",
        "intl_student_3 = InternationalStudent(\"Amit\",\"Samtani\", \"MaharshTra\", \"Marathi\")\n",
        "\n",
        "#priting the instances\n",
        "print(intl_student_1)\n",
        "# print(intl_student_2)\n",
        "# print(intl_student_3)"
      ],
      "metadata": {
        "colab": {
          "base_uri": "https://localhost:8080/"
        },
        "id": "Xmqx68oq7L6x",
        "outputId": "34282113-36e7-45e0-89a3-b605ce9859fe"
      },
      "execution_count": null,
      "outputs": [
        {
          "output_type": "stream",
          "name": "stdout",
          "text": [
            "First Name: Siva Last Name: Jasthi Country: India Language: Telugu\n"
          ]
        }
      ]
    },
    {
      "cell_type": "code",
      "source": [
        "#@title International Student (child class) (Case 3: Having additional behavior)\n",
        "class Student():\n",
        "    def __init__(self, fname, lname):\n",
        "        self.__first_name = fname\n",
        "        self.__last_name = lname\n",
        "\n",
        "    def __repr__(self):\n",
        "        return f\"first_name {self.__first_name}  last_name: {self.__last_name}\"\n",
        "\n",
        "    def __str__(self):\n",
        "         return \"First Name: \" + self.__first_name + \\\n",
        "               \" Last Name: \" + self.__last_name\n",
        "\n",
        "    def get_first_name(self):\n",
        "      return self.__first_name\n",
        "\n",
        "    def get_last_name(self):\n",
        "      return self.__last_name\n",
        "\n",
        "\n",
        "class InternationalStudent(Student):\n",
        "    def __init__(self, fname, lname, a_country, a_language):\n",
        "        super().__init__(fname, lname)\n",
        "        self.__country = a_country\n",
        "        self.__language = a_language\n",
        "\n",
        "    def __repr__(self):\n",
        "        return \"__first_name: \" + self.get_first_name() + \\\n",
        "               \" __last_name: \" + self.get_last_name()  + \\\n",
        "               \" __country: \" + self.__country  + \\\n",
        "               \"__language: \" + self.__language\n",
        "\n",
        "    def __str__(self):\n",
        "         return \"First Name: \" + self.get_first_name() + \\\n",
        "               \" Last Name: \" + self.get_last_name()  + \\\n",
        "               \" Country: \" + self.__country  + \\\n",
        "               \" Language: \" + self.__language\n",
        "\n",
        "    def dollars_to_rupees(self, amount):\n",
        "        return amount * 80\n",
        "\n",
        "    def rupees_to_dollar(self, amount):\n",
        "        return amount/80\n",
        "\n",
        "\n",
        "# creating instances\n",
        "intl_student_1 = InternationalStudent(\"Siva\",\"Jasthi\", \"India\", \"Telugu\")\n",
        "intl_student_2 = InternationalStudent(\"Mahesh\",\"Sunkara\", \"India\",\"Telugu\")\n",
        "intl_student_3 = InternationalStudent(\"Amit\",\"Samtani\", \"MaharshTra\", \"Marathi\")\n",
        "\n",
        "#priting the instances\n",
        "print(intl_student_1)\n",
        "print(intl_student_2)\n",
        "print(intl_student_3)\n",
        "\n",
        "# Calling the additional behavior\n",
        "dollars = 100\n",
        "rupees = intl_student_1.dollars_to_rupees(dollars)\n",
        "print(\"Rupees for 100 dollars: \", rupees)\n",
        "\n",
        "\n",
        "rupees = 100000\n",
        "dollars = intl_student_1.rupees_to_dollar(rupees)\n",
        "print(f\"dollars for {rupees} rupees: {dollars}\")"
      ],
      "metadata": {
        "colab": {
          "base_uri": "https://localhost:8080/"
        },
        "id": "q903Dh3s7ymU",
        "outputId": "88171408-2f23-4685-dc8d-bbfc0f5cbfa0"
      },
      "execution_count": null,
      "outputs": [
        {
          "output_type": "stream",
          "name": "stdout",
          "text": [
            "First Name: Siva Last Name: Jasthi Country: India Language: Telugu\n",
            "First Name: Mahesh Last Name: Sunkara Country: India Language: Telugu\n",
            "First Name: Amit Last Name: Samtani Country: MaharshTra Language: Marathi\n",
            "Rupees for 100 dollars:  8000\n",
            "dollars for 100000 rupees: 1250.0\n"
          ]
        }
      ]
    },
    {
      "cell_type": "markdown",
      "source": [
        "# Inheritance (Example 2)"
      ],
      "metadata": {
        "id": "jyGVZ_GI2rBW"
      }
    },
    {
      "cell_type": "code",
      "source": [
        "#@title Vehicle and Car classes\n",
        "\n",
        "class Vehicle:\n",
        "    def __init__(self, brand, cost):\n",
        "        self.__brand = brand\n",
        "        self.__cost = cost\n",
        "\n",
        "    def __str__(self):\n",
        "        vehicle_str = ('Class: Vehicle' +\n",
        "                       ', Brand: ' + self.__brand +\n",
        "                       ', Cost: ' + str(self.__cost))\n",
        "        return vehicle_str\n",
        "\n",
        "    def get_brand(self):\n",
        "      return self.__brand\n",
        "\n",
        "\n",
        "    def get_cost(self):\n",
        "      return self.__cost\n",
        "\n",
        "\n",
        "class Car(Vehicle):\n",
        "    def __init__(self, brand, cost):\n",
        "        super().__init__(brand, cost)\n",
        "        # self.brand = brand\n",
        "        # self.cost = cost\n",
        "\n",
        "    def __str__(self):\n",
        "        vehicle_str = ('==========>' +\n",
        "                       ' Class: Vehicle' +\n",
        "                       ', Brand: ' + self.get_brand() +\n",
        "                       ', Cost: ' + str(self.get_cost()) )\n",
        "        return vehicle_str\n",
        "\n",
        "\n",
        "c1 = Car('honda', 60000)\n",
        "print(c1)"
      ],
      "metadata": {
        "colab": {
          "base_uri": "https://localhost:8080/"
        },
        "id": "aWWhCCxZrENr",
        "outputId": "341177a8-3289-4007-ddcc-a7f7f768b3e6"
      },
      "execution_count": null,
      "outputs": [
        {
          "output_type": "stream",
          "name": "stdout",
          "text": [
            "==========> Class: Vehicle, Brand: honda, Cost: 60000\n"
          ]
        }
      ]
    },
    {
      "cell_type": "markdown",
      "source": [
        "# Child can not exist without the parent"
      ],
      "metadata": {
        "id": "5gkQwxrFlhER"
      }
    },
    {
      "cell_type": "code",
      "source": [
        "#@title Best way to call __init__ method out of three options\n",
        "\n",
        "class Student():\n",
        "    def __init__(self, fname, lname):\n",
        "        self.__first_name = fname\n",
        "        self.__last_name = lname\n",
        "\n",
        "    def __repr__(self):\n",
        "        return f\"first_name {self.__first_name}  last_name: {self.__last_name}\"\n",
        "\n",
        "    def __str__(self):\n",
        "         return \"First Name: \" + self.__first_name + \\\n",
        "               \" Last Name: \" + self.__last_name\n",
        "\n",
        "    def get_first_name(self):\n",
        "      return self.__first_name\n",
        "\n",
        "    def get_last_name(self):\n",
        "      return self.__last_name\n",
        "\n",
        "\n",
        "class InternationalStudent(Student):\n",
        "    def __init__(self, fname, lname, a_country, a_language):\n",
        "        # Option 1: calling the parents method through super() is preferred approach\n",
        "        super().__init__(fname, lname)\n",
        "        self.__country = a_country\n",
        "        self.__language = a_language\n",
        "\n",
        "        # Option 2: calling the parents method through class name\n",
        "        # Student.__init__(self,fname, lname)\n",
        "        # self.country = a_country\n",
        "        # self.language = a_language\n",
        "\n",
        "        # Option 3: using the brute force method to initialize\n",
        "        # self.firstName = fname\n",
        "        # self.lastName = lname\n",
        "        # self.country = a_country\n",
        "        # self.language = a_language\n",
        "\n",
        "    def __repr__(self):\n",
        "        return \"__first_name: \" + self.get_first_name() + \\\n",
        "               \" __last_name: \" + self.get_last_name()  + \\\n",
        "               \" __country: \" + self.__country  + \\\n",
        "               \"__language: \" + self.__language\n",
        "\n",
        "    def __str__(self):\n",
        "         return \"First Name: \" + self.get_first_name() + \\\n",
        "               \" Last Name: \" + self.get_last_name()  + \\\n",
        "               \" Country: \" + self.__country  + \\\n",
        "               \" Language: \" + self.__language\n",
        "\n",
        "    def dollars_to_rupees(self, amount):\n",
        "        return amount * 80\n",
        "\n",
        "    def rupees_to_dollar(self, amount):\n",
        "        return amount/80\n",
        "\n",
        "\n",
        "# creating instances\n",
        "x = InternationalStudent(\"Siva\", \"Jasthi\", \"India\", \"Telugu\")\n",
        "y = InternationalStudent(\"Mahesh\", \"Sunkara\", \"India\",\"Telugu\")\n",
        "z = InternationalStudent(\"Amit\", \"Samtani\", \"MaharshTra\", \"Marathi\")\n",
        "\n",
        "#priting the instances\n",
        "print(x)\n",
        "print(y)\n",
        "print(z)\n",
        "\n",
        "# how much money (rupees) I would get for a 100$\n",
        "rupee_value = x.dollars_to_rupees(100)\n",
        "print('Amount of Rupees I would get for $100: ', rupee_value, 'rupees')\n",
        "\n",
        "\n",
        "\n",
        "# Take Away: Parents will not see the additional attributes or additional behavior of the children\n",
        "#s1 = Student('Barb', 'Bliss')\n",
        "#s1."
      ],
      "metadata": {
        "colab": {
          "base_uri": "https://localhost:8080/"
        },
        "id": "bNU9yeo2xGLb",
        "outputId": "4c781ebf-5095-4474-d1a5-ef8a24665689"
      },
      "execution_count": null,
      "outputs": [
        {
          "output_type": "stream",
          "name": "stdout",
          "text": [
            "First Name: Siva Last Name: Jasthi Country: India Language: Telugu\n",
            "First Name: Mahesh Last Name: Sunkara Country: India Language: Telugu\n",
            "First Name: Amit Last Name: Samtani Country: MaharshTra Language: Marathi\n",
            "Amount of Rupees I would get for $100:  8000 rupees\n"
          ]
        }
      ]
    },
    {
      "cell_type": "markdown",
      "source": [
        "# Inspecting the inheritance hierarchy"
      ],
      "metadata": {
        "id": "VsRO_S-W9k1x"
      }
    },
    {
      "cell_type": "code",
      "source": [
        "#@title type, isinstance, and issubclass (all are built-in functions)\n",
        "class Student:\n",
        "    def __init__(self, fname, lname):\n",
        "        self.firstName = fname\n",
        "        self.lastName = lname\n",
        "\n",
        "    def __repr__(self):\n",
        "        return \"First Name: \" + self.firstName + \\\n",
        "               \" Last Name: \" + self.lastName\n",
        "\n",
        "    def __str__(self):\n",
        "         return \"First Name: \" + self.firstName + \\\n",
        "               \" Last Name: \" + self.lastName\n",
        "\n",
        "\n",
        "class InternationalStudent(Student):\n",
        "    def __init__(self, fname, lname, a_country, a_language):\n",
        "        super().__init__(fname, lname)\n",
        "        self.country = a_country\n",
        "        self.language = a_language\n",
        "\n",
        "    def __repr__(self):\n",
        "        return \"First Name: \" + self.firstName + \\\n",
        "               \" Last Name: \" + self.lastName  + \\\n",
        "               \" Country: \" + self.country  + \\\n",
        "               \" Language: \" + self.language\n",
        "\n",
        "    def __str__(self):\n",
        "         return \"First Name: \" + self.firstName + \\\n",
        "               \" Last Name: \" + self.lastName  + \\\n",
        "               \" Country: \" + self.country  + \\\n",
        "               \" Language: \" + self.language\n",
        "\n",
        "    def dollars2rupees(self,amount):\n",
        "        return amount* 75\n",
        "\n",
        "    def rupees2dollars(self,amount):\n",
        "        return amount/75\n",
        "\n",
        "\n",
        "# creating instances\n",
        "x = InternationalStudent(\"Siva\", \"Jasthi\", \"India\", \"Telugu\")\n",
        "\n",
        "\n",
        "#priting the instances\n",
        "print(x)\n",
        "\n",
        "# call the custom methods\n",
        "print(x.dollars2rupees(100))\n",
        "print(x.rupees2dollars(7500))\n",
        "\n",
        "\n",
        "\n",
        "#========= Testing the types of the instances ===\n",
        "# testing its type\n",
        "print(\"What is type of x?\")\n",
        "print(type(x))\n",
        "\n",
        "print(\"Is Student a subclass of InternationalStudent?\")\n",
        "print(issubclass(Student, InternationalStudent))\n",
        "\n",
        "print(\"Is InternationalStudent a subclass of Student?\")\n",
        "print(issubclass(InternationalStudent, Student))\n",
        "\n",
        "print(\"Is InternationalStudent a subclass of object?\")\n",
        "print(issubclass(InternationalStudent, object))\n",
        "\n",
        "miguel = InternationalStudent(\"Michel\", \"Knight\", \"Spain\", \"Catalina\")\n",
        "\n",
        "print(type(miguel))\n",
        "\n",
        "print(\"Is miguel an instance of an InternationalStudent?\")\n",
        "print(isinstance(miguel, InternationalStudent))\n",
        "\n",
        "\n",
        "print(\"Is x an instance of a Student?\")\n",
        "print(isinstance(x, Student))\n",
        "\n",
        "print(\"Is x an instance of an object?\")\n",
        "print(isinstance(x, object))\n"
      ],
      "metadata": {
        "colab": {
          "base_uri": "https://localhost:8080/"
        },
        "id": "SO-8Fisf0o2G",
        "outputId": "291bd21d-217d-4f79-f8d8-ba9dbf1dedfd"
      },
      "execution_count": null,
      "outputs": [
        {
          "output_type": "stream",
          "name": "stdout",
          "text": [
            "First Name: Siva Last Name: Jasthi Country: India Language: Telugu\n",
            "7500\n",
            "100.0\n",
            "What is type of x?\n",
            "<class '__main__.InternationalStudent'>\n",
            "Is Student a subclass of InternationalStudent?\n",
            "False\n",
            "Is InternationalStudent a subclass of Student?\n",
            "True\n",
            "Is InternationalStudent a subclass of object?\n",
            "True\n",
            "<class '__main__.InternationalStudent'>\n",
            "Is miguel an instance of an InternationalStudent?\n",
            "True\n",
            "Is x an instance of a Student?\n",
            "True\n",
            "Is x an instance of an object?\n",
            "True\n"
          ]
        }
      ]
    },
    {
      "cell_type": "code",
      "source": [
        "#@title Inheritance Hierarchy (example)\n",
        "'''\n",
        "Write these classes (you can decide on variables; Ensure that each class has at least two variables)\n",
        "    Vehicle is a parent class\n",
        "    Car is a sub class of Vechicle\n",
        "    Truck is a sub class of Vehicle\n",
        "    EV is a sub class of Car\n",
        "\n",
        "* Create some instances of \"Vehicle, car, Truck and EV\".\n",
        "\n",
        "Explore the two methods on the above classes and instances\n",
        "* isinstance\n",
        "* issubclass\n",
        "'''\n",
        "\n",
        "\n",
        "class Vehicle:\n",
        "    def __init__(self, brand, cost):\n",
        "        self.brand = brand\n",
        "        self.cost = cost\n",
        "\n",
        "    def __repr__(self):\n",
        "        vehicle_str = ('\\nClass: Vehicle' + '\\nBrand: ' + self.brand +\n",
        "                       '\\nCost: ' + str(self.cost))\n",
        "        return vehicle_str\n",
        "\n",
        "\n",
        "class Car(Vehicle):\n",
        "    def __init__(self, brand, cost, type):\n",
        "        super().__init__(brand, cost)\n",
        "        self.type = type\n",
        "\n",
        "    def __repr__(self):\n",
        "        car_str = ('\\nClass: Car' + '\\nBrand: ' + self.brand + '\\nCost: ' +\n",
        "                   str(self.cost) + '\\nType: ' + self.type)\n",
        "        return car_str\n",
        "\n",
        "\n",
        "class Truck(Vehicle):\n",
        "    def __init__(self, brand, cost, weight):\n",
        "        super().__init__(brand, cost)\n",
        "        self.weight = weight\n",
        "\n",
        "    def __repr__(self):\n",
        "        truck_str = ('\\nClass: Truck' + '\\nBrand: ' + self.brand + '\\nCost: ' +\n",
        "                     str(self.cost) + '\\nWeight: ' + str(self.weight))\n",
        "        return truck_str\n",
        "\n",
        "\n",
        "class EV(Car):\n",
        "    def __init__(self, brand, cost, type, battery_capacity):\n",
        "        super().__init__(brand, cost, type)\n",
        "        self.battery_capacity = battery_capacity\n",
        "\n",
        "    def __repr__(self):\n",
        "        EV_str = ('\\nClass: EV' + '\\nBrand: ' + self.brand + '\\nCost: ' +\n",
        "                  str(self.cost) + '\\nType: ' + self.type +\n",
        "                  '\\nBattery Capacity: ' + str(self.battery_capacity))\n",
        "        return EV_str\n",
        "\n",
        "    def charge(charge_amount):\n",
        "        battery_capacity = battery_capacity + charge_amount\n",
        "        #if new_capacity >= self.battery_capacity:\n",
        "        #self.battery_capacity =\n",
        "\n",
        "\n",
        "v1 = Vehicle('Toyota', 8000)\n",
        "v2 = Vehicle('Volvo', 10000)\n",
        "\n",
        "c1 = Car('Toyota', 8000, 'Minivan')\n",
        "c2 = Car('Volvo', 10000, 'SUV')\n",
        "\n",
        "t1 = Truck('Mercedes', 20000, 7000)\n",
        "t2 = Truck('RAM', 15000, 6000)\n",
        "\n",
        "ev1 = EV('Tesla', 11000, 'SUV', 6000)\n",
        "ev2 = EV('Tesla', 17000, 'Truck', 9000)\n",
        "\n",
        "print(v1)\n",
        "print(v2)\n",
        "\n",
        "print(c1)\n",
        "print(c2)\n",
        "\n",
        "print(t1)\n",
        "print(t2)\n",
        "\n",
        "print(ev1)\n",
        "print(ev2)\n",
        "\n",
        "'''Is Vehicle a subclass of object? NS\n",
        "Is Car a subclass of Vehicle? True\n",
        "Is Car a subclass of object? NS\n",
        "Is EV a subclass of object? NS\n",
        "Is EV a subclass of Vehicle? True\n",
        "Is EV a subclass of Car? True\n",
        "Is Truck a subclass of object? NS\n",
        "Is Truck a subclass of Vehicle? True\n",
        "\n",
        "Is Car a subclass of Truck? False\n",
        "Is EV a subclass of Truck? False\n",
        "Is Vehicle a subclass of EV? False'''\n",
        "\n",
        "#Is Vehicle a subclass of object?\n",
        "x = issubclass(Vehicle, object)\n",
        "print('Is Vehicle a subclass of object?', x)\n",
        "\n",
        "#Is Car a subclass of Vehicle?\n",
        "x = issubclass(Car, Vehicle)\n",
        "print('Is Car a subclass of Vehicle?', x)\n",
        "\n",
        "#Is Car a subclass of object?\n",
        "x = issubclass(Car, object)\n",
        "print('Is Car a subclass of object?', x)\n",
        "\n",
        "#Is EV a subclass of object?\n",
        "x = issubclass(EV, object)\n",
        "print('Is EV a subclass of object?', x)\n",
        "\n",
        "#Is EV a subclass of Vehicle?\n",
        "x = issubclass(EV, Vehicle)\n",
        "print('Is EV a subclass of Vehicle?', x)\n",
        "\n",
        "#Is EV a subclass of Car?\n",
        "x = issubclass(EV, Car)\n",
        "print('Is EV a subclass of Car?', x)\n",
        "\n",
        "#Is Car a subclass of Truck?\n",
        "x = issubclass(Car, Truck)\n",
        "print('Is Car a subclass of Truck?', x)\n",
        "\n",
        "#Is Vehicle a subclass of EV?\n",
        "x = issubclass(Vehicle, EV)\n",
        "print('Is Vehicle a subclass of EV?', x)\n",
        "\n",
        "'''Is V1 an instance of Vehicle?\n",
        "Is V1 an instance of Car?\n",
        "Is C1 an instance of Car?\n",
        "Is C2 an instance of Vehicle?\n",
        "Is C2 an instance of object?\n",
        "Is EV1 an instance of object?\n",
        "Is EV1 an instance of Vehicle?\n",
        "Is EV1 an instance of Car?\n",
        "Is EV1 and instance of EV?\n",
        "Is T1 an instance of object?\n",
        "Is T1 an instance of Truck?\n",
        "Is T1 an instance of Vehicle?\n",
        "Is T2 an instance of EV?\n",
        "Is EV1 an instance of Truck?'''\n",
        "\n",
        "print('isinstance testing\\n')\n",
        "# Is V1 an instance of Vehicle?\n",
        "x = isinstance(v1, Vehicle)\n",
        "print('Is V1 an instance of Vehicle?', x)\n",
        "\n",
        "# Is V1 an instance of Car?\n",
        "x = isinstance(v1, Car)\n",
        "print('Is V1 an instance of Car?', x)\n",
        "\n",
        "# Is C1 an instance of Car?\n",
        "x = isinstance(c1, Car)\n",
        "print('Is C1 an instance of Car?', x)\n",
        "\n",
        "# Is C2 an instance of Vehicle?\n",
        "x = isinstance(c2, Vehicle)\n",
        "print('Is C2 an instance of Vehicle?', x)\n",
        "\n",
        "# Is C2 an instance of object?\n",
        "x = isinstance(c2, object)\n",
        "print('Is C2 an instance of object?', x)\n",
        "\n",
        "# Is EV1 an instance of object?\n",
        "x = isinstance(ev1, object)\n",
        "print('Is EV1 an instance of object?', x)\n",
        "\n",
        "# Is EV1 an instance of Vehicle?\n",
        "# Is EV1 an instance of Car?\n",
        "# Is EV1 an instance of EV?\n",
        "# Is T1 an instance of object?\n",
        "# Is T1 an instance of Truck?\n",
        "# Is T1 an instance of Vehicle?\n",
        "# Is T2 an instance of EV?\n",
        "x = isinstance(t2, EV)\n",
        "print('Is T2 an instance of EV?', x)\n",
        "\n",
        "# Is EV1 an instance of Truck?\n",
        "x = isinstance(ev1, Truck)\n",
        "print('Is EV1 an instance of Truck?', x)"
      ],
      "metadata": {
        "id": "_l1UyHCfcEEk",
        "colab": {
          "base_uri": "https://localhost:8080/"
        },
        "outputId": "79eb82dc-bc8d-41a4-b2d8-2865a4d014a9"
      },
      "execution_count": null,
      "outputs": [
        {
          "output_type": "stream",
          "name": "stdout",
          "text": [
            "\n",
            "Class: Vehicle\n",
            "Brand: Toyota\n",
            "Cost: 8000\n",
            "\n",
            "Class: Vehicle\n",
            "Brand: Volvo\n",
            "Cost: 10000\n",
            "\n",
            "Class: Car\n",
            "Brand: Toyota\n",
            "Cost: 8000\n",
            "Type: Minivan\n",
            "\n",
            "Class: Car\n",
            "Brand: Volvo\n",
            "Cost: 10000\n",
            "Type: SUV\n",
            "\n",
            "Class: Truck\n",
            "Brand: Mercedes\n",
            "Cost: 20000\n",
            "Weight: 7000\n",
            "\n",
            "Class: Truck\n",
            "Brand: RAM\n",
            "Cost: 15000\n",
            "Weight: 6000\n",
            "\n",
            "Class: EV\n",
            "Brand: Tesla\n",
            "Cost: 11000\n",
            "Type: SUV\n",
            "Battery Capacity: 6000\n",
            "\n",
            "Class: EV\n",
            "Brand: Tesla\n",
            "Cost: 17000\n",
            "Type: Truck\n",
            "Battery Capacity: 9000\n",
            "Is Vehicle a subclass of object? True\n",
            "Is Car a subclass of Vehicle? True\n",
            "Is Car a subclass of object? True\n",
            "Is EV a subclass of object? True\n",
            "Is EV a subclass of Vehicle? True\n",
            "Is EV a subclass of Car? True\n",
            "Is Car a subclass of Truck? False\n",
            "Is Vehicle a subclass of EV? False\n",
            "isinstance testing\n",
            "\n",
            "Is V1 an instance of Vehicle? True\n",
            "Is V1 an instance of Car? False\n",
            "Is C1 an instance of Car? True\n",
            "Is C2 an instance of Vehicle? True\n",
            "Is C2 an instance of object? True\n",
            "Is EV1 an instance of object? True\n",
            "Is T2 an instance of EV? False\n",
            "Is EV1 an instance of Truck? False\n"
          ]
        }
      ]
    },
    {
      "cell_type": "markdown",
      "source": [
        "# Polymorphism (aka Dynamic Binding) (aka Runtime Binding)\n",
        "## Python will figure it out which method to call (based on the object type) at runtime"
      ],
      "metadata": {
        "id": "vjKPuJRH-5l1"
      }
    },
    {
      "cell_type": "code",
      "source": [
        "#@title Python Class having some Students and some International Students\n",
        "\n",
        "#@title type, isinstance, and issubclass (all are built-in functions)\n",
        "class Student:\n",
        "    def __init__(self, fname, lname):\n",
        "        self.firstName = fname\n",
        "        self.lastName = lname\n",
        "\n",
        "    def __repr__(self):\n",
        "        return \"First Name: \" + self.firstName + \\\n",
        "               \" Last Name: \" + self.lastName\n",
        "\n",
        "    def __str__(self):\n",
        "         return \"First Name: \" + self.firstName + \\\n",
        "               \" Last Name: \" + self.lastName\n",
        "\n",
        "\n",
        "class InternationalStudent(Student):\n",
        "    def __init__(self, fname, lname, a_country, a_language):\n",
        "        super().__init__(fname, lname)\n",
        "        self.country = a_country\n",
        "        self.language = a_language\n",
        "\n",
        "    def __repr__(self):\n",
        "        return \"First Name: \" + self.firstName + \\\n",
        "               \" Last Name: \" + self.lastName  + \\\n",
        "               \" Country: \" + self.country  + \\\n",
        "               \" Language: \" + self.language\n",
        "\n",
        "    def __str__(self):\n",
        "         return \"First Name: \" + self.firstName + \\\n",
        "               \" Last Name: \" + self.lastName  + \\\n",
        "               \" Country: \" + self.country  + \\\n",
        "               \" Language: \" + self.language\n",
        "\n",
        "    def dollars2rupees(self,amount):\n",
        "        return amount* 75\n",
        "\n",
        "    def rupees2dollars(self,amount):\n",
        "        return amount/75\n",
        "\n",
        "\n",
        "# creating some instances\n",
        "s1 = InternationalStudent(\"Siva\", \"Jasthi\", \"India\", \"Telugu\")\n",
        "s2 = Student(\"Barb\", \"Bliss\")\n",
        "s3 = InternationalStudent(\"Michael\", \"Knight\", \"Mexico\", \"Spanish\")\n",
        "s4 = Student(\"Alex\", \"Sheets\")\n",
        "\n",
        "# create a list\n",
        "python_102_list = [s1, s2, s3, s4]\n",
        "\n",
        "# loop through the list and print those\n",
        "for some_student in python_102_list:\n",
        "  print(some_student)\n",
        "\n",
        "\n",
        "# Fake / nonsense class that has some cars, vehicles and trucks\n",
        "python_102_list = [s1, s2, s3, s4, c1, c2, v1, v2, t1, t2]\n",
        "for some_student in python_102_list:\n",
        "  print(some_student)"
      ],
      "metadata": {
        "id": "WRFgFHR9-9dH",
        "colab": {
          "base_uri": "https://localhost:8080/"
        },
        "outputId": "45be4392-5ccf-4e6f-f3c9-69fa93f62766"
      },
      "execution_count": null,
      "outputs": [
        {
          "output_type": "stream",
          "name": "stdout",
          "text": [
            "First Name: Siva Last Name: Jasthi Country: India Language: Telugu\n",
            "First Name: Barb Last Name: Bliss\n",
            "First Name: Michael Last Name: Knight Country: Mexico Language: Spanish\n",
            "First Name: Alex Last Name: Sheets\n",
            "\n",
            "Class: Car\n",
            "Brand: Toyota\n",
            "Cost: 8000\n",
            "Type: Minivan\n",
            "\n",
            "Class: Car\n",
            "Brand: Volvo\n",
            "Cost: 10000\n",
            "Type: SUV\n",
            "\n",
            "Class: Vehicle\n",
            "Brand: Toyota\n",
            "Cost: 8000\n",
            "\n",
            "Class: Vehicle\n",
            "Brand: Volvo\n",
            "Cost: 10000\n",
            "\n",
            "Class: Truck\n",
            "Brand: Mercedes\n",
            "Cost: 20000\n",
            "Weight: 7000\n",
            "\n",
            "Class: Truck\n",
            "Brand: RAM\n",
            "Cost: 15000\n",
            "Weight: 6000\n"
          ]
        }
      ]
    },
    {
      "cell_type": "code",
      "source": [
        "#@title  Beer ['brand', 'volume', 'flavor']\n",
        "class Beer:\n",
        "\n",
        "# Defining the __init__ method\n",
        "\tdef __init__(self, brand, volume, flavor):\n",
        "\t\tself.brand = brand\n",
        "\t\tself.volume = volume\n",
        "\t\tself.flavor = flavor\n",
        "\n",
        "\n",
        "# Defining the __repr__ method\n",
        "\tdef __repr__(self):\n",
        "\t\treturn f\"Beer(brand={self.brand}, volume={self.volume}, flavor={self.flavor})\"\n",
        "\n",
        "\n",
        "# Defining the __str__ method\n",
        "\tdef __str__(self):\n",
        "\t\treturn f\"\\nBeer:\\nbrand: {self.brand}\\nvolume: {self.volume}\\nflavor: {self.flavor}\"\n",
        "\n",
        "\n",
        "# Defining the __get_obj_creation_code__ method\n",
        "beer_1 = Beer(\"Taj\", \"1.5L\", \"dark\")\n",
        "print('Representation: ', repr(beer_1))\n",
        "print('String representation: ', str(beer_1))\n",
        "\n",
        "#=================================================\n",
        "\n",
        "#@title Book ['title', 'author', 'publisher']\n",
        "class Book:\n",
        "\n",
        "# Defining the __init__ method\n",
        "\tdef __init__(self, title, author, publisher):\n",
        "\t\tself.title = title\n",
        "\t\tself.author = author\n",
        "\t\tself.publisher = publisher\n",
        "\n",
        "\n",
        "# Defining the __repr__ method\n",
        "\tdef __repr__(self):\n",
        "\t\treturn f\"Book(title={self.title}, author={self.author}, publisher={self.publisher})\"\n",
        "\n",
        "\n",
        "# Defining the __str__ method\n",
        "\tdef __str__(self):\n",
        "\t\treturn f\"\\nBook:\\ntitle: {self.title}\\nauthor: {self.author}\\npublisher: {self.publisher}\"\n",
        "\n",
        "\n",
        "# Defining the __get_obj_creation_code__ method\n",
        "book_1 = Book(\"Starting with Python\", \"Tony\", \"Pearson\")\n",
        "print('Representation: ', repr(book_1))\n",
        "print('String representation: ', str(book_1))\n",
        "\n",
        "#================================\n",
        "\n",
        "#@title Bread ['grain', 'size', 'shape']\n",
        "class Bread:\n",
        "\n",
        "# Defining the __init__ method\n",
        "\tdef __init__(self, grain, size, shape):\n",
        "\t\tself.grain = grain\n",
        "\t\tself.size = size\n",
        "\t\tself.shape = shape\n",
        "\n",
        "\n",
        "# Defining the __repr__ method\n",
        "\tdef __repr__(self):\n",
        "\t\treturn f\"Bread(grain={self.grain}, size={self.size}, shape={self.shape})\"\n",
        "\n",
        "\n",
        "# Defining the __str__ method\n",
        "\tdef __str__(self):\n",
        "\t\treturn f\"\\nBread:\\ngrain: {self.grain}\\nsize: {self.size}\\nshape: {self.shape}\"\n",
        "\n",
        "\n",
        "# Defining the __get_obj_creation_code__ method\n",
        "bread_1 = Bread(\"wheat\", \"12\", \"round\")\n",
        "print('Representation: ', repr(bread_1))\n",
        "print('String representation: ', str(bread_1))\n",
        "\n",
        "#---------------\n",
        "\n",
        "grocery_list = [beer_1, book_1, bread_1]\n",
        "\n",
        "for elem in grocery_list:\n",
        "  print(elem)"
      ],
      "metadata": {
        "colab": {
          "base_uri": "https://localhost:8080/"
        },
        "id": "S0bjK8X2zTiT",
        "outputId": "2352541f-4e95-49dd-9eec-3a9d74685dfe"
      },
      "execution_count": null,
      "outputs": [
        {
          "output_type": "stream",
          "name": "stdout",
          "text": [
            "Representation:  Beer(brand=Taj, volume=1.5L, flavor=dark)\n",
            "String representation:  \n",
            "Beer:\n",
            "brand: Taj\n",
            "volume: 1.5L\n",
            "flavor: dark\n",
            "Representation:  Book(title=Starting with Python, author=Tony, publisher=Pearson)\n",
            "String representation:  \n",
            "Book:\n",
            "title: Starting with Python\n",
            "author: Tony\n",
            "publisher: Pearson\n",
            "Representation:  Bread(grain=wheat, size=12, shape=round)\n",
            "String representation:  \n",
            "Bread:\n",
            "grain: wheat\n",
            "size: 12\n",
            "shape: round\n",
            "\n",
            "Beer:\n",
            "brand: Taj\n",
            "volume: 1.5L\n",
            "flavor: dark\n",
            "\n",
            "Book:\n",
            "title: Starting with Python\n",
            "author: Tony\n",
            "publisher: Pearson\n",
            "\n",
            "Bread:\n",
            "grain: wheat\n",
            "size: 12\n",
            "shape: round\n"
          ]
        }
      ]
    },
    {
      "cell_type": "markdown",
      "source": [
        "# Multple Inheritance and MRO (Method Resolution Order)\n",
        "`https://data-flair.training/blogs/python-multiple-inheritance/`"
      ],
      "metadata": {
        "id": "SpIMT2Mf2t6K"
      }
    },
    {
      "cell_type": "code",
      "source": [
        "#@title Multiple Inheritance and MRO (Method Resolution Order)\n",
        "class X:\n",
        "  pass\n",
        "\n",
        "class Y:\n",
        "  pass\n",
        "\n",
        "class Z:\n",
        "  pass\n",
        "\n",
        "\n",
        "class A(X, Y):\n",
        "  pass\n",
        "\n",
        "class B(Y, Z):\n",
        "  pass\n",
        "\n",
        "class M(B, A, Z):\n",
        "  pass\n",
        "\n",
        "\n",
        "# print the MRO tuple\n",
        "#print(M.__mro__)\n",
        "\n",
        "# print the MRO list\n",
        "M.mro()\n",
        "\n"
      ],
      "metadata": {
        "colab": {
          "base_uri": "https://localhost:8080/"
        },
        "id": "bff_Ez1M10Sb",
        "outputId": "4a509865-fc64-490d-8833-d1d68b8bc7ba"
      },
      "execution_count": null,
      "outputs": [
        {
          "output_type": "execute_result",
          "data": {
            "text/plain": [
              "[__main__.M,\n",
              " __main__.B,\n",
              " __main__.A,\n",
              " __main__.X,\n",
              " __main__.Y,\n",
              " __main__.Z,\n",
              " object]"
            ]
          },
          "metadata": {},
          "execution_count": 15
        }
      ]
    },
    {
      "cell_type": "markdown",
      "source": [
        "# Name Mangling"
      ],
      "metadata": {
        "id": "tUuc5uRpn5_k"
      }
    },
    {
      "cell_type": "code",
      "source": [
        "#@title Name Mangling\n"
      ],
      "metadata": {
        "id": "6gkXcUxOn7mO"
      },
      "execution_count": null,
      "outputs": []
    },
    {
      "cell_type": "markdown",
      "source": [
        "#Exploring __dict__ variable"
      ],
      "metadata": {
        "id": "lIY_ckbDo207"
      }
    },
    {
      "cell_type": "code",
      "source": [
        "#@title __dict__ variable and inheritance hierarchy\n"
      ],
      "metadata": {
        "id": "poPh3FIso8py"
      },
      "execution_count": null,
      "outputs": []
    }
  ]
}