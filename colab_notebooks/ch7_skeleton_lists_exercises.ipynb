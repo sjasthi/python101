{
  "cells": [
    {
      "cell_type": "markdown",
      "source": [
        "# Chapter 7: (Skeleton) Lists and Tuples\n",
        "# Learn and Help\n",
        "##Empowering Minds, Inspiring Generosity!\n",
        "##www.learnandhelp.com\n",
        "\n",
        "#Siva Jasthi, Ph.D.\n",
        "##Chief Instructor\n",
        "\n"
      ],
      "metadata": {
        "id": "2EUSdXjQj6IT"
      }
    },
    {
      "cell_type": "code",
      "execution_count": null,
      "metadata": {
        "colab": {
          "base_uri": "https://localhost:8080/"
        },
        "id": "6rO4uB4pE4rv",
        "outputId": "cf3bd0af-b274-4e56-ced4-3a440aff879a"
      },
      "outputs": [
        {
          "output_type": "stream",
          "name": "stdout",
          "text": [
            "Cloning into 'python_input_files'...\n",
            "remote: Enumerating objects: 94, done.\u001b[K\n",
            "remote: Counting objects: 100% (15/15), done.\u001b[K\n",
            "remote: Compressing objects: 100% (14/14), done.\u001b[K\n",
            "remote: Total 94 (delta 3), reused 0 (delta 0), pack-reused 79\u001b[K\n",
            "Unpacking objects: 100% (94/94), 1.74 MiB | 1.50 MiB/s, done.\n"
          ]
        }
      ],
      "source": [
        "#@title Mount github repo to the colab\n",
        "!git clone https://github.com/sjasthi/python_input_files.git"
      ]
    },
    {
      "cell_type": "code",
      "execution_count": null,
      "metadata": {
        "id": "OeRwMOxRV8FL",
        "colab": {
          "base_uri": "https://localhost:8080/"
        },
        "outputId": "dad1b590-1e80-4e79-c40a-39c7cf060f55"
      },
      "outputs": [
        {
          "output_type": "stream",
          "name": "stdout",
          "text": [
            "what is the sales for the day 1?: 3\n",
            "what is the sales for the day 2?: 3\n",
            "what is the sales for the day 3?: 3\n",
            "what is the sales for the day 4?: 2\n",
            "what is the sales for the day 5?: 4\n",
            "what is the sales for the day 6?: 5\n",
            "what is the sales for the day 7?: 6\n",
            "[3, 3, 3, 2, 4, 5, 6]\n",
            "Total Sales for the week:  26\n",
            "Total Sales for the week:  26\n"
          ]
        }
      ],
      "source": [
        "#@title 1.Total Sales\n",
        "\n",
        "'''\n",
        "Design a program that asks the user to enter a store’s sales for each day of the week. The\n",
        "amounts should be stored in a list. Use a loop to calculate the total sales for the week and\n",
        "display the result.\n",
        "'''"
      ]
    },
    {
      "cell_type": "code",
      "execution_count": null,
      "metadata": {
        "id": "hwECcUMzWCYC"
      },
      "outputs": [],
      "source": [
        "#@title 2.Lottery Number Generator\n",
        "\n",
        "'''\n",
        "Design a program that generates a seven-digit lottery number. The program should generate\n",
        "seven random numbers, each in the range of 0 through 9, and assign each number to a list\n",
        "element. Then write another loop that displays the contents of the list.\n",
        "'''\n",
        "\n"
      ]
    },
    {
      "cell_type": "code",
      "execution_count": null,
      "metadata": {
        "id": "AnpEsjC1WM0w"
      },
      "outputs": [],
      "source": [
        "#@title 3.Rainfall Statistics\n",
        "\n",
        "'''\n",
        "Design a program that lets the user enter the total rainfall for each of 12 months into a list. The\n",
        "program should calculate and display the total rainfall for the year, the average monthly rainfall,\n",
        "the months with the highest and lowest amounts.\n",
        "'''\n",
        "\n",
        "'''\n",
        "Design a program that lets the user enter the total rainfall for each of 12 months into a list. The\n",
        "program should calculate and display the total rainfall for the year, the average monthly rainfall,\n",
        "the months with the highest and lowest amounts.\n",
        "'''\n"
      ]
    },
    {
      "cell_type": "code",
      "execution_count": null,
      "metadata": {
        "id": "tpwf5yRkWShn"
      },
      "outputs": [],
      "source": [
        "#@title 4.Number Analysis Program\n",
        "\n",
        "'''\n",
        "Design a program that asks the user to enter a series of 20 numbers. The program should store\n",
        "the numbers in a list then display the following data:\n",
        "\n",
        "1. The lowest number in the list\n",
        "2. The highest number in the list\n",
        "3. The total of the numbers in the list\n",
        "4. The average of the numbers in the list\n",
        "'''\n",
        "\n",
        "\n"
      ]
    },
    {
      "cell_type": "code",
      "execution_count": null,
      "metadata": {
        "id": "6jTGpdEPL4CO"
      },
      "outputs": [],
      "source": [
        "#@title 5.1.Charge Account Validation (Brute Force Approach)\n",
        "'''\n",
        "If you have downloaded the source code from the Computer Science Portal you will find a file\n",
        "named charge_accounts.txt in the Chapter 07 folder. This file has a list of a company’s valid\n",
        "charge account numbers. Each account number is a seven-digit number, such as 5658845.\n",
        "Write a program that reads the contents of the file into a list. The program should then ask the\n",
        "user to enter a charge account number. The program should determine whether the number is\n",
        "valid by searching for it in the list. If the number is in the list, the program should display a\n",
        "message indicating the number is valid. If the number is not in the list, the program should\n",
        "display a message indicating the number is invalid.\n",
        "'''\n",
        "\n",
        "#You can download the charge_accounts.txt file from here; Upload it to your google colab\n",
        "# https://github.com/sjasthi/python_input_files/blob/main/charge_accounts.txt\n",
        "\n",
        "\n"
      ]
    },
    {
      "cell_type": "code",
      "execution_count": null,
      "metadata": {
        "id": "MaHsOIVvF1Jh"
      },
      "outputs": [],
      "source": [
        "#@title 5.2.Charge Account Validation (Using the membership Operator in)\n",
        "'''\n",
        "If you have downloaded the source code from the Computer Science Portal you will find a file\n",
        "named charge_accounts.txt in the Chapter 07 folder. This file has a list of a company’s valid\n",
        "charge account numbers. Each account number is a seven-digit number, such as 5658845.\n",
        "Write a program that reads the contents of the file into a list. The program should then ask the\n",
        "user to enter a charge account number. The program should determine whether the number is\n",
        "valid by searching for it in the list. If the number is in the list, the program should display a\n",
        "message indicating the number is valid. If the number is not in the list, the program should\n",
        "display a message indicating the number is invalid.\n",
        "'''\n",
        "\n",
        "#You can download the charge_accounts.txt file from here; Upload it to your google colab\n",
        "# https://github.com/sjasthi/python_input_files/blob/main/charge_accounts.txt\n"
      ]
    },
    {
      "cell_type": "code",
      "execution_count": null,
      "metadata": {
        "id": "sJGRI4CxHbVg"
      },
      "outputs": [],
      "source": [
        "#@title  6.Larger Than n\n",
        "'''\n",
        "In a program, write a function that accepts two arguments: a list, and a number n. Assume that\n",
        "the list contains numbers. The function should display all of the numbers in the list that are\n",
        "greater than the number n.\n",
        "'''\n"
      ]
    },
    {
      "cell_type": "code",
      "execution_count": null,
      "metadata": {
        "id": "Uapz6ZD8IfKW"
      },
      "outputs": [],
      "source": [
        "#@title 7.Driver’s License Exam\n",
        "'''\n",
        "The local driver’s license office has asked you to create an application that grades the written portion of the driver’s license exam. The exam has 20 multiple-choice questions. Here are the correct answers:\n",
        "\n",
        "#You can download the answers.txt file from here; Upload it to your google colab\n",
        "# https://github.com/sjasthi/python_input_files/blob/main/answers.txt\n",
        "'''\n",
        "\n"
      ]
    },
    {
      "cell_type": "code",
      "execution_count": null,
      "metadata": {
        "id": "Kcd6gnGMW2Ck"
      },
      "outputs": [],
      "source": [
        "#@title 8.Name Search\n",
        "\n",
        "'''\n",
        "Download girlnames.txt and boynames.txt.\n",
        "\n",
        "Write a program that reads the contents of the two files into two separate lists. The user should\n",
        "be able to enter a boy’s name, a girl’s name, or both, and the application will display messages\n",
        "indicating whether the names were among the most popular.\n",
        "'''\n"
      ]
    },
    {
      "cell_type": "code",
      "execution_count": null,
      "metadata": {
        "colab": {
          "base_uri": "https://localhost:8080/"
        },
        "id": "DbbmK656XIQL",
        "outputId": "b6b2cc01-447a-47d1-8e5c-18292590b0bd"
      },
      "outputs": [
        {
          "output_type": "stream",
          "name": "stdout",
          "text": [
            "Number of entries in the file:  41\n",
            "Number of entries in the annual change list:  40\n",
            "Number of entries in the year list:  41\n",
            "Maximum Population Change:  3185\n",
            "Minimum Population Change:  1881\n",
            "Line Number with Max Population Change:  4\n",
            "Line Number with Min Population Change:  16\n",
            "The year with the greatest increase in population during the time period  1955\n",
            "The year with the smallest increase in population during the time period  1967\n",
            "The average annual change in population during the time period is  2443.875\n"
          ]
        }
      ],
      "source": [
        "#@title 9.Population Data\n",
        "\n",
        "'''\n",
        "Write a program that reads the file USpopulation.txt into a list.\n",
        "The program should display the following data:\n",
        "\n",
        "1. The average annual change in population during the time period\n",
        "2. The year with the greatest increase in population during the time period\n",
        "3. The year with the smallest increase in population during the time period\n",
        "'''\n"
      ]
    },
    {
      "cell_type": "code",
      "source": [
        "#@title 10.World Series Champions\n",
        "\n",
        "'''\n",
        "Download WorldSeriesWinners.txt. Write a program that lets the user enter the name of a team, then displays the number of times\n",
        "that team has won the World Series in the time period from 1903 through 2009.\n",
        "'''\n"
      ],
      "metadata": {
        "colab": {
          "base_uri": "https://localhost:8080/"
        },
        "id": "IlQYtS1XrTnF",
        "outputId": "eeaec9ad-15a2-4bec-e19a-a9265e99f93d"
      },
      "execution_count": null,
      "outputs": [
        {
          "output_type": "stream",
          "name": "stdout",
          "text": [
            "['Boston Americans', 'New York Giants', 'Chicago White Sox', 'Chicago Cubs', 'Chicago Cubs', 'Pittsburgh Pirates', 'Philadelphia Athletics', 'Philadelphia Athletics', 'Boston Red Sox', 'Philadelphia Athletics', 'Boston Braves', 'Boston Red Sox', 'Boston Red Sox', 'Chicago White Sox', 'Boston Red Sox', 'Cincinnati Reds', 'Cleveland Indians', 'New York Giants', 'New York Giants', 'New York Yankees', 'Washington Senators', 'Pittsburgh Pirates', 'St. Louis Cardinals', 'New York Yankees', 'New York Yankees', 'Philadelphia Athletics', 'Philadelphia Athletics', 'St. Louis Cardinals', 'New York Yankees', 'New York Giants', 'St. Louis Cardinals', 'Detroit Tigers', 'New York Yankees', 'New York Yankees', 'New York Yankees', 'New York Yankees', 'Cincinnati Reds', 'New York Yankees', 'St. Louis Cardinals', 'New York Yankees', 'St. Louis Cardinals', 'Detroit Tigers', 'St. Louis Cardinals', 'New York Yankees', 'Cleveland Indians', 'New York Yankees', 'New York Yankees', 'New York Yankees', 'New York Yankees', 'New York Yankees', 'New York Giants', 'Brooklyn Dodgers', 'New York Yankees', 'Milwaukee Braves', 'New York Yankees', 'Los Angeles Dodgers', 'Pittsburgh Pirates', 'New York Yankees', 'New York Yankees', 'Los Angeles Dodgers', 'St. Louis Cardinals', 'Los Angeles Dodgers', 'Baltimore Orioles', 'St. Louis Cardinals', 'Detroit Tigers', 'New York Mets', 'Baltimore Orioles', 'Pittsburgh Pirates', 'Oakland Athletics', 'Oakland Athletics', 'Oakland Athletics', 'Cincinnati Reds', 'Cincinnati Reds', 'New York Yankees', 'New York Yankees', 'Pittsburgh Pirates', 'Philadelphia Phillies', 'Los Angeles Dodgers', 'St. Louis Cardinals', 'Baltimore Orioles', 'Detroit Tigers', 'Kansas City Royals', 'New York Mets', 'Minnesota Twins', 'Los Angeles Dodgers', 'Oakland Athletics', 'Cincinnati Reds', 'Minnesota Twins', 'Toronto Blue Jays', 'Toronto Blue Jays', 'Atlanta Braves', 'New York Yankees', 'Florida Marlins', 'New York Yankees', 'New York Yankees', 'New York Yankees', 'Arizona Diamondbacks', 'Anaheim Angels', 'Florida Marlins', 'Boston Red Sox', 'Chicago White Sox', 'St. Louis Cardinals', 'Boston Red Sox', 'Philadelphia Phillie']\n",
            "Number of entries in the WorldSeriesWinners.txt file:  104\n",
            "Which baseball team's winning stat would you like to check?Chicago Cubs\n",
            "Total times  Chicago Cubs has won is  2\n",
            "Total times  Chicago Cubs has won is  2\n"
          ]
        }
      ]
    },
    {
      "cell_type": "code",
      "execution_count": null,
      "metadata": {
        "id": "YLh7GuTUXpEL",
        "outputId": "b68b8473-1fc5-4ce2-d307-8cee62de568a",
        "colab": {
          "base_uri": "https://localhost:8080/"
        }
      },
      "outputs": [
        {
          "output_type": "stream",
          "name": "stdout",
          "text": [
            "\n",
            "4, 9, 2\n",
            "3, 5, 7\n",
            "8, 1, 6\n",
            "Is it magic square? True\n",
            "\n",
            "2, 3, 4\n",
            "5, 6, 7\n",
            "1, 8, 9\n",
            "Is it magic square? False\n",
            "\n",
            "2, 3, 4, 10\n",
            "5, 6, 7, 11\n",
            "1, 8, 9, 12\n",
            "56, 23, 14, 13\n",
            "Is it magic square? False\n",
            "\n",
            "7, 12, 1, 14\n",
            "2, 13, 8, 11\n",
            "16, 3, 10, 5\n",
            "9, 6, 15, 4\n",
            "Is it magic square? True\n",
            "\n",
            "5, 6, 7, 10, 11\n",
            "1, 2, 3, 12, 13\n",
            "4, 8, 9, 14, 15\n",
            "16, 17, 18, 19, 20\n",
            "21, 22, 23, 24, 25\n",
            "Is it magic square? False\n",
            "\n",
            "\n",
            "========================Test summary ===================\n",
            "Some test cases failed! Try again\n"
          ]
        }
      ],
      "source": [
        "#@title 11.Lo Shu Magic Square\n",
        "\n",
        "'''\n",
        "The Lo Shu Magic Square is a grid with 3 rows and 3 columns. The Lo Shu Magic Square has the following properties:\n",
        "1. The grid contains the numbers 1 through 9 exactly.\n",
        "2. The sum of each row, each column, and each diagonal all add up to the same number.\n",
        "\n",
        "In a program you can simulate a magic square using a two-dimensional list. Write a function\n",
        "that accepts a two-dimensional list as an argument and determines whether the list is a Lo Shu\n",
        "Magic Square. Test the function in a program.\n",
        "'''\n",
        "\n"
      ]
    },
    {
      "cell_type": "code",
      "execution_count": null,
      "metadata": {
        "colab": {
          "base_uri": "https://localhost:8080/"
        },
        "id": "8F5SvkzPX5-e",
        "outputId": "b4b79300-0cd4-4419-eaa9-d206372a2ef7"
      },
      "outputs": [
        {
          "output_type": "stream",
          "name": "stdout",
          "text": [
            "Enter a number greater than 1:20\n",
            "Input List:  [1, 2, 3, 4, 5, 6, 7, 8, 9, 10, 11, 12, 13, 14, 15, 16, 17, 18, 19, 20]\n",
            "Your prime numbers are:\n",
            "1\n",
            "2\n",
            "3\n",
            "5\n",
            "7\n",
            "11\n",
            "13\n",
            "17\n",
            "19\n"
          ]
        }
      ],
      "source": [
        "#@title 12.Prime Number Generation\n",
        "\n",
        "'''\n",
        "A positive integer greater than 1 is said to be prime if it has no divisors other than 1 and itself. A\n",
        "positive integer greater than 1 is composite if it is not prime. Write a program that asks the user\n",
        "to enter an integer greater than 1, then displays all of the prime numbers that are less than or\n",
        "equal to the number entered. The program should work as follows:\n",
        "\n",
        "1. Once the user has entered a number, the program should populate a list with all of the\n",
        "integers from 2 up through the value entered.\n",
        "2. The program should then use a loop to step through the list. The loop should pass each\n",
        "element to a function that displays the element whether it is a prime number.\n",
        "'''\n",
        "\n",
        "''' Designing the User Interactions\n",
        "# sample interaction: Test 1\n",
        "Enter a number greater than 1 : 10\n",
        "Your prime numbers are: 2 3 5 7\n",
        "Would you like to play again (y/n)? y\n",
        "\n",
        "# sample interaction: Test 2\n",
        "Enter a number greater than 1 : 15\n",
        "Your prime numbers are: 2 3 5 7 11 13\n",
        "Would you like to play again (y/n)? y\n",
        "\n",
        "# sample interaction: Test 3\n",
        "Enter a number greater than 1 : -1\n",
        "Error: you must enter a number greater than 1. Please try again!\n",
        "\n",
        "Enter a number greater than 1: 3\n",
        "Your primte numbers are: 2 3\n",
        "Would you like to play again (y/n)? n\n",
        "Bye! Thank you for playing Prime Number game!\n",
        "'''\n",
        "\n"
      ]
    },
    {
      "cell_type": "code",
      "execution_count": null,
      "metadata": {
        "id": "vk4cRkPQYDeT"
      },
      "outputs": [],
      "source": [
        "#@title 13.Magic 8 Ball\n",
        "\n",
        "'''\n",
        "Write a program that simulates a Magic 8 Ball, which is a fortune-telling toy that displays a\n",
        "random response to a yes or no question. In the student sample programs for this book, you will\n",
        "find a text file named 8_ball_responses.txt. The file contains 12 responses, such as “I don’t\n",
        "think so”, “Yes, of course!”, “I’m not sure”, and so forth. The program should read the\n",
        "responses from the file into a list. It should prompt the user to ask a question, then display one\n",
        "of the responses, randomly selected from the list. The program should repeat until the user is\n",
        "ready to quit.\n",
        "\n",
        "Contents of 8_ball_responses.txt:\n",
        "Yes, of course!\n",
        "Without a doubt, yes.\n",
        "You can count on it.\n",
        "For sure!\n",
        "Ask me later.\n",
        "I’m not sure.\n",
        "I can’t tell you right now.\n",
        "I’ll tell you after my nap.\n",
        "No way!\n",
        "I don’t think so.\n",
        "Without a doubt, no.\n",
        "The answer is clearly NO.\n",
        "'''\n"
      ]
    },
    {
      "cell_type": "code",
      "execution_count": null,
      "metadata": {
        "id": "YTv2_Dh5YMM6"
      },
      "outputs": [],
      "source": [
        "#@title 14.Expense Pie Chart\n",
        "\n",
        "'''\n",
        "Create a text file that contains your expenses for last month in the following categories:\n",
        "- Rent\n",
        "- Gas\n",
        "- Food\n",
        "- Clothing\n",
        "- Car payment\n",
        "- Misc\n",
        "\n",
        "Write a Python program that reads the data from the file and uses matplotlib to plot a pie chart\n",
        "showing how you spend your money.\n",
        "'''\n"
      ]
    },
    {
      "cell_type": "code",
      "execution_count": null,
      "metadata": {
        "id": "Yl2Em-iuYXJr"
      },
      "outputs": [],
      "source": [
        "#@title 15.1994 Weekly Gas Graph\n",
        "\n",
        "'''\n",
        "Download a text file named 1994_Weekly_Gas_Averages.txt.\n",
        "\n",
        "The file contains the average gas price for each week in the year 1994. (There are 52 lines in the file.)\n",
        "Using matplotlib, write a Python program that reads\n",
        "the contents of the file then plots the data as either a line graph or a bar chart. Be sure to display\n",
        "meaningful labels along the X and Y axes, as well as the tick marks.\n",
        "'''\n"
      ]
    },
    {
      "cell_type": "markdown",
      "source": [
        "# Some programming exercises based on the Lists"
      ],
      "metadata": {
        "id": "NKcO3l9m9dmn"
      }
    },
    {
      "cell_type": "markdown",
      "source": [
        "1. Write a Python function that takes two lists as input and returns a list that contains only the elements that are common to both lists.\n",
        "\n",
        "2. Write a Python function that takes a list of integers as input and returns the sum of the even numbers in the list.\n",
        "\n",
        "3. Write a Python function that takes a list of integers as input and returns a new list that contains only the positive numbers in the original list, sorted in ascending order.\n",
        "\n",
        "4. Write a Python function that takes a list of strings as input and returns a new list that contains only the strings that have more than 5 characters.\n",
        "\n",
        "5. Write a Python function that takes a list of integers as input and returns a new list that contains only the numbers that are prime.\n",
        "\n",
        "6. Write a Python function that takes two lists as input and returns a list that contains the elements that are unique to each list.\n",
        "\n",
        "7. Write a Python function that takes a list of strings as input and returns a new list that contains only the strings that start with a vowel.\n",
        "\n",
        "8. Write a Python function that takes a list of integers as input and returns a new list that contains the sum of each pair of adjacent numbers in the original list.\n",
        "\n",
        "9. Write a Python function that takes a list of strings as input and returns a new list that contains only the strings that are palindromes.\n",
        "\n",
        "10. Write a Python function that takes a list of integers as input and returns a new list that contains the numbers in the original list, sorted in descending order."
      ],
      "metadata": {
        "id": "mAkbE4SJ9jzJ"
      }
    }
  ],
  "metadata": {
    "colab": {
      "provenance": [],
      "toc_visible": true
    },
    "kernelspec": {
      "display_name": "Python 3",
      "name": "python3"
    },
    "language_info": {
      "name": "python"
    }
  },
  "nbformat": 4,
  "nbformat_minor": 0
}