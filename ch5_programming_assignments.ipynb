{
  "nbformat": 4,
  "nbformat_minor": 0,
  "metadata": {
    "colab": {
      "provenance": [],
      "authorship_tag": "ABX9TyNGyucI0osCzUPah4hpiHTK",
      "include_colab_link": true
    },
    "kernelspec": {
      "name": "python3",
      "display_name": "Python 3"
    },
    "language_info": {
      "name": "python"
    }
  },
  "cells": [
    {
      "cell_type": "markdown",
      "metadata": {
        "id": "view-in-github",
        "colab_type": "text"
      },
      "source": [
        "<a href=\"https://colab.research.google.com/github/sjasthi/python_23/blob/main/ch5_programming_assignments.ipynb\" target=\"_parent\"><img src=\"https://colab.research.google.com/assets/colab-badge.svg\" alt=\"Open In Colab\"/></a>"
      ]
    },
    {
      "cell_type": "markdown",
      "source": [
        "# Python Programming with Dr. Jasthi\n",
        "# Chapter 5: Functions"
      ],
      "metadata": {
        "id": "9i2VOE9_zdX3"
      }
    },
    {
      "cell_type": "markdown",
      "source": [
        "###1. Kilometer Converter"
      ],
      "metadata": {
        "id": "AZ5b4V2Ivq6E"
      }
    },
    {
      "cell_type": "markdown",
      "source": [],
      "metadata": {
        "id": "gBzNuHsivvyr"
      }
    },
    {
      "cell_type": "code",
      "source": [
        "# function definition\n",
        "# This function takes \"kilometers\" as the input\n",
        "# and returns miles as the output\n",
        "def km_to_miles(kilometers):\n",
        "    miles = kilometers * 0.6214\n",
        "    return miles\n",
        "    \n",
        "# get the input from the user\n",
        "distance_km = input(\"Enter the distance in KM\")\n",
        "distance_km = float(distance_km)\n",
        "\n",
        "# call the function to convert\n",
        "distance_miles = km_to_miles(distance_km)\n",
        "print(\"Kilometers: \", distance_km, \"Miles: \", distance_miles)"
      ],
      "metadata": {
        "colab": {
          "base_uri": "https://localhost:8080/"
        },
        "id": "C2sl3MJ1vzI8",
        "outputId": "604c23bd-7548-405a-d9a5-cefd8a3db647"
      },
      "execution_count": 3,
      "outputs": [
        {
          "output_type": "stream",
          "name": "stdout",
          "text": [
            "Enter the distance in KM16\n",
            "Kilometers:  16.0 Miles:  9.9424\n"
          ]
        }
      ]
    },
    {
      "cell_type": "markdown",
      "source": [
        "### 7. Stadium seating"
      ],
      "metadata": {
        "id": "ewX5Q0EtzB7O"
      }
    },
    {
      "cell_type": "code",
      "source": [
        "\n",
        "def total(class_a,class_b,class_c):\n",
        "    class_a_total= class_a*20\n",
        "    class_b_total= class_b*15\n",
        "    class_c_total= class_c*10\n",
        "    total_sales= class_a_total +class_b_total + class_c_total\n",
        "        \n",
        "    return total_sales\n",
        "    \n",
        "   \n",
        "    \n",
        "class_a=int(input(\"How many tickets from class A were sold?\"))\n",
        "class_b=int(input(\"How many tickets from class B were sold?\"))\n",
        "class_c=int(input(\"How many tickets from class C were sold?\"))\n",
        "\n",
        "x=total(class_a,class_b, class_c)\n",
        "print(\"The total between all seating classes is:\",x)"
      ],
      "metadata": {
        "id": "1GoMhd9mzFBF"
      },
      "execution_count": null,
      "outputs": []
    },
    {
      "cell_type": "markdown",
      "source": [
        "### 8. Paint Job Estimator"
      ],
      "metadata": {
        "id": "W3FYU2elyzJD"
      }
    },
    {
      "cell_type": "code",
      "source": [
        "# 112 square feet of wall space\n",
        "# 1 gallon\n",
        "# 8 hours labor\n",
        "# 35 per hour of labor\n",
        "\n",
        "# input1 = wall_space\n",
        "# input2 = price of the paint per gallon\n",
        "\n",
        "\n",
        "# function definition\n",
        "def display_paint_job(wall_space, paint_price_per_gallon):\n",
        "    # TODO\n",
        "    gallon_count = wall_space / 112\n",
        "    labor_hours = wall_space / 8\n",
        "    cost_of_paint = gallon_count * paint_price_per_gallon\n",
        "    labor_charges = labor_hours * 35\n",
        "    total_cost = labor_charges + cost_of_paint\n",
        "    \n",
        "    print(\"The number of gallons of paint requred: \", gallon_count)\n",
        "    print(\"the hours of labor required: \", labor_hours)\n",
        "    print(\"The cost of the paint: \", cost_of_paint)\n",
        "    print(\"The labor charges: \", labor_charges)\n",
        "    print(\"The total cost: \", total_cost)\n",
        "    \n",
        "    \n",
        "# ask the user for inputs\n",
        "space = input(\"How much wall space are you painting?\")\n",
        "space = float(space)\n",
        "\n",
        "paint_price = input(\"what is the cost of the paint per gallon?\")\n",
        "paint_price = float(paint_price)\n",
        "\n",
        "# call the method\n",
        "display_paint_job(space, paint_price)\n",
        "\n",
        "# test case 2\n",
        "display_paint_job(1120, 6)"
      ],
      "metadata": {
        "colab": {
          "base_uri": "https://localhost:8080/",
          "height": 269
        },
        "id": "BYwsdKhfy4nl",
        "outputId": "077752ab-21b9-4f58-b0cf-83f3293049ab"
      },
      "execution_count": 13,
      "outputs": [
        {
          "name": "stdout",
          "output_type": "stream",
          "text": [
            "How much wall space are you painting?8\n",
            "what is the cost of the paint per gallon?y\n"
          ]
        },
        {
          "output_type": "error",
          "ename": "ValueError",
          "evalue": "ignored",
          "traceback": [
            "\u001b[0;31m---------------------------------------------------------------------------\u001b[0m",
            "\u001b[0;31mValueError\u001b[0m                                Traceback (most recent call last)",
            "\u001b[0;32m<ipython-input-13-5ebffaf1ae7d>\u001b[0m in \u001b[0;36m<module>\u001b[0;34m\u001b[0m\n\u001b[1;32m     29\u001b[0m \u001b[0;34m\u001b[0m\u001b[0m\n\u001b[1;32m     30\u001b[0m \u001b[0mpaint_price\u001b[0m \u001b[0;34m=\u001b[0m \u001b[0minput\u001b[0m\u001b[0;34m(\u001b[0m\u001b[0;34m\"what is the cost of the paint per gallon?\"\u001b[0m\u001b[0;34m)\u001b[0m\u001b[0;34m\u001b[0m\u001b[0;34m\u001b[0m\u001b[0m\n\u001b[0;32m---> 31\u001b[0;31m \u001b[0mpaint_price\u001b[0m \u001b[0;34m=\u001b[0m \u001b[0mfloat\u001b[0m\u001b[0;34m(\u001b[0m\u001b[0mpaint_price\u001b[0m\u001b[0;34m)\u001b[0m\u001b[0;34m\u001b[0m\u001b[0;34m\u001b[0m\u001b[0m\n\u001b[0m\u001b[1;32m     32\u001b[0m \u001b[0;34m\u001b[0m\u001b[0m\n\u001b[1;32m     33\u001b[0m \u001b[0;31m# call the method\u001b[0m\u001b[0;34m\u001b[0m\u001b[0;34m\u001b[0m\u001b[0;34m\u001b[0m\u001b[0m\n",
            "\u001b[0;31mValueError\u001b[0m: could not convert string to float: 'y'"
          ]
        }
      ]
    },
    {
      "cell_type": "markdown",
      "source": [
        "### 11. Math Quiz"
      ],
      "metadata": {
        "id": "NlECLrU-wliD"
      }
    },
    {
      "cell_type": "code",
      "source": [
        "import random\n",
        "\n",
        "random_1 = random.randint(1, 20)\n",
        "random_2 = random.randint(1, 20)\n",
        "\n",
        "correct_answer = random_1 + random_2\n",
        "\n",
        "print(random_1, \" + \", random_2)\n",
        "user_answer  = input('What is the answer? = ')\n",
        "\n",
        "user_answer = int(user_answer)\n",
        "\n",
        "if (user_answer == correct_answer):\n",
        "  print(\"Congratulations! You answered it correctly!\")\n",
        "else:\n",
        "  print(\"Incorrect! The correct answer is: \", correct_answer)\n",
        "\n"
      ],
      "metadata": {
        "colab": {
          "base_uri": "https://localhost:8080/"
        },
        "id": "Ki5qUGOKwpaD",
        "outputId": "3c0c72a5-b2f0-48c8-9736-dbeb00ad8caf"
      },
      "execution_count": 8,
      "outputs": [
        {
          "output_type": "stream",
          "name": "stdout",
          "text": [
            "8  +  5\n",
            "What is the answer? = 13\n",
            "Congratulations! You answered it correctly!\n"
          ]
        }
      ]
    },
    {
      "cell_type": "markdown",
      "source": [
        "### 16. Odd Even Counter"
      ],
      "metadata": {
        "id": "719ZZrj2yFbV"
      }
    },
    {
      "cell_type": "code",
      "source": [
        "import random\n",
        "\n",
        "'''\n",
        "This method generates 1000 random numbers\n",
        "and return the count of odd numbers and the count of even numbers.\n",
        "INPUTS: none\n",
        "OUTPUTS: two (odd count and even count)\n",
        "'''\n",
        "def get_odd_even_counts():\n",
        "    # initialize the counters\n",
        "    odd_count = 0\n",
        "    even_count = 0\n",
        "    \n",
        "    # set up the for loop to generate 100 numbers\n",
        "    for x in range(100):\n",
        "        # generate a random integer between 1 and 5000\n",
        "        an_int = random.randint(1, 500) \n",
        "        # determine whether it is even or odd\n",
        "        # and accordingly, increment the counter\n",
        "        if (an_int % 2 == 0):\n",
        "            even_count = even_count + 1\n",
        "        else:\n",
        "            odd_count = odd_count + 1\n",
        "    \n",
        "    # return the two counters\n",
        "    return odd_count, even_count\n",
        "    \n",
        "\n",
        "# function calling and testing happens here\n",
        "# call the method, assign the return values to two variables\n",
        "x, y = get_odd_even_counts()\n",
        "# print the return variables\n",
        "print(\"Odd count: \", x)\n",
        "print(\"Even count: \", y)"
      ],
      "metadata": {
        "colab": {
          "base_uri": "https://localhost:8080/"
        },
        "id": "6S4qbyaYyHxr",
        "outputId": "49f82677-654a-4e12-ec64-5a3a39a7985f"
      },
      "execution_count": 11,
      "outputs": [
        {
          "output_type": "stream",
          "name": "stdout",
          "text": [
            "Odd count:  48\n",
            "Even count:  52\n"
          ]
        }
      ]
    },
    {
      "cell_type": "markdown",
      "source": [
        "### 15. Average Grade"
      ],
      "metadata": {
        "id": "FyO3NViryi3D"
      }
    },
    {
      "cell_type": "code",
      "source": [
        "# first define the functions\n",
        "'''\n",
        "THis method takes in five scores and returns the average\n",
        "'''\n",
        "\n",
        "def calc_average(t1, t2, t3, t4, t5):\n",
        "    total = t1 + t2 + t3 + t3 + t5\n",
        "    average = total / 5\n",
        "    return average\n",
        "\n",
        "'''\n",
        "This method takes in a test score and returns the letter grade\n",
        "'''\n",
        "def determine_grade(test_score):\n",
        "    if 90<test_score:\n",
        "       return \"A\"\n",
        "    elif 80<test_score:\n",
        "        return \"B\"\n",
        "    elif 70<test_score:\n",
        "        return \"C\"\n",
        "    elif 60<test_score:\n",
        "       return \"D\"\n",
        "    elif 59>test_score:\n",
        "        return \"F\"\n",
        "        \n",
        "# take the inputs and call the above methods\n",
        "\n",
        "grade1=int(input(\"What is your 1st grade?\"))\n",
        "grade2=int(input(\"What is your 2nd grade?\"))\n",
        "grade3=int(input(\"What is your 3rd grade?\"))\n",
        "grade4=int(input(\"What is your 4th grade?\"))\n",
        "grade5=int(input(\"What is your 5th grade?\"))\n",
        "\n",
        "#grade1,grade2,grade3,grade4,grade5=45,34,26,56,23\n",
        "\n",
        "\n",
        "average_score = calc_average(grade1, grade2, grade3, grade4, grade5)\n",
        "letter_grade = determine_grade(average_score)\n",
        "print(\"Your average score: \", average_score)\n",
        "print(\"Your letter grade: \", letter_grade)"
      ],
      "metadata": {
        "colab": {
          "base_uri": "https://localhost:8080/"
        },
        "id": "J-Gy9PmLyl78",
        "outputId": "f971ab7c-38ec-4e5a-ae25-669d250979b0"
      },
      "execution_count": 12,
      "outputs": [
        {
          "output_type": "stream",
          "name": "stdout",
          "text": [
            "What is your 1st grade?34\n",
            "What is your 2nd grade?56\n",
            "What is your 3rd grade?64\n",
            "What is your 4th grade?67\n",
            "What is your 5th grade?45\n",
            "Your average score:  52.6\n",
            "Your letter grade:  F\n"
          ]
        }
      ]
    },
    {
      "cell_type": "markdown",
      "source": [
        "### 17. Prime Numbers"
      ],
      "metadata": {
        "id": "elnO5UMis-nF"
      }
    },
    {
      "cell_type": "code",
      "source": [
        "# A prime number is a number that is only evenly divisible by itself and 1. For example, the\n",
        "# number 5 is prime because it can only be evenly divided by 1 and 5.\n",
        "# The number 6, however, is\n",
        "# not prime because it can be divided evenly by 1, 2, 3, and 6.\n",
        "\n",
        "# Write a Boolean function named is_prime which takes an integer as an argument and returns\n",
        "# true if the argument is a prime number, or false otherwise. Use the function in a program that\n",
        "# prompts the user to enter a number then displays a message indicating whether the number is\n",
        "# prime.\n",
        "#  Tip:\n",
        "# Recall that the % operator divides one number by another and returns the remainder of the\n",
        "# division. In an expression such as num1 % num2, the % operator will return 0 if num1 is evenly\n",
        "# divisible by num2."
      ],
      "metadata": {
        "id": "XL3hd5eevTU9"
      },
      "execution_count": 2,
      "outputs": []
    },
    {
      "cell_type": "code",
      "execution_count": null,
      "metadata": {
        "colab": {
          "base_uri": "https://localhost:8080/"
        },
        "id": "RXSm5eV4sz4d",
        "outputId": "dfe99c0e-7e35-4e40-a7e2-2a87a184d335"
      },
      "outputs": [
        {
          "output_type": "stream",
          "name": "stdout",
          "text": [
            "is 3 a prime?  True\n",
            "is 4 a prime?  False\n",
            "is 5 a prime?  True\n",
            "is 6 a prime?  False\n",
            "is 7 a prime?  True\n",
            "is 29 a prime?  True\n",
            "is 30 a prime?  False\n"
          ]
        }
      ],
      "source": [
        "\n",
        "def is_prime(number):\n",
        "    \n",
        "    # if the nubmer is divisible by any number between 2 and number-1,\n",
        "    # that means the number is NOT a prime.\n",
        "    # When a function bumps into a \"return\" statement, \n",
        "    # the program execution just stops and we exit the function\n",
        "    for x in range(2, number):\n",
        "        if (number % x == 0):\n",
        "            return False\n",
        "    \n",
        "    #if the control comes, that means.. we have not bumped into False so far\n",
        "    # that means we have to return True\n",
        "    return True\n",
        "    \n",
        "    \n",
        "# calling / invoking the function\n",
        "\n",
        "print(\"is 3 a prime? \", is_prime(3))\n",
        "print(\"is 4 a prime? \", is_prime(4))\n",
        "print(\"is 5 a prime? \", is_prime(5))\n",
        "print(\"is 6 a prime? \", is_prime(6))\n",
        "print(\"is 7 a prime? \", is_prime(7))\n",
        "print(\"is 29 a prime? \", is_prime(29))\n",
        "print(\"is 30 a prime? \", is_prime(30))"
      ]
    },
    {
      "cell_type": "markdown",
      "source": [
        "### 21. Rock, Paper, Scissors"
      ],
      "metadata": {
        "id": "KZDc3ZDYzVM0"
      }
    },
    {
      "cell_type": "code",
      "source": [
        "\n",
        "\n",
        "#===== all functions ==========\n",
        "''' \n",
        "This method returns a random choice made by the computer\n",
        "It generates a random number first; and converts the random number \n",
        "to 'Rock', 'Paper' or 'Scissors'\n",
        "'''\n",
        "def select_computer_option():\n",
        "    import random\n",
        "    random_int = random.randint(1,3)\n",
        "    if (random_int == 1):\n",
        "        return \"Rock\"\n",
        "    if (random_int == 2):\n",
        "        return \"Paper\"\n",
        "    if (random_int == 3):\n",
        "        return \"Scissors\"\n",
        "        \n",
        "def get_user_option():\n",
        "    user_option = input(\"Enter your choice (Rock, Paper, Scissors): \")\n",
        "    return user_option\n",
        "\n",
        "'''\n",
        "If one player chooses rock and the other player chooses scissors, \n",
        "then rock wins. (Rock smashes scissors.)\n",
        "If one player chooses scissors and the other player chooses paper, then scissors wins.\n",
        "(Scissors cuts paper.)\n",
        "If one player chooses paper and the other player chooses rock, then paper wins. (Paper\n",
        "wraps rock.)\n",
        "If both players make the same choice, the game must be played again to determine the\n",
        "winner.\n",
        "\n",
        "'''\n",
        "def get_winner(c, u):\n",
        "    if (c == u):\n",
        "        return \"Draw\"\n",
        "        \n",
        "    if (c == 'Rock') and (u == 'Scissors'):\n",
        "        return \"Computer Wins\"\n",
        "    if (u == 'Rock') and (c == 'Scissors'):\n",
        "        return \"User Wins\"\n",
        "        \n",
        "    if (c == 'Scissors') and (u == 'Paper'):\n",
        "        return \"Computer Wins\"\n",
        "    if (u == 'Scissors') and (c == 'Paper'):\n",
        "        return \"User Wins\"\n",
        "    \n",
        "    if (c == 'Paper') and (u == 'Rock'):\n",
        "        return \"Computer Wins\"\n",
        "    if (u == 'Paper') and (c == 'Rock'):\n",
        "        return \"User Wins\"   \n",
        "        \n",
        "        \n",
        "    \n",
        "# ======= call the functions ========\n",
        "computer_choice = select_computer_option()\n",
        "user_choice = get_user_option()\n",
        "print(\"User Choice: \", user_choice)\n",
        "print(\"Computer Choice: \", computer_choice)\n",
        "\n",
        "game_result = get_winner(computer_choice, user_choice)\n",
        "print(game_result)"
      ],
      "metadata": {
        "id": "XU6FYqcHzYDR"
      },
      "execution_count": null,
      "outputs": []
    }
  ]
}