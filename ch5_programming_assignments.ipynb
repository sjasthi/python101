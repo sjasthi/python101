{
  "nbformat": 4,
  "nbformat_minor": 0,
  "metadata": {
    "colab": {
      "provenance": [],
      "authorship_tag": "ABX9TyOdTerk5NErkarcE9+8PGzV",
      "include_colab_link": true
    },
    "kernelspec": {
      "name": "python3",
      "display_name": "Python 3"
    },
    "language_info": {
      "name": "python"
    }
  },
  "cells": [
    {
      "cell_type": "markdown",
      "metadata": {
        "id": "view-in-github",
        "colab_type": "text"
      },
      "source": [
        "<a href=\"https://colab.research.google.com/github/sjasthi/python_23/blob/main/ch5_programming_assignments.ipynb\" target=\"_parent\"><img src=\"https://colab.research.google.com/assets/colab-badge.svg\" alt=\"Open In Colab\"/></a>"
      ]
    },
    {
      "cell_type": "markdown",
      "source": [
        "# A prime number is a number that is only evenly divisible by itself and 1. For example, the\n",
        "# number 5 is prime because it can only be evenly divided by 1 and 5.\n",
        "# The number 6, however, is\n",
        "# not prime because it can be divided evenly by 1, 2, 3, and 6.\n",
        "\n",
        "# Write a Boolean function named is_prime which takes an integer as an argument and returns\n",
        "# true if the argument is a prime number, or false otherwise. Use the function in a program that\n",
        "# prompts the user to enter a number then displays a message indicating whether the number is\n",
        "# prime.\n",
        "#  Tip:\n",
        "# Recall that the % operator divides one number by another and returns the remainder of the\n",
        "# division. In an expression such as num1 % num2, the % operator will return 0 if num1 is evenly\n",
        "# divisible by num2."
      ],
      "metadata": {
        "id": "elnO5UMis-nF"
      }
    },
    {
      "cell_type": "code",
      "execution_count": 1,
      "metadata": {
        "colab": {
          "base_uri": "https://localhost:8080/"
        },
        "id": "RXSm5eV4sz4d",
        "outputId": "dfe99c0e-7e35-4e40-a7e2-2a87a184d335"
      },
      "outputs": [
        {
          "output_type": "stream",
          "name": "stdout",
          "text": [
            "is 3 a prime?  True\n",
            "is 4 a prime?  False\n",
            "is 5 a prime?  True\n",
            "is 6 a prime?  False\n",
            "is 7 a prime?  True\n",
            "is 29 a prime?  True\n",
            "is 30 a prime?  False\n"
          ]
        }
      ],
      "source": [
        "\n",
        "def is_prime(number):\n",
        "    \n",
        "    # if the nubmer is divisible by any number between 2 and number-1,\n",
        "    # that means the number is NOT a prime.\n",
        "    # When a function bumps into a \"return\" statement, \n",
        "    # the program execution just stops and we exit the function\n",
        "    for x in range(2, number):\n",
        "        if (number % x == 0):\n",
        "            return False\n",
        "    \n",
        "    #if the control comes, that means.. we have not bumped into False so far\n",
        "    # that means we have to return True\n",
        "    return True\n",
        "    \n",
        "    \n",
        "# calling / invoking the function\n",
        "\n",
        "print(\"is 3 a prime? \", is_prime(3))\n",
        "print(\"is 4 a prime? \", is_prime(4))\n",
        "print(\"is 5 a prime? \", is_prime(5))\n",
        "print(\"is 6 a prime? \", is_prime(6))\n",
        "print(\"is 7 a prime? \", is_prime(7))\n",
        "print(\"is 29 a prime? \", is_prime(29))\n",
        "print(\"is 30 a prime? \", is_prime(30))"
      ]
    }
  ]
}