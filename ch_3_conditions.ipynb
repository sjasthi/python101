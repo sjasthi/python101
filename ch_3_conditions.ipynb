{
  "nbformat": 4,
  "nbformat_minor": 0,
  "metadata": {
    "colab": {
      "provenance": [],
      "authorship_tag": "ABX9TyOwOS3XCV3s9KOD4Uv3vxXG",
      "include_colab_link": true
    },
    "kernelspec": {
      "name": "python3",
      "display_name": "Python 3"
    },
    "language_info": {
      "name": "python"
    }
  },
  "cells": [
    {
      "cell_type": "markdown",
      "metadata": {
        "id": "view-in-github",
        "colab_type": "text"
      },
      "source": [
        "<a href=\"https://colab.research.google.com/github/sjasthi/python101/blob/main/ch_3_conditions.ipynb\" target=\"_parent\"><img src=\"https://colab.research.google.com/assets/colab-badge.svg\" alt=\"Open In Colab\"/></a>"
      ]
    },
    {
      "cell_type": "markdown",
      "source": [
        "# Chapter 3. Conditions\n",
        "## if condition\n",
        "## elif\n",
        "## else\n",
        "### We are going to talk about 'taking decisions' in python code today"
      ],
      "metadata": {
        "id": "gQCb0HOWAVP7"
      }
    },
    {
      "cell_type": "code",
      "source": [],
      "metadata": {
        "id": "pWMQYffiA_ly"
      },
      "execution_count": null,
      "outputs": []
    },
    {
      "cell_type": "code",
      "execution_count": 3,
      "metadata": {
        "colab": {
          "base_uri": "https://localhost:8080/"
        },
        "id": "uUmNlX-HAC3L",
        "outputId": "2ede3c9a-023a-48a6-dc12-8b6482614fe9"
      },
      "outputs": [
        {
          "output_type": "stream",
          "name": "stdout",
          "text": [
            "7\n",
            "11\n"
          ]
        }
      ],
      "source": [
        "a = 3\n",
        "b = 4\n",
        "print(a+b)\n",
        "\n",
        "c = 4\n",
        "print(a+b+c)"
      ]
    },
    {
      "cell_type": "code",
      "source": [],
      "metadata": {
        "id": "cUy_aIMvA9Xb"
      },
      "execution_count": null,
      "outputs": []
    },
    {
      "cell_type": "code",
      "source": [],
      "metadata": {
        "id": "6zS_83KqA-IU"
      },
      "execution_count": null,
      "outputs": []
    },
    {
      "cell_type": "code",
      "source": [],
      "metadata": {
        "id": "NEaWR77JA5J9"
      },
      "execution_count": null,
      "outputs": []
    }
  ]
}