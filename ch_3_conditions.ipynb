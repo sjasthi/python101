{
  "nbformat": 4,
  "nbformat_minor": 0,
  "metadata": {
    "colab": {
      "provenance": [],
      "authorship_tag": "ABX9TyMN7Hqzxlg6HAxhelzxEdQy",
      "include_colab_link": true
    },
    "kernelspec": {
      "name": "python3",
      "display_name": "Python 3"
    },
    "language_info": {
      "name": "python"
    }
  },
  "cells": [
    {
      "cell_type": "markdown",
      "metadata": {
        "id": "view-in-github",
        "colab_type": "text"
      },
      "source": [
        "<a href=\"https://colab.research.google.com/github/sjasthi/python101/blob/main/ch_3_conditions.ipynb\" target=\"_parent\"><img src=\"https://colab.research.google.com/assets/colab-badge.svg\" alt=\"Open In Colab\"/></a>"
      ]
    },
    {
      "cell_type": "markdown",
      "source": [
        "# Chapter 3. Conditions\n",
        "## if condition\n",
        "## elif\n",
        "## else\n",
        "### We are going to talk about 'taking decisions' in python code today"
      ],
      "metadata": {
        "id": "gQCb0HOWAVP7"
      }
    },
    {
      "cell_type": "markdown",
      "source": [
        "### Exploring the comparison operators"
      ],
      "metadata": {
        "id": "qt9mZepGEoKs"
      }
    },
    {
      "cell_type": "code",
      "execution_count": 3,
      "metadata": {
        "colab": {
          "base_uri": "https://localhost:8080/"
        },
        "id": "uUmNlX-HAC3L",
        "outputId": "2ede3c9a-023a-48a6-dc12-8b6482614fe9"
      },
      "outputs": [
        {
          "output_type": "stream",
          "name": "stdout",
          "text": [
            "7\n",
            "11\n"
          ]
        }
      ],
      "source": [
        "# Comparison operators\n",
        "\n",
        "a = 10\n",
        "b = 20\n",
        "c = 5\n",
        "\n",
        "x = (a == b)  #False\n",
        "\n",
        "y = (a != b)  #True\n",
        "\n",
        "z = (a > b)   #False\n",
        "\n",
        "p = (a < b)   #True\n",
        "\n",
        "r = (c+b < a) #False\n",
        "\n",
        "s = (a+b == c*6)  #True\n",
        "\n",
        "t = (a-b < c)  #True"
      ]
    },
    {
      "cell_type": "markdown",
      "source": [
        "### Exploring the logical operators"
      ],
      "metadata": {
        "id": "5elFQrgjEvBh"
      }
    },
    {
      "cell_type": "code",
      "source": [
        "# Comparison operators\n",
        "a,b,c = 10,20,5\n",
        "\n",
        "x = (a == b)  #False\n",
        "y = (a != b)  #True\n",
        "z = (a > b)   #False\n",
        "p = (a < b)   #True\n",
        "r = (c+b < a) #False\n",
        "s = (a+b == c*6)  #True\n",
        "t = (a-b < c)  #True\n",
        "\n",
        "# and or not\n",
        "# and means both the conditions must be true. Then only, the entire condition is true\n",
        "u = (x and y)  #False\n",
        "\n",
        "# or means - if atleast one condition is true, then the whole condition is true\n",
        "v = (x or y)   #True\n",
        "\n",
        "# not means -- just the opposite\n",
        "w = (not x)   # True\n",
        "\n",
        "x1 = (s and t)   # True\n",
        "y1 = (x or z)    # False\n",
        "z1 = (not (p or z))  #False"
      ],
      "metadata": {
        "id": "cUy_aIMvA9Xb"
      },
      "execution_count": null,
      "outputs": []
    },
    {
      "cell_type": "markdown",
      "source": [
        "### if conditions"
      ],
      "metadata": {
        "id": "6Yd1x8llGXbh"
      }
    },
    {
      "cell_type": "code",
      "source": [
        "# take two numbers from the user.\n",
        "# and print only the bigger number\n",
        "\n",
        "num_1 = int(input(\"enter your number 1: \"))\n",
        "num_2 = int(input(\"enter your number 2: \"))\n",
        "\n",
        "\n",
        "if (num_1 > num_2) :\n",
        "    print(num_1, \"is bigger\")"
      ],
      "metadata": {
        "colab": {
          "base_uri": "https://localhost:8080/"
        },
        "id": "6zS_83KqA-IU",
        "outputId": "812a2216-6e70-4d35-ff5a-664020fb4841"
      },
      "execution_count": 4,
      "outputs": [
        {
          "output_type": "stream",
          "name": "stdout",
          "text": [
            "20 is bigger\n"
          ]
        }
      ]
    },
    {
      "cell_type": "markdown",
      "source": [
        "### if.. else condition"
      ],
      "metadata": {
        "id": "_80sxpkYJncA"
      }
    },
    {
      "cell_type": "markdown",
      "source": [],
      "metadata": {
        "id": "Bd-61xiiMbUT"
      }
    },
    {
      "cell_type": "code",
      "source": [
        "# take two numbers from the user.\n",
        "# and print only the bigger number\n",
        "\n",
        "#num_1 = int(input(\"enter your number 1: \"))\n",
        "#num_2 = int(input(\"enter your number 2: \"))\n",
        "\n",
        "num_1 = 20\n",
        "num_2 = 15\n",
        "\n",
        "if (num_1 > num_2):\n",
        "    print(1)\n",
        "    print(2)\n",
        "else:\n",
        "    print(3)\n",
        "    print(4)"
      ],
      "metadata": {
        "id": "NEaWR77JA5J9"
      },
      "execution_count": null,
      "outputs": []
    },
    {
      "cell_type": "markdown",
      "source": [
        "### Series of if conditions (not a good idea)\n",
        "### we will be donig unnecessary checks\n"
      ],
      "metadata": {
        "id": "5nFkyTa3MceJ"
      }
    },
    {
      "cell_type": "code",
      "source": [
        "# 3.3. Age Classifier\n",
        "\n",
        "# Write a program that asks the user to enter a person’s age. \n",
        "#The program should display a\n",
        "# message indicating whether the person is an infant, a child, a teenager, or an adult. Following\n",
        "# are the guidelines:\n",
        "\n",
        "# If the person is 1 year old or less, he or she is an infant.\n",
        "\n",
        "# If the person is older than 1 year, but younger than 13 years, he or she is a child.\n",
        "\n",
        "# If the person is at least 13 years old, \n",
        "#but less than 20 years old, he or she is a teenager.\n",
        "\n",
        "# If the person is at least 20 years old, he or she is an adult.\n",
        "\n",
        "age = int(input(\"enter the age: \"))\n",
        "\n",
        "if (age <= 1):\n",
        "    print(\"you are an infant\")\n",
        "\n",
        "if (age > 1) and (age < 13):\n",
        "    print(\"you are a child\")\n",
        "\n",
        "if age >=13 and (age < 20):\n",
        "    print(\"you are a teen\")\n",
        "    \n",
        "if age > 20:\n",
        "    print(\"you are an adult\")\n",
        "    \n",
        "#age greater than 1 less than 13"
      ],
      "metadata": {
        "id": "nTKCSgpqMfiC"
      },
      "execution_count": null,
      "outputs": []
    },
    {
      "cell_type": "markdown",
      "source": [
        "### enhancing it with elif\n"
      ],
      "metadata": {
        "id": "dK_lKun9Ml0x"
      }
    },
    {
      "cell_type": "code",
      "source": [
        "# 3.3. Age Classifier\n",
        "\n",
        "# Write a program that asks the user to enter a person’s age. \n",
        "#The program should display a\n",
        "# message indicating whether the person is an infant, a child, a teenager, or an adult. Following\n",
        "# are the guidelines:\n",
        "\n",
        "# If the person is 1 year old or less, he or she is an infant.\n",
        "\n",
        "# If the person is older than 1 year, but younger than 13 years, he or she is a child.\n",
        "\n",
        "# If the person is at least 13 years old, \n",
        "#but less than 20 years old, he or she is a teenager.\n",
        "\n",
        "# If the person is at least 20 years old, he or she is an adult.\n",
        "\n",
        "age = int(input(\"enter the age: \"))\n",
        "\n",
        "if (age <= 1):\n",
        "    print(\"you are an infant\")\n",
        "\n",
        "elif (age > 1) and (age < 13):\n",
        "    print(\"you are a child\")\n",
        "\n",
        "elif age >=13 and (age < 20):\n",
        "    print(\"you are a teen\")\n",
        "    \n",
        "elif age > 20:\n",
        "    print(\"you are an adult\")\n",
        "    \n",
        "#age greater than 1 less than 13"
      ],
      "metadata": {
        "id": "yWZEYOirMpOC"
      },
      "execution_count": null,
      "outputs": []
    },
    {
      "cell_type": "markdown",
      "source": [
        "### having a default else clause in the end"
      ],
      "metadata": {
        "id": "NvNEkjWOOHWU"
      }
    },
    {
      "cell_type": "code",
      "source": [
        "# 3.3. Age Classifier\n",
        "\n",
        "# Write a program that asks the user to enter a person’s age. \n",
        "#The program should display a\n",
        "# message indicating whether the person is an infant, a child, a teenager, or an adult. Following\n",
        "# are the guidelines:\n",
        "\n",
        "# If the person is 1 year old or less, he or she is an infant.\n",
        "\n",
        "# If the person is older than 1 year, but younger than 13 years, he or she is a child.\n",
        "\n",
        "# If the person is at least 13 years old, \n",
        "#but less than 20 years old, he or she is a teenager.\n",
        "\n",
        "# If the person is at least 20 years old, he or she is an adult.\n",
        "\n",
        "age = int(input(\"enter the age: \"))\n",
        "\n",
        "if (age <= 1):\n",
        "    print(\"you are an infant\")\n",
        "\n",
        "elif (age > 1) and (age <= 13):\n",
        "    print(\"you are a child\")\n",
        "\n",
        "elif age >=13 and (age <= 20):\n",
        "    print(\"you are a teen\")\n",
        "    \n",
        "elif (age > 20) and (age <= 100):\n",
        "    print(\"you are an adult\")\n",
        "    \n",
        "else:\n",
        "    print(\"Error: incorrect age is input\")\n",
        "    \n",
        "    \n",
        "#age greater than 1 less than 13"
      ],
      "metadata": {
        "id": "TsWoVMQZOLqx"
      },
      "execution_count": null,
      "outputs": []
    },
    {
      "cell_type": "markdown",
      "source": [
        "### Nested if, else blocks"
      ],
      "metadata": {
        "id": "TYVmg9OGPOyz"
      }
    },
    {
      "cell_type": "code",
      "source": [
        "# Nested if conditions\n",
        "# if possible, avoid those\n",
        "age = int(input(\"enter the age: \"))\n",
        "\n",
        "if (age <= 1):\n",
        "    print(\"you are an infant\")\n",
        "    \n",
        "else:\n",
        "    if (age > 1) and (age <= 13):\n",
        "        print(\"you are a child\")\n",
        "    \n",
        "    else:\n",
        "        if age >=13 and (age <= 20):\n",
        "            print(\"you are a teen\")\n",
        "            \n",
        "        else:\n",
        "            if (age > 20) and (age <= 100):\n",
        "                print(\"you are an adult\")\n",
        "            \n",
        "            else:\n",
        "                print(\"Error: incorrect age is input\")"
      ],
      "metadata": {
        "id": "KSrPVRNDPRJ5"
      },
      "execution_count": null,
      "outputs": []
    }
  ]
}