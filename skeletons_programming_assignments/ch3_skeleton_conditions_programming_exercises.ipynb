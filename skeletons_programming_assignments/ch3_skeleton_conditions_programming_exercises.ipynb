{
  "nbformat": 4,
  "nbformat_minor": 0,
  "metadata": {
    "colab": {
      "provenance": [],
      "toc_visible": true
    },
    "kernelspec": {
      "name": "python3",
      "display_name": "Python 3"
    },
    "language_info": {
      "name": "python"
    }
  },
  "cells": [
    {
      "cell_type": "markdown",
      "source": [
        "# Chapter 3: (Skeleton) Programming Assignments\n",
        "# Learn and Help\n",
        "##Empowering Minds, Inspiring Generosity!\n",
        "##www.learnandhelp.com\n",
        "\n",
        "#Siva Jasthi, Ph.D.\n",
        "##Chief Instructor"
      ],
      "metadata": {
        "id": "a3Izb_aDiJGW"
      }
    },
    {
      "cell_type": "code",
      "source": [
        "# Chapter 3: Conditions, Boolean Logic\n",
        "## Siva.Jasthi@gmail.com\n",
        "### Python101\n",
        "\n",
        "```\n",
        "Requirements Checklist:\n",
        "\n",
        "1. What are the inputs?  (INPUT)\n",
        "--  Are those given as constants?\n",
        "--  Are we taking those as inputs from the user?\n",
        "\n",
        "2. What are the outputs?  (OUTPUT)\n",
        "-- What do I need to print (display)?\n",
        "\n",
        "3. What processing is required?  (PROCESSING)\n",
        "-- how do I convert inputs to outputs\n",
        "-- what actions / arithmetic operations I need to perform\n",
        "\n",
        "Python101 Coding checklist:\n",
        "\n",
        "1. Variables are declared lowercase (eg: total_sales)\n",
        "2. Constants are declared in uppercase (eg: SALES_TAX)\n",
        "3. A space is left on either side of = and operators (* - + // % **)\n",
        "4. Ouputs are always shown with descriptive text (no magic numbers)\n",
        "5. Comments are written to explain complex logic\n",
        "```"
      ],
      "metadata": {
        "id": "TI5kNqTzO4B0"
      },
      "execution_count": null,
      "outputs": []
    },
    {
      "cell_type": "code",
      "execution_count": null,
      "metadata": {
        "id": "ZN34wcVzhA3x"
      },
      "outputs": [],
      "source": [
        "#@title 1.Day of the week\n",
        "\n",
        "'''\n",
        "Write a program that asks the user for a number in the range of 1 through 7.\n",
        "The program should display the corresponding day of the week, where 1 = Monday, 2 = Tuesday, etc. until 7 = Sunday.\n",
        "The program should display an error message if the user enters a number that is outside the range of 1 through 7.\n",
        "'''\n"
      ]
    },
    {
      "cell_type": "code",
      "source": [
        "from mmap import ACCESS_READ\n",
        "#@title 2.Areas of Rectangles\n",
        "\n",
        "'''\n",
        "The area of a rectangle is the rectangle’s length times its width.\n",
        "Write a program that asks for the length and width of two rectangles.\n",
        "The program should tell the user which rectangle has the greater area, or if the areas are the same.\n",
        "'''\n",
        "# IPO = I (inputs), P (processing), O (output to the user)\n",
        "# inputs\n",
        "length_1 = input(\"enter the length of the rectagle 1: \")\n",
        "length_1 = float(length_1)\n",
        "\n",
        "width_1 = input(\"enter the width of the rectangle 1: \")\n",
        "width_1 = float(width_1)\n",
        "\n",
        "length_2 = input(\"enter the length of the rectagle 2: \")\n",
        "length_2 = float(length_2)\n",
        "\n",
        "width_2 = input(\"enter the width of the rectangle 2: \")\n",
        "width_2 = float(width_2)\n",
        "\n",
        "# processing\n",
        "area_1 = length_1 * width_1\n",
        "area_2 = length_2 * width_2\n",
        "\n",
        "# decision, output\n",
        "if area_1 > area_2:\n",
        "  print(\"rectangle 1 has the greater area\")\n",
        "\n",
        "elif area_2 > area_1:\n",
        "  print(\"rectangle 2 has the greater area\")\n",
        "\n",
        "else:\n",
        "  print(\"both rectangles have the same area\")\n"
      ],
      "metadata": {
        "id": "HNbdsutrhEa0",
        "colab": {
          "base_uri": "https://localhost:8080/"
        },
        "outputId": "c4b96f20-6187-4e7d-d99e-270fa8230de7"
      },
      "execution_count": null,
      "outputs": [
        {
          "output_type": "stream",
          "name": "stdout",
          "text": [
            "enter the length of the rectagle 1: 5\n",
            "enter the width of the rectangle 1: 6\n",
            "enter the length of the rectagle 2: 10\n",
            "enter the width of the rectangle 2: 20\n",
            "rectangle 2 has the greater area\n"
          ]
        }
      ]
    },
    {
      "cell_type": "markdown",
      "source": [
        "```\n",
        "Output:\n",
        "\n",
        "Test case 1:\n",
        "enter the length of the rectagle 1: 3\n",
        "enter the width of the rectangle 1: 4\n",
        "enter the length of the rectagle 2: 6\n",
        "enter the width of the rectangle 2: 2\n",
        "both rectangles have the same area\n",
        "\n",
        "\n",
        "Test Case 2:\n",
        "enter the length of the rectagle 1: 5\n",
        "enter the width of the rectangle 1: 6\n",
        "enter the length of the rectagle 2: 10\n",
        "enter the width of the rectangle 2: 20\n",
        "rectangle 2 has the greater area"
      ],
      "metadata": {
        "id": "LQiyBS9NcCpM"
      }
    },
    {
      "cell_type": "code",
      "source": [
        "#@title 3.Age classifier\n",
        "\n",
        "'''\n",
        "Write a program that asks the user to enter a person’s age.\n",
        "The program should display a message indicating whether the person is an infant, a child, a teenager, or an adult.\n",
        "Following are the guidelines:\n",
        "  - If the person is 1 year old or less, he or she is an infant.\n",
        "  - If the person is older than 1 year, but younger than 13 years, he or she is a child.\n",
        "  - If the person is at least 13 years old, but less than 20 years old, he or she is a teenager.\n",
        "  - If the person is at least 20 years old, he or she is an adult.\n",
        "'''\n",
        "#defining the age\n",
        "\n",
        "# Inputs: What am i getting?\n",
        "age = input(\"enter your age: \")\n",
        "age = int(age)\n",
        "\n",
        "# Processing: what do I need to do?\n",
        "category = \"TBD\"\n",
        "\n",
        "if age <= 1:\n",
        "  category = \"infant\"\n",
        "\n",
        "elif age <= 13:\n",
        "  category = \"child\"\n",
        "\n",
        "elif age <= 20:\n",
        "  category = \"teenager\"\n",
        "\n",
        "else:\n",
        "  category = \"adult\"\n",
        "\n",
        "# output: What is the feedback I need to give?\n",
        "print(f\"You are a {category}\")"
      ],
      "metadata": {
        "id": "4viMwSj7hEnA",
        "colab": {
          "base_uri": "https://localhost:8080/"
        },
        "outputId": "4858e09c-bf61-48bb-aa75-b8d097f8113b"
      },
      "execution_count": null,
      "outputs": [
        {
          "output_type": "stream",
          "name": "stdout",
          "text": [
            "enter your age: 15\n",
            "You are a teenager\n"
          ]
        }
      ]
    },
    {
      "cell_type": "code",
      "source": [
        "#@title 4.Roman Numerals\n",
        "\n",
        "'''\n",
        "Write a program that prompts the user to enter a number within the range of 1 through 10.\n",
        "The program should display the Roman numeral version of that number.\n",
        "If the number is outside the range of 1 through 10, the program should display an error message.\n",
        "The following table shows the Roman numerals for the numbers 1 through 10:\n",
        "Number          Roman Numeral\n",
        "1               I\n",
        "2               II\n",
        "3               III\n",
        "4               IV\n",
        "5               V\n",
        "6               VI\n",
        "7               VII\n",
        "8               VIII\n",
        "9               IX\n",
        "10              X\n",
        "'''"
      ],
      "metadata": {
        "id": "inDGwiMbhEvY"
      },
      "execution_count": null,
      "outputs": []
    },
    {
      "cell_type": "code",
      "source": [
        "#@title 5.Mass and weight\n",
        "\n",
        "'''\n",
        "Scientists measure an object’s mass in kilograms and its weight in newtons.\n",
        "If you know the amount of mass of an object in kilograms, you can calculate its weight in newtons with the following formula:\n",
        "weight = mass × 9.8\n",
        "Write a program that asks the user to enter an object’s mass, then calculates its weight.\n",
        "If the object weighs more than 500 newtons, display a message indicating that it is too heavy.\n",
        "If the object weighs less than 100 newtons, display a message indicating that it is too light.\n",
        "'''"
      ],
      "metadata": {
        "id": "fU7h69HAhE3L"
      },
      "execution_count": null,
      "outputs": []
    },
    {
      "cell_type": "code",
      "source": [
        "#@title 6.Magic dates\n",
        "\n",
        "'''\n",
        "The date June 10, 1960, is special because when it is written in the following format, the month times the day equals the year:\n",
        "6/10/60\n",
        "Design a program that asks the user to enter a month (in numeric form), a day, and a two-digit year.\n",
        "The program should then determine whether the month times the day equals the year.\n",
        "If so, it should display a message saying the date is magic.\n",
        "Otherwise, it should display a message saying the date is not magic.\n",
        "'''"
      ],
      "metadata": {
        "id": "Z44dbbiwhIti"
      },
      "execution_count": null,
      "outputs": []
    },
    {
      "cell_type": "code",
      "source": [
        "#@title 7.Color mixer\n",
        "\n",
        "'''\n",
        "The colors red, blue, and yellow are known as the primary colors because they cannot be made by mixing other colors.\n",
        "When you mix two primary colors, you get a secondary color, as shown here:\n",
        "  - When you mix red and blue, you get purple.\n",
        "  - When you mix red and yellow, you get orange.\n",
        "  - When you mix blue and yellow, you get green.\n",
        "\n",
        "Design a program that prompts the user to enter the names of two primary colors to mix.\n",
        "If the user enters anything other than “red,” “blue,” or “yellow,” the program should display an error message.\n",
        "Otherwise, the program should display the name of the secondary color that results.\n",
        "'''\n",
        "\n",
        "# 1. INPUTS\n",
        "color_1 = input(\"Enter the primary color 1 (red, blue, yellow): \")\n",
        "color_2 = input(\"Enter the primary color 2 (red, blue, yellow): \")\n",
        "\n",
        "# 2. PROCESSING\n",
        "final_color = \"To Be Done\"\n",
        "\n",
        "if (color_1 == \"red\") and (color_2 == \"blue\"):\n",
        "  final_color = \"purple\"\n",
        "\n",
        "\n",
        "elif (color_1 == \"red\") and (color_2 == \"yellow\"):\n",
        "  final_color = \"orange\"\n",
        "\n",
        "\n",
        "elif (color_1 == \"blue\") and (color_2 == \"yellow\"):\n",
        "  final_color = \"green\"\n",
        "\n",
        "else:\n",
        "  final_color = \"error\"\n",
        "  print(\"Please enter the correct colors\")\n",
        "\n",
        "\n",
        "# 3. OUTPUT\n",
        "print(f\"Mixing {color_1} and {color_2} will result in {final_color}\")"
      ],
      "metadata": {
        "id": "xTpRl5KihI0D",
        "colab": {
          "base_uri": "https://localhost:8080/"
        },
        "outputId": "79e9c05e-ad8c-42ab-bc8a-a4c1883c78a6"
      },
      "execution_count": null,
      "outputs": [
        {
          "output_type": "stream",
          "name": "stdout",
          "text": [
            "Enter the primary color 1 (red, blue, yellow): red\n",
            "Enter the primary color 2 (red, blue, yellow): black\n",
            "Please enter the correct colors\n",
            "Mixing red and black will result in error\n"
          ]
        }
      ]
    },
    {
      "cell_type": "markdown",
      "source": [
        "```\n",
        "# test case 1\n",
        "Enter the primary color 1 (red, blue, yellow): red\n",
        "Enter the primary color 2 (red, blue, yellow): blue\n",
        "Mixing red and blue will result in purple\n",
        "\n",
        "# test case 2\n",
        "Enter the primary color 1 (red, blue, yellow): red\n",
        "Enter the primary color 2 (red, blue, yellow): yellow\n",
        "Mixing red and yellow will result in orange\n",
        "\n",
        "# tet case 3\n",
        "Enter the primary color 1 (red, blue, yellow): blue\n",
        "Enter the primary color 2 (red, blue, yellow): yellow\n",
        "Mixing blue and yellow will result in green\n"
      ],
      "metadata": {
        "id": "WFdZHF2JXgQi"
      }
    },
    {
      "cell_type": "code",
      "source": [
        "#@title 8.Hot dog cookout calculator\n",
        "\n",
        "'''\n",
        "Assume hot dogs come in packages of 10, and hot dog buns come in packages of 8.\n",
        "Write a program that calculates\n",
        "  - The number of packages of hot dogs\n",
        "  - The number of packages of hot dog buns needed for a cookout, with the minimum amount of leftovers.\n",
        "\n",
        "The program should ask the user for the number of people attending the cookout and the number of hot dogs each person will be given.\n",
        "The program should display the following details:\n",
        "  - The minimum number of packages of hot dogs required\n",
        "  - The minimum number of packages of hot dog buns required The number of hot dogs that will be left over\n",
        "  - The number of hot dog buns that will be left over\n",
        "'''\n",
        "# Get user input\n",
        "\n",
        "\n",
        "# Calculate packages\n",
        "\n",
        "\n",
        "# Display results\n"
      ],
      "metadata": {
        "id": "oaOTKgOthI7D",
        "colab": {
          "base_uri": "https://localhost:8080/"
        },
        "outputId": "9802abc7-3acf-48e3-8bd4-28b215cadc88"
      },
      "execution_count": null,
      "outputs": [
        {
          "output_type": "stream",
          "name": "stdout",
          "text": [
            "Number of people attending the cookout: 17\n",
            "Number of hot dogs each person will be given: 3\n",
            "Minimum number of packages of hot dogs required: 6\n",
            "Minimum number of packages of hot dog buns required: 7\n",
            "Number of hot dogs that will be left over: 9\n",
            "Number of hot dog buns that will be left over: 5\n"
          ]
        }
      ]
    },
    {
      "cell_type": "code",
      "source": [
        "#@title 9.Roulette Wheel Colors\n",
        "\n",
        "'''\n",
        "On a roulette wheel, the pockets are numbered from 0 to 36. The colors of the pockets are as follows:\n",
        "  - Pocket 0 is green.\n",
        "  - For pockets 1 through 10, the odd-numbered pockets are red and the even-numbered pockets are black.\n",
        "  - For pockets 11 through 18, the odd-numbered pockets are black and the even-numbered pockets are red.\n",
        "  - For pockets 19 through 28, the odd-numbered pockets are red and the even-numbered pockets are black.\n",
        "  - For pockets 29 through 36, the odd-numbered pockets are black and the even-numbered pockets are red.\n",
        "Write a program that asks the user to enter a pocket number and displays whether the pocket is green, red, or black.\n",
        "The program should display an error message if the user enters a number that is outside the range of 0 through 36.\n",
        "'''"
      ],
      "metadata": {
        "id": "QzPQjSIEhJB1"
      },
      "execution_count": null,
      "outputs": []
    },
    {
      "cell_type": "code",
      "source": [
        "#@title 10.Money counting game\n",
        "\n",
        "'''\n",
        "Create a change-counting game that gets the user to enter the number of coins required to make exactly one dollar.\n",
        "The program should prompt the user to enter the number of pennies, nickels, dimes, and quarters.\n",
        "If the total value of the coins entered is equal to one dollar, the program should congratulate the user for winning the game.\n",
        "Otherwise, the program should display a message indicating whether the amount entered was more than or less than one dollar.\n",
        "'''\n",
        "\n",
        "# What are the INPUTS? And how am I getting those?\n",
        "# The program should prompt the user to enter the number of pennies, nickels, dimes, and quarters.\n",
        "# Enter the number of pennies 1\n",
        "# Enter the nuber of nickels 5\n",
        "# Enter the number of dimes 10\n",
        "# Enter the number of quarters 25\n",
        "\n",
        "\n",
        "# What are the OUTPUTS?\n",
        "#1.   \"Congratulations. The amount you entered is equals to 1 $\"\n",
        "#2.   \"You lost the game. The amount you entered is more than 1$ by ___\"\n",
        "#3.   \"You lost the game. The amount you entered is less than 1$ by ___\"\n",
        "\n",
        "# Processing. What should I do?\n",
        "# total = (pennies * 1) + (nickels * 5)  + (dimes * 10)  + (quarters * 25)\n",
        "\n",
        "# Input (I)\n",
        "\n",
        "# Processing (P)\n",
        "\n",
        "\n",
        "\n",
        "\n"
      ],
      "metadata": {
        "id": "9Tac1cNHhJHk"
      },
      "execution_count": null,
      "outputs": []
    },
    {
      "cell_type": "code",
      "source": [
        "#@title 11.Book club points\n",
        "\n",
        "'''\n",
        "Serendipity Booksellers has a book club that awards points to its customers based on the number of books purchased each month.\n",
        "The points are awarded as follows:\n",
        "  - If a customer purchases 0 books, he or she earns 0 points.\n",
        "  - If a customer purchases 2 books, he or she earns 5 points.\n",
        "  - If a customer purchases 4 books, he or she earns 15 points.\n",
        "  - If a customer purchases 6 books, he or she earns 30 points.\n",
        "  - If a customer purchases 8 or more books, he or she earns 60 points.\n",
        "Write a program that asks the user to enter the number of books that he or she has purchased this month, then displays the number of points awarded.\n",
        "'''\n"
      ],
      "metadata": {
        "id": "rLpLmB5ljNif"
      },
      "execution_count": null,
      "outputs": []
    },
    {
      "cell_type": "code",
      "source": [
        "#@title 12.Software sales\n",
        "\n",
        "'''\n",
        "A software company sells a package that retails for $99. Quantity discounts are given according to the following table:\n",
        "Quantity      Discount\n",
        "10-19         10%\n",
        "20–49         20%\n",
        "50–99         30%\n",
        "100+          40%\n",
        "Write a program that asks the user to enter the number of packages purchased.\n",
        "The program should then display the amount of the discount (if any) and the total amount of the purchase after the discount.\n",
        "'''"
      ],
      "metadata": {
        "id": "mxkyzd32jNqy"
      },
      "execution_count": null,
      "outputs": []
    },
    {
      "cell_type": "code",
      "source": [
        "#@title 13.Shipping charges\n",
        "\n",
        "'''\n",
        "The Fast Freight Shipping Company charges the following rates:\n",
        "Weight of Package                             Rate per Pound\n",
        "2 pounds or less                              $1.50\n",
        "Over 2 pounds but not more than 6 pounds      $3.00\n",
        "Over 6 pounds but not more than 10 pounds     $4.00\n",
        "Over 10 pounds                                $4.75\n",
        "Write a program that asks the user to enter the weight of a package then displays the shipping charges.\n",
        "'''\n",
        "#defining the weight of package\n",
        "\n",
        "#assigning the rate_per_pound\n",
        "\n",
        "\n",
        "#calculating shipping cost\n"
      ],
      "metadata": {
        "id": "ddU4qqidjNzJ"
      },
      "execution_count": null,
      "outputs": []
    },
    {
      "cell_type": "code",
      "source": [
        "#@title 14.Body mass index\n",
        "\n",
        "'''\n",
        "Write a program that calculates and displays a person’s body mass index (BMI).\n",
        "The BMI is often used to determine whether a person is overweight or underweight for his or her height.\n",
        "A person’s BMI is calculated with the following formula:\n",
        "BMI = weight × 703 / height^2\n",
        "where weight is measured in pounds and height is measured in inches.\n",
        "\n",
        "The program should ask the user to enter his or her weight and height, then display the user’s BMI.\n",
        "The program should also display a message indicating whether the person has optimal weight, is underweight, or is overweight.\n",
        "A person’s weight is considered to be optimal if his or her BMI is between 18.5 and 25.\n",
        "If the BMI is less than 18.5, the person is considered to be underweight.\n",
        "If the BMI value is greater than 25, the person is considered to be overweight.\n",
        "'''"
      ],
      "metadata": {
        "id": "AhfmFvvXjN6J"
      },
      "execution_count": null,
      "outputs": []
    },
    {
      "cell_type": "code",
      "source": [
        "#@title 15.Time calculator\n",
        "\n",
        "'''\n",
        "Write a program that asks the user to enter a number of seconds and works as follows:\n",
        "There are 60 seconds in a minute.\n",
        "If the number of seconds entered by the user is greater than or equal to 60, the program should convert the number of seconds to minutes and seconds.\n",
        "There are 3,600 seconds in an hour.\n",
        "If the number of seconds entered by the user is greater than or equal to 3,600, the program should convert the number of seconds to hours, minutes, and seconds.\n",
        "There are 86,400 seconds in a day.\n",
        "If the number of seconds entered by the user is greater than or equal to 86,400, the program should convert the number of seconds to days, hours, minutes, and seconds.\n",
        "'''"
      ],
      "metadata": {
        "id": "gc_2Ob7EjOBM"
      },
      "execution_count": null,
      "outputs": []
    },
    {
      "cell_type": "code",
      "source": [
        "#@title 16.February Days\n",
        "\n",
        "'''\n",
        "The month of February normally has 28 days.\n",
        "But if it is a leap year, February has 29 days.\n",
        "Write a program that asks the user to enter a year.\n",
        "The program should then display the number of days in February that year. Use the following criteria to identify leap years:\n",
        "  1.Determine whether the year is divisible by 100.\n",
        "    If it is, then it is a leap year if and only if it is also divisible by 400.\n",
        "    For example, 2000 is a leap year, but 2100 is not.\n",
        "  2.If the year is not divisible by 100, then it is a leap year if and only if it is divisible by 4.\n",
        "  For example, 2008 is a leap year, but 2009 is not.\n",
        "'''"
      ],
      "metadata": {
        "id": "MUWjFhfujOH-"
      },
      "execution_count": null,
      "outputs": []
    },
    {
      "cell_type": "code",
      "source": [
        "#@title 17.Wifi Diagnostic Test\n",
        "\n",
        "'''\n",
        "Figure 3-19 shows a simplified flowchart for troubleshooting a bad Wi-Fi connection.\n",
        "Use the flowchart to create a program that leads a person through the steps of fixing a bad Wi-Fi connection.\n",
        "(See textbook for this question)\n",
        "'''"
      ],
      "metadata": {
        "id": "rKp24t5ajOOw"
      },
      "execution_count": null,
      "outputs": []
    },
    {
      "cell_type": "code",
      "source": [
        "#@title 18.Restaurant Selector\n",
        "\n",
        "'''\n",
        "You have a group of friends coming to visit for your high school reunion, and you want to take them out to eat at a local restaurant.\n",
        "You aren’t sure if any of them have dietary restrictions, but your restaurant choices are as follows:\n",
        "  - Joe’s Gourmet Burgers — Vegetarian: No, Vegan: No, Gluten-Free: No\n",
        "  - Main Street Pizza Company — Vegetarian: Yes, Vegan: No, Gluten-Free: Yes Corner Café—Vegetarian: Yes, Vegan: Yes, Gluten-Free: Yes\n",
        "  - Mama’s Fine Italian — Vegetarian: Yes, Vegan: No, Gluten-Free: No\n",
        "  - The Chef’s Kitchen — Vegetarian: Yes, Vegan: Yes, Gluten-Free: Yes\n",
        "Write a program that asks whether any members of your party are vegetarian, vegan, or gluten- free.\n",
        "Then displays only the restaurants to which you may take the group.\n",
        "'''\n",
        "#Showing the options\n",
        "\n",
        "\n",
        "#Information about parties restrictions\n",
        "\n",
        "#Finding the correct restaurant\n"
      ],
      "metadata": {
        "id": "sZMupmNhjOVg",
        "colab": {
          "base_uri": "https://localhost:8080/"
        },
        "outputId": "40cb9f7d-1f9d-4653-dc2a-88ccc48f5a7f"
      },
      "execution_count": null,
      "outputs": [
        {
          "output_type": "stream",
          "name": "stdout",
          "text": [
            "Restaurant Options:\n",
            "1. Joe's Gourmet Burgers\n",
            "2. Main Street Pizza Company\n",
            "3. Corner Café\n",
            "4. Mama's Fine Italian\n",
            "5. The Chef's Kitchen\n",
            "Is anyone in your party vegetarian? (Yes/No): Yes\n",
            "Is anyone in your party vegan? (Yes/No): Yes\n",
            "Is anyone in your party gluten-free? (Yes/No): No\n",
            "You can go to Main Street Pizza Company or The Chef's Kitchen.\n"
          ]
        }
      ]
    },
    {
      "cell_type": "code",
      "source": [
        "#@title 18.Restaurant Selector\n",
        "\n",
        "'''\n",
        "You have a group of friends coming to visit for your high school reunion, and you want to take them out to eat at a local restaurant.\n",
        "You aren’t sure if any of them have dietary restrictions, but your restaurant choices are as follows:\n",
        "  - Joe’s Gourmet Burgers — Vegetarian: No, Vegan: No, Gluten-Free: No\n",
        "  - Main Street Pizza Company — Vegetarian: Yes, Vegan: No, Gluten-Free: Yes Corner Café—Vegetarian: Yes, Vegan: Yes, Gluten-Free: Yes\n",
        "  - Mama’s Fine Italian — Vegetarian: Yes, Vegan: No, Gluten-Free: No\n",
        "  - The Chef’s Kitchen — Vegetarian: Yes, Vegan: Yes, Gluten-Free: Yes\n",
        "Write a program that asks whether any members of your party are vegetarian, vegan, or gluten- free.\n",
        "Then displays only the restaurants to which you may take the group.\n",
        "'''\n",
        "#Showing the options\n",
        "\n",
        "\n",
        "#Information about parties restrictions\n",
        "\n",
        "\n",
        "#Finding the correct restaurant\n"
      ],
      "metadata": {
        "colab": {
          "base_uri": "https://localhost:8080/"
        },
        "id": "gZNedGGz9VyY",
        "outputId": "5bcfc9aa-9341-4bc3-95d6-4d6ae9241139"
      },
      "execution_count": null,
      "outputs": [
        {
          "output_type": "stream",
          "name": "stdout",
          "text": [
            "Restaurant Options:\n",
            "1. Joe's Gourmet Burgers\n",
            "2. Main Street Pizza Company\n",
            "3. Corner Café\n",
            "4. Mama's Fine Italian\n",
            "5. The Chef's Kitchen\n",
            "Is anyone in your party vegetarian? (Yes/No): Yes\n",
            "Is anyone in your party vegan? (Yes/No): no\n",
            "Is anyone in your party gluten-free? (Yes/No): YES\n",
            "You can go to Main Street Pizza Company or Corner Café.\n"
          ]
        }
      ]
    }
  ]
}