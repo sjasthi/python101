{
  "nbformat": 4,
  "nbformat_minor": 0,
  "metadata": {
    "colab": {
      "provenance": [],
      "authorship_tag": "ABX9TyPUm5bu4mJQmNcURVnI9nDj",
      "include_colab_link": true
    },
    "kernelspec": {
      "name": "python3",
      "display_name": "Python 3"
    },
    "language_info": {
      "name": "python"
    }
  },
  "cells": [
    {
      "cell_type": "markdown",
      "metadata": {
        "id": "view-in-github",
        "colab_type": "text"
      },
      "source": [
        "<a href=\"https://colab.research.google.com/github/sjasthi/python_23/blob/main/ch2_Programming_Exercises.ipynb\" target=\"_parent\"><img src=\"https://colab.research.google.com/assets/colab-badge.svg\" alt=\"Open In Colab\"/></a>"
      ]
    },
    {
      "cell_type": "markdown",
      "source": [
        "################\n",
        "# Assignment 2.13 Planting Grapevines\n",
        "# Date 9/18/2022\n",
        "######################"
      ],
      "metadata": {
        "id": "s2fdofdNMbp0"
      }
    },
    {
      "cell_type": "code",
      "execution_count": 1,
      "metadata": {
        "colab": {
          "base_uri": "https://localhost:8080/"
        },
        "id": "M56FmT8oMWN5",
        "outputId": "de289033-4b92-4b03-d233-ed6fccba6024"
      },
      "outputs": [
        {
          "output_type": "stream",
          "name": "stdout",
          "text": [
            "Enter the length of the row in feet:100\n",
            "Enter amount of space, in feet, used by an end-post assembly:0.75\n",
            "the space between vines, in feet:3\n",
            "The number of grapevines that will fit in the row: 98\n"
          ]
        }
      ],
      "source": [
        "\n",
        "\n",
        "# V=R-2ES\n",
        "# The terms in the formula are:\n",
        "# V is the number of grapevines that will fit in the row.\n",
        "# 161\n",
        "# R is the length of the row, in feet.\n",
        "# E is the amount of space, in feet, used by an end-post assembly.\n",
        "# S is the space between vines, in feet.\n",
        "\n",
        "R = input(\"Enter the length of the row in feet:\")\n",
        "R = float(R)\n",
        "\n",
        "E = input(\"Enter amount of space, in feet, used by an end-post assembly:\")\n",
        "E = float (E)\n",
        "\n",
        "S = input(\"the space between vines, in feet:\")\n",
        "S = float (E)\n",
        "\n",
        "#S = float(input(\"the space between vines, in feet:\"))\n",
        "\n",
        "V = R - (2 * E * S)\n",
        "V = int(V)\n",
        "\n",
        "print(\"The number of grapevines that will fit in the row:\", V)"
      ]
    }
  ]
}