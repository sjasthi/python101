{
  "nbformat": 4,
  "nbformat_minor": 0,
  "metadata": {
    "colab": {
      "provenance": [],
      "authorship_tag": "ABX9TyNMmQ10lGrXk0ETuf+lkKoU",
      "include_colab_link": true
    },
    "kernelspec": {
      "name": "python3",
      "display_name": "Python 3"
    },
    "language_info": {
      "name": "python"
    }
  },
  "cells": [
    {
      "cell_type": "markdown",
      "metadata": {
        "id": "view-in-github",
        "colab_type": "text"
      },
      "source": [
        "<a href=\"https://colab.research.google.com/github/sjasthi/python_23/blob/main/ch2_Programming_Exercises.ipynb\" target=\"_parent\"><img src=\"https://colab.research.google.com/assets/colab-badge.svg\" alt=\"Open In Colab\"/></a>"
      ]
    },
    {
      "cell_type": "markdown",
      "source": [
        "# Assignment 2.13 Planting Grapevines\n",
        "# Date 9/18/2022\n",
        "[pythontutor](https://pythontutor.com/visualize.html#code=%0A%0A%23%20V%3DR-2ES%0A%23%20The%20terms%20in%20the%20formula%20are%3A%0A%23%20V%20is%20the%20number%20of%20grapevines%20that%20will%20fit%20in%20the%20row.%0A%23%20161%0A%23%20R%20is%20the%20length%20of%20the%20row,%20in%20feet.%0A%23%20E%20is%20the%20amount%20of%20space,%20in%20feet,%20used%20by%20an%20end-post%20assembly.%0A%23%20S%20is%20the%20space%20between%20vines,%20in%20feet.%0A%0AR%20%3D%20input%28%22Enter%20the%20length%20of%20the%20row%20in%20feet%3A%22%29%0AR%20%3D%20float%28R%29%0A%0AE%20%3D%20input%28%22Enter%20amount%20of%20space,%20in%20feet,%20used%20by%20an%20end-post%20assembly%3A%22%29%0AE%20%3D%20float%20%28E%29%0A%0AS%20%3D%20input%28%22the%20space%20between%20vines,%20in%20feet%3A%22%29%0AS%20%3D%20float%20%28S%29%0A%0A%23S%20%3D%20float%28input%28%22the%20space%20between%20vines,%20in%20feet%3A%22%29%29%0A%0AV%20%3D%20R%20-%20%282%20*%20E%20*%20S%29%0AV%20%3D%20int%28V%29%0A%0Aprint%28%22The%20number%20of%20grapevines%20that%20will%20fit%20in%20the%20row%3A%22,%20V%29&cumulative=false&heapPrimitives=nevernest&mode=edit&origin=opt-frontend.js&py=3&rawInputLstJSON=%5B%5D&textReferences=false)"
      ],
      "metadata": {
        "id": "s2fdofdNMbp0"
      }
    },
    {
      "cell_type": "code",
      "execution_count": null,
      "metadata": {
        "colab": {
          "base_uri": "https://localhost:8080/"
        },
        "id": "M56FmT8oMWN5",
        "outputId": "de289033-4b92-4b03-d233-ed6fccba6024"
      },
      "outputs": [
        {
          "output_type": "stream",
          "name": "stdout",
          "text": [
            "Enter the length of the row in feet:100\n",
            "Enter amount of space, in feet, used by an end-post assembly:0.75\n",
            "the space between vines, in feet:3\n",
            "The number of grapevines that will fit in the row: 98\n"
          ]
        }
      ],
      "source": [
        "\n",
        "\n",
        "# V=R-2ES\n",
        "# The terms in the formula are:\n",
        "# V is the number of grapevines that will fit in the row.\n",
        "# 161\n",
        "# R is the length of the row, in feet.\n",
        "# E is the amount of space, in feet, used by an end-post assembly.\n",
        "# S is the space between vines, in feet.\n",
        "\n",
        "R = input(\"Enter the length of the row in feet:\")\n",
        "R = float(R)\n",
        "\n",
        "E = input(\"Enter amount of space, in feet, used by an end-post assembly:\")\n",
        "E = float (E)\n",
        "\n",
        "S = input(\"the space between vines, in feet:\")\n",
        "S = float (S)\n",
        "\n",
        "#S = float(input(\"the space between vines, in feet:\"))\n",
        "\n",
        "V = R - (2 * E * S)\n",
        "V = int(V)\n",
        "\n",
        "print(\"The number of grapevines that will fit in the row:\", V)"
      ]
    },
    {
      "cell_type": "markdown",
      "source": [
        "### Assignment 2.14 Compound Interest"
      ],
      "metadata": {
        "id": "wYHwHAY1N2py"
      }
    },
    {
      "cell_type": "code",
      "source": [
        "#A=P(1+rn)nt\n",
        "\n",
        "# A=P(1+rn)nt\n",
        "# The terms in the formula are:\n",
        "# A is the amount of money in the account after the specified number of years.\n",
        "# P is the principal amount that was originally deposited into the account.\n",
        "# r is the annual interest rate.\n",
        "# n is the number of times per year that the interest is compounded.\n",
        "# t is the specified number of years.\n",
        "\n",
        "# Get the inputs\n",
        "P = input('Enter the principal amount: ')\n",
        "r = input('Enter the annual interest rate: ')\n",
        "n = input('Enter the number of times per that the interest is compounded: ')\n",
        "t = input('Enter the number of years')\n",
        "\n",
        "# convert to proper data types\n",
        "P = float(P)\n",
        "r = float(P)\n",
        "n = int(n)\n",
        "t = int(t)\n",
        "\n",
        "# Calculate the answer\n",
        "A = P * (((1 + ((r/100.0)/n)) ** (n*t)))\n",
        "\n",
        "#print the final answer\n",
        "print('Final amount: ', A)\n"
      ],
      "metadata": {
        "id": "L9_HTxSZN_dQ"
      },
      "execution_count": null,
      "outputs": []
    }
  ]
}