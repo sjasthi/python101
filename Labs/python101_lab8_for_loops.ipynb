{
  "cells": [
    {
      "cell_type": "markdown",
      "metadata": {
        "id": "Z_kgD3WNbi5M"
      },
      "source": [
        "# For Loops and Range Function Lab Assignment\n",
        "## Total Points: 10 (5 points per exercise)\n",
        "\n",
        "### Instructions:\n",
        "1. Read each exercise carefully\n",
        "2. Fill in the code where you see `# YOUR CODE HERE`\n",
        "3. Do NOT modify the test cases\n",
        "4. Do NOT modify the variable initialization or return statement\n",
        "5. Run each cell as you complete it\n",
        "6. Run the final test cell to see your total score\n",
        "7. Make sure all test cases pass!\n",
        "\n",
        "---"
      ]
    },
    {
      "cell_type": "markdown",
      "metadata": {
        "id": "gdTcpuu0bi5N"
      },
      "source": [
        "## Exercise 1: Basic For Loop with Range (5 points)\n",
        "\n",
        "Create a function that uses a for loop with range() to calculate the sum of all numbers from 1 to n (inclusive).\n",
        "\n",
        "**Important**: Use `range()` to generate the sequence of numbers!"
      ]
    },
    {
      "cell_type": "code",
      "execution_count": null,
      "metadata": {
        "id": "dQFSqAmfbi5N"
      },
      "outputs": [],
      "source": [
        "def sum_with_for_loop(n):\n",
        "    \"\"\"\n",
        "    Calculate the sum of all integers from 1 to n using a for loop and range().\n",
        "\n",
        "    Args:\n",
        "        n (int): The upper limit (inclusive)\n",
        "\n",
        "    Returns:\n",
        "        int: The sum of all integers from 1 to n\n",
        "\n",
        "    Example:\n",
        "        sum_with_for_loop(5) should return 15 (1+2+3+4+5)\n",
        "    \"\"\"\n",
        "    # DO NOT MODIFY: Variable initialization\n",
        "    total = 0\n",
        "    \n",
        "    # YOUR CODE HERE\n",
        "    # Hint: Use a for loop with range() to iterate from 1 to n (inclusive)\n",
        "    # Remember: range(1, n+1) gives you numbers from 1 to n\n",
        "    # Add each number to 'total'\n",
        "    \n",
        "    \n",
        "    # DO NOT MODIFY: Return statement\n",
        "    return total\n",
        "\n",
        "# Quick test (uncomment to test your function)\n",
        "# print(sum_with_for_loop(5))  # Should print 15"
      ]
    },
    {
      "cell_type": "markdown",
      "metadata": {
        "id": "xS-q1S2ebi5O"
      },
      "source": [
        "## Exercise 2: For Loop with Range Parameters (start, stop, step) (5 points)\n",
        "\n",
        "Create a function that uses a for loop with range() to calculate the sum of all **even numbers** from 2 to n (inclusive).\n",
        "\n",
        "**Important**: Use the **step parameter** in range() to only iterate through even numbers!\n",
        "\n",
        "**Hint**: `range(start, stop, step)` allows you to:\n",
        "- `start`: Begin at this number\n",
        "- `stop`: Stop before this number (so use n+1 to include n)\n",
        "- `step`: Jump by this amount (use 2 to get every other number)\n",
        "\n",
        "For example: `range(2, 11, 2)` gives you: 2, 4, 6, 8, 10"
      ]
    },
    {
      "cell_type": "code",
      "execution_count": null,
      "metadata": {
        "id": "Jyq8LDB_bi5O"
      },
      "outputs": [],
      "source": [
        "def sum_even_numbers(n):\n",
        "    \"\"\"\n",
        "    Calculate the sum of all even numbers from 2 to n using range() with step parameter.\n",
        "\n",
        "    Args:\n",
        "        n (int): The upper limit (inclusive)\n",
        "\n",
        "    Returns:\n",
        "        int: The sum of all even numbers from 2 to n\n",
        "\n",
        "    Examples:\n",
        "        sum_even_numbers(10) should return 30 (2+4+6+8+10)\n",
        "        sum_even_numbers(7) should return 12 (2+4+6)\n",
        "        sum_even_numbers(1) should return 0 (no even numbers from 2 to 1)\n",
        "    \"\"\"\n",
        "    # DO NOT MODIFY: Variable initialization\n",
        "    total = 0\n",
        "    \n",
        "    # YOUR CODE HERE\n",
        "    # Hint: Use range(start, stop, step) where:\n",
        "    #   - start is 2 (first even number)\n",
        "    #   - stop is n+1 (to include n if it's even)\n",
        "    #   - step is 2 (to jump to next even number)\n",
        "    # Add each even number to 'total'\n",
        "    \n",
        "    \n",
        "    # DO NOT MODIFY: Return statement\n",
        "    return total\n",
        "\n",
        "# Quick test (uncomment to test your function)\n",
        "# print(sum_even_numbers(10))  # Should print 30\n",
        "# print(sum_even_numbers(7))   # Should print 12"
      ]
    },
    {
      "cell_type": "markdown",
      "metadata": {
        "id": "mXsYUZNBbi5P"
      },
      "source": [
        "---\n",
        "## Test Cases - DO NOT MODIFY\n",
        "\n",
        "Run this cell to test all your functions and get your score!"
      ]
    },
    {
      "cell_type": "code",
      "execution_count": null,
      "metadata": {
        "id": "9fJSoC9Rbi5P"
      },
      "outputs": [],
      "source": [
        "print(\"=\" * 60)\n",
        "print(\"RUNNING TEST CASES\")\n",
        "print(\"=\" * 60)\n",
        "\n",
        "total_score = 0\n",
        "max_score = 10\n",
        "\n",
        "# Test Exercise 1\n",
        "print(\"\\n🔍 Testing Exercise 1: Basic For Loop with Range\")\n",
        "print(\"-\" * 60)\n",
        "test_cases_1 = [\n",
        "    (5, 15),\n",
        "    (10, 55),\n",
        "    (1, 1),\n",
        "    (100, 5050),\n",
        "    (20, 210)\n",
        "]\n",
        "\n",
        "ex1_score = 0\n",
        "ex1_max = 5\n",
        "for i, (input_val, expected) in enumerate(test_cases_1, 1):\n",
        "    try:\n",
        "        result = sum_with_for_loop(input_val)\n",
        "        if result == expected:\n",
        "            print(f\"✓ Test {i} PASSED: sum_with_for_loop({input_val}) = {result}\")\n",
        "            ex1_score += ex1_max / len(test_cases_1)\n",
        "        else:\n",
        "            print(f\"✗ Test {i} FAILED: sum_with_for_loop({input_val}) = {result}, expected {expected}\")\n",
        "    except Exception as e:\n",
        "        print(f\"✗ Test {i} ERROR: {e}\")\n",
        "\n",
        "print(f\"Exercise 1 Score: {ex1_score:.2f}/{ex1_max}\")\n",
        "total_score += ex1_score\n",
        "\n",
        "# Test Exercise 2\n",
        "print(\"\\n🔍 Testing Exercise 2: For Loop with Range Step Parameter\")\n",
        "print(\"-\" * 60)\n",
        "test_cases_2 = [\n",
        "    (10, 30),   # 2+4+6+8+10 = 30\n",
        "    (7, 12),    # 2+4+6 = 12\n",
        "    (1, 0),     # No even numbers = 0\n",
        "    (2, 2),     # Just 2 = 2\n",
        "    (20, 110),  # 2+4+6+8+10+12+14+16+18+20 = 110\n",
        "    (15, 56)    # 2+4+6+8+10+12+14 = 56\n",
        "]\n",
        "\n",
        "ex2_score = 0\n",
        "ex2_max = 5\n",
        "for i, (input_val, expected) in enumerate(test_cases_2, 1):\n",
        "    try:\n",
        "        result = sum_even_numbers(input_val)\n",
        "        if result == expected:\n",
        "            print(f\"✓ Test {i} PASSED: sum_even_numbers({input_val}) = {result}\")\n",
        "            ex2_score += ex2_max / len(test_cases_2)\n",
        "        else:\n",
        "            print(f\"✗ Test {i} FAILED: sum_even_numbers({input_val}) = {result}, expected {expected}\")\n",
        "    except Exception as e:\n",
        "        print(f\"✗ Test {i} ERROR: {e}\")\n",
        "\n",
        "print(f\"Exercise 2 Score: {ex2_score:.2f}/{ex2_max}\")\n",
        "total_score += ex2_score\n",
        "\n",
        "# Final Score\n",
        "print(\"\\n\" + \"=\" * 60)\n",
        "print(\"FINAL SCORE\")\n",
        "print(\"=\" * 60)\n",
        "print(f\"Total Score: {total_score:.2f}/{max_score}\")\n",
        "print(f\"Percentage: {(total_score/max_score)*100:.1f}%\")\n",
        "print()\n",
        "\n",
        "if total_score == max_score:\n",
        "    print(\"🎉 PERFECT SCORE! Excellent work!\")\n",
        "elif total_score >= 8:\n",
        "    print(\"👍 Great job! Just a few tweaks needed.\")\n",
        "elif total_score >= 6:\n",
        "    print(\"👌 Good effort! Review the failed tests and try again.\")\n",
        "else:\n",
        "    print(\"📚 Keep practicing! Review for loop and range() concepts and try again.\")\n",
        "print(\"=\" * 60)"
      ]
    },
    {
      "cell_type": "markdown",
      "metadata": {},
      "source": [
        "---\n",
        "## Bonus: Quick Reference for range()\n",
        "\n",
        "Here are some examples of how range() works:\n",
        "\n",
        "```python\n",
        "# range(stop) - starts at 0, stops before 'stop'\n",
        "for i in range(5):\n",
        "    print(i)  # Prints: 0, 1, 2, 3, 4\n",
        "\n",
        "# range(start, stop) - starts at 'start', stops before 'stop'\n",
        "for i in range(1, 6):\n",
        "    print(i)  # Prints: 1, 2, 3, 4, 5\n",
        "\n",
        "# range(start, stop, step) - starts at 'start', stops before 'stop', increments by 'step'\n",
        "for i in range(2, 11, 2):\n",
        "    print(i)  # Prints: 2, 4, 6, 8, 10\n",
        "\n",
        "# You can also count backwards with negative step!\n",
        "for i in range(10, 0, -1):\n",
        "    print(i)  # Prints: 10, 9, 8, 7, 6, 5, 4, 3, 2, 1\n",
        "```"
      ]
    }
  ],
  "metadata": {
    "kernelspec": {
      "display_name": "Python 3",
      "language": "python",
      "name": "python3"
    },
    "language_info": {
      "codemirror_mode": {
        "name": "ipython",
        "version": 3
      },
      "file_extension": ".py",
      "mimetype": "text/x-python",
      "name": "python",
      "nbconvert_exporter": "python",
      "pygments_lexer": "ipython3",
      "version": "3.8.0"
    },
    "colab": {
      "provenance": []
    }
  },
  "nbformat": 4,
  "nbformat_minor": 0
}
