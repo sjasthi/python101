{
  "nbformat": 4,
  "nbformat_minor": 0,
  "metadata": {
    "colab": {
      "provenance": []
    },
    "kernelspec": {
      "name": "python3",
      "display_name": "Python 3"
    },
    "language_info": {
      "name": "python"
    }
  },
  "cells": [
    {
      "cell_type": "markdown",
      "source": [
        "# Lab 5: Exploring Boolean Logic and Conditions\n",
        "**Total Points: 10 | Time: 20 minutes | Due: October 5, 2025**\n",
        "\n",
        "---"
      ],
      "metadata": {
        "id": "title"
      }
    },
    {
      "cell_type": "markdown",
      "source": [
        "---\n",
        "## 📝 Submission Instructions\n",
        "\n",
        "1. Complete all TODO sections below\n",
        "2. Run each cell to make sure it works\n",
        "3. Test with different inputs\n",
        "4. Download as .ipynb and submit to Google Classroom\n",
        "\n",
        "### Grading:\n",
        "- Part 1: 3 points (1 + 2)\n",
        "- Part 2: 4 points (2 + 2)\n",
        "- Part 3: 3 points\n",
        "- **Total: 10 points**"
      ],
      "metadata": {
        "id": "0A7Lyvy6ow_r"
      }
    },
    {
      "cell_type": "markdown",
      "source": [
        "## PART 1: Boolean Logic Practice (3 points)"
      ],
      "metadata": {
        "id": "part1"
      }
    },
    {
      "cell_type": "code",
      "source": [
        "# Cell 1: Run this cell to see how comparison operators work\n",
        "\n",
        "age = 15\n",
        "print(\"Age:\", age)\n",
        "print(\"Is age >= 13?\", age >= 13)\n",
        "print(\"Is age < 18?\", age < 18)\n",
        "print(\"Is age >= 13 AND age < 18?\", age >= 13 and age < 18)"
      ],
      "metadata": {
        "id": "cell1"
      },
      "execution_count": null,
      "outputs": []
    },
    {
      "cell_type": "code",
      "source": [
        "# Cell 2: TODO - Check if temperature is comfortable (between 65 and 75)\n",
        "# (1 point)\n",
        "\n",
        "temperature = 70\n",
        "\n",
        "# YOUR CODE HERE: Complete the condition\n",
        "if (WRITE_YOUR_CONDITION_HERE):\n",
        "    print(\"Temperature is comfortable!\")\n",
        "else:\n",
        "    print(\"Temperature is not comfortable.\")"
      ],
      "metadata": {
        "id": "cell2"
      },
      "execution_count": null,
      "outputs": []
    },
    {
      "cell_type": "code",
      "source": [
        "# Cell 3: TODO - Check if it's a good day for outdoor activities\n",
        "# A good day is when it's NOT raining OR temperature is above 80\n",
        "# (2 points)\n",
        "\n",
        "is_raining = False\n",
        "temperature = 85\n",
        "\n",
        "# YOUR CODE HERE: Complete the if statement\n",
        "if (WRITE_YOUR_CONDITION_HERE):\n",
        "    print(\"Great day for outdoor activities! 🌞\")\n",
        "else:\n",
        "    print(\"Maybe stay indoors today.\")"
      ],
      "metadata": {
        "id": "cell3"
      },
      "execution_count": null,
      "outputs": []
    },
    {
      "cell_type": "markdown",
      "source": [
        "## PART 2: If/Elif/Else Statements (4 points)"
      ],
      "metadata": {
        "id": "part2"
      }
    },
    {
      "cell_type": "code",
      "source": [
        "# Cell 4: TODO - Complete the grade calculator\n",
        "# 90+ = A, 80-89 = B, 70-79 = C, 60-69 = D, below 60 = F\n",
        "# (2 points)\n",
        "\n",
        "score = int(input(\"Enter your test score (0-100): \"))\n",
        "\n",
        "# YOUR CODE HERE: Complete the if/elif/else chain\n",
        "if (WRITE_YOUR_CONDITION_HERE):\n",
        "    print(\"Grade: A - Excellent! 🌟\")\n",
        "elif (WRITE_YOUR_CONDITION_HERE):\n",
        "    print(\"Grade: B - Great job! 👍\")\n",
        "elif (WRITE_YOUR_CONDITION_HERE):\n",
        "    print(\"Grade: C - Good work! ✓\")\n",
        "elif (WRITE_YOUR_CONDITION_HERE):\n",
        "    print(\"Grade: D - Keep trying! 📚\")\n",
        "else:\n",
        "    print(\"Grade: F - Please see me after class.\")"
      ],
      "metadata": {
        "id": "cell4"
      },
      "execution_count": null,
      "outputs": []
    },
    {
      "cell_type": "code",
      "source": [
        "# Cell 5: TODO - Complete the age category checker\n",
        "# Ages: 0-12 = Child, 13-19 = Teen, 20-64 = Adult, 65+ = Senior\n",
        "# (2 points)\n",
        "\n",
        "age = int(input(\"Enter your age: \"))\n",
        "\n",
        "# YOUR CODE HERE: Write your if/elif/else statements\n",
        "if age <= 12:\n",
        "    print(\"You are a Child\")\n",
        "elif (WRITE_YOUR_CONDITION_HERE):\n",
        "    print(\"You are a Teenager\")\n",
        "elif (WRITE_YOUR_CONDITION_HERE):\n",
        "    print(\"You are an Adult\")\n",
        "else:\n",
        "    print(\"You are a Senior\")"
      ],
      "metadata": {
        "id": "cell5"
      },
      "execution_count": null,
      "outputs": []
    },
    {
      "cell_type": "markdown",
      "source": [
        "## PART 3: Mini Project - Password Checker (3 points)"
      ],
      "metadata": {
        "id": "part3"
      }
    },
    {
      "cell_type": "markdown",
      "source": [
        "## PART 3: Number Guessing Game (3 points)"
      ],
      "metadata": {
        "id": "bonus"
      }
    },
    {
      "cell_type": "code",
      "source": [
        "# Cell 6: TODO - Create a simple number guessing game\n",
        "# The secret number is 42\n",
        "# Give hints if the guess is too high or too low\n",
        "\n",
        "secret_number = 42\n",
        "guess = int(input(\"Guess the secret number (1-100): \"))\n",
        "\n",
        "# YOUR CODE HERE: Write your game logic\n",
        "if (WRITE_YOUR_CONDITION_HERE):\n",
        "    print(\"🎉 Correct! You won!\")\n",
        "elif (WRITE_YOUR_CONDITION_HERE):\n",
        "    print(\"Too low! Try again.\")\n",
        "else:\n",
        "    print(\"Too high! Try again.\")"
      ],
      "metadata": {
        "id": "cell7"
      },
      "execution_count": null,
      "outputs": []
    },
    {
      "cell_type": "markdown",
      "source": [
        "---\n",
        "## 📝 Submission Instructions\n",
        "\n",
        "1. Complete all TODO sections above\n",
        "2. Run each cell to make sure it works\n",
        "3. Test with different inputs\n",
        "4. Download as .ipynb and submit to Google Classroom\n",
        "\n",
        "### Grading:\n",
        "- Part 1: 3 points (1 + 2)\n",
        "- Part 2: 4 points (2 + 2)\n",
        "- Part 3: 3 points\n",
        "- **Total: 10 points**"
      ],
      "metadata": {
        "id": "submission"
      }
    }
  ]
}