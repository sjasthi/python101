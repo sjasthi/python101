{
  "cells": [
    {
      "cell_type": "markdown",
      "metadata": {
        "id": "Z_kgD3WNbi5M"
      },
      "source": [
        "# While Loops Lab Assignment\n",
        "## Total Points: 10 (5 points per exercise)\n",
        "\n",
        "### Instructions:\n",
        "1. Read each exercise carefully\n",
        "2. Fill in the code where you see `# YOUR CODE HERE`\n",
        "3. Do NOT modify the test cases\n",
        "4. Do NOT modify the variable initialization or return statement\n",
        "5. Run each cell as you complete it\n",
        "6. Run the final test cell to see your total score\n",
        "7. Make sure all test cases pass!\n",
        "\n",
        "---"
      ]
    },
    {
      "cell_type": "markdown",
      "metadata": {
        "id": "gdTcpuu0bi5N"
      },
      "source": [
        "## Exercise 1: Basic While Loop (5 points)\n",
        "\n",
        "Create a function that uses a while loop to calculate the sum of all numbers from 1 to n (inclusive)."
      ]
    },
    {
      "cell_type": "code",
      "execution_count": null,
      "metadata": {
        "colab": {
          "base_uri": "https://localhost:8080/"
        },
        "id": "dQFSqAmfbi5N",
        "outputId": "57b915d5-05e2-4f06-f00a-5e1f87279b78"
      },
      "outputs": [
        {
          "output_type": "stream",
          "name": "stdout",
          "text": [
            "None\n"
          ]
        }
      ],
      "source": [
        "def sum_to_n(n):\n",
        "    \"\"\"\n",
        "    Calculate the sum of all integers from 1 to n using a while loop.\n",
        "\n",
        "    Args:\n",
        "        n (int): The upper limit (inclusive)\n",
        "\n",
        "    Returns:\n",
        "        int: The sum of all integers from 1 to n\n",
        "\n",
        "    Example:\n",
        "        sum_to_n(5) should return 15 (1+2+3+4+5)\n",
        "    \"\"\"\n",
        "    # DO NOT MODIFY: Variable initialization\n",
        "    total = 0\n",
        "    current = 1\n",
        "    \n",
        "    # YOUR CODE HERE\n",
        "    # Hint: Use a while loop to add numbers from 1 to n\n",
        "    # Use the variables 'total' and 'current' that are already initialized\n",
        "    \n",
        "    \n",
        "    # DO NOT MODIFY: Return statement\n",
        "    return total\n",
        "\n",
        "# Quick test (uncomment to test your function)\n",
        "#print(sum_to_n(5))  # Should print 15"
      ]
    },
    {
      "cell_type": "markdown",
      "metadata": {
        "id": "xS-q1S2ebi5O"
      },
      "source": [
        "## Exercise 2: While Loop with Break and Continue (5 points)\n",
        "\n",
        "This is an extension of Exercise 1. Calculate the sum of numbers from 1 to n, but with special rules:\n",
        "- **Skip** numbers 3 and 5 (do not include them in the sum) - use `continue`\n",
        "- **Stop** the loop when you reach 10 (do not include 10 or any numbers after it) - use `break`\n",
        "\n",
        "So even if n is 100, you will only sum: 1 + 2 + 4 + 6 + 7 + 8 + 9 = 37"
      ]
    },
    {
      "cell_type": "code",
      "execution_count": null,
      "metadata": {
        "id": "Jyq8LDB_bi5O"
      },
      "outputs": [],
      "source": [
        "def sum_with_rules(n):\n",
        "    \"\"\"\n",
        "    Calculate sum from 1 to n with special rules:\n",
        "    - Skip 3 and 5 (use continue)\n",
        "    - Stop at 10 (use break)\n",
        "\n",
        "    Args:\n",
        "        n (int): The upper limit\n",
        "\n",
        "    Returns:\n",
        "        int: The sum following the rules above\n",
        "\n",
        "    Examples:\n",
        "        sum_with_rules(5) should return 10 (1+2+4, skipping 3 and 5)\n",
        "        sum_with_rules(100) should return 37 (1+2+4+6+7+8+9, skipping 3 and 5, stopping before 10)\n",
        "    \"\"\"\n",
        "    # DO NOT MODIFY: Variable initialization\n",
        "    total = 0\n",
        "    current = 1\n",
        "    \n",
        "    # YOUR CODE HERE\n",
        "    # Hint: Use a while loop\n",
        "    # Use 'break' to exit the loop when current reaches 10\n",
        "    # Use 'continue' to skip 3 and 5 (don't add them to total)\n",
        "    # Remember to increment 'current' in your loop!\n",
        "    \n",
        "    \n",
        "    # DO NOT MODIFY: Return statement\n",
        "    return total\n",
        "\n",
        "# Quick test (uncomment to test your function)\n",
        "# print(sum_with_rules(5))   # Should print 10\n",
        "# print(sum_with_rules(100)) # Should print 37"
      ]
    },
    {
      "cell_type": "markdown",
      "metadata": {
        "id": "mXsYUZNBbi5P"
      },
      "source": [
        "---\n",
        "## Test Cases - DO NOT MODIFY\n",
        "\n",
        "Run this cell to test all your functions and get your score!"
      ]
    },
    {
      "cell_type": "code",
      "execution_count": null,
      "metadata": {
        "id": "9fJSoC9Rbi5P"
      },
      "outputs": [],
      "source": [
        "print(\"=\" * 60)\n",
        "print(\"RUNNING TEST CASES\")\n",
        "print(\"=\" * 60)\n",
        "\n",
        "total_score = 0\n",
        "max_score = 10\n",
        "\n",
        "# Test Exercise 1\n",
        "print(\"\\n📝 Testing Exercise 1: Basic While Loop\")\n",
        "print(\"-\" * 60)\n",
        "test_cases_1 = [\n",
        "    (5, 15),\n",
        "    (10, 55),\n",
        "    (1, 1),\n",
        "    (100, 5050)\n",
        "]\n",
        "\n",
        "ex1_score = 0\n",
        "ex1_max = 5\n",
        "for i, (input_val, expected) in enumerate(test_cases_1, 1):\n",
        "    try:\n",
        "        result = sum_to_n(input_val)\n",
        "        if result == expected:\n",
        "            print(f\"✓ Test {i} PASSED: sum_to_n({input_val}) = {result}\")\n",
        "            ex1_score += ex1_max / len(test_cases_1)\n",
        "        else:\n",
        "            print(f\"✗ Test {i} FAILED: sum_to_n({input_val}) = {result}, expected {expected}\")\n",
        "    except Exception as e:\n",
        "        print(f\"✗ Test {i} ERROR: {e}\")\n",
        "\n",
        "print(f\"Exercise 1 Score: {ex1_score:.2f}/{ex1_max}\")\n",
        "total_score += ex1_score\n",
        "\n",
        "# Test Exercise 2\n",
        "print(\"\\n📝 Testing Exercise 2: While Loop with Break and Continue\")\n",
        "print(\"-\" * 60)\n",
        "test_cases_2 = [\n",
        "    (5, 10),    # 1+2+4+skip3+skip5 = 7, but we stop before reaching anything >= n\n",
        "    (9, 37),    # 1+2+4+6+7+8+9 (skip 3,5, stop before 10)\n",
        "    (100, 37),  # Same as above - stops at 10\n",
        "    (2, 3),     # 1+2 = 3\n",
        "    (4, 7)      # 1+2+4 (skip 3) = 7\n",
        "]\n",
        "\n",
        "ex2_score = 0\n",
        "ex2_max = 5\n",
        "for i, (input_val, expected) in enumerate(test_cases_2, 1):\n",
        "    try:\n",
        "        result = sum_with_rules(input_val)\n",
        "        if result == expected:\n",
        "            print(f\"✓ Test {i} PASSED: sum_with_rules({input_val}) = {result}\")\n",
        "            ex2_score += ex2_max / len(test_cases_2)\n",
        "        else:\n",
        "            print(f\"✗ Test {i} FAILED: sum_with_rules({input_val}) = {result}, expected {expected}\")\n",
        "    except Exception as e:\n",
        "        print(f\"✗ Test {i} ERROR: {e}\")\n",
        "\n",
        "print(f\"Exercise 2 Score: {ex2_score:.2f}/{ex2_max}\")\n",
        "total_score += ex2_score\n",
        "\n",
        "# Final Score\n",
        "print(\"\\n\" + \"=\" * 60)\n",
        "print(\"FINAL SCORE\")\n",
        "print(\"=\" * 60)\n",
        "print(f\"Total Score: {total_score:.2f}/{max_score}\")\n",
        "print(f\"Percentage: {(total_score/max_score)*100:.1f}%\")\n",
        "print()\n",
        "\n",
        "if total_score == max_score:\n",
        "    print(\"🎉 PERFECT SCORE! Excellent work!\")\n",
        "elif total_score >= 8:\n",
        "    print(\"👍 Great job! Just a few tweaks needed.\")\n",
        "elif total_score >= 6:\n",
        "    print(\"👌 Good effort! Review the failed tests and try again.\")\n",
        "else:\n",
        "    print(\"📚 Keep practicing! Review while loop concepts and try again.\")\n",
        "print(\"=\" * 60)"
      ]
    }
  ],
  "metadata": {
    "kernelspec": {
      "display_name": "Python 3",
      "language": "python",
      "name": "python3"
    },
    "language_info": {
      "codemirror_mode": {
        "name": "ipython",
        "version": 3
      },
      "file_extension": ".py",
      "mimetype": "text/x-python",
      "name": "python",
      "nbconvert_exporter": "python",
      "pygments_lexer": "ipython3",
      "version": "3.8.0"
    },
    "colab": {
      "provenance": []
    }
  },
  "nbformat": 4,
  "nbformat_minor": 0
}
