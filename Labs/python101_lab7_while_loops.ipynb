{
  "cells": [
    {
      "cell_type": "markdown",
      "metadata": {
        "id": "Z_kgD3WNbi5M"
      },
      "source": [
        "# While Loops Lab Assignment\n",
        "## Total Points: 10 (5 points per exercise)\n",
        "\n",
        "### Instructions:\n",
        "1. Read each exercise carefully\n",
        "2. Fill in the code where you see `# YOUR CODE HERE`\n",
        "3. Do NOT modify the test cases\n",
        "4. Run each cell as you complete it\n",
        "5. Run the final test cell to see your total score\n",
        "6. Make sure all test cases pass!\n",
        "\n",
        "---"
      ]
    },
    {
      "cell_type": "markdown",
      "metadata": {
        "id": "gdTcpuu0bi5N"
      },
      "source": [
        "## Exercise 1: Basic While Loop (5 points)\n",
        "\n",
        "Create a function that uses a while loop to calculate the sum of all numbers from 1 to n (inclusive)."
      ]
    },
    {
      "cell_type": "code",
      "execution_count": null,
      "metadata": {
        "colab": {
          "base_uri": "https://localhost:8080/"
        },
        "id": "dQFSqAmfbi5N",
        "outputId": "57b915d5-05e2-4f06-f00a-5e1f87279b78"
      },
      "outputs": [
        {
          "output_type": "stream",
          "name": "stdout",
          "text": [
            "None\n"
          ]
        }
      ],
      "source": [
        "def sum_to_n(n):\n",
        "    \"\"\"\n",
        "    Calculate the sum of all integers from 1 to n using a while loop.\n",
        "\n",
        "    Args:\n",
        "        n (int): The upper limit (inclusive)\n",
        "\n",
        "    Returns:\n",
        "        int: The sum of all integers from 1 to n\n",
        "\n",
        "    Example:\n",
        "        sum_to_n(5) should return 15 (1+2+3+4+5)\n",
        "    \"\"\"\n",
        "    # YOUR CODE HERE\n",
        "    # Hint: Initialize a counter and a sum variable\n",
        "    # Use a while loop to add numbers from 1 to n\n",
        "    pass\n",
        "\n",
        "# Quick test (uncomment to test your function)\n",
        "#print(sum_to_n(5))  # Should print 15"
      ]
    },
    {
      "cell_type": "markdown",
      "metadata": {
        "id": "xS-q1S2ebi5O"
      },
      "source": [
        "## Exercise 2: While Loop with Break (5 points)\n",
        "\n",
        "Create a function that finds the first number divisible by both 7 and 13 within a given range, using `break` to exit early."
      ]
    },
    {
      "cell_type": "code",
      "execution_count": null,
      "metadata": {
        "id": "Jyq8LDB_bi5O"
      },
      "outputs": [],
      "source": [
        "def find_first_divisible(start, end):\n",
        "    \"\"\"\n",
        "    Find the first number divisible by both 7 and 13 in range [start, end].\n",
        "    Use a while loop with break statement.\n",
        "\n",
        "    Args:\n",
        "        start (int): Starting number\n",
        "        end (int): Ending number (inclusive)\n",
        "\n",
        "    Returns:\n",
        "        int: The first number divisible by both 7 and 13, or None if not found\n",
        "\n",
        "    Example:\n",
        "        find_first_divisible(1, 100) should return 91\n",
        "    \"\"\"\n",
        "    # YOUR CODE HERE\n",
        "    # Hint: Use a while loop and check if current number is divisible by both 7 and 13\n",
        "    # Use break to exit the loop when you find the number\n",
        "    pass\n",
        "\n",
        "# Quick test (uncomment to test your function)\n",
        "# print(find_first_divisible(1, 100))  # Should print 91"
      ]
    },
    {
      "cell_type": "markdown",
      "metadata": {
        "id": "mXsYUZNBbi5P"
      },
      "source": [
        "---\n",
        "## Test Cases - DO NOT MODIFY\n",
        "\n",
        "Run this cell to test all your functions and get your score!"
      ]
    },
    {
      "cell_type": "code",
      "execution_count": null,
      "metadata": {
        "id": "9fJSoC9Rbi5P"
      },
      "outputs": [],
      "source": [
        "print(\"=\" * 60)\n",
        "print(\"RUNNING TEST CASES\")\n",
        "print(\"=\" * 60)\n",
        "\n",
        "total_score = 0\n",
        "max_score = 10\n",
        "\n",
        "# Test Exercise 1\n",
        "print(\"\\n📝 Testing Exercise 1: Basic While Loop\")\n",
        "print(\"-\" * 60)\n",
        "test_cases_1 = [\n",
        "    (5, 15),\n",
        "    (10, 55),\n",
        "    (1, 1),\n",
        "    (100, 5050)\n",
        "]\n",
        "\n",
        "ex1_score = 0\n",
        "ex1_max = 5\n",
        "for i, (input_val, expected) in enumerate(test_cases_1, 1):\n",
        "    try:\n",
        "        result = sum_to_n(input_val)\n",
        "        if result == expected:\n",
        "            print(f\"✓ Test {i} PASSED: sum_to_n({input_val}) = {result}\")\n",
        "            ex1_score += ex1_max / len(test_cases_1)\n",
        "        else:\n",
        "            print(f\"✗ Test {i} FAILED: sum_to_n({input_val}) = {result}, expected {expected}\")\n",
        "    except Exception as e:\n",
        "        print(f\"✗ Test {i} ERROR: {e}\")\n",
        "\n",
        "print(f\"Exercise 1 Score: {ex1_score:.2f}/{ex1_max}\")\n",
        "total_score += ex1_score\n",
        "\n",
        "# Test Exercise 2\n",
        "print(\"\\n📝 Testing Exercise 2: While Loop with Break\")\n",
        "print(\"-\" * 60)\n",
        "test_cases_2 = [\n",
        "    ((1, 100), 91),\n",
        "    ((100, 200), 182),\n",
        "    ((1, 50), None),\n",
        "    ((91, 91), 91)\n",
        "]\n",
        "\n",
        "ex2_score = 0\n",
        "ex2_max = 5\n",
        "for i, (input_val, expected) in enumerate(test_cases_2, 1):\n",
        "    try:\n",
        "        result = find_first_divisible(*input_val)\n",
        "        if result == expected:\n",
        "            print(f\"✓ Test {i} PASSED: find_first_divisible{input_val} = {result}\")\n",
        "            ex2_score += ex2_max / len(test_cases_2)\n",
        "        else:\n",
        "            print(f\"✗ Test {i} FAILED: find_first_divisible{input_val} = {result}, expected {expected}\")\n",
        "    except Exception as e:\n",
        "        print(f\"✗ Test {i} ERROR: {e}\")\n",
        "\n",
        "print(f\"Exercise 2 Score: {ex2_score:.2f}/{ex2_max}\")\n",
        "total_score += ex2_score\n",
        "\n",
        "# Final Score\n",
        "print(\"\\n\" + \"=\" * 60)\n",
        "print(\"FINAL SCORE\")\n",
        "print(\"=\" * 60)\n",
        "print(f\"Total Score: {total_score:.2f}/{max_score}\")\n",
        "print(f\"Percentage: {(total_score/max_score)*100:.1f}%\")\n",
        "print()\n",
        "\n",
        "if total_score == max_score:\n",
        "    print(\"🎉 PERFECT SCORE! Excellent work!\")\n",
        "elif total_score >= 8:\n",
        "    print(\"👍 Great job! Just a few tweaks needed.\")\n",
        "elif total_score >= 6:\n",
        "    print(\"👌 Good effort! Review the failed tests and try again.\")\n",
        "else:\n",
        "    print(\"📚 Keep practicing! Review while loop concepts and try again.\")\n",
        "print(\"=\" * 60)"
      ]
    }
  ],
  "metadata": {
    "kernelspec": {
      "display_name": "Python 3",
      "language": "python",
      "name": "python3"
    },
    "language_info": {
      "codemirror_mode": {
        "name": "ipython",
        "version": 3
      },
      "file_extension": ".py",
      "mimetype": "text/x-python",
      "name": "python",
      "nbconvert_exporter": "python",
      "pygments_lexer": "ipython3",
      "version": "3.8.0"
    },
    "colab": {
      "provenance": []
    }
  },
  "nbformat": 4,
  "nbformat_minor": 0
}
