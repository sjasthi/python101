{
  "nbformat": 4,
  "nbformat_minor": 0,
  "metadata": {
    "colab": {
      "provenance": [],
      "toc_visible": true
    },
    "kernelspec": {
      "name": "python3",
      "display_name": "Python 3"
    },
    "language_info": {
      "name": "python"
    }
  },
  "cells": [
    {
      "cell_type": "markdown",
      "source": [
        "# Lists: Comprehensive View (Master)\n",
        "## Dr. Siva R Jasthi\n",
        "CSCI 1101 - Fall 2023\n"
      ],
      "metadata": {
        "id": "HpIJY9lvgjMV"
      }
    },
    {
      "cell_type": "code",
      "source": [
        "#@title Python built-in functions vs list methods\n",
        "# https://www.w3schools.com/python/python_ref_list.asp\n",
        "# https://itvoyagers.in/wp-content/uploads/2020/09/built-in-functions-itvoyagers.in_.png\n",
        "\n",
        "nums_list = [1, 3]\n",
        "\n",
        "# Using the LIST METHODS\n",
        "nums_list.append(10)   #[1, 3, 10]\n",
        "nums_list.insert(0, 99) #[99, 1, 3, 10]\n",
        "nums_list.insert(1, 88) #[99, 88, 1, 3, 10]\n",
        "\n",
        "# Using the python built-in functions\n",
        "a = min(nums_list)\n",
        "b = max(nums_list)\n",
        "c = sum(nums_list)\n",
        "d = len(nums_list)\n",
        "print(nums_list)"
      ],
      "metadata": {
        "colab": {
          "base_uri": "https://localhost:8080/"
        },
        "id": "na-_evVRMbDX",
        "outputId": "57f2128d-3c95-4dd2-9ba3-61840d400203"
      },
      "execution_count": null,
      "outputs": [
        {
          "output_type": "stream",
          "name": "stdout",
          "text": [
            "[5, 6, 5]\n",
            "length of the list:  3\n",
            "[5, 6, 5, 9]\n",
            "length of the list:  4\n"
          ]
        }
      ]
    },
    {
      "cell_type": "markdown",
      "source": [
        "* https://www.w3schools.com/python/python_ref_list.asp  (Python List Methods)\n",
        "\n",
        "\n",
        "* https://www.w3schools.com/python/python_ref_functions.asp (Python Built-in Functions)\n"
      ],
      "metadata": {
        "id": "imH1nSNBUuG_"
      }
    },
    {
      "cell_type": "code",
      "source": [
        "#@title The Zen of Python, by Tim Peters\n",
        "\n",
        "import this"
      ],
      "metadata": {
        "colab": {
          "base_uri": "https://localhost:8080/"
        },
        "id": "f7Uz_m0Jvhjo",
        "outputId": "558046bd-0701-476d-ae89-83478da4e48d"
      },
      "execution_count": null,
      "outputs": [
        {
          "output_type": "stream",
          "name": "stdout",
          "text": [
            "The Zen of Python, by Tim Peters\n",
            "\n",
            "Beautiful is better than ugly.\n",
            "Explicit is better than implicit.\n",
            "Simple is better than complex.\n",
            "Complex is better than complicated.\n",
            "Flat is better than nested.\n",
            "Sparse is better than dense.\n",
            "Readability counts.\n",
            "Special cases aren't special enough to break the rules.\n",
            "Although practicality beats purity.\n",
            "Errors should never pass silently.\n",
            "Unless explicitly silenced.\n",
            "In the face of ambiguity, refuse the temptation to guess.\n",
            "There should be one-- and preferably only one --obvious way to do it.\n",
            "Although that way may not be obvious at first unless you're Dutch.\n",
            "Now is better than never.\n",
            "Although never is often better than *right* now.\n",
            "If the implementation is hard to explain, it's a bad idea.\n",
            "If the implementation is easy to explain, it may be a good idea.\n",
            "Namespaces are one honking great idea -- let's do more of those!\n"
          ]
        }
      ]
    },
    {
      "cell_type": "code",
      "source": [
        "#@title Lists: An Introduction\n",
        "\n",
        "#Data Type\n",
        "#List Type\n",
        "x = [10, 3, -5, 'hello', True, 3.4]\n",
        "print(\"List of elements: \", x)\n",
        "\n",
        "# what is the data type of x?\n",
        "print(\"Data type\", type(x))\n",
        "\n",
        "\n"
      ],
      "metadata": {
        "id": "iE_KtgxUn4at",
        "colab": {
          "base_uri": "https://localhost:8080/"
        },
        "outputId": "53f06be2-7ffb-4945-cfee-2575121f585b"
      },
      "execution_count": null,
      "outputs": [
        {
          "output_type": "stream",
          "name": "stdout",
          "text": [
            "List of elements:  [10, 3, -5, 'hello', True, 3.4]\n",
            "Data type <class 'list'>\n",
            "Help on method_descriptor:\n",
            "\n",
            "extend(self, iterable, /)\n",
            "    Extend list by appending elements from the iterable.\n",
            "\n"
          ]
        }
      ]
    },
    {
      "cell_type": "code",
      "source": [
        "#@title directory of list methods\n",
        "\n",
        "\n",
        "\n",
        "# nums = [4, 5, 6]\n",
        "# for i in nums:\n",
        "#   print(i)\n",
        "\n",
        "\n",
        "list_methods = dir(list)\n",
        "#print(type(list_methods), list_methods)\n",
        "# double underscore methods = dunder methods = python uses those internally\n",
        "\n",
        "for elem in list_methods:\n",
        "  if '__' not in elem:\n",
        "    print(elem)\n",
        "\n",
        "\n",
        "\n"
      ],
      "metadata": {
        "colab": {
          "base_uri": "https://localhost:8080/"
        },
        "id": "sLiVNYE8lXaT",
        "outputId": "6a48d1dd-fd39-4b0a-d0f4-879eda9a6ea2"
      },
      "execution_count": null,
      "outputs": [
        {
          "output_type": "stream",
          "name": "stdout",
          "text": [
            "append\n",
            "clear\n",
            "copy\n",
            "count\n",
            "extend\n",
            "index\n",
            "insert\n",
            "pop\n",
            "remove\n",
            "reverse\n",
            "sort\n"
          ]
        }
      ]
    },
    {
      "cell_type": "code",
      "source": [
        "nums = [5, 6, 5]\n",
        "nums.append(9)\n",
        "nums.clear()\n",
        "nums.insert(0, 99)\n",
        "nums.insert(0, 88)\n",
        "nums.insert(0, 88)\n",
        "nums.append(88)\n",
        "x = nums.count(88)\n",
        "\n",
        "nums.extend([5, 3, -10, \"abc\"])\n",
        "print(nums)\n",
        "\n",
        "y = nums.index(-10)\n",
        "print(y)"
      ],
      "metadata": {
        "colab": {
          "base_uri": "https://localhost:8080/"
        },
        "id": "VPtwFNv1ldLM",
        "outputId": "17e59dcd-2552-4f3a-ab06-4915b26b046b"
      },
      "execution_count": null,
      "outputs": [
        {
          "output_type": "stream",
          "name": "stdout",
          "text": [
            "[88, 88, 99, 88, 5, 3, -10, 'abc']\n",
            "6\n"
          ]
        }
      ]
    },
    {
      "cell_type": "code",
      "source": [
        "#@title how to get help on a specific method?\n",
        "help(list.append)"
      ],
      "metadata": {
        "colab": {
          "base_uri": "https://localhost:8080/"
        },
        "id": "RHhx61z1eUf2",
        "outputId": "e7bd80e9-476d-48ef-84c3-3127212f40fc"
      },
      "execution_count": null,
      "outputs": [
        {
          "output_type": "stream",
          "name": "stdout",
          "text": [
            "Help on method_descriptor:\n",
            "\n",
            "append(self, object, /)\n",
            "    Append object to the end of the list.\n",
            "\n"
          ]
        }
      ]
    },
    {
      "cell_type": "markdown",
      "source": [
        "# Exploring List Methods"
      ],
      "metadata": {
        "id": "hFY-hfaYErKi"
      }
    },
    {
      "cell_type": "code",
      "source": [
        "#@title 1.Creating an empty list\n",
        "x = []\n",
        "x = list()\n",
        "print(x)\n",
        "print(\"Length of this list: \", len(x))"
      ],
      "metadata": {
        "id": "4GnRakGpUz8V",
        "colab": {
          "base_uri": "https://localhost:8080/"
        },
        "outputId": "8784cb53-cf1f-435c-c60c-2d64b13a2e71"
      },
      "execution_count": null,
      "outputs": [
        {
          "output_type": "stream",
          "name": "stdout",
          "text": [
            "[]\n",
            "Length of this list:  0\n"
          ]
        }
      ]
    },
    {
      "cell_type": "code",
      "source": [
        "#@title 2.Creating a list with some elements\n",
        "x = [10, 40, 32]\n",
        "print(x)"
      ],
      "metadata": {
        "id": "uCm9yPLDU0O0",
        "colab": {
          "base_uri": "https://localhost:8080/"
        },
        "outputId": "efbb3ab9-88ee-4d20-f1e7-b6658c78e929"
      },
      "execution_count": null,
      "outputs": [
        {
          "output_type": "stream",
          "name": "stdout",
          "text": [
            "[10, 40, 32]\n"
          ]
        }
      ]
    },
    {
      "cell_type": "code",
      "source": [
        "#@title 3.Appending elements at the end\n",
        "x = [10, 40, 32]\n",
        "print(x)\n",
        "x.append(34)\n",
        "print(x)\n",
        "x.append(20)\n",
        "print(x)\n",
        "x.append(-10)\n",
        "print(x)\n",
        "x.append('bob')\n",
        "print(x)\n",
        "#x.append(3,1)\n",
        "\n"
      ],
      "metadata": {
        "id": "rEpmqm7MU0Si",
        "colab": {
          "base_uri": "https://localhost:8080/",
          "height": 327
        },
        "outputId": "f01c8c38-2b40-40d7-f1a0-af2c9b44dfd9"
      },
      "execution_count": null,
      "outputs": [
        {
          "output_type": "stream",
          "name": "stdout",
          "text": [
            "[10, 40, 32]\n",
            "[10, 40, 32, 34]\n",
            "[10, 40, 32, 34, 20]\n",
            "[10, 40, 32, 34, 20, -10]\n",
            "[10, 40, 32, 34, 20, -10, 'bob']\n"
          ]
        },
        {
          "output_type": "error",
          "ename": "TypeError",
          "evalue": "ignored",
          "traceback": [
            "\u001b[0;31m---------------------------------------------------------------------------\u001b[0m",
            "\u001b[0;31mTypeError\u001b[0m                                 Traceback (most recent call last)",
            "\u001b[0;32m<ipython-input-10-666dfff6bc30>\u001b[0m in \u001b[0;36m<cell line: 12>\u001b[0;34m()\u001b[0m\n\u001b[1;32m     10\u001b[0m \u001b[0mx\u001b[0m\u001b[0;34m.\u001b[0m\u001b[0mappend\u001b[0m\u001b[0;34m(\u001b[0m\u001b[0;34m'bob'\u001b[0m\u001b[0;34m)\u001b[0m\u001b[0;34m\u001b[0m\u001b[0;34m\u001b[0m\u001b[0m\n\u001b[1;32m     11\u001b[0m \u001b[0mprint\u001b[0m\u001b[0;34m(\u001b[0m\u001b[0mx\u001b[0m\u001b[0;34m)\u001b[0m\u001b[0;34m\u001b[0m\u001b[0;34m\u001b[0m\u001b[0m\n\u001b[0;32m---> 12\u001b[0;31m \u001b[0mx\u001b[0m\u001b[0;34m.\u001b[0m\u001b[0mappend\u001b[0m\u001b[0;34m(\u001b[0m\u001b[0;36m3\u001b[0m\u001b[0;34m,\u001b[0m\u001b[0;36m1\u001b[0m\u001b[0;34m)\u001b[0m\u001b[0;34m\u001b[0m\u001b[0;34m\u001b[0m\u001b[0m\n\u001b[0m\u001b[1;32m     13\u001b[0m \u001b[0mprint\u001b[0m\u001b[0;34m(\u001b[0m\u001b[0mx\u001b[0m\u001b[0;34m)\u001b[0m\u001b[0;34m\u001b[0m\u001b[0;34m\u001b[0m\u001b[0m\n",
            "\u001b[0;31mTypeError\u001b[0m: list.append() takes exactly one argument (2 given)"
          ]
        }
      ]
    },
    {
      "cell_type": "code",
      "source": [
        "#@title 4.Accessing an element (positive index)\n",
        "# also known as \"Reading an element\"\n",
        "# also known as \"Setting an element\"\n",
        "x = [10, 40, 32, 34, 20, -10, 'bob']\n",
        "\n",
        "# Give me 1st element\n",
        "first = x[0]\n",
        "print(\"1st element: \", first)\n",
        "\n",
        "# Give me 1st element\n",
        "fourth = x[3]\n",
        "print(\"4th element: \", fourth)\n",
        "\n"
      ],
      "metadata": {
        "id": "AMTpZsLMU0Vr",
        "colab": {
          "base_uri": "https://localhost:8080/"
        },
        "outputId": "be622559-d79d-4a3c-c694-2fa8ab38aea4"
      },
      "execution_count": null,
      "outputs": [
        {
          "output_type": "stream",
          "name": "stdout",
          "text": [
            "1st element:  10\n",
            "4th element:  34\n"
          ]
        }
      ]
    },
    {
      "cell_type": "code",
      "source": [
        "#@title 5.Accessing an element (through Negative Indexing)\n",
        "# also known as \"Reading an element\"\n",
        "# also known as \"Setting an element\"\n",
        "\n",
        "# 0, 1, 2, 3.... N\n",
        "# -N, -3, -2, -1\n",
        "x = [10, 40, 32, 34, 20, -10, 'bob', 10, 40, 32, 34, 20, -10, 'lol', 10, 40, 32, 34, 20, 'cool', 'bff' ]\n",
        "\n",
        "\n",
        "count = len(x)\n",
        "last_element = x[count-1]\n",
        "print('Last element: ', last_element)\n",
        "\n",
        "# Positive index starts from 0 from the front\n",
        "# Negative index starts from -1 from the end\n",
        "last_element = x[-1]\n",
        "print('Last element: ', last_element)\n",
        "\n",
        "# What is there in second position from the last\n",
        "second_from_last = x[-2]\n",
        "print('second_from_last element: ', second_from_last)"
      ],
      "metadata": {
        "id": "VWaPKymnXdtx",
        "colab": {
          "base_uri": "https://localhost:8080/"
        },
        "outputId": "975d21ec-c134-4d85-8c5b-d997985ae88b"
      },
      "execution_count": null,
      "outputs": [
        {
          "output_type": "stream",
          "name": "stdout",
          "text": [
            "cool\n"
          ]
        }
      ]
    },
    {
      "cell_type": "code",
      "source": [
        "#@title 6.insert: Adding an element at the front of the list\n",
        "my_list = [4,3,2]\n",
        "print(my_list)\n",
        "\n",
        "# Add 10 at the front\n",
        "my_list.insert(0, 10)\n",
        "print(my_list)\n",
        "\n",
        "# Add 20 at the position 3 of the new list\n",
        "my_list.insert(2, 20)\n",
        "print(my_list)\n",
        "\n",
        "\n",
        "# Add 50 at the end of the list\n",
        "my_list.append(50)\n",
        "print(my_list)\n",
        "\n",
        "\n",
        "print(\"number of elements: \", len(my_list))\n",
        "\n",
        "insert_position = 7\n",
        "my_list.insert(insert_position, 99)\n",
        "print(my_list)\n",
        "\n",
        "my_list.insert(-1, 199)\n",
        "print(my_list)"
      ],
      "metadata": {
        "id": "dSKr5_20U0YS",
        "colab": {
          "base_uri": "https://localhost:8080/"
        },
        "outputId": "e2154510-757c-4aba-8bfd-eae6381186d9"
      },
      "execution_count": null,
      "outputs": [
        {
          "output_type": "stream",
          "name": "stdout",
          "text": [
            "[4, 3, 2]\n",
            "[10, 4, 3, 2]\n",
            "[10, 4, 20, 3, 2]\n",
            "[10, 4, 20, 3, 2, 50]\n",
            "number of elements:  6\n",
            "[10, 4, 20, 3, 2, 50, 99]\n",
            "[10, 4, 20, 3, 2, 50, 199, 99]\n"
          ]
        }
      ]
    },
    {
      "cell_type": "code",
      "source": [
        "#@title 7.Adding an element anywhere (at a specific index)\n",
        "my_list = [4,3,2]\n",
        "print(my_list)\n",
        "\n",
        "\n",
        "# Add 20 at the position 3 of the new list\n",
        "my_list.insert(2, 20)\n",
        "print(my_list)\n"
      ],
      "metadata": {
        "id": "jvMJf2-2U0bM",
        "colab": {
          "base_uri": "https://localhost:8080/"
        },
        "outputId": "240612cd-60c5-4b21-ce93-0ae6811d0bc7"
      },
      "execution_count": null,
      "outputs": [
        {
          "output_type": "stream",
          "name": "stdout",
          "text": [
            "[4, 3, 2]\n",
            "[4, 3, 20, 2]\n"
          ]
        }
      ]
    },
    {
      "cell_type": "code",
      "source": [
        "#@title 8.Updating (or Replacing) an element\n",
        "my_list = [4,3,2]\n",
        "print(my_list)\n",
        "\n",
        "# Replace the second element with 10\n",
        "my_list[1] = 10\n",
        "print(my_list)\n",
        "\n",
        "# Replace first element with \"python\"\n",
        "my_list[0] = 'python'\n",
        "print(my_list)\n",
        "\n"
      ],
      "metadata": {
        "id": "DUG9xlraaTlO",
        "colab": {
          "base_uri": "https://localhost:8080/"
        },
        "outputId": "19d01a58-dd3c-4ea7-bfdc-5859ff864fa7"
      },
      "execution_count": null,
      "outputs": [
        {
          "output_type": "stream",
          "name": "stdout",
          "text": [
            "[4, 3, 2]\n",
            "[4, 10, 2]\n",
            "['python', 10, 2]\n"
          ]
        }
      ]
    },
    {
      "cell_type": "code",
      "source": [
        "#@title 9.Removing an element by value\n",
        "my_list = [6,7,3,4]\n",
        "my_list.remove(6)\n",
        "print('1--', my_list)\n",
        "\n",
        "my_list = [6,7,3,7,4]\n",
        "print('2--', my_list)\n",
        "my_list.remove(7)\n",
        "print('3--', my_list)\n",
        "\n",
        "my_list.append(6)\n",
        "my_list.remove(6)\n",
        "my_list.remove(6)\n",
        "my_list.remove(6)\n",
        "my_list"
      ],
      "metadata": {
        "id": "8UfCeQSpYwFB",
        "colab": {
          "base_uri": "https://localhost:8080/",
          "height": 290
        },
        "outputId": "9f4c313f-90af-4fe8-e7bb-7f7a0db36616"
      },
      "execution_count": null,
      "outputs": [
        {
          "output_type": "stream",
          "name": "stdout",
          "text": [
            "1-- [7, 3, 4]\n",
            "2-- [6, 7, 3, 7, 4]\n",
            "3-- [6, 3, 7, 4]\n"
          ]
        },
        {
          "output_type": "error",
          "ename": "ValueError",
          "evalue": "ignored",
          "traceback": [
            "\u001b[0;31m---------------------------------------------------------------------------\u001b[0m",
            "\u001b[0;31mValueError\u001b[0m                                Traceback (most recent call last)",
            "\u001b[0;32m<ipython-input-4-88af33532813>\u001b[0m in \u001b[0;36m<cell line: 14>\u001b[0;34m()\u001b[0m\n\u001b[1;32m     12\u001b[0m \u001b[0mmy_list\u001b[0m\u001b[0;34m.\u001b[0m\u001b[0mremove\u001b[0m\u001b[0;34m(\u001b[0m\u001b[0;36m6\u001b[0m\u001b[0;34m)\u001b[0m\u001b[0;34m\u001b[0m\u001b[0;34m\u001b[0m\u001b[0m\n\u001b[1;32m     13\u001b[0m \u001b[0mmy_list\u001b[0m\u001b[0;34m.\u001b[0m\u001b[0mremove\u001b[0m\u001b[0;34m(\u001b[0m\u001b[0;36m6\u001b[0m\u001b[0;34m)\u001b[0m\u001b[0;34m\u001b[0m\u001b[0;34m\u001b[0m\u001b[0m\n\u001b[0;32m---> 14\u001b[0;31m \u001b[0mmy_list\u001b[0m\u001b[0;34m.\u001b[0m\u001b[0mremove\u001b[0m\u001b[0;34m(\u001b[0m\u001b[0;36m6\u001b[0m\u001b[0;34m)\u001b[0m\u001b[0;34m\u001b[0m\u001b[0;34m\u001b[0m\u001b[0m\n\u001b[0m\u001b[1;32m     15\u001b[0m \u001b[0mmy_list\u001b[0m\u001b[0;34m\u001b[0m\u001b[0;34m\u001b[0m\u001b[0m\n",
            "\u001b[0;31mValueError\u001b[0m: list.remove(x): x not in list"
          ]
        }
      ]
    },
    {
      "cell_type": "code",
      "source": [
        "#@title 10.Removing the last element in the list\n",
        "\n",
        "#help(list.pop)\n",
        "\n",
        "my_list = [6,7,3,7,4]\n",
        "my_list.pop()\n",
        "print(my_list)\n"
      ],
      "metadata": {
        "id": "8pLgwYe0YwOY",
        "colab": {
          "base_uri": "https://localhost:8080/"
        },
        "outputId": "2a7d9509-9709-4935-ee20-55c5a7757c8b"
      },
      "execution_count": null,
      "outputs": [
        {
          "output_type": "stream",
          "name": "stdout",
          "text": [
            "[6, 7, 3, 7]\n"
          ]
        }
      ]
    },
    {
      "cell_type": "code",
      "source": [
        "#@title 11.Removing an element at a given index\n",
        "my_list = [6,7,3,7,4]\n",
        "x = my_list.pop(0)\n",
        "print(my_list)\n",
        "print(x)\n",
        "\n",
        "\n",
        "# CRUD - Create, Add, Copy, Construct, Define\n",
        "        # Read, Query, Find, Search\n",
        "        # Update, Modify, Change\n",
        "        # Delete or Clear or Remove"
      ],
      "metadata": {
        "id": "2jpc-7ppYwb_",
        "colab": {
          "base_uri": "https://localhost:8080/"
        },
        "outputId": "d430714b-8a77-44e9-a465-c8760e1b83e6"
      },
      "execution_count": null,
      "outputs": [
        {
          "output_type": "stream",
          "name": "stdout",
          "text": [
            "[7, 3, 7, 4]\n",
            "6\n"
          ]
        }
      ]
    },
    {
      "cell_type": "code",
      "source": [
        "#@title 12.Extending a list\n",
        "#(Adding several elements to one list)\n",
        "my_list = [1, 2, 3]\n",
        "your_list = [4,99, 23]\n",
        "print('before extending: ', my_list)\n",
        "my_list.extend(your_list)\n",
        "print('after extending: ', my_list)\n",
        "\n",
        "print('before extending: ', your_list)\n",
        "your_list.extend(my_list)\n",
        "print('after extending: ', your_list)\n",
        "\n",
        "print('before extending: ', my_list)\n",
        "my_list.extend(my_list)\n",
        "print('after extending: ', my_list)"
      ],
      "metadata": {
        "id": "f9CutvMNYwn6",
        "colab": {
          "base_uri": "https://localhost:8080/"
        },
        "outputId": "f761875d-c728-45c4-b9cb-20bb4cb4a842"
      },
      "execution_count": null,
      "outputs": [
        {
          "output_type": "stream",
          "name": "stdout",
          "text": [
            "before extending:  [4, 99, 23]\n",
            "after extending:  [4, 99, 23, 1, 2, 3]\n",
            "before extending:  [1, 2, 3]\n",
            "after extending:  [1, 2, 3, 1, 2, 3]\n"
          ]
        }
      ]
    },
    {
      "cell_type": "code",
      "source": [
        "#@title 13.Search for an element. What is the index?\n",
        "#help(list.index)\n",
        "my_list = [1, 2, 3]\n",
        "your_list = [4,99, 23]\n",
        "my_list.extend(your_list)\n",
        "print(my_list)\n",
        "\n",
        "x = my_list.index(99)\n",
        "print('index of 99', x)\n",
        "\n",
        "\n",
        "# You can not search for an element that is not there\n",
        "# x = my_list.index(100)\n",
        "# print('index of 100', x)\n",
        "\n",
        "\n"
      ],
      "metadata": {
        "id": "S7JBtxoufmw0",
        "colab": {
          "base_uri": "https://localhost:8080/"
        },
        "outputId": "7427e059-0a6f-494a-8890-e7df0f603557"
      },
      "execution_count": null,
      "outputs": [
        {
          "output_type": "stream",
          "name": "stdout",
          "text": [
            "[1, 2, 3, 4, 99, 23]\n",
            "index of 99 4\n"
          ]
        }
      ]
    },
    {
      "cell_type": "code",
      "source": [
        "#@title 14.Count the number of times an element is appearing\n",
        "\n",
        "#help(list.count)\n",
        "\n",
        "# this is using the list method (this is the winner)\n",
        "my_list = [1, 99, 2, 99, 3, 4, 99, 23]\n",
        "\n",
        "count_99 = my_list.count(99)\n",
        "print(\"count of 99 in the list: \", count_99)\n",
        "\n",
        "# this is using the loop (you use this if you forget that there is already a method called count( ) in list)\n",
        "counter = 0\n",
        "for elem in my_list:\n",
        "  if elem == 99:\n",
        "    counter = counter + 1\n",
        "\n",
        "print(\"count of 99 in the list: \", counter)\n"
      ],
      "metadata": {
        "id": "xtYWNnRUfykZ",
        "colab": {
          "base_uri": "https://localhost:8080/"
        },
        "outputId": "b2ca493e-5dad-4b50-c46b-1325c7f6319d"
      },
      "execution_count": null,
      "outputs": [
        {
          "output_type": "stream",
          "name": "stdout",
          "text": [
            "count of 99 in the list:  3\n",
            "count of 99 in the list:  3\n"
          ]
        }
      ]
    },
    {
      "cell_type": "code",
      "execution_count": null,
      "metadata": {
        "colab": {
          "base_uri": "https://localhost:8080/"
        },
        "id": "HzdJE7DjkZ7-",
        "outputId": "7ad62f04-eecc-496d-e716-a0790433a3cb"
      },
      "outputs": [
        {
          "output_type": "stream",
          "name": "stdout",
          "text": [
            "is 99 in the list:  True\n",
            "is 100 in the list:  False\n",
            "your element is not there in the list\n"
          ]
        }
      ],
      "source": [
        "#@title 15.Checking for Membership (in)\n",
        "my_list = [1, 2, 3, 4, 99, 23]\n",
        "\n",
        "print('is 99 in the list: ', (99 in my_list) )\n",
        "print('is 100 in the list: ', (100 in my_list) )\n",
        "\n",
        "element_to_find = 123\n",
        "element_exists = element_to_find in my_list\n",
        "if (element_exists == True):\n",
        "  current_index = my_list.index(element_to_find)\n",
        "  print(\"Your element \", element_to_find, \"sits at\", current_index)\n",
        "else:\n",
        "  print(\"your element is not there in the list\")\n"
      ]
    },
    {
      "cell_type": "code",
      "source": [
        "#@title 16.Checking for Membership (not in)\n",
        "# in = positive check\n",
        "# not in = inverse check\n",
        "\n",
        "my_list = [1, 2, 3, 100, 4, 99, 23]\n",
        "\n",
        "print('is 99 not in the list: ', (99 not in my_list) )\n",
        "print('is 100 not in the list: ', (100 not in my_list) )\n",
        "\n",
        "if (99 in my_list) :\n",
        "  if (100 in my_list):\n",
        "    print('both 99 and 100 exist in the list')\n",
        "  else:\n",
        "    print('only 99 exists in the list')\n",
        "\n",
        "if (99 in my_list) and (100 in my_list):\n",
        "    print('both 99 and 100 exist in the list')\n",
        "else:\n",
        "    print('Both do not existin the list')"
      ],
      "metadata": {
        "id": "0jlu0amZfUYv",
        "colab": {
          "base_uri": "https://localhost:8080/"
        },
        "outputId": "80da27d4-6e27-42fd-a786-567e2d1714a2"
      },
      "execution_count": null,
      "outputs": [
        {
          "output_type": "stream",
          "name": "stdout",
          "text": [
            "is 99 not in the list:  False\n",
            "is 100 not in the list:  False\n",
            "both 99 and 100 exist in the list\n",
            "both 99 and 100 exist in the list\n"
          ]
        }
      ]
    },
    {
      "cell_type": "code",
      "source": [
        "#@title 17.Reverse a list\n",
        "#help(list.reverse)\n",
        "\n",
        "my_list = [1, 2, 3, 100, 4, 99, 23]\n",
        "\n",
        "print('before reversing: ', my_list)\n",
        "my_list.reverse()\n",
        "print('after reversing: ', my_list)"
      ],
      "metadata": {
        "id": "4ss-JZlugMdZ",
        "colab": {
          "base_uri": "https://localhost:8080/"
        },
        "outputId": "b01db44a-1ea1-44df-9eca-b3327e34b872"
      },
      "execution_count": null,
      "outputs": [
        {
          "output_type": "stream",
          "name": "stdout",
          "text": [
            "Help on method_descriptor:\n",
            "\n",
            "reverse(self, /)\n",
            "    Reverse *IN PLACE*.\n",
            "\n",
            "before reversing:  [1, 2, 3, 100, 4, 99, 23]\n",
            "after reversing:  [23, 99, 4, 100, 3, 2, 1]\n"
          ]
        }
      ]
    },
    {
      "cell_type": "code",
      "source": [
        "#@title 18.Sort a list\n",
        "my_list = [1, 2, 3, 100, 4, 99, 23]\n",
        "\n",
        "print('before sorting: ', my_list)\n",
        "#my_list.sort(reverse = False)  # No need to specify this explicitly because reverse = False is the default, and hence it is optional\n",
        "my_list.sort()\n",
        "print('after sorting (default sort order is ascending): ', my_list)\n",
        "my_list.sort(reverse = True)\n",
        "print('after sorting (reversing the sort order): ', my_list)"
      ],
      "metadata": {
        "id": "XNEHDoaFgop0",
        "colab": {
          "base_uri": "https://localhost:8080/"
        },
        "outputId": "ab6d879b-6a99-4f79-a88e-f7a94376046d"
      },
      "execution_count": null,
      "outputs": [
        {
          "output_type": "stream",
          "name": "stdout",
          "text": [
            "before sorting:  [1, 2, 3, 100, 4, 99, 23]\n",
            "after sorting (default sort order is ascending):  [1, 2, 3, 4, 23, 99, 100]\n",
            "after sorting (reversing the sort order):  [100, 99, 23, 4, 3, 2, 1]\n"
          ]
        }
      ]
    },
    {
      "cell_type": "code",
      "source": [
        "#@title 19.Clear (Empty) a list\n",
        "#Delete all the elements in the list\n",
        "my_list = [1, 2, 3, 100, 4, 99, 23]\n",
        "\n",
        "print('before clearing: ', my_list)\n",
        "print('length of my_list: ', len(my_list))\n",
        "my_list.clear()\n",
        "print('after clearing: ', my_list)\n",
        "print('length of my_list: ', len(my_list))"
      ],
      "metadata": {
        "id": "EtzP3vuKgt8T",
        "colab": {
          "base_uri": "https://localhost:8080/"
        },
        "outputId": "9b4242c4-c910-4ac0-96c4-5b3605a97ffc"
      },
      "execution_count": null,
      "outputs": [
        {
          "output_type": "stream",
          "name": "stdout",
          "text": [
            "before clearing:  [1, 2, 3, 100, 4, 99, 23]\n",
            "length of my_list:  7\n",
            "after clearing:  []\n",
            "length of my_list:  0\n"
          ]
        }
      ]
    },
    {
      "cell_type": "code",
      "source": [
        "#@title 20.Delete the entire list\n",
        "my_list = [1, 2, 3, 100, 4, 99, 23]\n",
        "print('before deleting: ', my_list)\n",
        "del my_list\n",
        "#print('after deleting: ', my_list)"
      ],
      "metadata": {
        "id": "Kio7904Bh1uk",
        "colab": {
          "base_uri": "https://localhost:8080/",
          "height": 217
        },
        "outputId": "752fb955-a6a7-41bd-d99b-175ad43027b5"
      },
      "execution_count": null,
      "outputs": [
        {
          "output_type": "stream",
          "name": "stdout",
          "text": [
            "before deleting:  [1, 2, 3, 100, 4, 99, 23]\n"
          ]
        },
        {
          "output_type": "error",
          "ename": "NameError",
          "evalue": "ignored",
          "traceback": [
            "\u001b[0;31m---------------------------------------------------------------------------\u001b[0m",
            "\u001b[0;31mNameError\u001b[0m                                 Traceback (most recent call last)",
            "\u001b[0;32m<ipython-input-43-de224ad537aa>\u001b[0m in \u001b[0;36m<module>\u001b[0;34m\u001b[0m\n\u001b[1;32m      3\u001b[0m \u001b[0mprint\u001b[0m\u001b[0;34m(\u001b[0m\u001b[0;34m'before deleting: '\u001b[0m\u001b[0;34m,\u001b[0m \u001b[0mmy_list\u001b[0m\u001b[0;34m)\u001b[0m\u001b[0;34m\u001b[0m\u001b[0;34m\u001b[0m\u001b[0m\n\u001b[1;32m      4\u001b[0m \u001b[0;32mdel\u001b[0m \u001b[0mmy_list\u001b[0m\u001b[0;34m\u001b[0m\u001b[0;34m\u001b[0m\u001b[0m\n\u001b[0;32m----> 5\u001b[0;31m \u001b[0mprint\u001b[0m\u001b[0;34m(\u001b[0m\u001b[0;34m'after deleting: '\u001b[0m\u001b[0;34m,\u001b[0m \u001b[0mmy_list\u001b[0m\u001b[0;34m)\u001b[0m\u001b[0;34m\u001b[0m\u001b[0;34m\u001b[0m\u001b[0m\n\u001b[0m",
            "\u001b[0;31mNameError\u001b[0m: name 'my_list' is not defined"
          ]
        }
      ]
    },
    {
      "cell_type": "code",
      "source": [
        "#@title 21.Cool Tip: Adding two lists using + sign\n",
        "my_list = [1, 2, 3]\n",
        "your_list = [4, 99, 23]\n",
        "\n",
        "our_list = my_list + your_list\n",
        "\n",
        "print('my_list: ', my_list)\n",
        "print('your_list: ', your_list)\n",
        "print('our_list: ', our_list)\n"
      ],
      "metadata": {
        "id": "maRm9420DM5i",
        "colab": {
          "base_uri": "https://localhost:8080/"
        },
        "outputId": "3705a9f8-4326-4781-c562-3c725a71fbbf"
      },
      "execution_count": null,
      "outputs": [
        {
          "output_type": "stream",
          "name": "stdout",
          "text": [
            "my_list:  [1, 2, 3]\n",
            "your_list:  [4, 99, 23]\n",
            "our_list:  [1, 2, 3, 4, 99, 23]\n"
          ]
        }
      ]
    },
    {
      "cell_type": "code",
      "source": [
        "#@title 22.Cool Tip: List Replication using * sign\n",
        "import random\n",
        "\n",
        "gym_days = [0] * 365\n",
        "print(len(gym_days), gym_days)\n",
        "\n",
        "for i in range(365):\n",
        "  x = random.random()\n",
        "  if (x > 0.5):\n",
        "    gym_days[i] = 1\n",
        "\n",
        "print('# after traversing the list and randomizing some values')\n",
        "print(len(gym_days), gym_days)\n",
        "\n",
        "# number of days you went to gym in a given year\n",
        "count_of_ones = gym_days.count(1)\n",
        "print('Number of gym days: ', count_of_ones)\n",
        "\n",
        "\n",
        "\n"
      ],
      "metadata": {
        "id": "ojuZNp1bD0Gq"
      },
      "execution_count": null,
      "outputs": []
    },
    {
      "cell_type": "code",
      "source": [
        "#@title 23.Cool Tip: You can multiply/repeat a list\n",
        "my_list = [1, 2, 3]\n",
        "new_list = my_list * 5\n",
        "\n",
        "print(\"my_list \" , my_list)\n",
        "print(\"my_list * 5\" , new_list)\n",
        "\n",
        "print([False] * 100)"
      ],
      "metadata": {
        "id": "0d-_hZhZEWwT"
      },
      "execution_count": null,
      "outputs": []
    },
    {
      "cell_type": "code",
      "source": [
        "#@title 24.Cool Tip: Converting a range to a list\n",
        "x = range(25, 1001, 25)\n",
        "print(type(x), '-->', x)\n",
        "\n",
        "for i in x:\n",
        "  print(i)\n",
        "\n",
        "# list_x = list(x)\n",
        "# print(type(list_x), '-->', list_x)\n"
      ],
      "metadata": {
        "id": "Ac3PW0wMEktA"
      },
      "execution_count": null,
      "outputs": []
    },
    {
      "cell_type": "markdown",
      "source": [
        "#List Traversals (for loop on lists)"
      ],
      "metadata": {
        "id": "c7dH_LNJCLhB"
      }
    },
    {
      "cell_type": "code",
      "source": [
        "#@title 1.Revisiting the range function\n",
        "# range(stop)  # 0 to till stop (stop is not included)\n",
        "# range(start, stop)\n",
        "# range(start, stop, step)\n",
        "\n",
        "print('# range(stop)  # 0 to till stop (stop is not included)')\n",
        "for x in range(10):\n",
        "    print(x, end = ' ')\n",
        "\n",
        "\n",
        "print('print from 10 20')\n",
        "for x in range(10, 21):\n",
        "    print(x, end = ' ')\n",
        "\n",
        "\n",
        "print('all even numbers from 1 to 100')\n",
        "for x in range(2, 101, 2):\n",
        "    print(x, end = ' ')"
      ],
      "metadata": {
        "id": "EmeSorcakWSh"
      },
      "execution_count": null,
      "outputs": []
    },
    {
      "cell_type": "code",
      "source": [
        "my_list = [3, 4, 9, 23]\n",
        "\n",
        "# method 1: YOu care about only values\n",
        "print('we care about only values')\n",
        "for item in my_list:\n",
        "  print(item, end=' ')\n",
        "\n",
        "# method 2: You can about the index\n",
        "print('we care about indexes as well')\n",
        "count = len(my_list)\n",
        "for i in range(count):\n",
        "  current_value = my_list[i]\n",
        "  print(\"index: \", i, \"value: \", current_value)\n",
        "\n",
        "# method 3\n",
        "print('we care about both indexes and values at the same time')\n",
        "for index, value in enumerate(my_list):\n",
        "   print(\"index: \", index, \"value: \", value)\n",
        "\n"
      ],
      "metadata": {
        "colab": {
          "base_uri": "https://localhost:8080/"
        },
        "id": "wLbMdLKpjPW7",
        "outputId": "5173a554-e829-4dd1-b2a0-36bdc3d03abf"
      },
      "execution_count": null,
      "outputs": [
        {
          "output_type": "stream",
          "name": "stdout",
          "text": [
            "we care about only values\n",
            "3 4 9 23 we care about indexes as well\n",
            "index:  0 value:  3\n",
            "index:  1 value:  4\n",
            "index:  2 value:  9\n",
            "index:  3 value:  23\n",
            "we care about both indexes and values at the same time\n",
            "index:  0 value:  3\n",
            "index:  1 value:  4\n",
            "index:  2 value:  9\n",
            "index:  3 value:  23\n"
          ]
        }
      ]
    },
    {
      "cell_type": "code",
      "source": [
        "#@title 2.Looping through the list (just for READING) (Get the VALUES)\n",
        "\n",
        "# print every element in the list on a separate line\n",
        "my_list = [3, 4, 2, 2, 4]\n",
        "\n",
        "for elem in my_list:\n",
        "  print(elem)\n",
        "\n",
        "# find sum using the loop\n",
        "my_list = [3, 4, 2, 2, 4]\n",
        "\n",
        "total = 0\n",
        "for x in my_list:\n",
        "  total = total + x\n",
        "print(\"total of the list: \", total)\n",
        "\n",
        "# find the sum using the built-in function\n",
        "total = sum(my_list)\n",
        "print(\"total of the list: \", total)\n"
      ],
      "metadata": {
        "id": "F6P3NNhFU0j8",
        "colab": {
          "base_uri": "https://localhost:8080/"
        },
        "outputId": "89141397-e6a5-4b1e-8a7f-5c655b6d8c3c"
      },
      "execution_count": null,
      "outputs": [
        {
          "output_type": "stream",
          "name": "stdout",
          "text": [
            "3\n",
            "4\n",
            "2\n",
            "2\n",
            "4\n",
            "total of the list:  15\n",
            "total of the list:  15\n"
          ]
        }
      ]
    },
    {
      "cell_type": "code",
      "source": [
        "#@title 3.Looping through the list (for UPDATING) (Get the INDEX)\n",
        "\n",
        "# Update every element of the list by adding number 10 to it\n",
        "\n",
        "my_list = [5,6,3,4]\n",
        "print(my_list)\n",
        "\n",
        "length = len(my_list)\n",
        "\n",
        "for index in range(length):\n",
        "  current_element = my_list[index]\n",
        "  # print(current_element)\n",
        "  my_list[index] = current_element + 10\n",
        "\n",
        "print(my_list)\n"
      ],
      "metadata": {
        "id": "QFJmGzYOU0nG",
        "colab": {
          "base_uri": "https://localhost:8080/"
        },
        "outputId": "c23142f4-777c-4bdc-f130-cb0f042d6ce2"
      },
      "execution_count": null,
      "outputs": [
        {
          "output_type": "stream",
          "name": "stdout",
          "text": [
            "[5, 6, 3, 4]\n",
            "[15, 16, 13, 14]\n"
          ]
        }
      ]
    },
    {
      "cell_type": "code",
      "source": [
        "#@title 4.Looping through the list through ENUMERATION (Get both index and value)\n",
        "\n",
        "my_list = [5,6,3,4]\n",
        "print(my_list)\n",
        "\n",
        "for index, value in enumerate(my_list):\n",
        "  print(index, \"-->\", value)\n"
      ],
      "metadata": {
        "id": "YhQNv6OblhKx",
        "colab": {
          "base_uri": "https://localhost:8080/"
        },
        "outputId": "1be16b99-27b6-4805-b2d7-b324b86d52b0"
      },
      "execution_count": null,
      "outputs": [
        {
          "output_type": "stream",
          "name": "stdout",
          "text": [
            "[5, 6, 3, 4]\n",
            "0 --> 5\n",
            "1 --> 6\n",
            "2 --> 3\n",
            "3 --> 4\n"
          ]
        }
      ]
    },
    {
      "cell_type": "code",
      "source": [
        "#@title 5.List Traversal: Summary (elem, index, enumerate)\n",
        "nums = [10, 90, 4, 4, 56]\n",
        "\n",
        "print(\"print only the values\")\n",
        "for elem in nums:\n",
        "    print(elem)\n",
        "\n",
        "print(\"\\nprint only even numbers\")\n",
        "for elem in nums:\n",
        "    if elem % 2 == 0:\n",
        "        print(elem)\n",
        "\n",
        "print(\"\\nprint only even indexes\")\n",
        "for index in range(len(nums)):\n",
        "    if index %2 == 0:\n",
        "        print(index)\n",
        "\n",
        "print(\"\\n\\nprint the index ===> number  (brute force)\")\n",
        "for index in range(len(nums)):\n",
        "    elem = nums[index]\n",
        "    print(index, elem, sep='=====>')\n",
        "    #print(index, '======>', elem)\n",
        "\n",
        "\n",
        "print(\"\\n\\nprint the index ===> number  (enumerate)\")\n",
        "for index, elem in enumerate(nums):\n",
        "    print(index, elem, sep='=====>')\n",
        "\n",
        "\n"
      ],
      "metadata": {
        "id": "QnPGp4MGScaN"
      },
      "execution_count": null,
      "outputs": []
    },
    {
      "cell_type": "markdown",
      "source": [
        "#Common Operations on Lists: Brute-Force (Looping)"
      ],
      "metadata": {
        "id": "yZ1HUkc_EJZq"
      }
    },
    {
      "cell_type": "code",
      "source": [
        "#@title 1.Common Operations: Find the length of the list (Brute-force approach)\n",
        "# Find the number of elements in the list\n",
        "my_list = [4,3,2]\n",
        "my_list.append(10)\n",
        "my_list.remove(4)\n",
        "\n",
        "counter = 0\n",
        "for elem in my_list:\n",
        "  counter = counter + 1\n",
        "\n",
        "print(\"length of the list: \", counter)\n"
      ],
      "metadata": {
        "id": "_OiuJHIeU0p6",
        "colab": {
          "base_uri": "https://localhost:8080/"
        },
        "outputId": "59ab3e8b-1763-4587-a7a2-498fb1913fad"
      },
      "execution_count": null,
      "outputs": [
        {
          "output_type": "stream",
          "name": "stdout",
          "text": [
            "length of the list:  12\n"
          ]
        }
      ]
    },
    {
      "cell_type": "code",
      "source": [
        "#@title 2.Common Operations: Find the maximum in the list (Through looping)\n",
        "my_list = [4,13,2, 4,3,2, 4,23,2, 4,3,2]\n",
        "my_list.append(10)\n",
        "my_list.remove(4)\n",
        "\n",
        "max = my_list[0]\n",
        "for elem in my_list:\n",
        "  if (elem > max):\n",
        "    max = elem\n",
        "\n",
        "print(\"max of the list: \", max)\n"
      ],
      "metadata": {
        "id": "IhGhO_XxU0tB",
        "colab": {
          "base_uri": "https://localhost:8080/"
        },
        "outputId": "105a955a-f546-4a70-faca-4d346c2de074"
      },
      "execution_count": null,
      "outputs": [
        {
          "output_type": "stream",
          "name": "stdout",
          "text": [
            "max of the list:  23\n"
          ]
        }
      ]
    },
    {
      "cell_type": "code",
      "source": [
        "#@title 3.Common Operations: Find the minimum in the list (Through looping)\n",
        "my_list = [4,13,2, -4,3,2, 4,23,2, 4,3,2]\n",
        "my_list.append(10)\n",
        "my_list.remove(4)\n",
        "\n",
        "min = my_list[0]\n",
        "for elem in my_list:\n",
        "  if (elem < min):\n",
        "    min = elem\n",
        "\n",
        "print(\"min of the list: \", min)"
      ],
      "metadata": {
        "id": "D4vmqhUHYaVC",
        "colab": {
          "base_uri": "https://localhost:8080/"
        },
        "outputId": "cd7d2d5c-c57c-4899-e9f3-65810c00ed7b"
      },
      "execution_count": null,
      "outputs": [
        {
          "output_type": "stream",
          "name": "stdout",
          "text": [
            "min of the list:  -4\n"
          ]
        }
      ]
    },
    {
      "cell_type": "code",
      "source": [
        "#@title 4.Common Operations: Find the sum of elements in the list (Through looping)\n",
        "my_list = [4, 3, 2, 4, 3, 2, 4,3,2, 4,3,2]\n",
        "my_list.append(10)\n",
        "my_list.remove(4)\n",
        "\n",
        "\n",
        "# traversal = iteration = visiting (action)\n",
        "# list = sequence = 'iterable'\n",
        "sum = 0\n",
        "for x in my_list:\n",
        "  sum = sum + x\n",
        "\n",
        "print(\"sum of the list: \", sum)\n"
      ],
      "metadata": {
        "id": "ULNy2XkGYd5g",
        "colab": {
          "base_uri": "https://localhost:8080/"
        },
        "outputId": "5b4a79e3-c6e0-4bf9-9a0c-7ee659084c48"
      },
      "execution_count": null,
      "outputs": [
        {
          "output_type": "stream",
          "name": "stdout",
          "text": [
            "sum of the list:  42\n"
          ]
        }
      ]
    },
    {
      "cell_type": "code",
      "source": [
        "#@title 5.Common Operations: Find the average of the list (Through looping)\n",
        "my_list = [4, 3, 2, 4, 3, 2, 4,3,2, 4,3,2]\n",
        "my_list.append(10)\n",
        "my_list.remove(4)\n",
        "\n",
        "\n",
        "# traversal = iteration = visiting (action)\n",
        "# list = sequence = 'iterable'\n",
        "sum = 0\n",
        "count = 0\n",
        "for x in my_list:\n",
        "  sum = sum + x\n",
        "  count = count + 1\n",
        "\n",
        "print(\"sum of the list: \", sum)\n",
        "print(\"Number of elements in the list: \", count)\n",
        "print(\"Average of the list: \", sum/count)"
      ],
      "metadata": {
        "colab": {
          "base_uri": "https://localhost:8080/"
        },
        "id": "WHpmWcCJFQ9V",
        "outputId": "8e936222-afe7-428b-9cab-0349c082fc77"
      },
      "execution_count": null,
      "outputs": [
        {
          "output_type": "stream",
          "name": "stdout",
          "text": [
            "sum of the list:  42\n",
            "Number of elements in the list:  12\n",
            "Average of the list:  3.5\n"
          ]
        }
      ]
    },
    {
      "cell_type": "code",
      "source": [
        "#@title 6.1.Common Operations: Does this list contain any duplicate?\n",
        "\n",
        "# Traverse the list. Find the count of each element. The moment count is > 1, we know that the list has duplicates\n",
        "my_list = [1,2,3,6,7,8, 1, 77,88, 3, 99]\n",
        "\n",
        "duplicate_list = False\n",
        "for elem in my_list:\n",
        "  elem_count = my_list.count(elem)\n",
        "  if elem_count > 1:\n",
        "    duplicate_list = True\n",
        "    break\n",
        "\n",
        "\n",
        "print('Does the list contain duplicates?: ', duplicate_list)\n"
      ],
      "metadata": {
        "id": "53bJJtg5F3W7"
      },
      "execution_count": null,
      "outputs": []
    },
    {
      "cell_type": "code",
      "source": [
        "#@title 6.2.Common Operations: Does this list contain any duplicate?\n",
        "\n",
        "'''\n",
        "THis method returns True if the input_list contains any duplicates\n",
        "Otherwise, it returns False\n",
        "'''\n",
        "\n",
        "def containsDuplicates(input_list):\n",
        "  tracker = False\n",
        "  for x in input_list:\n",
        "    if input_list.count(x) > 1:\n",
        "      tracker = True\n",
        "      break\n",
        "\n",
        "  return tracker\n",
        "\n",
        "# testing\n",
        "my_list_1 = [1,2,3]\n",
        "x = containsDuplicates(my_list_1)\n",
        "print(x)\n",
        "\n",
        "my_list = [1, 2, 3, 2]\n",
        "x = containsDuplicates(my_list)\n",
        "print(x)"
      ],
      "metadata": {
        "colab": {
          "base_uri": "https://localhost:8080/"
        },
        "id": "ZzbX1wtPmqdo",
        "outputId": "85bd5bb6-0487-48f2-abcc-7e32ddffdc35"
      },
      "execution_count": null,
      "outputs": [
        {
          "output_type": "stream",
          "name": "stdout",
          "text": [
            "False\n",
            "True\n"
          ]
        }
      ]
    },
    {
      "cell_type": "code",
      "source": [
        "#@title 7.Common Operations: Multiply / Divide / Do something to every element in the list\n",
        "# List Comprehension\n",
        "# map\n",
        "# Parking Lot"
      ],
      "metadata": {
        "id": "b5jqHPT4GHBK"
      },
      "execution_count": null,
      "outputs": []
    },
    {
      "cell_type": "markdown",
      "source": [
        "#Common Operations: Using Built-in Functions (Right approach)"
      ],
      "metadata": {
        "id": "8CBHsIoaGR1T"
      }
    },
    {
      "cell_type": "code",
      "source": [
        "#@title 1.Common Operations: Find the length (Using Built-in Function)\n",
        "my_list = [4,3,2, 4,3,2, 4,3,2, 4,3,2]\n",
        "my_list.append(10)\n",
        "my_list.remove(4)\n",
        "\n",
        "print(\"length of the list: \", len(my_list))"
      ],
      "metadata": {
        "id": "ubwosLZvYiPv",
        "colab": {
          "base_uri": "https://localhost:8080/"
        },
        "outputId": "c631a4ea-aca2-4187-928e-69e05f8caa7c"
      },
      "execution_count": null,
      "outputs": [
        {
          "output_type": "stream",
          "name": "stdout",
          "text": [
            "length of the list:  12\n"
          ]
        }
      ]
    },
    {
      "cell_type": "code",
      "source": [
        "#@title 2.Common Operations: Find the maximum in the list (Using Built-in Function)\n",
        "my_list = [4,3,2, 4,13,2, 4,3,2, 4,3,2]\n",
        "my_list.append(10)\n",
        "my_list.remove(4)\n",
        "\n",
        "print(\"length of the list: \", max(my_list))"
      ],
      "metadata": {
        "id": "bsYWoh8viya7",
        "colab": {
          "base_uri": "https://localhost:8080/"
        },
        "outputId": "8fafc9a6-93b0-45a5-8307-5761332fb07b"
      },
      "execution_count": null,
      "outputs": [
        {
          "output_type": "stream",
          "name": "stdout",
          "text": [
            "length of the list:  13\n"
          ]
        }
      ]
    },
    {
      "cell_type": "code",
      "source": [
        "#@title 3.Common Operations: Find the minimum in the list (Using Built-in Function)\n",
        "my_list = [4,-3,2, 4,13,2, 4,3,2, 0,3,2]\n",
        "my_list.append(10)\n",
        "my_list.remove(4)\n",
        "\n",
        "print(\"length of the list: \", min(my_list))"
      ],
      "metadata": {
        "id": "_dXOQIhsi88b",
        "colab": {
          "base_uri": "https://localhost:8080/"
        },
        "outputId": "0469c2d1-cf15-4a8f-8a48-db7a1374856f"
      },
      "execution_count": null,
      "outputs": [
        {
          "output_type": "stream",
          "name": "stdout",
          "text": [
            "length of the list:  -3\n"
          ]
        }
      ]
    },
    {
      "cell_type": "code",
      "source": [
        "#@title 4.Common Operations: Find the sum of elements in the list (Using Built-in Function)\n",
        "my_list = [4,3,2, 4,13,2, 4,3,2, 0,3,2]\n",
        "my_list.append(10)\n",
        "my_list.remove(4)\n",
        "\n",
        "print(\"length of the list: \", sum(my_list))"
      ],
      "metadata": {
        "id": "EDcj1HkdjIXD",
        "colab": {
          "base_uri": "https://localhost:8080/"
        },
        "outputId": "0a4f9154-5de6-4704-8b2e-770ea3cec6c7"
      },
      "execution_count": null,
      "outputs": [
        {
          "output_type": "stream",
          "name": "stdout",
          "text": [
            "length of the list:  48\n"
          ]
        }
      ]
    },
    {
      "cell_type": "code",
      "source": [
        "#@title 5.Common Operations: Find the average of elements in the list (Using Built-in Function)\n",
        "my_list = [4,3,2, 4,13,2, 4,3,2, 0,3,2]\n",
        "my_list.append(10)\n",
        "my_list.remove(4)\n",
        "\n",
        "average = sum(my_list) / len(my_list)\n",
        "print(\"length of the list: \", average)"
      ],
      "metadata": {
        "id": "rQwWmGsnjMG0",
        "colab": {
          "base_uri": "https://localhost:8080/"
        },
        "outputId": "ae7538b9-b35c-4755-e70d-c23f34f10c4e"
      },
      "execution_count": null,
      "outputs": [
        {
          "output_type": "stream",
          "name": "stdout",
          "text": [
            "length of the list:  4.0\n"
          ]
        }
      ]
    },
    {
      "cell_type": "code",
      "source": [],
      "metadata": {
        "id": "YuaeC0FVjU81",
        "colab": {
          "base_uri": "https://localhost:8080/"
        },
        "outputId": "c955ecf6-3853-4945-d466-b1d5a0d9d47f"
      },
      "execution_count": null,
      "outputs": [
        {
          "output_type": "stream",
          "name": "stdout",
          "text": [
            "Does the list contain duplicates?:  True\n"
          ]
        }
      ]
    },
    {
      "cell_type": "markdown",
      "source": [
        "#List: Shallow copy vs Deep copy"
      ],
      "metadata": {
        "id": "KugEDVMPE_7h"
      }
    },
    {
      "cell_type": "code",
      "source": [
        "#@title 28.Copy a list (Caution: Don't reassign)\n",
        "# Option 1: Two explicit lists\n",
        "# list_A = [1,2,3]\n",
        "# list_B = [1,2,3]\n",
        "# list_B.append(4)\n",
        "\n",
        "# Option 2: Copy the list_A to create list_B\n",
        "# list_A = [1,2,3]\n",
        "# list_B = list_A.copy()\n",
        "# list_B.append(5)\n",
        "\n",
        "# Option 3: Let us do reassignment as we did for the integers\n",
        "list_A = [1, 2, 3]\n",
        "list_B = list_A.copy()\n",
        "\n",
        "list_A1 = [1, 2, 3]\n",
        "list_B1 = list_A1\n",
        "\n",
        "print('list A1 before appending: ', list_A1)\n",
        "print('list B1 before appending: ', list_B1)\n",
        "list_B1.append(5)\n",
        "print('list A1 after appending through B1: ', list_A1)\n",
        "print('list B1 after appending: ', list_B1)\n",
        "\n",
        "# Some background: analogy with simple integers\n",
        "#Option 1: for integers\n",
        "# x = 10\n",
        "# y = 10\n",
        "# y = 25\n",
        "\n",
        "#Option 2: for integers\n",
        "# x = 13\n",
        "# y = x\n",
        "# y = 25"
      ],
      "metadata": {
        "id": "5z4vNf-_FEjb"
      },
      "execution_count": null,
      "outputs": []
    },
    {
      "cell_type": "code",
      "source": [],
      "metadata": {
        "id": "6ENoMN_Pjr1t"
      },
      "execution_count": null,
      "outputs": []
    },
    {
      "cell_type": "markdown",
      "source": [
        "# Map, Filter Reduce"
      ],
      "metadata": {
        "id": "K7VuLiu5EBNZ"
      }
    },
    {
      "cell_type": "code",
      "source": [
        "#@title Map, Filter, Reduce: Examples\n",
        "\n",
        "names = ['abe', 'barb', 'christina', 'david', 'ethan']\n",
        "\n",
        "# Example of mapping\n",
        "names_len = []\n",
        "for elem in names:\n",
        "  names_len.append(len(elem))\n",
        "print(names_len)\n",
        "\n",
        "# Anothe rexample of mapping\n",
        "name_upper = []\n",
        "for elem in names:\n",
        "  name_upper.append(elem.upper())\n",
        "print(name_upper)\n",
        "\n",
        "\n",
        "# Example of Reduce\n",
        "# How many items are there in the list?\n",
        "# What is the longest name?\n",
        "longest_name = ''\n",
        "for elem in names:\n",
        "  if len(elem) > len(longest_name):\n",
        "    longest_name = elem\n",
        "\n",
        "# REDUCE a list to a single value\n",
        "# finding the max\n",
        "# finding the min\n",
        "# finding the length\n",
        "# finding the sum\n",
        "# finding the average\n",
        "\n",
        "my_list = [3, 4, 5, 6, 89]\n",
        "\n",
        "x = sum(my_list)\n",
        "print(x)\n",
        "\n",
        "avg = sum(my_list) / len(my_list)\n",
        "\n",
        "\n",
        "\n",
        "# Example of Filter\n",
        "# Drop all the names if the length < 5\n",
        "filtered_names = [ ]\n",
        "for elem in names:\n",
        "  if len(elem) < 5:\n",
        "    continue\n",
        "  filtered_names.append(elem)\n",
        "\n",
        "\n",
        "# Print all the values\n",
        "print('Original List: ', names)\n",
        "print('Map:  List: ', names_len)\n",
        "print('Filter: List: ', filtered_names)\n",
        "print('Reduce: Longest Name: ', longest_name)\n"
      ],
      "metadata": {
        "colab": {
          "base_uri": "https://localhost:8080/"
        },
        "id": "vuv3J3rI2jdW",
        "outputId": "054bab70-df27-4728-a0c3-4155b485ad4f"
      },
      "execution_count": null,
      "outputs": [
        {
          "output_type": "stream",
          "name": "stdout",
          "text": [
            "[4, 5, 6, 9, 99]\n"
          ]
        }
      ]
    },
    {
      "cell_type": "code",
      "source": [],
      "metadata": {
        "colab": {
          "base_uri": "https://localhost:8080/"
        },
        "id": "rz4IMb1m80vE",
        "outputId": "e50352e2-50f9-4950-8a43-24c6fa3866f9"
      },
      "execution_count": null,
      "outputs": [
        {
          "output_type": "stream",
          "name": "stdout",
          "text": [
            "365 [0, 0, 0, 0, 0, 0, 0, 0, 0, 0, 0, 0, 0, 0, 0, 0, 0, 0, 0, 0, 0, 0, 0, 0, 0, 0, 0, 0, 0, 0, 0, 0, 0, 0, 0, 0, 0, 0, 0, 0, 0, 0, 0, 0, 0, 0, 0, 0, 0, 0, 0, 0, 0, 0, 0, 0, 0, 0, 0, 0, 0, 0, 0, 0, 0, 0, 0, 0, 0, 0, 0, 0, 0, 0, 0, 0, 0, 0, 0, 0, 0, 0, 0, 0, 0, 0, 0, 0, 0, 0, 0, 0, 0, 0, 0, 0, 0, 0, 0, 0, 0, 0, 0, 0, 0, 0, 0, 0, 0, 0, 0, 0, 0, 0, 0, 0, 0, 0, 0, 0, 0, 0, 0, 0, 0, 0, 0, 0, 0, 0, 0, 0, 0, 0, 0, 0, 0, 0, 0, 0, 0, 0, 0, 0, 0, 0, 0, 0, 0, 0, 0, 0, 0, 0, 0, 0, 0, 0, 0, 0, 0, 0, 0, 0, 0, 0, 0, 0, 0, 0, 0, 0, 0, 0, 0, 0, 0, 0, 0, 0, 0, 0, 0, 0, 0, 0, 0, 0, 0, 0, 0, 0, 0, 0, 0, 0, 0, 0, 0, 0, 0, 0, 0, 0, 0, 0, 0, 0, 0, 0, 0, 0, 0, 0, 0, 0, 0, 0, 0, 0, 0, 0, 0, 0, 0, 0, 0, 0, 0, 0, 0, 0, 0, 0, 0, 0, 0, 0, 0, 0, 0, 0, 0, 0, 0, 0, 0, 0, 0, 0, 0, 0, 0, 0, 0, 0, 0, 0, 0, 0, 0, 0, 0, 0, 0, 0, 0, 0, 0, 0, 0, 0, 0, 0, 0, 0, 0, 0, 0, 0, 0, 0, 0, 0, 0, 0, 0, 0, 0, 0, 0, 0, 0, 0, 0, 0, 0, 0, 0, 0, 0, 0, 0, 0, 0, 0, 0, 0, 0, 0, 0, 0, 0, 0, 0, 0, 0, 0, 0, 0, 0, 0, 0, 0, 0, 0, 0, 0, 0, 0, 0, 0, 0, 0, 0, 0, 0, 0, 0, 0, 0, 0, 0, 0, 0, 0, 0, 0, 0, 0, 0, 0, 0, 0, 0, 0, 0, 0, 0, 0, 0, 0, 0, 0, 0]\n",
            "# after traversing the list and randomizing some values\n",
            "365 [1, 0, 0, 1, 0, 1, 1, 0, 0, 0, 0, 0, 0, 1, 0, 1, 0, 1, 1, 0, 0, 1, 0, 1, 0, 0, 1, 0, 1, 0, 0, 1, 0, 1, 0, 0, 1, 0, 0, 0, 1, 0, 0, 0, 1, 0, 0, 1, 0, 1, 1, 1, 1, 1, 1, 1, 0, 1, 1, 1, 1, 0, 1, 0, 0, 1, 1, 0, 0, 1, 0, 1, 0, 0, 1, 1, 1, 0, 0, 0, 0, 1, 0, 1, 0, 0, 1, 0, 0, 1, 1, 0, 1, 1, 1, 0, 1, 0, 1, 1, 1, 1, 1, 1, 1, 1, 1, 0, 1, 0, 0, 1, 0, 1, 0, 0, 1, 0, 1, 0, 0, 1, 0, 0, 1, 1, 0, 0, 0, 0, 1, 1, 0, 0, 0, 0, 0, 0, 1, 0, 0, 0, 1, 1, 0, 0, 0, 1, 0, 0, 1, 1, 1, 1, 0, 1, 0, 0, 1, 0, 0, 0, 1, 0, 0, 0, 0, 0, 0, 0, 0, 0, 1, 0, 1, 0, 1, 0, 0, 1, 0, 0, 1, 0, 1, 0, 0, 0, 0, 0, 0, 0, 1, 1, 1, 1, 1, 1, 0, 0, 1, 1, 0, 0, 1, 1, 1, 0, 1, 1, 1, 1, 0, 0, 1, 1, 1, 1, 0, 1, 1, 1, 0, 0, 1, 1, 1, 0, 0, 1, 1, 0, 0, 0, 1, 1, 0, 0, 0, 0, 1, 1, 1, 1, 0, 0, 1, 0, 0, 1, 0, 1, 1, 0, 1, 0, 1, 1, 0, 1, 0, 1, 0, 1, 0, 1, 0, 1, 0, 0, 0, 0, 1, 1, 1, 0, 0, 0, 0, 0, 0, 1, 0, 0, 0, 0, 0, 0, 0, 1, 1, 0, 1, 1, 0, 0, 0, 1, 1, 0, 1, 1, 0, 0, 0, 1, 1, 0, 0, 1, 0, 1, 1, 0, 0, 1, 1, 0, 0, 0, 1, 0, 1, 1, 1, 0, 1, 0, 1, 1, 0, 0, 0, 1, 1, 1, 1, 1, 0, 1, 1, 1, 0, 1, 0, 1, 1, 0, 0, 1, 0, 0, 0, 1, 0, 1, 0, 0, 0, 1, 1, 0, 1, 0, 0]\n",
            "Number of gym days:  170\n",
            "[None, None, None, None, None, None, None, None, None, None, None, None, None, None, None, None, None, None, None, None, None, None, None, None, None, None, None, None, None, None, None, None, None, None, None, None, None, None, None, None, None, None, None, None, None, None, None, None, None, None, None, None, None, None, None, None, None, None, None, None, None, None, None, None, None, None, None, None, None, None, None, None, None, None, None, None, None, None, None, None, None, None, None, None, None, None, None, None, None, None, None, None, None, None, None, None, None, None, None, None, None, None, None, None, None, None, None, None, None, None, None, None, None, None, None, None, None, None, None, None, None, None, None, None, None, None, None, None, None, None, None, None, None, None, None, None, None, None, None, None, None, None, None, None, None, None, None, None, None, None, None, None, None, None, None, None, None, None, None, None, None, None, None, None, None, None, None, None, None, None, None, None, None, None, None, None, None, None, None, None, None, None, None, None, None, None, None, None, None, None, None, None, None, None, None, None, None, None, None, None, None, None, None, None, None, None, None, None, None, None, None, None, None, None, None, None, None, None, None, None, None, None, None, None, None, None, None, None, None, None, None, None, None, None, None, None, None, None, None, None, None, None, None, None, None, None, None, None, None, None, None, None, None, None, None, None, None, None, None, None, None, None, None, None, None, None, None, None, None, None, None, None, None, None, None, None, None, None, None, None, None, None, None, None, None, None, None, None, None, None, None, None, None, None, None, None, None, None, None, None]\n"
          ]
        }
      ]
    },
    {
      "cell_type": "markdown",
      "source": [
        "# Lists and Strings"
      ],
      "metadata": {
        "id": "4ZAabmegw9Uq"
      }
    },
    {
      "cell_type": "code",
      "source": [
        "#@title Strings are lists (subscript)\n",
        "\n",
        "str_1 = \"python\"\n",
        "list_1 = ['p', 'y', 't', 'h', 'o', 'n']\n",
        "\n",
        "print(str_1[0])\n",
        "print(list_1[3])\n",
        "\n",
        "\n",
        "name = 'PYTHON'\n",
        "# char_list = ['P', 'Y', 'T', 'H', 'O', 'N']\n",
        "\n",
        "# You can use subscript notation\n",
        "\n",
        "print(name)\n",
        "print(\"length of the string: \", len(name))\n",
        "print(\"minimum of the string: \", min(name))\n",
        "print(\"minimum of the string: \", max(name))\n",
        "\n",
        "for char in name:\n",
        "  print(char)\n"
      ],
      "metadata": {
        "colab": {
          "base_uri": "https://localhost:8080/"
        },
        "id": "b0561hOdw_e5",
        "outputId": "aace2622-bac3-4473-d94a-9ab7ece86779"
      },
      "execution_count": null,
      "outputs": [
        {
          "output_type": "stream",
          "name": "stdout",
          "text": [
            "PYTHON\n",
            "length of the string:  6\n",
            "minimum of the string:  H\n",
            "minimum of the string:  Y\n",
            "P\n",
            "Y\n",
            "T\n",
            "H\n",
            "O\n",
            "N\n"
          ]
        }
      ]
    },
    {
      "cell_type": "code",
      "source": [
        "#@title Strings and character index\n",
        "name = \"Python101\"  # ['P', 'y', 't', 'h', 'o', 'n', '1', '0', '1']\n",
        "x = name.index('y')\n",
        "y = name.index('1')\n",
        "print(x)\n",
        "print(y)"
      ],
      "metadata": {
        "colab": {
          "base_uri": "https://localhost:8080/"
        },
        "id": "qpaFeD-xyqMQ",
        "outputId": "7dc13446-5836-472e-f232-da068ede9281"
      },
      "execution_count": null,
      "outputs": [
        {
          "output_type": "stream",
          "name": "stdout",
          "text": [
            "1\n",
            "6\n"
          ]
        }
      ]
    },
    {
      "cell_type": "code",
      "source": [
        "#@title empty space is also a character\n",
        "str_1 = \"\"\n",
        "print(len(str_1))\n",
        "\n",
        "str_2 =\"  \"\n",
        "print(len(str_2))\n"
      ],
      "metadata": {
        "colab": {
          "base_uri": "https://localhost:8080/"
        },
        "id": "TuZVG1VrjHOO",
        "outputId": "6f2082c1-9708-46a0-9b95-89409b25cb05"
      },
      "execution_count": null,
      "outputs": [
        {
          "output_type": "stream",
          "name": "stdout",
          "text": [
            "0\n",
            "2\n"
          ]
        }
      ]
    },
    {
      "cell_type": "code",
      "source": [
        "#@title Strings are homogeneous; Lists can be heterogeneous\n",
        "name = \"programming\"\n",
        "list_1 = [3, 4.5, True, \"hello\", [5, 6], None]\n",
        "\n",
        "print(type(name[2]) )\n",
        "print(type(list_1[2]) )"
      ],
      "metadata": {
        "colab": {
          "base_uri": "https://localhost:8080/"
        },
        "id": "2ap4N6GMdxjU",
        "outputId": "8c7c667a-bce4-4aa6-a8a0-e6d63b51a1a3"
      },
      "execution_count": null,
      "outputs": [
        {
          "output_type": "stream",
          "name": "stdout",
          "text": [
            "<class 'str'>\n",
            "<class 'bool'>\n"
          ]
        }
      ]
    },
    {
      "cell_type": "code",
      "source": [
        "#@title Strings are lists (with the index)\n",
        "\n",
        "name = 'Python'\n",
        "\n",
        "for char in name:\n",
        "  index_of_char = name.index(char)\n",
        "  print(index_of_char + 1, '-->', char)"
      ],
      "metadata": {
        "colab": {
          "base_uri": "https://localhost:8080/"
        },
        "id": "-_nkx26A-rtY",
        "outputId": "6f05c37b-3032-4711-8284-f47185608c7d"
      },
      "execution_count": null,
      "outputs": [
        {
          "output_type": "stream",
          "name": "stdout",
          "text": [
            "1 --> P\n",
            "2 --> y\n",
            "3 --> t\n",
            "4 --> h\n",
            "5 --> o\n",
            "6 --> n\n"
          ]
        }
      ]
    },
    {
      "cell_type": "code",
      "source": [
        "#@title Using the built-in functions on the lists (example 1)\n",
        "course = \"python\"\n",
        "# Imagine this as a list\n",
        "# ['p', 'y', 't', 'h', 'o', 'n']\n",
        "for elem in course:\n",
        "    print(elem)\n",
        "\n",
        "\n",
        "print(\"word length:\", len(course))\n",
        "print(\"min of word:\", min(course))\n",
        "print(\"max of word:\", max(course))\n"
      ],
      "metadata": {
        "id": "azH_EGePebEj"
      },
      "execution_count": null,
      "outputs": []
    },
    {
      "cell_type": "code",
      "source": [
        "#@title Using the built-in functions on the lists (example 2)\n",
        "names = ['zack', 'peter', 'anna', 'bindu', 'christy', 'diana']\n",
        "print(\"list length:\", len(course))\n",
        "print(\"min of list:\", min(course))\n",
        "print(\"max of list:\", max(course))"
      ],
      "metadata": {
        "id": "r3umty7Le-eo"
      },
      "execution_count": null,
      "outputs": []
    },
    {
      "cell_type": "code",
      "source": [
        "#@title Membership Operator\n",
        "greeting = \"Hello! How are you?\"\n",
        "\n",
        "if \"Hello\" in greeting:\n",
        "  print(100)\n",
        "else:\n",
        "  print(200)\n",
        "\n",
        "if \"Hi\" in greeting:\n",
        "  print(99)\n",
        "else:\n",
        "  print(88)\n",
        "\n",
        "if \"How\" not in greeting:\n",
        "  print(77)\n",
        "else:\n",
        "  print(66)"
      ],
      "metadata": {
        "colab": {
          "base_uri": "https://localhost:8080/"
        },
        "id": "wPiFX9tryfBH",
        "outputId": "a7e41d42-47ea-4a92-b957-972fce807678"
      },
      "execution_count": null,
      "outputs": [
        {
          "output_type": "stream",
          "name": "stdout",
          "text": [
            "100\n",
            "88\n",
            "66\n"
          ]
        }
      ]
    },
    {
      "cell_type": "code",
      "source": [
        "#@title String Split\n",
        "marks_str = '10, 10, 8, 0, 8, 9, 7, 0, 8, 6'\n",
        "# How many assignments are there?\n",
        "# What is the maximum marks the student got?\n",
        "# what is the total marks?\n",
        "# What is the average?\n",
        "# How many times the student got the maximum marks?\n",
        "# How many times the student got the minimum marks?\n",
        "\n",
        "marks_list = marks_str.split(',')\n",
        "\n",
        "print(type(marks_str), marks_str)\n",
        "print(type(marks_list), marks_list)\n",
        "\n",
        "\n",
        "marks_list_ints = []\n",
        "for score in marks_list:\n",
        "  score_int = int(score)\n",
        "  marks_list_ints.append(score_int)\n",
        "\n",
        "print(type(marks_list_ints), marks_list_ints)\n",
        "\n",
        "\n",
        "# How many assignments are there?\n",
        "print(\"# How many assignments are there? \", len(marks_list_ints))\n",
        "\n",
        "# What is the maximum marks the student got?\n",
        "print(\"# What is the maximum marks the student got? \", max(marks_list_ints))\n",
        "\n",
        "# what is the total marks?\n",
        "print(\"# What is the total marks? \", sum(marks_list_ints))\n",
        "\n",
        "# What is the average?\n",
        "print(\"# What is the average? \", sum(marks_list_ints) / len(marks_list_ints))\n",
        "\n",
        "\n",
        "# How many times the student got the maximum marks?\n",
        "max_marks = max(marks_list_ints)\n",
        "count_of_max_marks = marks_list_ints.count(max_marks)\n",
        "print(\"# How many times the student got the maximum marks? \", count_of_max_marks)\n",
        "\n",
        "# How many times the student got the minimum marks?\n",
        "min_marks = min(marks_list_ints)\n",
        "count_of_min_marks = marks_list_ints.count(min_marks)\n",
        "\n",
        "print(\"# How many times the student got the minimum marks? \", count_of_min_marks)\n",
        "\n"
      ],
      "metadata": {
        "colab": {
          "base_uri": "https://localhost:8080/"
        },
        "id": "b6bSuNwgyiXC",
        "outputId": "e974ef70-669f-400c-862d-0e453a007839"
      },
      "execution_count": null,
      "outputs": [
        {
          "output_type": "stream",
          "name": "stdout",
          "text": [
            "<class 'str'> 10, 10, 8, 0, 8, 9, 7, 0, 8, 6\n",
            "<class 'list'> ['10', ' 10', ' 8', ' 0', ' 8', ' 9', ' 7', ' 0', ' 8', ' 6']\n",
            "<class 'list'> [10, 10, 8, 0, 8, 9, 7, 0, 8, 6]\n"
          ]
        }
      ]
    },
    {
      "cell_type": "code",
      "source": [
        "#@title String split: another example\n",
        "student_record = \"Dhruvan Talapaneni, dhruvan@yahoo.com, 10, 10, 10, 9, 10\"\n",
        "\n",
        "# What is the last name of the student?\n",
        "token_list = student_record.split()\n",
        "print(\"All tokens: \", token_list)\n",
        "last_name_with_comma = token_list[1]\n",
        "print(\"Last name with comma: \", token_list[1])\n",
        "\n",
        "new_token_list = last_name_with_comma.split(',')\n",
        "last_name = new_token_list[0]\n",
        "print(\"Last name without comma: \", last_name)\n",
        "\n",
        "\n",
        "# What is the email system Dhurvan is using?\n",
        "email_system = student_record.split('@')[1].split('.')[0]\n",
        "print(\"Email the student is using: \", email_system)\n"
      ],
      "metadata": {
        "colab": {
          "base_uri": "https://localhost:8080/"
        },
        "id": "0yWpJuKn3KVw",
        "outputId": "2fad2bf3-c111-466f-d89a-f1847ca33592"
      },
      "execution_count": null,
      "outputs": [
        {
          "output_type": "stream",
          "name": "stdout",
          "text": [
            "All tokens:  ['Dhruvan', 'Talapaneni,', 'dhruvan@yahoo.com,', '10,', '10,', '10,', '9,', '10']\n",
            "Last name with comma:  Talapaneni,\n",
            "Last name without comma:  Talapaneni\n"
          ]
        }
      ]
    },
    {
      "cell_type": "code",
      "source": [
        "#@title Strings and New Line Character\n",
        "greeting = \"Hello! How are you?\"\n",
        "print(greeting)\n",
        "\n",
        "greeting1 = \"Hello! \\n How are you?\"\n",
        "print(greeting1)\n",
        "\n",
        "state = \"MN\"\n",
        "print(len(state))\n",
        "\n",
        "state = \"TX\\n\"\n",
        "print(len(state))"
      ],
      "metadata": {
        "colab": {
          "base_uri": "https://localhost:8080/"
        },
        "id": "4rGpUtshykTn",
        "outputId": "cc507e5b-3568-4c60-8d76-f6a3b678cc00"
      },
      "execution_count": null,
      "outputs": [
        {
          "output_type": "stream",
          "name": "stdout",
          "text": [
            "Hello! How are you?\n",
            "Hello! \n",
            " How are you?\n",
            "2\n",
            "3\n"
          ]
        }
      ]
    },
    {
      "cell_type": "code",
      "source": [
        "#@title String slicing (TBD)\n",
        "# WWPD problems\n",
        "# What would Python Display\n",
        "str_1 = \"program\"\n",
        "\n",
        "# start:stop:step\n",
        "# 0:end:1 (defaults)\n",
        "# start from start; don't touch stop; Assume the defaults if those are missing\n",
        "\n",
        "# What are the values of these strings?\n",
        "str_2 = str_1[2:4]\n",
        "str_3 = str_1[2:6]\n",
        "str_4 = str_1[1:7]\n",
        "str_5 = str_1[:3]\n",
        "str_6 = str_1[4:]\n",
        "str_7 = str_1[0:6:2]\n",
        "str_8 = str_1[:7:3]\n",
        "str_9 = str_1[-1:-5:-1]\n",
        "str_10 = str_1[-1:-8:-2]\n",
        "str_11 = str_1[-3:-7:-1]\n",
        "str_12 = str_1[:]\n",
        "str_13 = str_1[::-1]\n",
        "str_14 = str_1[::2]\n",
        "str_15 = str_1[-4:-5:-1]\n",
        "str_15 = str_1[-4:-4]"
      ],
      "metadata": {
        "id": "GLwuqcIKbhil"
      },
      "execution_count": null,
      "outputs": []
    },
    {
      "cell_type": "code",
      "source": [
        "#@title Strings are immutable; Lists are mutable\n",
        "# change the list\n",
        "nums = [3, 5, 6, 2]\n",
        "print(\"original\", nums)\n",
        "nums[1] = 99\n",
        "print(\"updated\", nums)\n",
        "\n",
        "# changing the string\n",
        "name = \"java\"\n",
        "# name[0] = \"k\"\n",
        "# print(name)\n",
        "\n",
        "new_name = \"k\" + name[1:]\n",
        "print(new_name)"
      ],
      "metadata": {
        "colab": {
          "base_uri": "https://localhost:8080/"
        },
        "id": "w5NhgAcVdAjq",
        "outputId": "5d692173-b0d7-4e84-9b46-f7a053aed56b"
      },
      "execution_count": null,
      "outputs": [
        {
          "output_type": "stream",
          "name": "stdout",
          "text": [
            "original [3, 5, 6, 2]\n",
            "updated [3, 99, 6, 2]\n",
            "kava\n"
          ]
        }
      ]
    },
    {
      "cell_type": "code",
      "source": [],
      "metadata": {
        "id": "j15GnumThmSz"
      },
      "execution_count": null,
      "outputs": []
    },
    {
      "cell_type": "code",
      "source": [],
      "metadata": {
        "id": "GukRY0hfhaL-"
      },
      "execution_count": null,
      "outputs": []
    },
    {
      "cell_type": "code",
      "source": [
        "#@title Cool Tip: Adding two strings using + sign\n",
        "nums_1 = [3, 5, 6, 2]\n",
        "nums_2 = [15, 16, 22]\n",
        "print(nums_1 + nums_2)\n",
        "\n",
        "my_str = \"Hello!\"\n",
        "your_str = \"How are you?\"\n",
        "our_str = my_str + \" \" + your_str\n",
        "print(my_str)\n",
        "print(your_str)\n",
        "print(our_str)"
      ],
      "metadata": {
        "colab": {
          "base_uri": "https://localhost:8080/"
        },
        "id": "LSEUTkKncFtJ",
        "outputId": "46968f80-89eb-4790-b491-501d777f0b8e"
      },
      "execution_count": null,
      "outputs": [
        {
          "output_type": "stream",
          "name": "stdout",
          "text": [
            "[3, 5, 6, 2, 15, 16, 22]\n",
            "Hello!\n",
            "How are you?\n",
            "Hello! How are you?\n"
          ]
        }
      ]
    },
    {
      "cell_type": "markdown",
      "source": [
        "# List Unpacking"
      ],
      "metadata": {
        "id": "otsdPByT3vol"
      }
    },
    {
      "cell_type": "code",
      "source": [
        "#@title 41.List Unpacking (N to N mapping)\n",
        "\n",
        "# case 1\n",
        "my_list = [5, 6, 3, 9]\n",
        "print('original list: ', my_list)\n",
        "\n",
        "\n",
        "a, b, c, d = my_list\n",
        "print('unpacked items: ', a, b, c, d)\n",
        "\n",
        "\n",
        "# case 2 - Too many values to unpack\n",
        "# p, q = my_list\n",
        "# print(p,q)\n",
        "\n",
        "\n",
        "# case 3\n",
        "p, *q = my_list\n",
        "print(p, q)\n",
        "\n",
        "\n",
        "# case 4  - Not enough values to unpack\n",
        "#a, b, c, d, e = my_list\n",
        "\n",
        "\n",
        "# case 5\n",
        "my_list = [5, 6, 3, 9, 87, 56, 45, 34, 23]\n",
        "x, *y, z = my_list\n",
        "print(x, y, z)\n",
        "\n"
      ],
      "metadata": {
        "id": "4UgT1N2MkFY6",
        "colab": {
          "base_uri": "https://localhost:8080/",
          "height": 274
        },
        "outputId": "8a3394b7-f1a9-4fea-9a7a-1ba86e91435e"
      },
      "execution_count": null,
      "outputs": [
        {
          "output_type": "stream",
          "name": "stdout",
          "text": [
            "original list:  [5, 6, 3, 9]\n",
            "unpacked items:  5 6 3 9\n",
            "5 [6, 3, 9]\n"
          ]
        },
        {
          "output_type": "error",
          "ename": "ValueError",
          "evalue": "too many values to unpack (expected 3)",
          "traceback": [
            "\u001b[0;31m---------------------------------------------------------------------------\u001b[0m",
            "\u001b[0;31mValueError\u001b[0m                                Traceback (most recent call last)",
            "\u001b[0;32m<ipython-input-33-4695d857a66f>\u001b[0m in \u001b[0;36m<cell line: 28>\u001b[0;34m()\u001b[0m\n\u001b[1;32m     26\u001b[0m \u001b[0;31m# case 5\u001b[0m\u001b[0;34m\u001b[0m\u001b[0;34m\u001b[0m\u001b[0m\n\u001b[1;32m     27\u001b[0m \u001b[0mmy_list\u001b[0m \u001b[0;34m=\u001b[0m \u001b[0;34m[\u001b[0m\u001b[0;36m5\u001b[0m\u001b[0;34m,\u001b[0m \u001b[0;36m6\u001b[0m\u001b[0;34m,\u001b[0m \u001b[0;36m3\u001b[0m\u001b[0;34m,\u001b[0m \u001b[0;36m9\u001b[0m\u001b[0;34m,\u001b[0m \u001b[0;36m87\u001b[0m\u001b[0;34m,\u001b[0m \u001b[0;36m56\u001b[0m\u001b[0;34m,\u001b[0m \u001b[0;36m45\u001b[0m\u001b[0;34m,\u001b[0m \u001b[0;36m34\u001b[0m\u001b[0;34m,\u001b[0m \u001b[0;36m23\u001b[0m\u001b[0;34m]\u001b[0m\u001b[0;34m\u001b[0m\u001b[0;34m\u001b[0m\u001b[0m\n\u001b[0;32m---> 28\u001b[0;31m \u001b[0mx\u001b[0m\u001b[0;34m,\u001b[0m \u001b[0my\u001b[0m\u001b[0;34m,\u001b[0m \u001b[0mz\u001b[0m \u001b[0;34m=\u001b[0m \u001b[0mmy_list\u001b[0m\u001b[0;34m\u001b[0m\u001b[0;34m\u001b[0m\u001b[0m\n\u001b[0m\u001b[1;32m     29\u001b[0m \u001b[0mprint\u001b[0m\u001b[0;34m(\u001b[0m\u001b[0mx\u001b[0m\u001b[0;34m,\u001b[0m \u001b[0my\u001b[0m\u001b[0;34m,\u001b[0m \u001b[0mz\u001b[0m\u001b[0;34m)\u001b[0m\u001b[0;34m\u001b[0m\u001b[0;34m\u001b[0m\u001b[0m\n\u001b[1;32m     30\u001b[0m \u001b[0;34m\u001b[0m\u001b[0m\n",
            "\u001b[0;31mValueError\u001b[0m: too many values to unpack (expected 3)"
          ]
        }
      ]
    },
    {
      "cell_type": "code",
      "source": [
        "#@title 42.List Unpacking (N to <N mapping)\n",
        "my_list = [5, 3, 9, 89, 7, 5, 9, 34, 25, 10]\n",
        "x, y, *z = my_list\n",
        "print(x, y, z)\n",
        "\n",
        "\n",
        "my_list = [5, 3, 9, 89, 7, 5, 9, 34, 25, 10]\n",
        "x, *y, z = my_list\n",
        "print(x, y, z)\n",
        "print(x, *y, z)\n",
        "\n",
        "# print(y[0])\n",
        "# x,y,*z = my_list\n",
        "# print(y)\n",
        "# print(my_list[1])\n",
        "# print(my_list[-9])\n",
        "\n"
      ],
      "metadata": {
        "id": "oHnK7xtkkKoM",
        "colab": {
          "base_uri": "https://localhost:8080/"
        },
        "outputId": "c4fdb3b9-a502-4e53-d8cb-4d5243e565f7"
      },
      "execution_count": null,
      "outputs": [
        {
          "output_type": "stream",
          "name": "stdout",
          "text": [
            "5 3 [9, 89, 7, 5, 9, 34, 25, 10]\n",
            "5 [3, 9, 89, 7, 5, 9, 34, 25] 10\n",
            "5 3 9 89 7 5 9 34 25 10\n"
          ]
        }
      ]
    },
    {
      "cell_type": "code",
      "source": [
        "#@title 43. Five ways of printing a List (*)\n",
        "my_list = [5, 3, 9, 89, 7, 5, 9, 34, 25, 10]\n",
        "\n",
        "print(my_list)\n",
        "\n",
        "print(*my_list)\n",
        "\n",
        "for elem in my_list:\n",
        "  print(elem)\n",
        "\n",
        "\n",
        "for elem in my_list:\n",
        "  print(elem, end=' ')\n",
        "\n",
        "print()\n",
        "print(*my_list, sep = ', ')\n"
      ],
      "metadata": {
        "id": "5MXjd3xIkieL",
        "colab": {
          "base_uri": "https://localhost:8080/"
        },
        "outputId": "a9b4341e-d0b3-434d-a53f-6e1acae997bd"
      },
      "execution_count": null,
      "outputs": [
        {
          "output_type": "stream",
          "name": "stdout",
          "text": [
            "[5, 3, 9, 89, 7, 5, 9, 34, 25, 10]\n",
            "5 3 9 89 7 5 9 34 25 10\n",
            "5\n",
            "3\n",
            "9\n",
            "89\n",
            "7\n",
            "5\n",
            "9\n",
            "34\n",
            "25\n",
            "10\n",
            "5 3 9 89 7 5 9 34 25 10 \n",
            "5, 3, 9, 89, 7, 5, 9, 34, 25, 10\n"
          ]
        }
      ]
    },
    {
      "cell_type": "markdown",
      "source": [
        "# List Slicing"
      ],
      "metadata": {
        "id": "wvMDZinm3zAO"
      }
    },
    {
      "cell_type": "code",
      "source": [
        "#@title Lists: Slicing (Example Set 1)\n",
        "#    0  1  2   3  4  5  6\n",
        "x = [5, 3, 9, 89, 7, 5, 9]\n",
        "#   -7 -6 -5  -4  -3 -2 -1\n",
        "\n",
        "# syntax for slicing: start : stop : step\n",
        "# defaults are:          0 : last element : 1\n",
        "\n",
        "a = x[1:4]\n",
        "b = x[4:6]\n",
        "c = x[3:-2]\n",
        "d = x[-4:-1]\n",
        "\n",
        "e = x[0:7]\n",
        "f = x[0:7:1]\n",
        "g = x[0:7:2]\n",
        "h = x[1:6:2]\n",
        "i = x[0:7:3]\n",
        "\n",
        "j = x[-1: -4: -1]\n",
        "h = x[6::-1]\n",
        "\n",
        "k = x[:4]\n",
        "l = x[4:]\n",
        "m = x[:]\n",
        "n = x[::2]\n",
        "\n",
        "o = x[::-1]\n"
      ],
      "metadata": {
        "id": "05fSVpKRkoc8",
        "colab": {
          "base_uri": "https://localhost:8080/"
        },
        "outputId": "22b27b25-bd0b-4a4c-ef3c-5deb2d0fe686"
      },
      "execution_count": null,
      "outputs": [
        {
          "output_type": "execute_result",
          "data": {
            "text/plain": [
              "[34, 25, 10]"
            ]
          },
          "metadata": {},
          "execution_count": 15
        }
      ]
    },
    {
      "cell_type": "code",
      "source": [
        "#@title Lists: Slicing (Example Set 2)\n",
        "#          0    1    2    3    4    5    6\n",
        "list_1 = ['a', 'b', 'c', 'd', 'e', 'f', 'g']\n",
        "#         -7    -6   -5  -4   -3   -2   -1\n",
        "\n",
        "# start:stop:step\n",
        "# 0:end:1 (defaults)\n",
        "# start from start; don't touch stop; Assume the defaults if those are missing\n",
        "\n",
        "list_2 = list_1[2:4]  # c, d\n",
        "list_3 = list_1[2:6]  # c, d, e, f\n",
        "list_4 = list_1[1:7]  # b, c, d, e, f, g\n",
        "list_5 = list_1[:3]  # a, b, c\n",
        "list_6 = list_1[4:]  # e, f, g\n",
        "list_7 = list_1[0:6:2]  #  a, c, e\n",
        "list_8 = list_1[:7:3]   #  a, d, g\n",
        "list_9 = list_1[-1:-5:-1]  # g, f, e, d\n",
        "list_10 = list_1[-1:-8:-2]  # -1, -3, -5, -7\n",
        "                             # g, e, c, a\n",
        "list_11 = list_1[-3:-7:-1] # e, d, c, b,\n",
        "list_12 = list_1[:]     # ['a', 'b', 'c', 'd', 'e', 'f', 'g']\n",
        "list_13 = list_1[::-1]\n",
        "\n",
        "list_14 = list_1[::2] # a, c, e, g\n",
        "list_15 = list_1[-4:-5:-1] # [d]\n",
        "list_15 = list_1[-4:-4] # []\n",
        "\n",
        "a1 = list_1[1:2] + list_1[2:5]\n",
        "a2 =  list_1[2:5] + list_1[1:4]\n",
        "\n"
      ],
      "metadata": {
        "id": "WcCJqTbvV-9X"
      },
      "execution_count": null,
      "outputs": []
    },
    {
      "cell_type": "code",
      "source": [
        "#@title List Slicing (Example Set 3)\n",
        "# L to R: 0    1    2    3    4    5    6    7\n",
        "chars = ['A', 'B', 'C', 'D', 'E', 'F', 'G', 'H']\n",
        "# R to L  -8   -7  -6   -5    -4  -3   -2   -1\n",
        "\n",
        "#slicing: [start : stop : step]\n",
        "#defaults: [0  : end of the list : 1]\n",
        "\n",
        "# 1. where do I start? 2. where do I stop? (you can not touch the end)\n",
        "# 3. how many steps am i taking?\n",
        "\n",
        "list_1 = chars[1:4]  # B, C, D\n",
        "list_2 = chars[:3]   # A, B, C\n",
        "list_3 = chars[4:7]  # E F G\n",
        "list_4 = chars[4:8]  # E F G H\n",
        "list_5 = chars[3:]   # D E F G H\n",
        "list_6 = chars[4:-1]  #E F G\n",
        "list_7 = chars[-5:-2] #D E F\n",
        "list_8 = chars[1:7:2]  #B, D, F\n",
        "list_9 = chars[1::2]  # B D F H\n",
        "list_10 = chars[::3]  # A D G\n",
        "list_11 = chars[-1:-4]  # []\n",
        "list_12 = chars[-1:-4:-1]  # H G F\n",
        "list_13 = chars[:]  #['A', 'B', 'C', 'D', 'E', 'F', 'G', 'H']\n",
        "list_14 = chars[::-1]"
      ],
      "metadata": {
        "id": "hkJ_o8ypfW5t"
      },
      "execution_count": null,
      "outputs": []
    },
    {
      "cell_type": "code",
      "source": [
        "#@title 45.Lists with items of different data types.\n",
        "person = ['bob', 30, 'bob@yahoo.com', 100.50, 'USA', True]\n",
        "print(person)\n",
        "\n",
        "person = ['bob', 30, 'bob@yahoo.com', 100.50, 'USA', True, ['reading', 'trekking', 'ethnic foods'], ('pluto', 'nova')]\n",
        "print(person)\n",
        "\n",
        "#what is the first hobby of bob?\n",
        "print('First hobby of bob: ', person[6][0])\n",
        "print('Second pet of bob: ', person[7][1])\n",
        "print('Second pet of bob: ', person[-1][1])\n"
      ],
      "metadata": {
        "id": "JoTP8rGWoEvG",
        "colab": {
          "base_uri": "https://localhost:8080/"
        },
        "outputId": "75c61b6c-45ad-403f-e295-d4643ef2e81c"
      },
      "execution_count": null,
      "outputs": [
        {
          "output_type": "stream",
          "name": "stdout",
          "text": [
            "['bob', 30, 'bob@yahoo.com', 100.5, 'USA', True]\n",
            "['bob', 30, 'bob@yahoo.com', 100.5, 'USA', True, ['reading', 'trekking', 'ethnic foods'], ('pluto', 'nova')]\n",
            "First hobby of bob:  reading\n",
            "Second pet of bob:  nova\n",
            "Second pet of bob:  nova\n"
          ]
        }
      ]
    },
    {
      "cell_type": "code",
      "source": [
        "person = ['bob', 30, 'bob@yahoo.com', 100.50, 'USA', True, ['reading', 'trekking', 'ethnic foods'], ('pluto', 'nova')]\n",
        "print(person)\n",
        "\n",
        "x = person[7]\n",
        "print(x)\n",
        "print(x[1])\n",
        "\n",
        "print(person[7][1])"
      ],
      "metadata": {
        "colab": {
          "base_uri": "https://localhost:8080/"
        },
        "id": "UzFQj8bOvWK8",
        "outputId": "8b462527-ac03-481e-8c7f-ddcfd11d6375"
      },
      "execution_count": null,
      "outputs": [
        {
          "output_type": "stream",
          "name": "stdout",
          "text": [
            "['bob', 30, 'bob@yahoo.com', 100.5, 'USA', True, ['reading', 'trekking', 'ethnic foods'], ('pluto', 'nova')]\n",
            "('pluto', 'nova')\n",
            "nova\n",
            "nova\n"
          ]
        }
      ]
    },
    {
      "cell_type": "markdown",
      "source": [
        "# List Comprehension"
      ],
      "metadata": {
        "id": "IJsaXRgPpY0b"
      }
    },
    {
      "cell_type": "code",
      "source": [
        "#@title Example sets for List Comprehension\n",
        "# sequence = list = iterable = string = tuple = set = dictionary\n",
        "\n",
        "# Example Set 1\n",
        "nums = [1, 2, 3]\n",
        "list_0 = [x for x in nums] # [1, 2, 3] ==>  [1, 2, 3]\n",
        "list_1 = [x+1 for x in nums] # [1, 2, 3] ==> [2, 3, 4]\n",
        "list_2 = [i+1 for i in nums] #[1, 2, 3] ==> [2, 3, 4]\n",
        "list_3 = [y+2 for y in nums]  # [1, 2, 3] ==> [3, 4, 5]\n",
        "list_4 = [x * 2 for x in nums]  # [1, 2, 3] ==> [2, 4, 6]\n",
        "list_5 = [x ** 2 for x in nums] #[1, 2, 3] ==> [1, 4, 9]\n",
        "list_6 = [sum(nums) for x in nums]  #[1, 2, 3] ==> [6, 6, 6]\n",
        "\n",
        "\n",
        "# Example Set 2\n",
        "name = 'python'\n",
        "list_7 = [x for x in name]  #['p', 'y', 't', 'h', 'o', 'n']\n",
        "print(name)  # ptyhon\n",
        "print(list_7) # ['p', 'y', 't', 'h', 'o', 'n']\n",
        "print(type(name)) # string\n",
        "print(type(list_7)) # list\n",
        "print(list_7[1])  #p\n",
        "print(list_7[-1])  # n\n",
        "print(type(list_7[1]))  #string\n",
        "\n",
        "\n",
        "# Example Set 3\n",
        "name = 'programming'\n",
        "list_8 = [x for x in name if x in 'aeiou']\n",
        "print(list_8)\n",
        "\n",
        "list_9 = [x for x in name if x not in 'aeiou']\n",
        "print(list_9)\n",
        "\n",
        "list_10 = [ch for ch in name if name.count(ch) > 1]\n",
        "print(list_10)\n",
        "\n",
        "list_11 = [ch for ch in name if name.count(ch) == 1]\n",
        "print(list_11)"
      ],
      "metadata": {
        "id": "wVsBMFR4c0vH"
      },
      "execution_count": null,
      "outputs": []
    },
    {
      "cell_type": "code",
      "source": [
        "#@title 46.1. Filtering without the List Comprehension\n",
        "#Create a new list of only EVEN numbers  (Filter)\n",
        "my_list = [5, 6, 7, 3, 5, 2, 8, 12]\n",
        "\n",
        "new_list3 = []\n",
        "\n",
        "for item in my_list:\n",
        "    if (item % 2 == 0):\n",
        "        new_list3.append(item)\n",
        "\n",
        "print(new_list3)\n",
        "\n",
        "\n"
      ],
      "metadata": {
        "id": "C9igc0NqkuTz",
        "colab": {
          "base_uri": "https://localhost:8080/"
        },
        "outputId": "56069c4d-18ad-4966-c0e5-c7263946077e"
      },
      "execution_count": null,
      "outputs": [
        {
          "output_type": "stream",
          "name": "stdout",
          "text": [
            "[6, 2, 8, 12]\n"
          ]
        }
      ]
    },
    {
      "cell_type": "code",
      "source": [
        "#@title 46.2. Filtering with the List Comprehension\n",
        "# Use the list comprehension\n",
        "my_list = [5, 6, 7, 3, 5, 2, 8, 12]\n",
        "# new_list = [x+1 for x in my_list]\n",
        "# print(my_list)\n",
        "# print(new_list)\n",
        "\n",
        "new_list4 = [x for x in my_list if (x % 2 == 0) ]\n",
        "print(new_list4)\n"
      ],
      "metadata": {
        "colab": {
          "base_uri": "https://localhost:8080/"
        },
        "id": "2atTkhwHzzzn",
        "outputId": "6a6386ee-8fc4-4d26-d9ca-491a77027ccb"
      },
      "execution_count": null,
      "outputs": [
        {
          "output_type": "stream",
          "name": "stdout",
          "text": [
            "[6, 2, 8, 12]\n"
          ]
        }
      ]
    },
    {
      "cell_type": "code",
      "source": [
        "#@title 47. List Comprehension: Filtering\n",
        "# Extracting consonants from a string using LIST Comprehension\n",
        "str = 'programming'\n",
        "y = [x for x in str if x not in 'aeiou']\n",
        "print(str)\n",
        "print(y)\n",
        "print(''.join(y))\n"
      ],
      "metadata": {
        "colab": {
          "base_uri": "https://localhost:8080/"
        },
        "id": "leK_Zkue1E7M",
        "outputId": "483be1ae-008a-4d43-eda2-cbdeb6a29094"
      },
      "execution_count": null,
      "outputs": [
        {
          "output_type": "stream",
          "name": "stdout",
          "text": [
            "programming\n",
            "['p', 'r', 'g', 'r', 'm', 'm', 'n', 'g']\n",
            "prgrmmng\n"
          ]
        }
      ]
    },
    {
      "cell_type": "code",
      "source": [
        "str = 'programming'\n",
        "y = [x for x in str if x in 'aeiou']\n",
        "print(str)\n",
        "print(y)\n",
        "print(''.join(y))"
      ],
      "metadata": {
        "colab": {
          "base_uri": "https://localhost:8080/"
        },
        "id": "BiJ9iuZF-kiB",
        "outputId": "15ee952e-e4a8-4a0a-f811-fe5a9a30b077"
      },
      "execution_count": null,
      "outputs": [
        {
          "output_type": "stream",
          "name": "stdout",
          "text": [
            "programming\n",
            "['o', 'a', 'i']\n",
            "oai\n"
          ]
        }
      ]
    },
    {
      "cell_type": "code",
      "source": [
        "#@title List Comprehension (Mapping): Squaring Numbers\n",
        "numbers = [1, 2, 3, 4, 5]\n",
        "squared_numbers = [num ** 2 for num in numbers]\n",
        "print(squared_numbers)  # Output: [1, 4, 9, 16, 25]\n"
      ],
      "metadata": {
        "colab": {
          "base_uri": "https://localhost:8080/"
        },
        "id": "y3SBza_wseSP",
        "outputId": "3c461871-81af-40fc-d433-2b60bb230849"
      },
      "execution_count": null,
      "outputs": [
        {
          "output_type": "stream",
          "name": "stdout",
          "text": [
            "[1, 4, 9, 16, 25]\n"
          ]
        }
      ]
    },
    {
      "cell_type": "code",
      "source": [
        "#@title List Comprehenson: Unique File Extensions\n",
        "filenames = [\"script.py\", \"image.jpg\", \"document.pdf\", \"data.csv\", \"names.csv\", \"registrations.csv\"]\n",
        "extensions = [name.split(\".\")[1] for name in filenames]\n",
        "print(extensions)\n",
        "\n",
        "# dropping the duplicate values from the list\n",
        "unique_extensions = []\n",
        "for elem in extensions:\n",
        "  if elem not in unique_extensions:\n",
        "    unique_extensions.append(elem)\n",
        "\n",
        "print(unique_extensions)\n",
        "\n",
        "# dropping the duplicate values from the list (using set)\n",
        "print(set(extensions))\n",
        "\n"
      ],
      "metadata": {
        "colab": {
          "base_uri": "https://localhost:8080/"
        },
        "id": "tMJ6kvlYvajt",
        "outputId": "03f391f8-f2d5-42d2-d582-7184410148d0"
      },
      "execution_count": null,
      "outputs": [
        {
          "output_type": "stream",
          "name": "stdout",
          "text": [
            "['py', 'jpg', 'pdf', 'csv', 'csv', 'csv']\n",
            "['py', 'jpg', 'pdf', 'csv']\n",
            "{'jpg', 'csv', 'py', 'pdf'}\n"
          ]
        }
      ]
    },
    {
      "cell_type": "code",
      "source": [
        "#@title List Comprehension using if .. else  (Mapping)\n",
        "my_list = [5, 6, 7, 3, 5, 2, 8]\n",
        "\n",
        "# if even number, make it odd by adding 1\n",
        "# if odd number, make it even by subtracting 1\n",
        "\n",
        "new_list = [x+1 if x % 2 == 0 else x - 1 for x in my_list]\n",
        "print(new_list)\n"
      ],
      "metadata": {
        "id": "E53gYGy9zm3x",
        "colab": {
          "base_uri": "https://localhost:8080/"
        },
        "outputId": "4c423332-21ca-43e4-b2e3-f4c71d577695"
      },
      "execution_count": null,
      "outputs": [
        {
          "output_type": "stream",
          "name": "stdout",
          "text": [
            "[4, 7, 6, 2, 4, 3, 9]\n"
          ]
        }
      ]
    },
    {
      "cell_type": "code",
      "source": [],
      "metadata": {
        "colab": {
          "base_uri": "https://localhost:8080/"
        },
        "id": "Z9g5RBYUWkzt",
        "outputId": "beeeb8ca-f30a-4269-c952-494f1e814849"
      },
      "execution_count": null,
      "outputs": [
        {
          "output_type": "stream",
          "name": "stdout",
          "text": [
            "['p', 'y', 't', 'h', 'o', 'n']\n",
            "y\n"
          ]
        }
      ]
    },
    {
      "cell_type": "markdown",
      "source": [
        "# Mixed Lists (heterogeneous Lists)"
      ],
      "metadata": {
        "id": "-ozK2DxdAn8a"
      }
    },
    {
      "cell_type": "code",
      "source": [
        "#@title Mixed List: An example\n",
        "nums = [3, 4, 5, 3]\n",
        "chars = ['a', 'z', 'x']\n",
        "names = [\"python\", 'java', 'javascript', 'php']\n",
        "\n",
        "student = ['Anna', 15, True, 3.94]\n",
        "print(student)\n",
        "\n",
        "print('Name of the student: ', student[0])\n",
        "print('GPA of the student: ', student[3])"
      ],
      "metadata": {
        "colab": {
          "base_uri": "https://localhost:8080/"
        },
        "id": "h9XtX0r3Aw9n",
        "outputId": "47ae69a8-216a-4407-9ee6-0c825557fe7b"
      },
      "execution_count": null,
      "outputs": [
        {
          "output_type": "stream",
          "name": "stdout",
          "text": [
            "['Srikar', 15, True, 3.94]\n",
            "Name of the student:  Srikar\n",
            "GPA of the student:  3.94\n"
          ]
        }
      ]
    },
    {
      "cell_type": "code",
      "source": [
        "#@title Mixed List: Another example (List inside a list)\n",
        "hobbies = ['reading', 'trekking', 'ethnic foods']\n",
        "pets = ['pluto', 'nova']\n",
        "\n",
        "student = ['Anna', 15, True, 3.94, hobbies, pets]\n",
        "print(student)\n",
        "\n",
        "student= ['Anna', 15, True, 3.94, ['reading', 'trekking', 'ethnic foods'], ['pluto', 'nova']]\n",
        "print(student)"
      ],
      "metadata": {
        "id": "dx9VihQxAgLL"
      },
      "execution_count": null,
      "outputs": []
    },
    {
      "cell_type": "markdown",
      "source": [
        "# Nested Lists\n",
        "https://www.learnbyexample.org/python-nested-list/"
      ],
      "metadata": {
        "id": "eIOfn3JW39A1"
      }
    },
    {
      "cell_type": "code",
      "source": [
        "#@title Simple Nested List\n",
        "\n",
        "# analogy: bookcase\n",
        "#          [single book, box of books, single book]\n",
        "nested_x = ['a', ['b', 'c'], 'x']\n",
        "\n",
        "print(\"Date type of nested_x:\", type(nested_x))\n",
        "print(\"Length of the list: :\", len(nested_x))\n",
        "\n",
        "print('1st element: ', nested_x[0])\n",
        "print('2nd element: ', nested_x[1])\n",
        "\n",
        "# Book Case\n",
        "book_case = ['python', 'maths', [\"Hunger Games 1\", \"Hunger Games 2\", \"Hunger Games 3\"], \"science\", [\"Harry Potter 1\", \"Harry Potter 2\", \"Harry Potter 3\"]]\n",
        "print(book_case)\n",
        "print(book_case[2])\n"
      ],
      "metadata": {
        "colab": {
          "base_uri": "https://localhost:8080/"
        },
        "id": "xRP6Xlw5_RGy",
        "outputId": "6ed480f0-a8bb-47d4-95b5-0dc35c7b984e"
      },
      "execution_count": null,
      "outputs": [
        {
          "output_type": "stream",
          "name": "stdout",
          "text": [
            "Date type of nested_x: <class 'list'>\n",
            "Length of the list: : 3\n",
            "1st element:  a\n",
            "2nd element:  ['b', 'c']\n",
            "['python', 'maths', ['Hunger Games 1', 'Hunger Games 2', 'Hunger Games 3'], 'science', ['Harry Potter 1', 'Harry Potter 2', 'Harry Potter 3']]\n",
            "['Hunger Games 1', 'Hunger Games 2', 'Hunger Games 3']\n"
          ]
        }
      ]
    },
    {
      "cell_type": "code",
      "source": [
        "#@title Complex Nested List\n",
        "\n",
        "nested_x = ['a', ['bb', ['cxt', ['xy', 'xz']], 'ee', 'ff'], 'g', 'h']\n",
        "\n",
        "#nested_x = ['a', 'b']\n",
        "\n",
        "\n",
        "print(\"Date type of nested_x:\", type(nested_x))\n",
        "print(\"Length of the list: :\", len(nested_x))\n",
        "\n",
        "print('1st element: ', nested_x[0])\n",
        "\n",
        "print('2nd element: ', nested_x[1])\n",
        "\n",
        "print('1st element in the 2nd element:', nested_x[1][0] )\n",
        "\n",
        "print('What would be this value? :', nested_x[1][1] )\n",
        "print('What would be this value? :', nested_x[1][1][0] )\n",
        "print('What would be this value? :', nested_x[1][1][0][1] )"
      ],
      "metadata": {
        "colab": {
          "base_uri": "https://localhost:8080/"
        },
        "id": "B6sXvaAoCp2O",
        "outputId": "3fa9fb85-cff7-4c2b-dfea-8eddec93bc74"
      },
      "execution_count": null,
      "outputs": [
        {
          "output_type": "stream",
          "name": "stdout",
          "text": [
            "Date type of nested_x: <class 'list'>\n",
            "Length of the list: : 4\n",
            "1st element:  a\n",
            "2nd element:  ['bb', ['cxt', ['xy', 'xz']], 'ee', 'ff']\n",
            "1st element in the 2nd element: bb\n",
            "What would be this value? : ['cxt', ['xy', 'xz']]\n",
            "What would be this value? : cxt\n",
            "What would be this value? : x\n"
          ]
        }
      ]
    },
    {
      "cell_type": "code",
      "source": [
        "#@title Lists inside the Lists\n",
        "# nested\n",
        "student_1 = ['Alex Knight', 28, ['Movies', 'Travel'], ['Pizza', 'Cake', 'Ice Cream']]\n",
        "\n",
        "student_2 = ['Barb', 19, ['Sports', 'Music', 'Travel'], ['Cookies', 'Chicken', 'Pizza']]\n",
        "\n",
        "student_3 = ['Siva Rama Krishna', 50, ['Teaching', 'Travel'], ['Pasta', 'Biryani']]\n",
        "\n",
        "students_list = [student_1, student_2, student_3]\n",
        "\n",
        "# questions.\n",
        "\n",
        "\n",
        "# 3. Which of the names is longest?\n",
        "def longest_name(students_list):\n",
        "    max_length = 0\n",
        "    for student in students_list:\n",
        "        name = student[0]\n",
        "        length = len(name)\n",
        "\n",
        "        if length > max_length:\n",
        "            max_length = length\n",
        "            long_name = name\n",
        "\n",
        "    return long_name\n",
        "\n",
        "print('Longest Name: ', longest_name(students_list))\n",
        "\n",
        "\n",
        "# 1. What are the hobbies of student_1?\n",
        "print(student_1[2])\n",
        "\n",
        "# 2. what are the foods liked by student_2\n",
        "print(student_2[3])\n",
        "\n",
        "\n",
        "# 4. What is the average age of the students?\n",
        "print((student_1[1] + student_2[1]) / 2)\n",
        "\n",
        "# 5. Assume you are given students_list\n",
        "#  Who is the second student (who is at index 1?)\n",
        "#  And if he/she has more 1 hobby hobbies, can you let us know their 2nd hobby?\n",
        "# otherwise simply say \"No 2nd hobby\"\n",
        "\n",
        "# verbose implementation\n",
        "second_student = students_list[1]\n",
        "second_student_hobbies = second_student[2]\n",
        "if len(second_student_hobbies) > 1:\n",
        "  print(second_student_hobbies[1])\n",
        "else:\n",
        "  print(\"No 2nd hobby\")\n",
        "\n",
        "# one liner implementation\n",
        "print(students_list[1][2][1]) if len(students_list[1][2]) > 1 else   print(\"No 2nd hobby\")"
      ],
      "metadata": {
        "colab": {
          "base_uri": "https://localhost:8080/"
        },
        "id": "11nVA5dO2_Yo",
        "outputId": "092a4021-8826-4fcd-86bc-5f3f821830ba"
      },
      "execution_count": null,
      "outputs": [
        {
          "output_type": "stream",
          "name": "stdout",
          "text": [
            "Longest Name:  Siva Rama Krishna\n",
            "['Movies', 'Travel']\n",
            "['Cookies', 'Chicken', 'Pizza']\n",
            "23.5\n",
            "Music\n",
            "Music\n"
          ]
        }
      ]
    },
    {
      "cell_type": "code",
      "source": [
        "#@title Nested List (file structure)\n",
        "nested_list = [\n",
        "    \"root\",\n",
        "    [\n",
        "        \"folder1\",\n",
        "        [\n",
        "            \"file1.txt\",\n",
        "            \"file2.txt\",\n",
        "            [\n",
        "              \"subfolder1\",\n",
        "              [\n",
        "                \"file3.txt\",\n",
        "                \"file4.txt\"\n",
        "              ]\n",
        "            ],\n",
        "        ],\n",
        "    ],\n",
        "    [\n",
        "        \"folder2\",\n",
        "        [\n",
        "            \"file5.txt\",\n",
        "            [\n",
        "                \"subfolder2\",\n",
        "                 [\n",
        "                     \"file6.txt\"\n",
        "                 ]\n",
        "            ],\n",
        "        ],\n",
        "    ],\n",
        "]\n",
        "\n",
        "print(nested_list)"
      ],
      "metadata": {
        "colab": {
          "base_uri": "https://localhost:8080/"
        },
        "id": "BoQBLd_PBfVO",
        "outputId": "29e996c4-6514-4c58-dce9-c8823dfa9948"
      },
      "execution_count": null,
      "outputs": [
        {
          "output_type": "stream",
          "name": "stdout",
          "text": [
            "['root', ['folder1', ['file1.txt', 'file2.txt', ['subfolder1', ['file3.txt', 'file4.txt']]]], ['folder2', ['file5.txt', ['subfolder2', ['file6.txt']]]]]\n"
          ]
        }
      ]
    },
    {
      "cell_type": "markdown",
      "source": [
        "# Tuples"
      ],
      "metadata": {
        "id": "iGcZQsYuvBYf"
      }
    },
    {
      "cell_type": "code",
      "source": [
        "#@title 48. What is tuple? tuples are immutable\n",
        "# tuples are immutable (Once created, you can not change the values)\n",
        "# day of week\n",
        "# month names\n",
        "my_list = ['sun', 'moon']\n",
        "my_list.append('pluto')\n",
        "print(my_list)\n",
        "\n",
        "\n",
        "my_tuple = ('sun', 'moon')\n",
        "#my_tuple.append('pluto')\n",
        "#my_tuple[0] = 'pluto'\n",
        "print(my_tuple)"
      ],
      "metadata": {
        "colab": {
          "base_uri": "https://localhost:8080/",
          "height": 211
        },
        "id": "A3umiAqs1fyk",
        "outputId": "d366e727-fb76-4d43-f813-773f5138a721"
      },
      "execution_count": null,
      "outputs": [
        {
          "output_type": "stream",
          "name": "stdout",
          "text": [
            "['sun', 'moon', 'pluto']\n"
          ]
        },
        {
          "output_type": "error",
          "ename": "TypeError",
          "evalue": "'tuple' object does not support item assignment",
          "traceback": [
            "\u001b[0;31m---------------------------------------------------------------------------\u001b[0m",
            "\u001b[0;31mTypeError\u001b[0m                                 Traceback (most recent call last)",
            "\u001b[0;32m<ipython-input-3-8ae3353da036>\u001b[0m in \u001b[0;36m<cell line: 0>\u001b[0;34m()\u001b[0m\n\u001b[1;32m     10\u001b[0m \u001b[0mmy_tuple\u001b[0m \u001b[0;34m=\u001b[0m \u001b[0;34m(\u001b[0m\u001b[0;34m'sun'\u001b[0m\u001b[0;34m,\u001b[0m \u001b[0;34m'moon'\u001b[0m\u001b[0;34m)\u001b[0m\u001b[0;34m\u001b[0m\u001b[0;34m\u001b[0m\u001b[0m\n\u001b[1;32m     11\u001b[0m \u001b[0;31m#my_tuple.append('pluto')\u001b[0m\u001b[0;34m\u001b[0m\u001b[0;34m\u001b[0m\u001b[0m\n\u001b[0;32m---> 12\u001b[0;31m \u001b[0mmy_tuple\u001b[0m\u001b[0;34m[\u001b[0m\u001b[0;36m0\u001b[0m\u001b[0;34m]\u001b[0m \u001b[0;34m=\u001b[0m \u001b[0;34m'pluto'\u001b[0m\u001b[0;34m\u001b[0m\u001b[0;34m\u001b[0m\u001b[0m\n\u001b[0m\u001b[1;32m     13\u001b[0m \u001b[0mprint\u001b[0m\u001b[0;34m(\u001b[0m\u001b[0mmy_tuple\u001b[0m\u001b[0;34m)\u001b[0m\u001b[0;34m\u001b[0m\u001b[0;34m\u001b[0m\u001b[0m\n",
            "\u001b[0;31mTypeError\u001b[0m: 'tuple' object does not support item assignment"
          ]
        }
      ]
    },
    {
      "cell_type": "code",
      "source": [
        "#@title list: Supported operations\n",
        "print('\\n\\nlist methods are: ')\n",
        "for command in dir(list):\n",
        "  if '_' not in command:\n",
        "    print(command)"
      ],
      "metadata": {
        "id": "NaJDgzx9o5IH",
        "colab": {
          "base_uri": "https://localhost:8080/"
        },
        "outputId": "3ee6705e-59a4-4c35-c389-1c3368b92567"
      },
      "execution_count": null,
      "outputs": [
        {
          "output_type": "stream",
          "name": "stdout",
          "text": [
            "\n",
            "\n",
            "list methods are: \n",
            "append\n",
            "clear\n",
            "copy\n",
            "count\n",
            "extend\n",
            "index\n",
            "insert\n",
            "pop\n",
            "remove\n",
            "reverse\n",
            "sort\n"
          ]
        }
      ]
    },
    {
      "cell_type": "code",
      "source": [
        "#@title tuple: Supported operations\n",
        "print('\\n\\ntuple methods are: ')\n",
        "for command in dir(tuple):\n",
        "  if '_' not in command:\n",
        "    print(command)"
      ],
      "metadata": {
        "colab": {
          "base_uri": "https://localhost:8080/"
        },
        "id": "-X7WqiKLQZld",
        "outputId": "ae8ee7a0-eed2-4c85-e4d4-3a8cdf1c9ec9"
      },
      "execution_count": null,
      "outputs": [
        {
          "output_type": "stream",
          "name": "stdout",
          "text": [
            "\n",
            "\n",
            "tuple methods are: \n",
            "count\n",
            "index\n"
          ]
        }
      ]
    },
    {
      "cell_type": "code",
      "source": [
        "#@title Tuples having only one item\n",
        "a = 7\n",
        "print(type(a), a)\n",
        "\n",
        "a = (7)\n",
        "print(type(a), a)\n",
        "\n",
        "a = 3 + 4\n",
        "print(type(a), a)\n",
        "\n",
        "\n",
        "a = (3 + 4)\n",
        "print(type(a), a)\n",
        "\n",
        "b = [5, 10]\n",
        "print(type(b), b)\n",
        "\n",
        "c = [9]\n",
        "print(type(c), c)\n",
        "\n",
        "d = (8, 4)\n",
        "print(type(d), d)\n",
        "\n",
        "e = (3)\n",
        "print(type(e), e)\n",
        "\n",
        "f = (88, )\n",
        "print(type(f), f)\n"
      ],
      "metadata": {
        "id": "0wouCqvs3JCX",
        "colab": {
          "base_uri": "https://localhost:8080/"
        },
        "outputId": "a36523db-3dc2-4d03-aaea-552bf60fbf21"
      },
      "execution_count": null,
      "outputs": [
        {
          "output_type": "stream",
          "name": "stdout",
          "text": [
            "<class 'int'> 7\n",
            "<class 'int'> 7\n",
            "<class 'int'> 7\n",
            "<class 'int'> 7\n",
            "<class 'list'> [5, 10]\n",
            "<class 'list'> [9]\n",
            "<class 'tuple'> (8, 4)\n",
            "<class 'int'> 3\n",
            "<class 'tuple'> (88,)\n"
          ]
        }
      ]
    },
    {
      "cell_type": "code",
      "source": [
        "#@title Tuples can be recreated\n",
        "\n",
        "# updating the value of an int variable\n",
        "x = 12\n",
        "x = 3\n",
        "\n",
        "\n",
        "# updating a tuple\n",
        "tuple_1 = (1, 2)\n",
        "\n",
        "#changing the tuple is not permitted\n",
        "#tuple_1.append(3) # not permitted\n",
        "\n",
        "tuple_1 = (3, 4)\n",
        "\n"
      ],
      "metadata": {
        "colab": {
          "base_uri": "https://localhost:8080/"
        },
        "id": "0VdREeZ310ex",
        "outputId": "224f0468-3266-4f58-9119-00e6e5e31ae3"
      },
      "execution_count": null,
      "outputs": [
        {
          "output_type": "stream",
          "name": "stdout",
          "text": [
            "(1, 2, 1, 2)\n",
            "(1, 2, 1, 2, 1, 2, 1, 2)\n"
          ]
        }
      ]
    },
    {
      "cell_type": "code",
      "source": [
        "#@title Tuples can be added\n",
        "\n",
        "tuple_1 = (1, 2)\n",
        "\n",
        "# I am recreating a tuple\n",
        "tuple_new = tuple_1 + tuple_1\n",
        "#           (1, 2)  +  (1, 2)\n",
        "#           (1, 2, 1, 2)\n",
        "print(tuple_new)\n",
        "\n",
        "\n",
        "# I am recreating a tuple. this is permitted\n",
        "tuple_1 = tuple_1 + tuple_1\n",
        "print(tuple_1)"
      ],
      "metadata": {
        "id": "0RgUTTnM-ifH"
      },
      "execution_count": null,
      "outputs": []
    },
    {
      "cell_type": "code",
      "source": [
        "#@title Tuples can be added / recreated\n",
        "\n",
        "t1 = (1, ) + (1, )\n",
        "print(t1)\n",
        "\n",
        "t1 = t1 + t1\n",
        "print(t1)\n",
        "\n",
        "x = len(t1)\n",
        "print(x)\n"
      ],
      "metadata": {
        "colab": {
          "base_uri": "https://localhost:8080/"
        },
        "id": "SXFFGWpx1hyT",
        "outputId": "9cda9f85-d446-45f1-e9aa-7aaa8998da64",
        "collapsed": true
      },
      "execution_count": null,
      "outputs": [
        {
          "output_type": "stream",
          "name": "stdout",
          "text": [
            "(1, 1)\n",
            "(1, 1, 1, 1)\n",
            "4\n"
          ]
        }
      ]
    },
    {
      "cell_type": "code",
      "source": [
        "#@title Both tuples and lists can have items of different types\n",
        "x = [1, 2.0, 3, 'spiderman']\n",
        "y = ('wyatt', 6, 18, 0.50)\n",
        "print(y)"
      ],
      "metadata": {
        "colab": {
          "base_uri": "https://localhost:8080/"
        },
        "id": "Binr1zlfqiJN",
        "outputId": "d3d39889-ff4c-4bc1-8d19-df154dec7a0a"
      },
      "execution_count": null,
      "outputs": [
        {
          "output_type": "stream",
          "name": "stdout",
          "text": [
            "('wyatt', 6, 18, 0.5)\n"
          ]
        }
      ]
    },
    {
      "cell_type": "markdown",
      "source": [
        "# 2-D Lists"
      ],
      "metadata": {
        "id": "JMKN2-k_5V8U"
      }
    },
    {
      "cell_type": "markdown",
      "source": [
        "![image.png](data:image/png;base64,iVBORw0KGgoAAAANSUhEUgAAAqEAAAHCCAYAAADfKhA3AAAAAXNSR0IArs4c6QAAAARnQU1BAACxjwv8YQUAAAAJcEhZcwAAEnQAABJ0Ad5mH3gAAABhaVRYdFNuaXBNZXRhZGF0YQAAAAAAeyJjbGlwUG9pbnRzIjpbeyJ4IjowLCJ5IjowfSx7IngiOjY3NCwieSI6MH0seyJ4Ijo2NzQsInkiOjQ1MH0seyJ4IjowLCJ5Ijo0NTB9XX2jv6x/AABX/klEQVR4Xu3dCXyT9eHH8S+XiByK0ArlRg6ViigglwcWuTwAmawqOBUUmdOJODedVsYqf52Ow+EcHuCYIHY6FERRRMCDQwVFLCp4gAgFC3hxCWr5P78nv7RJml6QPEnaz5vXQ/L8nqfNk+Rp8s3vSqW8vLxDAgCggvruu+9UtWpVValSRXv27FHdunXdy2rVqqlmzZp2LwCRRggFAACA5yrbSwAAAMAzhFAAAAB4jhAKAAAAzxFCAQAA4DlCKAAAADxHCAUAAIDnCKEAAADwHCEUAAAAniOEAgAAwHOEUAAAAHiOEAoAAADPEUIBAADgOUIoAAAAPEcIBQAAgOcIoQAAAPAcIRQoN9ZqcufO6vyPtXYdAID4RQg9Irs092bnTd+88YddJjuxADgya/8R5tyKQNDcNW+0+7smr7EFEeT73aM1N9cWAAAQghAaCd3v0svvvqt3Cy2j1d7uApRZ7lyNdkLiiCeHalrQeTVNQ58cQcgDACQ0QigQl3Zp7vh7tEwmgIZ+mGmv0e++rLu6L9M9Fx5+bXu9AZPdUDu6gy0AAMBDhFAPBDZNBjatus2gaybnrwcuoU2kvt9hAoft95e/2BBia80KlYfwN8HmLzfPdeJOsMLNv3Qr8NyaJ3XPcmnoY0XVptfTwGuGOpeztDhcc3rIeTV6XsCzHLQtTG1qoXOyiOc/zLlrbsecY/0ylzk7mJBcsK3gnA7TjSXMeQgAKN8IoZ7xvSEvPqegWTW/BurKafll7vLYUM26LlxfvVka0Xmx0vL3nSZnT6fMeRO/cKOGh5YH9Rv0vfH3y2we1LQ77cR71C8gZJgAGtz8a2rcnN9FSPDU2jdmOf/3UIsU33pYKS2cPZyz4o2QiGia6t9Iy3+O333xLimzX0EQ7TDaLX85w/x0MPcDyHWbdNeL/uff7LfJOceCw2q4/cx51/y1t6QBk+3v7hG03Xe+m/Own+5RYBcW53xd7pyHDKgCgAqFEBoJ5g00sFbHXUJrmHxvyIWaPk0g+H1IXVeHK53gFyZcFGqaba8r3Tf7IsqfXFxQg+XWrJljCK5Za3/ZXc6RzdJ0N6Cs1eInnYsr0wL2qaeBDzphtZddhYeaq0WyvRpOcgtnD8fnG4M/IJgPNYHnVPJADb/S+RiU+WTxNdq5czXdef6HPjZZAwNut96A4c4Z5nyIetr+9JrJzgeVwvu53QQeHOicMcXIfUtLljt/Db3OCtjPdi9w7wwAoKIghEZC2IFJoW/QxQltYu/nNsVGkluz1v08nRV6TMln6Twn8C7btNVZaaQWznVTkxbUfOtoP6CEcIG41qi5+bCySRuLGci0a+UStw9qWqE+ou2V5oRYf9jdtXmT83+4/UrBBudlmf1CavqdDzsDAj8eAQDKO0JojPn6aI7QrKAmedMEbneIiF3a+LlzEbbGNjDwmlpP322bkFCwD6OwY6P40Kjcjc4ejhNblPgBoV7TkqsZt24y/Tht946QxdR8+vn2O1ym1tN0F3Fu6brA26DfMQBUNITQmFqrJ80AjtDm04irpxYnOhdFTiXlLPm372t+zy9/0TTXH9kobJRd+3NMTFumjTm+9bByNjp7SEPPKfnc8dVeFs9XWxo6HVTAYpvaffsdCRNEA37vY74BVvQ7BoCKhRAaS7Ymq0fzRr71KHKDw/IleqvYGs21mhvSDG/6E2a4/U5LqJVDZPn7BV9XVPjfpblPmC4Wd+nKUjSLu7WX4bpjBPDVlhYx2j5AcfutnecLkkXWvObO1dzQn+swWtNMc//yjTKdQgAAFQMhNJb8/TFfeyugBsiOHo5wn9B6AzKcUGNqNAs3rZsuAf4+oBtNM3zIqPq3Xis5wCDS6mngnb5BYyMKNVWbPsTmHOmhu+4M01c3ZKCSeX7dgUTXlNCv14bBsDMzmOmY/OdF/n6FR8yPeM2uuCP3l2nJypAPNY4lzu8P7nMcbkAcAKC8q5SXl3fIXkeZBUw3U8yoYN+8idJdL4YbrBQaOs0I9gxpvFN2YkEzve93mOmVgke3H155aJ++gNH1Zr7RC80k6QGi3l0AxfFNm2VX/MI+JyacjtCs7j3UY/mygOfQnFOFz70iz0sTOK8zU0QFKvw7Cp9LIbM0hPyeoY/Z2SHC/P4eGS9r8oCSerYCAMoTQihQQRUZQgEA8ADN8UCFRDcLAEBsURMKVCDBTfuhX3IAAIB3CKEAAADwHM3xAAAA8BwhFAAAAJ4jhAIAAMBzhFAAAAB4jhAKAAAAzxFCAQAA4DlCKAAAADxHCAUAAIDnCKEAAADwHCEUAAAAniOEAgAAwHOEUAAAAHiOEAoAAADPEUIBAADgOUIoAAAAPEcIBQAAgOcIoQAAAPAcIRQAAACeq5SXl3fIXi/R7PkLdFbXnnYNFVGT+jXsNQAAgMNHTSgAAAA8RwgFAACA5wihAAAA8BwhFAAAAJ4jhAIAAMBzhFAAAAB4jhAKAAAAzxFCAQAA4DlCKAAAADxHCAXiUq5euStdGQtyfas7XlFGeoZe2eFbBQAg0cUohH6t56+tqWbJ/uUKPZ9jN5WJ/T0T37brR2DV/QHHE6Hfqbf1UODvPOz7CZRe7oIMpd/1ihNjAQCIX9ELoaGhLvl+rbabpBM06PG9+jLXWV4aa8tirNMffceT+4UeHGDLjogJyGl64PbF9vea5SkNSrGbgbJI6qvMrEz1TbLrAAAkuKiE0NUTndB5wRo9uMYfvpxlTTM9FpHaxQSRs1QvzxuoBy/rYguAI1CoOT5b09LTlZ6/2G1rp+mmf2+QPp2umwLLAQCIM5EPoavu1+D7nPC1JqTWLyVdU8dUoECW86UW2KtAZJn+opnadPUUZWVlucuUq6Ut25xN7Uc419tIrYdriruN2lMAQHyKcAj9Ws9PHSfdfnOEmp1D+47W1EOr7KYA/Zs31445VwTsF9j0bxXbPcBrvvs1as7XIcdVuM9o8P1ylmuz5K/Ycrc566v9+5htOVka5e4bcv/yywv/HiSmDVsLen0m98/UiPZ2BQCABBDhELpJW+b5QuGRM4N6WurmUwL6VL40Vg9cYMNbgAWjWqrTppvtfqZP5zgNDmz6NwHsjXMLfo9/n4gHsYCBSBc4YVxzdXOHgOAX0h3BHHezC6Q59rjm3O7sf3fAMTkBNUOTAo57sW6bN1ydAn+Psz7Y3Pc109V/3lxl3P2lrjP7aZwe8z9OJuh2mKt+Ad0j5pzi/B6CaIJKVt+bh6vNq5kFzfEMRAIAJJjIhtCcTcq2V31CRoeXoU/ojjkP6gGN1ZzAJvxOf3SCmhPeXloaHJ7M4J/8/U7QoFFjpfteL6gJLNQV4AT1uGCgE+C+1GZbEhlddKM/MLoDrky3hILgV3CM1oDpWpX7R3W0q02bhxyTc3+nDj7Brhhd1M25//poU8D9D+x3Ole64Kr83+fjq53uP3VSUO10x8t8oXUZo/UTkztQydcUn5WVoT6fTtcU/3ROAAAkgMiG0JTmSrVXfQpCmQmPZbF5kxOobj83JFA54ekcJ9yVFB5Tmqm/1uirgIDlDpYKCMSdRjm/P9ZOaa7A7npJg59yHquCUBquO8Lg++ymfB3UJCBcpjYNDK2Gr3barXUN+D3NOgzXAie0biGEJqBsTQuq+UxW49b2qiO5UXPp0y3UjAIA4lqEm+Obq/EAJ/Bs2mTXYyRkUJAJoL7BUgW1kqumDrRb45UJoC1187yx+c31hxPm/fpP/SL/dwQuN3ayOyCBpKpLc//od7PcpOnNM5TZP9m3uf3FGt56oTIZHQ8AiGMRDqG2mTuwKfwwuU3TYX7P6jfGSQOaqaldD2fH5jXO//4awq/11UfORcQGS3nF9q+dGtq8XlZx8sEAZZSsvvdkFQTLkHlCU6/1N8Xb5drANgjfz/q2MToeABCfIhxCTZPyze6gmMFHOPo8qetA9Te/J7AfqTv9k3TbqPSgZuwgOVnKGDU3ILydoCanOBcB/SjNqPK4aI4vVuHw6KvRtSul5u8jm1ZoQBcAAECsRDyE+vuBzrndBNHgvoy3neMfQFPMKHJ/6DSDicwobyc8+X+HfwL8giZkGzAD9+kwXKkv7Q0a0NNxjB1Vbvfp9NJArQr5pqaCqZBME7hTkP87Y/VVm054/Ot09Q+4b4O1+PC6EZhvg3Lub6F+oYyOBwAAMVIpLy/vkL1eotnzF+isrj3tGiqiJvVr2GsAAACHLwo1oQAAAEDxCKEAAADwHM3xKBOa471hpl7Kyhpt1xJLevpkjj1GeOxjg2OPDf5eY6mbvTwy1IQCAADAc4RQAAAAeI4QCgAAAM8RQgEAAOA5QigAAAA8RwgFElD2rHm64w7/8q6ybXni2K3FE+Zp5jq7miByX1sc8LjP08TXdtst8S5HMwOOO7GOPZjv3F+sxYnydW/r3g163P1LIp37wed9YrzeBL9GBiwT1ivX7hPXQs+bWTH56saoI4QCCca8Icza3la33DtA9zrLLefv1qxEeWG14fOOO5bo1Z22KFE4bwqTFkm9x/ge93vHtJUWLUmMMLFjt3JTO/mO2106KTlRjj2A79yvpSS7njgaamj+Y+9bhrWzm+Ka7+910vaTAo69s1Lt1niWOjT48TbLUOfAkzqkKNnuE7dMAJ25u+C1xvl7bZe9KmE/OBaHEAoklBwtXLRH7fq1zX8hTW7fSEk7tyo7IWqGaivtVvuiaksSRx3nTSFNaf4ElJSiDvWdYLQ9Ad4YktpqzNAUu2LUVkqiHLtlAuikNY10y28a2RJE3bpP9KqcD7xB506CcoLdrOyG6tOrti2IX+7fZf1GSs3/tOW81jgBekcC/b2WFiEUSDi1lBL4UT6pthNI9ygnMapCE1e7tgUB1LVbOTudDwEN4v9NrZAdOVqTQMeeH0BvLfjwlVi2aVZ+02ridCXIXrNNSdqqSQnfLLxbi1927sv5JyVELW5yr5PUbud653H3nyvO32t2LfXuUw4+DIQghJZDK5fMt9dQ7phmVXsVsWSaKVdpXWqnBGlWtfz9zCaul84/LyGOPeEDaLvO+c3BZrnlfOnViYnQr9J5rdnuvOQ0CGyK9zULJ1wQNTW6OxOjFtQnRX3Or+Vc7nHOFRP+zWvNSSEfgssHQiiQSNxaT8SWCaBLErOZMj8QnacOa5YkRB+z3O17JLdWyNbEOQF6h31zTsQ+cm4tl7ZpTYL0x00Kqi234Wh7In0YztHMmdvUblhi9GU18j945Yf/ARqqBAz/pUAIBRJOSNO7Wzsa0kSPKDGjzJ0A2qCT7k3YpmGjtlI71EqIPmaFBpiMaask53w3gzbGJEzNVqhE+Ht1PvA2SPx+iLmvfaJ19duqTwK1WLgfvJzwH3iKpHZoKGVvTcCZUIpHCAWi4LPt36hy+j067ur7denfn9HUV1frk6277NYj4auJWPdywWj43LVbtSOoEzuiYsd6TbxjlXLPP0/3JlgNqKlZCa419A1wC67lQuSZWvPgpvfsWaucUJQYf6+pfZzAn70qYBYFe94kwghzV+GBnIkguUEt50T5JKDvsK9Pq1Kd88aWlBeEUCAKWjU4XtkTRumanh308tov9Pvpr+iUMf9S8nUTNfQfz2na4jX64utv7d5lk9wrTUMbFDRPTlpUW0MTplbOvCnbPk7O2rqZvvuQCFMFuWHfudyxaImvWdi/JMD0WGYGBTOdVMFx+8J04tYkJgpTmxg4KGmeb3q1RPl7NbMqDGuY/3eaaOeNL/AnVi2oYV7jfX2H/Y+7bX0pD7MUhKiUl5d3yF4v0ez5C3RW1552DfHKDEzqet5Fdi2ymtSvYa+hNL7Zs1+jHntJz7/ziX62f2pVq1SS+ffTL3lqWLe2+pzaQj1Tm+u8ds3UtP6x7j7p6enKyhrtXk806emTOfYY4bGPDY49Nvh7jaVu9vLIUBMKRFGNo6rp71f21vjL01SzejVVq1JFP/9yyA2gxrZvd2vGG2t1zcPz1Or3/3TLAACoCAihQBns+fGgNuZ+p3c+y9GL732qfy/9QA/MW6E/zXxNw50gafqBBi41r7xPzX/3D/1p1mvae+AnJ3z+Yn9TgUrOUuOoqhrcua0OlbpdAgCAxEYIRYX2w/4D+vzrb7Xy0616YfWnmr7kA/1t7nLd9uQiXf3Pebrw3qd15p+n5YfKOlfdrxNvekhd75yui/+WpeH/esENmOu+2uEGyD9c1FX3XdFL00ZdrHl/TNeKe67RZ/+4UQ8N7+c2wftVNled5eRG9fXEDQP07RO36elbfqVKBbsAAFCu0Se0HKrIfUK/3fujdvywz1n22kvfsjNwfbdv+5ZdhaceOfGEukqqc4ySatd0L+vXqeEsznod33rBUtNtXi+Ne/73lu7+71L3uq85Pk8Xd2qt2wZ0U4+2TdzyUPQJjQ36mMUOxx4bHHvsJPbxR6ZPKCE0qr7W89e21M2nLNaXY7rYsugrTyF0pxsY/cteJ0zud6/vtOsFodK3BDZ3H1fz6ILQWNsXHM11X6j0LwXh8uhqVe1PRoapGb126nw9sXSNu17r6KM0qvcZGn1hF6XULX50KSE0NnhTix2OPTY49thJ7OMnhCaA+A2hr334hR5e+I7e25ijurVqaFCnk3T3pefZrUU7khBqQlloDaV/3Rcq7bLbV/b193vtT/rUq12jIDS6odK31A+ppaxvtx1VtYr9ydjw14A2TzpWfxrYQ1f1bF/qoEsIjQ3e1GKHY48Njj12Evv4CaEJID5DqAmgw6c+Z9cKnJ/aUtN+e4ldCy8whJpm5fzgGBAuA2spd+7Zr9c/+tL+RGGnNK7vC4+2+dsNke5lcLA061XcjpSJY9u3e5T9Va56t29pS0qPEBobvKnFDsceGxx77CT28RNCE0B8htBfTXhaq77YateCTbiyv05unKRvdu/Trj373Hkuv9m9373+1LK1dq/ipbVrnh8ci2r6NguKRgiNDd7UYodjjw2OPXYS+/iZJ7R4OVkalVxTD62SVk+sqWbOdf9iynwBMVy5X+Ht7nJtlvutKQXe1kOmfOLb+bcZfr8Aq+63v+9+rbZFQT9rl1FzvrYbI8s0wRfl1icX6IJ7/6NhDz2rm//9ksY9u0RTXlnpBtBrzj1df/31ufrXtRfo2TGX6vW//EYfTRylHY/fqrysu/KXRXcP0+zRg/WP4X1196Vn67d9OurSrifr3FOa5td8AgCAiq3cT9H0wAU1teKcvfoy17fMud1X1iy5pbaMCi0PCIWugXpwTcE+X+Z+oQc1XJ3CBcz70tTsbinTv+/j6Qr71cAmgF4wTrp9sbPfH9XRlJkA2mG4NPWLgtt6aawWjGoZEowjw/QBLcrv+3XVhw/cqC//eWuh5S+/TtNdvzpb1/c+Q4O7nKSzT26qkxrVd/tqAgAAlEW5D6G3vbRXN3ayK46Ol01Xf+cyfPk4rcgPfSdo0ONPaVDQV7U6ZaPGSvPmalloZaIJlUUFTz8bQPubsBnQPL9j5VwtcAJvv64n2BJHpz/qyzXT1diuRpIZhBRO5UqVdPlZ7VXnmOq2BAAAIDqYrL4EO+ZcEdRE7tZiHo6AADp1cEDYdCQ17eD8P1c3dwipiU1JdwKjvR5BZhS8GYQUyATQCb/pV+LUQUgwK2eocuUZWmFXC9ulp9J7OPsELJnZdltsbJ99Z/DxOMv4lXZjgHD75S/pC7Xd7ucp9/EOPpZLZ++yG4vh/7lYPvaHcewrMsu2f9RtWahLA46n8LmfrfFB24OXcOdZVBU63sJL0DEd7vkVRWH/DkPP4zDHHbzcqae22H09Vfh8KOocKO3rkncKv3YXeS4UevyLe0/wFiG0SL6+np1GKbhJ/qWxdnsZmKZ6N7yG1Hb6mVpP9/eO0+DAwGv6mUaJGQU/fdQluvWi7vrLkDQty7xOg888xW5F+eC8wHZ/1F4Px7yIDdAwjVVO3jLlucsjyhx7fczCkHmhTxm6VJnL/cfjLMtHKqN7US+wPTVzc8C+/iWrjxrYPTxjXuidx3vwrHkFx7HZ+bseOqD4x9MEkWKfJw+U9dhteOqhRwr2d5ZnL69nd/CeG4ibvq7BQefDVeGHT4wLPm7/cmdXu90rjfvo2TDHYZZlbn3HSKX5j+lwz68oCvv36hzTYPMaEvhBsOtVBduDlnmaOcTZPuRcpUWj2a84bjC7Xu8HPJ45s3qGfa0x51bKUAW/1hT7uhRl7t+f89qdGnAeO8czJ8y54P5ddN8QcOzmMX9UPWIW/IMRQouwY86DesDtExraJH84zO/5Qg8OMLWdV+j5cOOCTBD1B11nMX1UTXiN1uAko9epLfX7/t10Tc/TqQEtT/JrV65Xhi0Ka+V8DXvGCXETAgNbqu50Xsw0dnaMXqDO1TLnhTIoDDhvYOYNec7Q+XHz6T28hu4LfVAQc0LGQ84bW9GPp/NBoek4zRk3Upm2JDbKcuy+Y5Z5885ItWWxZcJQj7EjnXNnvK7wOsxEg/M3PMHJl4NnXRQQog/n/Iq2Nu4xBf29Osd0qwnQz2zTRl9J0dzXICnzFq8/NNoP6M6HkcDHs8Hl4wu/1uQ/F2OCz62YvS7t0lPOAzxnyFjlBP79OcdjQnTQueAE7R7OsWcuD/y7qKcrsh5xXm+WatgTsfnwEogQWoTNm+Y6/3dQkyMOoI7bb3aCrOljuli3hWl23zEnK2RAlNRxjNlXWrBpk68AKK2A2hVfbUp4K141tW9t1CL0TbtxQw12XqDmvOn9J/wGl/eJ0MQfMdC1TxkDkKmJdj4ouG8m7hDF2CnDsW+fPdv5cDNSt8aw1jNYtqYNXRoS2BLbiieckBH6GJf5/Iq+BpdfdQTH5Jz/k5zXIOf8H+F1DfSWHL3vXAxu1dC3HqBbb+dDuB7V4pCm9jmfbbPXYs0J905wV2pKoeDe4Oxzg167t2/c4Pzfs/BrvFKVZt4bxq6O+Qd7QmgROp7jfHwIGqjk8I9sP2xddGOuCZem2T0wiM511kNqSFe9rgeci9vO8W5+UVQku7TRfAge0lAtfAUFGqfodOcifl50s7XY/DmGO1bzab6pv5+TWeKjianALi1+fqlzWTjsr8gcoGHPjNSyWHQdKJVwx27LxjmhOaQ/aOz64a52QnFPDW6xulD/yiL77Jnm4sB9Y9ScHVbYWtCiFH1+xYqvVtrUvhXRFcIvZrWgJXA/hEvvb7Qfwv01u6FdDMr0PHmkDK/dLVqZOd83aGOMXy8JoUWx/TR90znZ5Y1zD69PaBAniK7xjcQ3/T/NFExJg5/SnNtNDWnAbV2wxu2LGjiCH6iIfDVvzov9oI5Bb1am6Sy/P5S7mL5OvlAa2wEDAewbrQltgW9UBc3HJbxRx1LYY7e1MM4b8uLegY/9I8p8ZpxSYjDgwVfb4zzvk6SHAs6H8P37UnVnwD7u4nY/CQkYMRS2FrQoRZxf3isY4JPy/LluH/Pi+9fGsBbUKOMH7W4Z9jxxz3H7wcX2P/a+H7TzYdz0o83OKfF8bdCijfP/0pgHzeKU3xCakq6puWFCXFnKQ/pputMquWWB/URN7abdVohpgg+zzd6W+Z3+2+s4xt5G/hKJvqhAgls5wx34YN6sHirxxd7f10nKmBQHgcL0zXUHHDlhM7DvlnufzCCHOA6gRR2737hHQkKGE+7MgBQ9qgmxGKhhBqgF9W32fUgpVZ89f186J2BMi/WHF9uHr1S1ayU9R54KCPcTpBtLqF3ePntijGtBUzXCPOfOh4/QD6y+DwHBfIN75PZXN/fR180pVh94nde5W3yB+MaQvzX/B/Z8XS9yPpg7r4fdC88SYbqwxANqQgHEJzN61bzJmj6TpW6ytn2dSjMoIppMQDADjkxACKrt9NUABQ8UiDNFHnsJ4q4bR+mbHH196QKaYGPC1g46j3uJtaCH+xx5ocTBUjYAxaoW1HJbUuwI98CuGYudx9Q4vYV9DvIH9xQ8zm7NqNvyYgJeDLoAmdkG/DMjBBz7jZ+1cc/jgr6u5oO5Cc1mNHzg/VztfJA022PfjYMQClRI9dTCVJ6EC2vFdNr3zGEFUKOYvq5eKUVACH3jy5/JwPZVjMm0L0aJx176pkCvRKTJccs25z4HBI9YsE3rJdaCxnMAtYp7Tvy1dXHRF9SEOX8Nrl1GtDLdOwqmxip6cE89pQ0yH3Ji1NwdMADVvzzb2/kQaPpHnx18HvtCc+BykVqY18mYd+MghAIVlm8UaJhaIvcNufALmVdMf0k3gJq5HMs8aKfokaOeMOHZBAQTnsMGBF/NRPAbgll83Qj881d638/MUeKxG/aN95nXtTj0vHEHCDnhorfHTcNdO/q6YLwa2vxrB+2UYg7KooOGV0pZC1qq58grzjFnhu/2UvTjGR+1oEUrPNNCyR9yYnneBLLn0LjLS25lcT/w9NTMa2LdjYMQClRcbn+hpRp2a+AbiX/+vFK8kEWBf/Jrd0Lu4vq5mdqgQoNgnBdhM+WRqSGKRR85f+3tYYXnGCvDsTe4/HLfHINNAx9/e97EJFwU9O8LrEEO1+/Q9O0rVMvs3HffORcyD6SXSlMLGo/nV7YZqBPSHG0fz3CvIXFVCxrKfU1xXj+cxzfoQ2B+v8rS30/vmYFh9otHSnjt83/Ij5cuQYRQoLxxX0x9zbymL5OZ887fHyj4DdjUys3TTAWM+PR/g0hMBjr4p5sxg0mC+zr5l/zjb9xRg91v/Qjc7v/2p9jUEPnmXXXYJvVCSzxNAxSibMduBqH4v3XFv489b2IUjvz9+wLPm5ShbRT6xQem9r/QueW+Iceo9tlVEOCLG3wXf+eXff2wM1LkH4d9PAu9hjivSze6oS10UFusFIzodxf/t20Veu3ztV7kzFLp7qcnzAfugGNx/v5kjiXc35/58JK/X2lnL/BOpby8vEP2eolmz1+gs7qaPhCIZyuXzFfX8y6ya5HVpH4New3RlJ6erqys0XYtsaSnT+bYY4THPjY49tjg7zWWIvNRn5rQcsoE0bIsAAAAXiKElkOmFrSsCwAAgJcIoQAAAPAcIbQconkdAADEO0IoAAAAPEcIBQAAgOcIoQAAAPAcIRQAAACeI4QCAADAc4RQAAAAeI4QCgAAAM8RQgEAAOC5Snl5eYfs9RLNnr9AZ3XtadcQr8xk9dH6Ks4m9WvYa4im9PR0ew0AgPiSlZVlrx0ZQmhUfa3nr22pm09ZrC/HdLFl0UcIBQAA8Y7m+ArqtQ+/0K8mPK0WN07UGbf/S399dondAgAAEH2E0ArIBNDhU5/Tqi+2Ku/QIe3avU/TlrynEf96zu4BAAAQXYTQCujhhe/Ya8EWZX/hBlQAAIBoi3IIfVsPJddUs4lvS6vuVzNz3S6j5nxt95F2zLnCKbtCz+fYggDFbStWTpZGObfz0Cpp9cSC2zWLKfP11wxX7ld4u7tcm6Uddg+fgPtobzP8fgHyH4v7tdoWBf2sXQIfo0h6b2PRD+a6LdG5TQAAgEDe1ITel6Zmb5yrL3P3+pY106VRLfNDVtLgm3Wb5urmp50gF+RrLXtprnT7zRqUYovK6IELamrFOfZ2nWXO7b6yZskttWVUaHlAKHQN1INrCvb5MvcLPajh6hQuYJr7eLeU6d/38XQl2U1BTAC9YJxznxY7+/1RHU2ZCaAdhktTvyi4rZfGaoHzGAUH48ioW6vowUUzXl+jO2e/qiXrNtkSAACAyPMmhJrAFTg6PCVd1zmhb8GoGTb0dVH61IFOkHs9OASumqGb50m3nXP4I8tve2mvbuxkVxwdL5uu/s5l+PJxWpEf+k7QoMefCgm/TtmosdK8uVoWWplo7mNRwdPPBtD+JmwGPB47Vs7VAifw9ut6gi1xdPqjG9Yb29VIGtTpJHstWKVKlXTmiY21eN1GXf3w/9TsdxM0eMJs3ff8G24z/e79B+2eAAAARyZmfUKbNndCp9boKxvmkroOdEPgYwFN0KvfGCcNmK70gLDoNV93gIBmclOLeTgCAujUwQFh05HUtIPz/1zd3CGkJtYJ64OicN/vvvQ8nZ/a0q75VHYC6MTf9NO/rrtYK+4ZqY0PjdGDV1+gtg3ruX1FzUCm7nc/qsEPPKPJL76tNZtotgcAAIcvZiHUF7wC+GtHX1rqa+rOydJj90m3jSqhdjFqfH09O41ScJP8S2Pt9jIwTfVueA2p7fQztZ7u7x2nwYGB1/QzjZJpv71E00ddolsv6q6/DEnTsszrNPjMU+xWXygd1Plk3XtFHy2662p9cP/v9Pdh/dQ8+Tj95421OuNPj7nLmBmv6vl31+u7vT/anwQAAChZzELojs1r7LUCbpP4vOHKWmWbqGNYC7pjzoN6wO0TGtokfzjM7/lCDw4wtZ1FDLIyQdQfdJ3F9FE14TVag5OMXqe21O/7d9M1PU9XSt3atjS842oerb6ntdLEq3rrvb9dp61TR+tPA3vop59/0V+eeV0tbpyii+97Wn+bu1zvfFbWUWQAAKCiiVkI3bxprjRgoHoEBryUnuo3QHrgjfuVNWqu+l/QM0a1oPb41EFNjjiAOtyBVaaP6WLfAKyQZvcdc7JCBkQ5gXyM2VdasCk+Bwg1rFtL6d1P0ZQR/bTm/pFaOX64Lu7URu9/sV0XOWG02Q3/0NX/nKcZr6/VV7t+sD8FAADgE5MQavpZDg7b1G4H/tw3Tg9orK4L6TvppY7n+JrHCwYqOfwj2w9bF92Ya8KlaXYPDKJznfWQGtJVrzuPwZENyvJS25R6Gnn+GXr6lsHKfXyMnrxpkFokH6cnlq5xA2mXP0/XHbMW69W1X2jfgZ/sTwEAgIrKmxBq+kQG9HX097MMHJ2er9O5bg1g/6lX+aYvihXbT9M3nZNdzDRTh9MnNIgTRNf4RuKb/p9mCqakwU9pzu2mhjTgti5YU/RjlADOObmpxg45R0vH/kZfPzZGt17cVd/vO6BbZryq5r+bokseeEb3z12uZeu/sj8BAAAqkkp5eXmH7PUSzZ6/QGd17WnXSsMM7knTA6FTNBXD1JL6Qmok+mJWTCuXzFfX8y6ya5HVpH7Rc4yW1vL1W/Ra9kYtzt6k1z/6Us2SjtU5JzXV2U5wPfeUZmrd8Hi7JwAAKK9i1ic0vLfdvqBHMjk94l/3to2V8auztWTslfpk8g26fWAP/eJ8Fvrr/95U29EPq/tdT+ivz76p1V9ssz8BAADKm7gKofkj0i8LU2sa5msti1yiOLURIqtNw+N1fe8zNPP3g7TxoZv02t1Xqm/7lnph9QZ1vmOazv3Lf3Tf88v14eZc+xMAAKA8iHJzPGIh3pvjS2vpui/14nufuoF0w7Zv1Cu1hfqffqIuPKO1OxAKAAAkLkJoOVReQmig+as/9S1OKM35drcuPL2Vrjj7VF3eo53dAwAAJJI46xMKhHdRx9aaOvICfTzpt5r1+0t0TPVqGvqP53T6Hx/TA/NWuMEUAAAkDkIoEkrtGke5tZ9Zt/xK2RNGaVDntu7XiJ5226Ma/cQrfFsTAAAJgub4csg0x5dVaZvvY9UcX5JnVnysZ1d+pGdWfqzBZ56ka847ze07CgAA4hMhFGUSryHU76MtO/XM8nX616L3dHbbJhrVp6N6ndrCbgUAAPGC5niUK6c0rq+xvz5X7/zfCLVqcLx+NeFZXTnleb6ZCQCAOEMIRbnUtH4d3Ts0Te/cO0L1ax+jXn+dqeumzteaTV/bPQAAQCwRQlGumcnwJ13dR2//33BVrVJZ5437jya8sNJuBQAAsUIIRYVwWrMT9K/rLtC0URfr369/oAvvna2Vn261WwEAgNcIoahQBnc5Sa9lDFOz+sep51/+o/Fz3rJbAACAlwihqHCSj62ph6/r76sVXfqBeo2bqeXrt9itAADAC2Waogkobzbv/EEZTy/Rc++u1/3Dzteo3mfYLQAAIJqoCUWFZkbRz7hxoO6+9Bzd8PhLuuGxl7Tnx4N2ayzl6pW70pWxINe3uuMVZaRn6JUdvlXEt9wFGUq/6xXnWTSyNS09XdPWuisAAIsQCjj+cHFXvfznK7T80y3q939PJXTzfHAAQkJZO03p6dOc2AoA5R8hFLD6nNZSr9w5VCcm13WD6NRX37Nb4kBSX2VmZapvkl1HAknViKwsjWhvVwEALkIoEOCEY2sGNc//+anFdkuMFWqO9zXxpucvdtvaabrp3xukT6frpsByxFDh5ni3tjrw+Xs82/ccj1/obF2oTFtOEz6A8owQCoRhmuefv+3XmvLyu7px2su2NF6Y/qKZ2nT1FGVlZbnLlKulLducTe1HONfbSK2Ha4q7jdrTuON+UGiuDPvcZWVlqM+mrco1td139nF26JO/jdpTAOUZIRQowoBObbQoY5iefftj9/vn482GrQW9PpP7ZxJYEsombc2voU7ViHv6KtmuAUBFQQgFitGldSOtuOcaLd+wRQP/9l9bGmvJ6nvzcLV5NbOgOZeBSImj/Qhl9N6g6Tfa545mdwAVFCEUKEGL5OO09u/X64sd3ypt3JO2NMbcgUoBzbmfTtcU/3ROiHup1/qfO9OVoo0WjmdEPICKhxAKlELN6tX0oRNE9x38KQ6CaLamBdV8Jqtxa3vVkdyoufTpFmpG45QZlBRY8+k+X34NG6tNUFM9AJRfhFCgDFaOH668Q4diHERT1aW5f/S7WW7S9OYZyuxvexW2v1jDW/tHWDM6Pt4kdzpLm8YXNMWnj9+k4Q+NcJ5VR1JfpQc01dNMD6A842s7gcPQ/g+PqH7tY7R47JW2BAAAlAUhFDhMjUdNVpuG9QiiAAAcBkIocARqXnmfurRqRBAFAKCM6BMKHIG9T96upR99qYvvy7IlAACgNAihwBH6YcYf9eL7n+ryyXNsCQAAKAkhFDhCtY4+SlunjlbWio808pEXbSkAACgOfUKBCPl02zdqO/phjb7gTE28ynwH+OEz0/NkZY22a95LT59coW9f6mYvyy7Wz92Riv1jf/gS+diP5JwDEhU1oUCEtG54vFbdd60mv/SO7s5aaksBAEA4hFAggs5o0UBL//Ib3TPnLf1r4WpbCgAAQhFCgQg75+Sm+t+tQ/S7aQv04nuf2VIAABCIEApEwSVnttUjIy/UxX97Wh9uLvwt7t/s2a+vv99r1wAAqHgIoUCUXNfrdP3f5Wk67bZH9f2+A7bUp8ufp+sP/1lk1wAAqHgIoUAU3T6ou269qKvqXvOALfGpc0x1Za1Yp12799uSssmeNU933OFf3lW2LffUjvWaGIvbdm834P5PWK/Cdc1xbN27Ac/dPM1cZ8sTiDn/Jr62264liEQ/b4ByiBAKRNkDV56vq889Tc1/N8WWSEm1j9HPv+Rp+pI1tqT0cl9brFnb2+qWewfoXme55fzdmuXlG6r/zXzieu2wRd7J0UzndnX+ee59v/fe89Rb6zVpVo7dHufMYzdzt3qP8T13945pq9yZi7XY+wfysPg//MyKyaeeI5Hg5w1QThFCAQ9Mv+FitW+arHPGznDXGx5Xy7186OV3dahMM/XmaOGiPWrXr62SbUly+0ZK2rlV2V4FmaS2GmPeyIc1tAXeSnGCxJhete1abaV2cB7L7bsTolYre6ET3FNPUlqSLUhKUYf6e7RmbWLUKqYOtQGuvi1IIIl83gDlFSEU8Mi8P6Vr74GfdPU/56luraNVpXJlbf1mt1754HO7R2nVUoo/gRpJtZ1Aukc5FeLdNEVp+UHCJ3f7HqmBeQwSQ5JzrAWc424g7XDCEKIp8c8boDwihAJRNOj+/+q2JxfpP6+v1Xsbt2vl+OF66f3P9MGmr1WtSmVVqiRNWfCu3bsUdlBzE8jtmpDdUEOHptiSeOY8d9vtVcRUYp03QPlFCAWixDSzN65XR5NeXKmrH56nTrc/rqOvuFc1j66mJR99qby8PP2Sd0gL1nymzTu/tz9VArfWE4YJEpMWSb3HdFaqLYtvvlpPxFbinTdA+UUIBaLE1HI+NKKfPp50gy7o0ErOqlN4SF/u8AXOg7/kuZdHVa2ixxa9714vnZCmd7d2NKSJvpwzA2QmLaqtofemFfSvTBDBTe++2tHgJnpESyKfN0B5RAgFosx8p/z8Oy7TG3+9Sq0aHK8qld04mu/gz79oyivvuqPlS5aiPufX0rqXC0bD567dqh31Gym1Qryp7tbiCfPs7ADRqcn6bu/P2pj7nV2LrNQ+bZWU/UnBaPgdOVqzs5Y6tCeERlf0zxsAZVcpLy+vTGNzARw+00Q/4/UP9MdZr+nbPT/qlzxf8KzsBNMnbxyky3u0c9fT09OVlTXavR6OqdEpmCanoYZG+I01PX1y0bdvphkqND1TZI+hyNsPe9tGLfUeE5narb89/6XumP2ZahxVValNknRqkxOU2jTZWZLc9QZ2ZoOilPTcufOEztxmV6R2wwZomO9pjwvFPffB551PUtCo89iK5Xlz5LrZS6DiIIQCMbD/4M+6f+5y/d9zb+lnJ4iacNrOCTgf/v16d3uJQSbKig2hHojl7ed+f1B/+e8+Pbb4/fwPCYHq1qyh9s2SnXDqD6bOdSek1q5xlLs91s/dkYr1c38kEvnYCaGoiGiOB2LA1LKNHXKONv3z97rqnNPcsnVf7dCctz9xryN2ko89Sg9f11+fT/mdrjz7VFWtUknVq1W1W6Vv9+7Xm59s1uNOSB312Es66+5/q+kND9qtAIDSIoQCMdSwbi13Ivs194/UwI5tdOEZre0WxNox1atpRK/TlTH4HDWpF9zcbBqQfvzpZ7smndW2ib0GACgtQigQB0zz7nN//LWqV6tiS+CVnbsP6o2Pv9PUV7fo5ic2qHL6a85yj5Kvnaief/mPxj7zuj7b/q1vdgOrWpUqMuPLru55mrZMvVkv3H6Z3QIAKC1CKIAKYccPP+n1j77Vvxb6wmbvzPfdwJl87ZtO2FytGx5fr8079+uOQc31nxsHatV912rfzNs186ZL3Om2TOd5M7OBWXqf2kIfTbpB0397sVLqMrIdAA4HIRRAuWIGFr3+0Xdu2Pz99A06/6/vuWHzhOve0Hnj3tPvpq3XVzt/VJdWdfTkje2csNnZCZvnKS+rl5677TSNv/xEDTv7VJ3RooFe+3CTrpzynDtwrGqVyjqjZUO9+der3Sm32jQ83t4iAOBwEEIBJCQTNpeu+1YPv7JFNznB0oTNlOvfUoORbzphc7X+seArbf3mgLq2PtYNm6vvO1P7Z6a5YXPObe11jxM2h57dwAmbdXR0tcIvhcvXb9ElD/zXrQFt1aCu/nfrEL09frjz+xr5dgAAHBFCKIC49rUTNpe4YXOrGzZ7jXtPDZ2gacJmmhM8p7z8lXK+PaBubY7T369spff+1sUJm+fp40nd9L8/nJofNk9vUVvVqwV/UUBRcr/fq37/95Tq1qrhNrl/MvkGXdyRQWMAEEmEUABxwRc2v9M/X9mi95SiNCdsNhj5hhs4ezlh86FXNmvbdwfV46RjNeE3rd2w+eMsf9hsr8zLWuqKsxqoQ/NaTtg8spe2pDo19fioi/Tlwze5g48qm06hAICIIoQC8NT27w5ocfa3eujlr3TjtPU2bL5pw+Zqt3n9R1XTWU7YnHRVW71/fxcdeCpNH03spmdvPVV/TT8xP2weVTU6L2Emc/662yk6OmB+UABAZBFCAUTFtm8P2rC5Rb97fL07KMgMDjL9Ns/PfE//WrhVXzuB9OyTjtPkq9pojRs2z9O6iV3VXV+6YfPyHifotGa1VK0KNZEAUN4QQgEcERM2X/vwG01Z8JVueOwTd7ojMxq90ag33bA59dWt2vHDQZ3jhM0Hr27rhs2DT6W5YfOZW9trXHpLXeaEzfZu2OQlCQAqCl7xAZSKGfyzyAmbZtT5DY+tDwqbve95X48s2qqdu39Sz1PqavbNqfrggS76aXYvZU/oov+OOTUobJqvwkRJsjW+cg+NX2lXw1k5Q5WdfQqWO/XUFrstFgodTw9dOnuX3RggzH4FywytsLt5y/d4Bx1L+kJtt1uL5v+5WB03kLgIoUA5NX/1Tp1992pVvWyx2+dyzIwNdkvxzLRGX6uWEza36LePfeIGTbM0HvWW+jhhc/S/N2jXnoM6r93xenq0P2ymOWGzqxs2//LrlqpZvYo7+Xv1K8p225FyuPc9nqzIvF4Z9npYJsh1f1SZy5cpL8+35MyShjWNURC1xzN41rz848nbPFYaOkCVM7PtTsECj71guUrd7HbvmCDpPN5Dxion/zjmaabGKaXYcLlLT6WX8DwBKBIhFCiHTAgbcP8HWrb+O+UdOuTOqTn5pa808G8f2D18YfPVtbv0oFM+6tGP88Nmk9++pTfUwgmb6/Xtnp819tKWbthc+/eu+vlp3zybWbecqrFDWujX3U7QqU1rud8i5Fea246mWN/+kTGhxlcL18PJb0Vz9pv0qDTuEd3Z1RY5Glw+RjOHLNWwJ8KHvuhqqJmbl+nZy+vZdUfjPnpoVk9p7OzY1tCWQgsTnrP6qIFdl+rpigljNViPakK42lzHiswBGvbMSGWOswUAyoQQCpRDf5v7pb0W7IX3dgaFzb7j1+iWGRv06Gs5TthsoazRp+pDJ2xeqg/dsPn0Lan5YTO1Sc1STVVU3G2bgBhtsb79I+MEnyxbE7d8pC0LY8tqzXlGGtyqoS3wq6cWqc7F2NXeNw137aMrGtvrCSdVVwSG51LYPvtO54NCTyd4X6U0WwagbAihQDm0YsP39lphfxnS0gmbqW7Y/OXpXm7YNMtYp3xIt2S1c8LmkfTYLO6239+0216Lnljfvie2bNMc5+L0FoWDU4tWPZ3/N2hjXNQ87tLi55c6l23UIkxAzege0P/SWYrt/xoD2998PfzjvHKGUoYuVeby8QkcvIHYI4QC5VD9OtXstcLuvrSFEzZP8IXNKIwPKu62jzsm+vNuxvr2EWDlfA17xrkc1zG4n2fXq2y/y4Jl2ThfKA07kCkmsjXNCZrSSKUFdHnQloW61PbFDewKAaDsCKFAOXRFjxPstWBefPNPcbc96MwkuxY9sb59WDasmRC3LMP0EShet4x5mjlEmjN0fhyMMi8YcJS5PHCgVLbGN3XS8qx5BFAgAgihQDk08ao2uviM+nbNx4Swf//uFLsWPeFu27htQFM1qXe0XYue8Lfvu+9e3D4cJoA6YW2OCaClHu1eT2mD4qErgQmgZsCRb/R+YNjcPnu2MsY9Ejz4CsBhI4QC5dTcP52meX88TeN+3VIPXt1GG//ZXcPOLhj7G02ht923fT19um2/3Rp9gbd/7+UnqmXy0e60UeVG44Ya7Fy8v7Fw0/XGz4rug+mJwwqgPjE/9mICaL6x1wf1YzWLbyaDR9XDrJdqblEABiEUKMcu6lhfGb9qoZv6N/G8FjDwtkdf1ETPv7vD/d54r/hv/0+DmuvCM+rrqTe32S3lQOOOGmyarj8LvU+7tNHMzhTaB9MrZq5QE0Dd+TbLOt+nPfYhDdXCV+AxM1eoCaBmxHv4ANrg8vGF+rL6+7O63Q7MetA0TwCKQwgFEHV92tdT43rV9eiiHFvirQvOqKf/vbNDn27bZ0sSXT1dcctIt1YucET59tkTfSHqmpL7YEacnazezF1afBAzYa/whPq+OTedY58QixBnJ6t3gyQj3gGvEEIBRJ0ZD/W7vo3d75E3E8h7re9p9dStzbF6dmWuLYlXBZPVu4HOkT+NUWgzrxlhvnxk0DRHKUPbxCxErXjVd7zhmqvdJf9bk1KVNm6phjUN3t5jbAwD4MrV9luPbJN6oYWv5ASigRAKwBPDz0vRzt0HNW9VbCaMv+D0enp6+dd2LV4FTFYfuoSrXSw01VEsvvLSp1tG4HGEWQJGyIffN3bHHm7KqOCl+GPz3Z8YHj+QoAihADxRr3Y1pXc7QY8s3GpLvHXJmclan7NPL8T9tyYBQMVACAXgmVF9Gmnhh7u0eeePtsQ7pzSuqf4djtezK+K9NhQAKgZCKADP9Gh7nBsGH34lNhNBDjozWVkrcrUx17vpogAA4RFCAXjqt70ba9qSHP38i/cDlC45M0n1a1dNgAFKAFD+EUIBeOrqng21/2CesmIwSKhOjaq6pHOy/vc2IRQAYo0QCsBTx1SvomFnNdAji2IzQMl8f/w7n/2gNz/+3pYAAGKBEArAc+ZblN765Dut+2qvLfFOr1OPV5fWx2r+6h22BAAQC4RQAJ5r16SmGwT/tTBGA5Q6J+mF95iqCQBiiRAKICZG9W6kf7++TfsO/GJLvGMGKG3I2af5zBkKADFDCAUQE5d1b6CqlStp5ptBX0bpiTYNj9ElnevTJA8AMUQIBRAT1atV0ojzUjTl5a9sibfMnKGmSX73fu9rYgEAhFAAMfTbvo3cwUlvf+r9SHXTJH9U1cp6gdpQAIiJSnl5ed7PGA2gWOnp6fZa+fe6WuoY/aTO8r5GdI0a6kdVU1dttiU+WVlZ9lrZVaTnDpFzJOcckKgIoQBi6tmVH+vKh57X14+NUZ0a1W2pN974eLMuvHe2Pp70WzWuV8eWAgC8QHM8gJga1Lmt6tasoWmL19gS75xzclOd3qKBXlj9qS0BAHiFEAogpqpWqaxr0zroXwtX2xJvDep8kuav3mDXAABeIYQCiLkb+nbSF19/q8XZm2yJdwZ2bqOFa7/Qmk3ef5c9AFRkhFAAMdfguFq68PRWmhqD2tATT6iri85oreff+cSWAAC8QAgFEBdG9emk51et1/bv9tgS71zohNDn3l1v1wAAXiCEAogL/TqcqJS6tfX4a94PULq4Uxtt3vm9XqBvKAB4hhAKIC5UqmS+T76jHl64SnmHvJ057oRja9omeWpDAcArhFAAceO6Xqdr5+59evG9z2yJd/xN8tu+9b47AABURIRQAHGjXu0aGtLlZE1duMqWeOeijq11zFFV9RwDlADAE4RQAHHl+j4d9fIHn7t9NL1U6+ijdHHHNjTJA4BHCKEA4or5FqMTTzg+JtM1mSb5Rdkb9c5nObYEABAthFAAceemfp312OL39fMvebbEG6ZJvk3D4/kGJQDwACEUQNy5qmd77fnxoJ5d+bEt8Y5pkue75AEg+gihAOJOnRrVdeXZ7TX1Ve+b5E1t6Adffq1FH260JQCAaCCEAohLN19wpt74eLM+2/6NLfHGuac0U6cTG2r+KprkASCaCKEA4lK7JknqfGKKpix415Z456Iz2uiF9z7VTx73SQWAioQQCiBumW9QmvH6Wh346Rdb4o2LO7bWxtzv9AK1oQAQNYRQAHHrirNS3cuZb37oXnrl9BYNlNauueYzQAkAooYQCiBuVa9WRdf0PE2TX3rblnjHDFB64b0N+mbPflsCAIgkQiiAuHZD305a99UOzyeQv7hTG32750cteP9zWwIAiCRCKIC41rrh8W7TuNffoHTiCXV10Rmt9fKaz2wJACCSCKEA4t6oPh01e3m2fth/wJZ444IzWmnBms9pkgeAKCCEAoh7gzq3Vd2aNTRt8Rpb4g3TL/Tgz7/QJA8AUUAIBRD3qlaprGvTOuhfHjfJp9StrQtPb0WTPABEASEUQEIwA5S++PpbLc7eZEu8cWHH1jTJA0AUEEIBJIQGx9VyayW9HqDUv0MrHTp0SK988IUtAQBEAiEUQMIY1aeTnl+1Xrt2e1crWa92DfU97US9soZ+oQAQSYRQAAmjX4cT3X6aXvcN7evc7ssffK7d+w/aEgDAkSKEAkgYlSr5vk/+4YWrlHfokC2NPhN+9x34SS9TGwoAEUMIBZBQrut1unbu3qcX3zuSEeu5euWudGUsyPWtLchQ+l2vOKXhnXBsTfVzm+QZJQ8AkUIIBZBQTB/NS7ucrKkLV9kSb/Q5raVeWfuFNs+/u9jACgAoHUIogIRjvkHJ9NHcvPN7W3JkkvtnKuuevkq26+GYJnkzIGrxlkq2BABwJAihABLOOSc31YknHB+x6ZoKN8dna1p6utLzlwyty6ujvi2r6J4lu6VPp+smW/7KDvsjAIAyIYQCSEg39eusxxa/r59/ybMlkWL6i2Zq09VTlJWV5S5Trpa2bJP6np2mg7Xq6lCrazTF3Zapvkn2xwAAZUIIBZCQrurZXnt+PKhnV35sSyJrw9aCelHTXD+ivWmSb6Vte6Xt+yLTDQAAKjJCKICEVKdGdQ0761RNfTXSc4Ymq+/Nw9Xm1cyC5njbVN886VilNT6k7XsJoQBwpAihABLW6Au76I2PN+uz7d/YkghJ6qtM2xSflZWhPp9O1xQ7nVPPFCeE7vvBvQ4AOHyEUAAJq12TJHU+McUJiO/akkjI1rSgQUrJatzaXnUM7NBAe376US9/8pUtAQAcDkIogIR2fe8zNOP1tTrw0y+25Eilqktz/+h3s9yk6c0zlNnfN4HTKWmXqHn1A5ow9n5GxwPAEaiUl5fn3XffAUCEmfB5wnUTNeE3vTUirYMtja5Rj76ord/s1gu3X2ZLAABlRU0ogIRWvVoVXdPzNE1+6W1bEn3d2jbRW+u/0k8Rnx4KACoOQiiAhPe7fp207qsdWvX5NlsSXee1a6bv9x3Q4uyNtgQAUFaEUAAJr1WD49XzlGYR+walkjStf6xOb9FAr6/70pYAAMqKEAqgXLi+d0fNWvahfth/wJZEV/fWjd0meQDA4WFgEoBywXx9Z8PrJynjV+fo9/0729LwzKj3rKzRdu3wPPdOrn414UPt/k9P1axexZZGX3r65CM+9lhJ5GOXutlLAJFCTSiAcqFqlcq6vtcZeujlSM4ZWrTzT63nXi7J/ta9BACUDSEUQLkxsvcZ+vzrb7TUg76atWtUUZfWxzq3RQgFgMNBCAVQbpgBQxd0aKVHQr5P/okla/Tljsh/3/v5qcdryUeEUAA4HIRQAOXKqD6d9L93PtGu3fvddTOV0rWPzNest7Ld9UjqdWpdvb9xt3bvj9S3NQFAxUEIBVCuXHB6K6XUra1HF73nrr/43qc6dEja7YTRSDuzVR338p3PIl/LCgDlHSEUQMLbuXuf5q/+1L1eqZI08vwz9IgTQk34fPn9z93yPT8edC8j6ZjqVdSuSU29+/luWwIAKC1CKICEd99zyzXg/iwN/vszbt/P650QmvPtbr343md64T1fOP2hDCE0e9Y83XGHf3lXxTXkd25ZR6s+/8GuxYkd6zWxhOOOR8GP+zzNXGc3ACiXCKEAEt649HN1arNkPf/uerW++Z/6+7wVGtCxrR6Yt1zf7/vR3efbPfvcy5LkvrZYs7a31S33DtC9znLL+bs1a8J65drtoTq3qqN34iWEuuHTCXAT12uHLUoU7uOe3VBD7eN+77CGWjdzsRYn2h0BUGqEUAAJr2b1alp01zB3dLyZtH7C/JVauPZzvbl+s6pX800k/12p+oTmaOGiPWrXr62SbUly+0ZK2rlV2UWEoc4nHqstu37Utm8j39xfZkltNcYGuMTTyAmgnZVq19Sukdppj3KKSv8AEh4hFEC5kFTnGC2+e5iOq3m0fjmUl98H9MBPvpHrP+wvbUispRR/AjWSajuBtOgw1OnE2m4/VAYnHZnkXm0LAqixY7dyQ58LAOUKIRRAudHyhLp6LWOYjqpaRXKCoQK+lPiH0tSEusGn7M5sdaxWMTgpgnI0c+J66fzOSkuyRQDKHUIogHLl9BYN9OLtl6uyqZ4MsOfHUoRQt9az7Dq3rK13P6cmNDKcAHrHKq1L7aQxvWrbMgDlESEUQLmTltpcs38/2K0M9dt74Gd7rSQhTe+laBbu3OrY+BmclMjcgVWrlHv+ebp3aIotBFBeEUIBlEtDup2sB6/pq0q2RnT/wZ/cy+KlqM/5tbTu5YLR8Llrt2pH/UZKLaZZuPOJdfTd3p/16bbSjcBHGOvedUf1Jw8bQA0oUEEQQgGUWzf266ybncVv34GSg2hyrzQNbbBek+xclZMW1dbQWwtGy4dzUqNjVLN6Fb2/Kcb9Qv1TNM3c5qxs0yz3PiTGfKHZa8wxO1l0pu9xz19m5bjlAMqfSnl5eQFd9wGgfDHfmnTmndP0/hfbtXPare7o+fT0dGVljbZ7REaPjFVKa3e8Mi9raUuiIz19csSP3SuJfOxSN3sJIFKoCQVQrpnW+MUZVyrnkdFuAI2WU5vU0oeb99g1AEBJCKEAyr3aNY5S8rE17Vp0pDatqQ+/IoQCQGkRQgEgAto3q62Nufu1e79vcnwAQPEIoQAQAac2reVe0iQPAKVDCAWACKhbs6oa16tOCAWAUiKEAkCEtHcHJ/H1nQBQGoRQAIgQ0yT/4Vd77RoAoDiEUACIkFQTQmmOB4BSIYQCQIS0b1bL/frOzTt/tCUAgKIQQgEgQvwj5D/eSpM8AJSEEAoAZbJLT6X3UOXKgcsMrbBbm9Q7Wl+F1IRun31n8P6Zsf4292yNDzyeynfqqS12k1XomAOX9IXabvfzRrjHPGQJekxD75+zeH7MAEpCCAWAUjNhaICGPTNSy/KWKc8uy8Y9qh42yDWtf7S27Dpg9/eFoZTnz1VOwP55Gal2u/d84fJ6aXnA8eSN1xWN7Q5Bemrm5sD97JLVRw3sHt6opyuywhyHWZaPdPfI7O1/TM1jfr0yhowNeMznaabGKSXgwwKA2COEAkBZDHrECTVXqZtdNbplPKJMLdWwJ7LVpF51fbXL1ISawOqEoXHO/p6HtiKsnKGUoXKD5Z1dbVlCcx7jSY9KTuAcEXB/WsyaF/KYOyF2wlgN1qOaMHuXLQMQa4RQACg1J8xcXnwtZtP6NbRl10En8M3XsGd6auY1sav1DGYD27jLi6j1TEDuYyxl3hIYOFOd56ievQ4gnhFCAeBIrVytDOdicKuGalzvKH31zY9a8aqpoTtXLd4M7VsZoybhLas1xwS23irUX/LSImsHl2pY08B9C/cdjZ3wtaBF2f7m65rjXJ7egoAKxAtCKAAcERuG1FODz67n9gn9aud+bTTjZJ4ZpwkaU9B/0fRNHFLQf9RTW7a5ISyj+2ql5R+PsywfqTlDBxQaLNXg8vEBx20Wc+y+UDp+pd0plsLWghYlW9OGLnUuRyqtXHRDAMoHQigAHIEVmWagkjR41hi3mduMjt97IE97VMOtpXsoqGnYDLAp6D8aC5nLg/uzqutVypnVUxo7u4Rg7D92J8hOivVI82yN717aWlDbN9e5Vui+A4gpQigAHKYVmT3UY6wJoPP0rA2bTepXdy+/0bHuZWEN1WKIc5GdEzdTBjVo0cb5f6k2llg7m6q0cc7FM9u00VcQE9tnz/aFyhJrQU0A9X1IyFxeXgZjAeUHIRQADkO4AGrUr32UjqleRVWbOSE0xmEtSOOGGuxcvL/xSEaH7/J1MxjiBGlfQQzYpvUSa0EJoEC8I4QCQJmYcOMLoCbcBAZQPzNNU80TL3SuParFof0n7QChwYM6ejttU+OOGjxEmvP86kI1sO4gqlL1l3RCtXPsSk3x9tgDlK4W1MwVagKob55TAigQnwihAFBq/tq14sNN03o1tKVOW810Ql9G98BBSM7P3zpOc5zAd6vn0wjV0xW3jHQHS6UEDkJaOcPW6F5U0F9yy0JdWmgUv7nvpm/lSC2L2WT7pakFtZPVm+MschJ+APGAEAoApWVrMQtPXRQ8hZGpCd2yq5L7LT/LxgXu6wTY1MKT3Xum61XK2zxWg8deX3DM3Te4gTqoRtetNTWj+P3HbY9d5luIYje4Z0WmCZfOB4AJxdSC2umyTC108PH7F741CYgXlfLy8g7Z6wBQIaSnpysra7Rdi7xx//1Cr3/8nRaPPcOWRE56+uSoHns0JfKxi3H1QMRREwoAEZZ0bHXl/nDQrgEAwiGEAkCEJdWpph2EUAAoFiEUACLMF0J/0iE6OwFAkQihABBhycce5V7SJA8ARSOEAkCEJdXxhVBTGwoACI8QCgARZprjjdzvqQkFgKIQQgEgCkwQJYQCQNEIoQAQBaZfKCPkAaBohFAAiIKk2oRQACgOIRQAosA/TRMAIDxCKABEAX1CAaB4hFAAiAIzTRPzhAJA0Srl5eXxnR4AKpT09HR7LXo+V3196iz99IktQSLLysqy1wBECiEUAKLgmRUf6/rHXtQ30/9gSwAAgWiOB4AoSKpzjL7b+6N+ycuzJQCAQIRQAIiCmkf7vjVp34Gf3UsAQDBCKABEQc3qvu+P33eQaZoAIBxCKABEwTHVq7qX+w4QQgEgHEIoAERBfk0oIRQAwiKEAkAU+GtC9xJCASAsQigARAE1oQBQPEIoAETJcTWP1nf7frRrAIBAhFAAiJK6Tgj9dg8hFADCIYQCQJRQEwoARSOEAkCU1D3GCaHUhAJAWIRQAIgSakIBoGiEUACIEtMn1Hx/PACgMEIoAESJqQn9lhAKAGERQgEgSo41fUJpjgeAsAihABAldY6prt37D9o1AEAgQigAREmdGtX1w/4Ddg0AEIgQCgBRUrtGNUIoABSBEAoAUeLWhO4jhAJAOIRQAIgSE0J/+iVP+w/+ZEsAAH6EUACIEjMwydi9nxAKAKEIoQAQJbWPPsq9pF8oABRGCAWAKPHXhBJCAaAwQigARInpE2owOAkACiOEAkAU1Tr6KO09QJ9QAAhFCAWAKKpZvZr2/Mi3JgFAKEIoAESRqQklhAJAYYRQAIiimkdXozkeAMIghAJAFFETCgDhEUIBIIpqVT9K+wqF0GxNS0/XtLW+tdwFGUq/6xXl+lYBoEIghAJAFEV2YFKuXrkrXRkLiKsAEh8hFACiqDRTNCX3z1TWPX2VbNcBoCIghAJAFJWmJrRQc/zaaUpPTy9Y7Lbsx2/S9E+lDf++KagcABIRIRQAoqjMA5N2vKKM8Zs0/KEsZWWZZYqGa4sbNlOvda63ltpcPcW3jdpTAAmMEAoAUWRqQss+RdMGbdlmrzoxs+89I5Rq1wCgvCCEAkAUHVuzhr7b96NdK4Wkvrrp6jZaOL6gOZ6BSADKI0IoAETRscdU1/f7Dti10nEHKrlN8c5yZx9t+PcUvbLDbgSAcoIQCgBRVOYQunZacM1nw8ZqY6+apvlGzaUNW6kZBZD4CKEAEEXHHnN02UJo+y5q7h/9bpYbp6v5nZnqm+TbnDpwuNq8msnoeAAJr1JeXt4hex0AEGGrPt+mM/88Td//+4+qXeMoWwoAoCYUAKLINMcb35dlcBIAVACEUACIItMcb5R1cBIAlHeEUACIIn9NaJmmaQKACoAQCgBRVL1aFR1drSo1oQAQgoFJABBlDUdO0sSr+ujyHu3cdTOyPStrtHs90aSnT+bYY6KbvQTKD2pCASDKTL/Q7/bSHA8AgQihABBlh/OtSQBQ3hFCASDKah99lPb+eNCuAQAMQigARNimHd/ph/0FNZ81jqqq/Qd/tmvOdh2vmW9ut2sAUDERQgEggg4dkrr++Qld/8iLtkQ6pvpR2nfAVxO6PmeXVitFr639xl0HgIqKEAoAEVSpkjSk2ynKWvGRMp5e6pb5a0LznIR62eQ5ylMlDTzTfhk8AFRQhFAAiLDre5/hXo5/7i3NeH1tfgjNfPZNffDl104EPaQ+7Y939ylstxZPmKc77rDLhPXKtVsSxo71mnjHu8q2q4khRzP9j7m7JNrxA4mHEAoAEZbaJEmdT0xxrw9/+AV9/f1ebf9+jzL/94Zblqx9OqZ6Ffd6qOxZS/Rqg066994B7jK0wXpNmpVjt8Y5N3w6AW7ieu2wRYnBBP9VWpca8LinbtOsRPwAACQQQigARMGN/TqrahXfS+z81Rv0zmc5quT8M9+e1EjfueWFOCFuYXYt9e7jC7BGaoeGTjLdmhi1ckltNcaEuGHOMSeaDk4AHRryuO/8gRAKRBEhFACiYEi3k1XdCZyHnH/me+kO/PyLfjl0SD/+9LNS9IPdK5zaSg7sLppcR0nardzEqlpMMLWV1qsggBq523dL9eso2a4DiDxCKABEganxvC6tg6pVqeIOSDpkhs07TmpUTzVUMF1TkNwfEqwZu5xa964mLZJ6/6YtIRSIIkIoAETJb/t00k+//GLXfMH00i4n27Uw3FpPxJQTQO+YuU3thqUpjScDiCpCKABESeuGx6tL60bOtUru+o8//6yLOrZxrxctpOndrR0NaaJHVOS+ttgJoLvVe8wADWtnCwFEDSEUAKLoxr6dVdmXQXVsjeo6s1Vw38MgSW3VJ3WPXl1YMBo+e802KbWRUu06oiN71jxNWlRbQ++lBhTwCiEUAKLo0q4n66iqvumYLu1yintZnNSh56n39lX581XO2t5WtwSM2o5r/imaZjrBWds0K2Hm28zRGvcg/cdcsMxc5+4AIAoq5eWZcZsAgGi55IH/au6qDXruD7/WwM5tlJ6erqys0XZrYklPn8yxx0Q3ewmUH9SEAkCUDel+ii44vZV6t29hSwAAhFAAiLIreqRq/u2X6Zjq1WwJAIAQCgAAAM8RQgEAAOA5QigAAAA8RwgFAACA5wihAAAA8BwhFAAAAJ4jhAIAAMBzhFAAAAB4jhAKAAAAzxFCASChZGt85R6qHLTcqae22M2uXXoqPXSfkCUz2+7rsZUzQo5lhlbYTcHC3M/0hdput8ZEqY9d2j77zuB9Y33sQBwihAJAwjDB7HplDBmrnLxlyrPLsnFLNaxpD41faXdTPV2RVbA9aFk+0t0js3eqe+mlFZlOGOu+QTM3+49nnmYOeVQ9QkP0loW61NzPcY8EHLuzr8YppZjgF02lPnb7ASBlaBstyz/2R5T5TOyOHYhXhFAASCQmmGX1UQO7anS7ZqwGO5fvb9zlKyiSE5AmPSo5IXZEV1vklZUz1GOsE36Xj9cVjW2ZG5adgCYnRD9RUDO74olxmqORWpYRGJSdfSeY+/moJswu6X5GWBmOffvsiRr2TE8nrF6lbrZMStWdm2N07EAcI4QCQMJwwkxQMCujlfOdgOSEqVuCQ6wXtm/c4PzfUy3yQ5xfqtLGORdjV4fUEm7QxqAaxtgpy7Fv/Gyp83+bwvs27qjBQ6Q5z6+mWR6wCKEAkNCyNb7pOM0ZMlYPXV7PloUTw1rQErRo1dP5vyB0+mp2Q7sYFNSQ3lrs/fRW6LEXrZ5amM8Pz2zTRl8BUOERQgEgARUMfLleWr6sUBN9ITGsBTUatGjj/L+0dLWbjfvoWbfPpZTR3Q7scZYeMn1EA5u5vVGWYy99KAVACAWABNTg8vF20Msypb1qQlroAJlA2RrfPca1oF0vsqEydHBOtqYNNU3YAdyBSQM0Z9A83310+1M6xl4fm1HmZTj2Bpdf7usnemvIcTr3acJYex2AixAKAAmuW0bhATKBts+erQznMla1oD6+EfvLxpkR5QW1m5Urr5ZMv8r8fpS79NStId0L3JpRJ4yakf1mlLnn00uV9tiNVN2ZP5I/YN9bt+l0J8hqSEO18O0IVHiEUABIeE6wMQEnOydMLaGtrYuTvqDdMny1twXLRWphMuW4jraZfZs2PuNcpKYUDsxdOzph2xH2fkZfycfu5wutQftmdXQCtDR4UMcYfhAA4gshFAASxcoZQQN1ChQd3OKjFrQYbl/Vnpp5jX/Uf3GB2goXUGOh0LEXzfc8xNegKiDWCKEAkEDcgTpBzdFmcvTrnYATLgzFVy1oKHdwVfdHC8+/eUu4Zvfi7qf3wh97eGai+5ShCpk7FAAhFAASRderfP0izQCd/P6GAzRM5huUCoehFZk2tE2Ik1rQkK+9THn+XPebn+4MDcjmfppvGSrl/fREaY/dEfqVnb5R/TE6biCOVcrLyztkrwMAPJCenq6srNF2LbGkp0/m2GOCOlSUP9SEAgAAwHOEUAAAAHiOEAoAAADPEUIBAADgOUIoAAAAPEcIBQAAgOcIoQAAAPAcIRQAAACeI4QCAADAc4RQAAAAeI4QCgAAAM8RQgEAAOC5Snl5eYfsdQCAB9LT0+01oHSysrLsNaD8IIQCAADAczTHAwAAwHOEUAAAAHiOEAoAAADPEUIBAADgOUIoAAAAPEcIBQAAgOcIoQAAAPAcIRQAAACeI4QCAADAc4RQAAAAeI4QCgAAAM8RQgEAAOA5QigAAAA8RwgFAACA5wihAAAA8BwhFAAAAJ4jhAIAAMBzhFAAAAB4jhAKAAAAzxFCAQAA4DlCKAAAADxHCAUAAIDnCKEAAADwmPT/zudAUul+N+0AAAAASUVORK5CYII=)"
      ],
      "metadata": {
        "id": "StHDxF3jBtch"
      }
    },
    {
      "cell_type": "code",
      "source": [
        "#@title 2_Dimensional Lists (Basic Example 1)\n",
        "\n",
        "marks = [10, 25, 24, 26, 65, 72, 37, 98, 99]\n",
        "py_marks= [ [10, 25, 24], [26, 65, 72], [37, 98, 99] ]\n",
        "\n",
        "a = len(marks)\n",
        "b = len(py_marks)\n",
        "\n",
        "x = marks[0]\n",
        "y = marks[2]\n",
        "print(type(x), type(y))\n",
        "\n",
        "p = py_marks[0]\n",
        "q = py_marks[2]\n",
        "print(type(p), type(q))"
      ],
      "metadata": {
        "id": "CF7CS6cAB0DG",
        "colab": {
          "base_uri": "https://localhost:8080/"
        },
        "outputId": "dc653983-54ef-4209-9054-92aa6fa18cd0"
      },
      "execution_count": null,
      "outputs": [
        {
          "output_type": "stream",
          "name": "stdout",
          "text": [
            "<class 'int'> <class 'int'>\n",
            "<class 'list'> <class 'list'>\n"
          ]
        }
      ]
    },
    {
      "cell_type": "code",
      "source": [
        "#@title 2-Dimensional Lists (Basic)\n",
        "\n",
        "#1-Dimensional List\n",
        "my_list = [2, 3, 4, 9, 8, 7]\n",
        "\n",
        "# what is the length of the my_list? i.e how many elements are there in the my_list?\n",
        "print('length of 1-D list: ', len(my_list))\n",
        "\n",
        "# what is the value of first element in 1-D list?\n",
        "first_element = my_list[0]\n",
        "\n",
        "print('Value of 1st element in 1-D list: ', first_element)\n",
        "print('Type of the first element: ', type(first_element))\n",
        "\n",
        "#Navigating the 1-D list:\n",
        "print('Navigating the 1-D list')\n",
        "for elem in my_list:\n",
        "  print(elem)\n",
        "\n",
        "\n",
        "#2-Dimensional List\n",
        "# 2 3 4\n",
        "# 9 8 7\n",
        "my_list =[ [2, 3, 4],\n",
        "           [9, 8, 7] ]\n",
        "# what is the length of the my_list? i.e how many elements are there in the my_list?\n",
        "print('length of 2-D list: ', len(my_list))\n",
        "\n",
        "# what is the value of first element in 2-D list?\n",
        "first_element = my_list[0]\n",
        "\n",
        "print('Value of 1st element in 2-D list: ', first_element)\n",
        "print('Type of the first element: ', type(first_element))\n",
        "\n",
        "# How many rows are there in the 2-D list? 2  ==> legth of the list = 2\n",
        "# How many columns are there in the 2-D list? ==> length of one of the little lists = 3\n",
        "\n",
        "print('Number of rows in 2-D list: ', len(my_list))\n",
        "print('Number of columns i 2-D list: ', len(my_list[0]))\n",
        "\n",
        "# Get the 2nd element of the 2nd element\n",
        "second_of_second = my_list[1][1]\n",
        "print('Second element of second element: ', second_of_second)\n",
        "\n",
        "third_of_first = my_list[0][2]\n",
        "print('Third element of first element: ', third_of_first)\n",
        "\n",
        "# Navigating the 2-D list\n",
        "print('Navigating the 2-D list: 1st level')\n",
        "for little_list in my_list:\n",
        "  print(little_list)\n",
        "\n",
        "print('Navigating the 2-D list: 2 levels')\n",
        "for little_list in my_list:\n",
        "  for elem in little_list:\n",
        "    print(elem)"
      ],
      "metadata": {
        "colab": {
          "base_uri": "https://localhost:8080/"
        },
        "id": "6fffEUaDQcV1",
        "outputId": "9ba753a5-c4d0-4869-d5d2-406b26d208e6"
      },
      "execution_count": null,
      "outputs": [
        {
          "output_type": "stream",
          "name": "stdout",
          "text": [
            "length of 1-D list:  6\n",
            "Value of 1st element in 1-D list:  2\n",
            "Type of the first element:  <class 'int'>\n",
            "Navigating the 1-D list\n",
            "2\n",
            "3\n",
            "4\n",
            "9\n",
            "8\n",
            "7\n",
            "length of 2-D list:  2\n",
            "Value of 1st element in 2-D list:  [2, 3, 4]\n",
            "Type of the first element:  <class 'list'>\n",
            "Number of rows in 2-D list:  2\n",
            "Number of columns i 2-D list:  3\n",
            "Second element of second element:  8\n",
            "Third element of first element:  4\n",
            "Navigating the 2-D list: 1st level\n",
            "[2, 3, 4]\n",
            "[9, 8, 7]\n",
            "Navigating the 2-D list: 2 levels\n",
            "2\n",
            "3\n",
            "4\n",
            "9\n",
            "8\n",
            "7\n"
          ]
        }
      ]
    },
    {
      "cell_type": "code",
      "source": [
        "#@title Index Notation of 2-D Lists\n",
        "my_list =[ [2, 3, 4], [9, 8, 7], [1, -1, 4] ]\n",
        "\n",
        "x = my_list[1]  # [9, 8, 7]\n",
        "y = my_list[0]  # [2, 3, 4]\n",
        "z = my_list[-2] # [9, 8, 7]\n",
        "\n",
        "a = x[1]   # 8\n",
        "b = y[0]   # 2\n",
        "c = z[-1]  # 7\n",
        "\n",
        "\n",
        "# combining the above assignment operations\n",
        "p = my_list[1][1]   # 8\n",
        "q = my_list[0][0]   # 2\n",
        "c = my_list[-2][-1] # 7\n",
        "\n",
        "# what are these values?\n",
        "d = my_list[1][-1] + my_list[-2][-1] + my_list[0][2]\n",
        "#   7 + 7 + 4\n",
        "print(d)"
      ],
      "metadata": {
        "id": "GQdfxg7AEuoj"
      },
      "execution_count": null,
      "outputs": []
    },
    {
      "cell_type": "code",
      "source": [
        "#@title wo Dimenstional Lists  (List of Lists)\n",
        "\n",
        "#30 students in python class.\n",
        "#Each student did 12 assignments so far\n",
        "\n",
        "# These are 1-Dimensional Lists\n",
        "student_1_marks = ['anna', 10, 9, 8, 10, 10]\n",
        "student_2_marks = ['bindu', 9, 0, 8, 8, 10]\n",
        "student_3_marks = ['chris', 10, 9, 8, 10, 10]\n",
        "student_4_marks = ['deepta', 9, 9, 8, 8, 10]\n",
        "student_5_marks = ['eshan', 10, 9, 8, 9, 10]\n",
        "student_6_marks = ['fiona', 9, 10, 8, 8, 10]\n",
        "\n",
        "# I can create list of lists\n",
        "python_class_marks = [student_1_marks, student_2_marks, student_3_marks, student_4_marks, student_5_marks, student_6_marks]\n",
        "# Imagine that each list is a TV\n",
        "# And 2-D list is nothing but a LIST of REMOTES where each REMOTE is pointing to a specific TV\n",
        "\n",
        "# print(python_class_marks)\n",
        "# print(*python_class_marks)\n",
        "\n",
        "for each_student_marks in python_class_marks:\n",
        "  print(each_student_marks)\n",
        "\n",
        "# for loop in the for loop\n",
        "# and use the range function\n",
        "# to get the desired output\n",
        "print(\"Brute force printing of 2-D lists\")\n",
        "for each_student_marks in python_class_marks:\n",
        "  print(each_student_marks)\n",
        "\n",
        "\n",
        "print(\"Printing each student and their marks\")\n",
        "student_count = len(python_class_marks)\n",
        "# it goes from 0 to count-1\n",
        "# 0, 1, 2, 3, 4, 5\n",
        "for student_index in range(student_count):\n",
        "    print(\"Student\", student_index+1, \"Marks\")\n",
        "    student_marks_list = python_class_marks[student_index]\n",
        "    #print(student_marks_list)\n",
        "\n",
        "    marks_count = len(student_marks_list)\n",
        "    for marks_index in range(1, marks_count):\n",
        "        marks = student_marks_list[marks_index]\n",
        "        print(\"A\", marks_index, \" = \", marks)\n",
        "\n",
        "# Student 1 Marks:\n",
        "A1 = 10\n",
        "A2 = 9\n",
        "A3 = 8\n",
        "A4 = 10\n",
        "A5 = 10\n",
        "\n",
        "# Student 2 Marks:\n",
        "A1 = 9\n",
        "A2 = 0\n",
        "A3 = 8\n",
        "A4 = 8\n",
        "A5 = 10\n"
      ],
      "metadata": {
        "id": "Z4lXBQV0knD_",
        "colab": {
          "base_uri": "https://localhost:8080/"
        },
        "outputId": "df0e109f-8265-4ba0-ebf7-00defdd81ea8"
      },
      "execution_count": null,
      "outputs": [
        {
          "output_type": "stream",
          "name": "stdout",
          "text": [
            "['anna', 10, 9, 8, 10, 10]\n",
            "['bindu', 9, 0, 8, 8, 10]\n",
            "['chris', 10, 9, 8, 10, 10]\n",
            "['deepta', 9, 9, 8, 8, 10]\n",
            "['eshan', 10, 9, 8, 9, 10]\n",
            "['fiona', 9, 10, 8, 8, 10]\n",
            "Brute force printing of 2-D lists\n",
            "['anna', 10, 9, 8, 10, 10]\n",
            "['bindu', 9, 0, 8, 8, 10]\n",
            "['chris', 10, 9, 8, 10, 10]\n",
            "['deepta', 9, 9, 8, 8, 10]\n",
            "['eshan', 10, 9, 8, 9, 10]\n",
            "['fiona', 9, 10, 8, 8, 10]\n",
            "Printing each student and their marks\n",
            "Student 1 Marks\n",
            "A 1  =  10\n",
            "A 2  =  9\n",
            "A 3  =  8\n",
            "A 4  =  10\n",
            "A 5  =  10\n",
            "Student 2 Marks\n",
            "A 1  =  9\n",
            "A 2  =  0\n",
            "A 3  =  8\n",
            "A 4  =  8\n",
            "A 5  =  10\n",
            "Student 3 Marks\n",
            "A 1  =  10\n",
            "A 2  =  9\n",
            "A 3  =  8\n",
            "A 4  =  10\n",
            "A 5  =  10\n",
            "Student 4 Marks\n",
            "A 1  =  9\n",
            "A 2  =  9\n",
            "A 3  =  8\n",
            "A 4  =  8\n",
            "A 5  =  10\n",
            "Student 5 Marks\n",
            "A 1  =  10\n",
            "A 2  =  9\n",
            "A 3  =  8\n",
            "A 4  =  9\n",
            "A 5  =  10\n",
            "Student 6 Marks\n",
            "A 1  =  9\n",
            "A 2  =  10\n",
            "A 3  =  8\n",
            "A 4  =  8\n",
            "A 5  =  10\n"
          ]
        }
      ]
    },
    {
      "cell_type": "code",
      "source": [
        "#@title Creating MxN matrix and fill it with some random numbers\n",
        "\n",
        "# This program assigns random numbers to a two-dimensional list.\n",
        "import random\n",
        "\n",
        "# initialize the rows and columns\n",
        "rows = 7\n",
        "cols = 10\n",
        "\n",
        "# If needed, we can get the input from the user\n",
        "#rows= int(input('Enter the number of ROWS: '))\n",
        "#cols = int(input('Enter the number of COLUMNS'))\n",
        "\n",
        "# use the list comprehension to initialize the 2-D list\n",
        "values = [[0 for x in range(cols)] for y in range(rows)]\n",
        "\n",
        "# use the nested loop to visit each element\n",
        "for row in values:\n",
        "\t  print(row)\n",
        "\n",
        "# Fill the list with random numbers.\n",
        "for row in range(rows):\n",
        "\tfor col in range(cols):\n",
        "\t\tvalues[row][col] = random.randint(1, 100)\n",
        "\n",
        "# Display the random numbers.\n",
        "#print(values)\n",
        "for each_row in values:\n",
        "  print(each_row)"
      ],
      "metadata": {
        "colab": {
          "base_uri": "https://localhost:8080/"
        },
        "id": "-lmaH9uSQIXz",
        "outputId": "04573e41-d7d5-4d50-f4a5-13f20d5f100c"
      },
      "execution_count": null,
      "outputs": [
        {
          "output_type": "stream",
          "name": "stdout",
          "text": [
            "[0, 0, 0, 0, 0, 0, 0, 0, 0, 0]\n",
            "[0, 0, 0, 0, 0, 0, 0, 0, 0, 0]\n",
            "[0, 0, 0, 0, 0, 0, 0, 0, 0, 0]\n",
            "[0, 0, 0, 0, 0, 0, 0, 0, 0, 0]\n",
            "[0, 0, 0, 0, 0, 0, 0, 0, 0, 0]\n",
            "[0, 0, 0, 0, 0, 0, 0, 0, 0, 0]\n",
            "[0, 0, 0, 0, 0, 0, 0, 0, 0, 0]\n",
            "[87, 78, 36, 22, 55, 32, 91, 89, 89, 63]\n",
            "[80, 39, 56, 23, 99, 59, 92, 20, 74, 38]\n",
            "[96, 52, 74, 16, 41, 41, 65, 39, 41, 24]\n",
            "[35, 71, 15, 70, 64, 92, 94, 25, 57, 91]\n",
            "[69, 58, 97, 49, 35, 23, 92, 29, 52, 65]\n",
            "[94, 82, 47, 17, 3, 29, 39, 54, 47, 72]\n",
            "[96, 19, 51, 76, 39, 6, 94, 91, 80, 53]\n"
          ]
        }
      ]
    },
    {
      "cell_type": "code",
      "source": [
        "#@title Flattening a 2-D list into 1-D list\n",
        "\n",
        "matrix = [  [1, 2, 3],\n",
        "            [4, 5, 6],\n",
        "            [7, 8, 9],\n",
        "            [10, 99, 88]\n",
        "         ]\n",
        "flattened = [num for row in matrix for num in row]\n",
        "print(flattened)  # Output: [1, 2, 3, 4, 5, 6, 7, 8, 9]\n"
      ],
      "metadata": {
        "colab": {
          "base_uri": "https://localhost:8080/"
        },
        "id": "KqpeG1xqsOK4",
        "outputId": "4e07a152-a4df-4fd2-8596-c766b3a95805"
      },
      "execution_count": null,
      "outputs": [
        {
          "output_type": "stream",
          "name": "stdout",
          "text": [
            "[1, 2, 3, 4, 5, 6, 7, 8, 9, 10, 99, 88]\n"
          ]
        }
      ]
    },
    {
      "cell_type": "code",
      "source": [
        "#@title 2-D List Traversals (row-major and column-major)\n",
        "\n",
        "# 3 rows and 4 columns ==> 3 x 4 matrix\n",
        "scores = [ [10, 25, 14, 73],\n",
        "           [46, 65, 72, 53],\n",
        "           [37, 98, 99, 15]\n",
        "         ]\n",
        "print(scores)\n",
        "\n",
        "\n",
        "# Two types of traversals\n",
        "# Row major = 10 25 14 73 46 65 72 53 37 98 99 14\n",
        "# Column major = 10 46 37 25 65 98 14 72 99 73 53 15\n",
        "\n",
        "\n",
        "# Row major traversal\n",
        "# Left to right and top to bottom\n",
        "# traditional looping\n",
        "print('\\nRow Major Traversal: Using \"in\" construct')\n",
        "for outer_list in scores:\n",
        "    for elem in outer_list:\n",
        "        print(elem, end = ' ')\n",
        "\n",
        "# Row major traversal\n",
        "# Left to right and top to bottom\n",
        "# Using the range function and indexing\n",
        "print('\\nRow Major Traversal: Using \"range\" construct')\n",
        "row_count = len(scores)\n",
        "col_count = len(scores[0])\n",
        "\n",
        "for r in range(row_count):  # go from 0 to 2\n",
        "    for c in range(col_count): # go from 0 to 3\n",
        "        print(scores[r][c], end = ' ')  #  (0,0) (0,1) (0,2) (0,3) (1,0) (1,1).... (3,3)\n",
        "\n",
        "\n",
        "# Column Major Traversal\n",
        "# Top to Bottom and then Left to Right\n",
        "# Using the range function and indexing\n",
        "print('\\nColumn Major Traversal: Using \"range\" construct')\n",
        "row_count = len(scores)\n",
        "col_count = len(scores[0])\n",
        "\n",
        "for c in range(col_count):\n",
        "    for r in range(row_count):\n",
        "        print(scores[r][c], end = ' ')"
      ],
      "metadata": {
        "colab": {
          "base_uri": "https://localhost:8080/"
        },
        "id": "7Tz5ejvVD6fC",
        "outputId": "853c9a85-bec2-49d2-d129-30fe3b05ef69"
      },
      "execution_count": null,
      "outputs": [
        {
          "output_type": "stream",
          "name": "stdout",
          "text": [
            "[[10, 25, 14, 73], [46, 65, 72, 53], [37, 98, 99, 15]]\n",
            "\n",
            "Row Major Traversal: Using \"in\" construct\n",
            "10 25 14 73 46 65 72 53 37 98 99 15 \n",
            "Row Major Traversal: Using \"range\" construct\n",
            "10 25 14 73 46 65 72 53 37 98 99 15 \n",
            "Column Major Traversal: Using \"range\" construct\n",
            "10 46 37 25 65 98 14 72 99 73 53 15 "
          ]
        }
      ]
    },
    {
      "cell_type": "code",
      "source": [
        "#@title 2-D Lists (Row-wise Traversal) (custom function)\n",
        "# Row-Wise Traversal\n",
        "# Navigating the 2-D lists row by row\n",
        "\n",
        "def rowMajor(my_list):\n",
        "  row_count = len(my_list)\n",
        "  column_count = len(my_list[0])\n",
        "\t# accessing element row wise\n",
        "  for i in range(row_count):\n",
        "    for j in range(column_count):\n",
        "      print(my_list[i][j], end= ' ')\n",
        "    print()\n",
        "\n",
        "rowMajor(python_class_marks)\n",
        "\n",
        "\n",
        "\n"
      ],
      "metadata": {
        "id": "Fc4PI9L_id-x",
        "colab": {
          "base_uri": "https://localhost:8080/"
        },
        "outputId": "11902302-22b2-41e8-8698-24708d189be5"
      },
      "execution_count": null,
      "outputs": [
        {
          "output_type": "stream",
          "name": "stdout",
          "text": [
            "anna 10 9 8 10 10 \n",
            "bindu 9 0 8 8 10 \n",
            "chris 10 9 8 10 10 \n",
            "deepta 9 9 8 8 10 \n",
            "eshan 10 9 8 9 10 \n",
            "fiona 9 10 8 8 10 \n"
          ]
        }
      ]
    },
    {
      "cell_type": "code",
      "source": [
        "#@title 2-D Lists (Column-wise Traversal) (custom function)\n",
        "# Row-Wise Traversal\n",
        "# Navigating the 2-D lists Column by column\n",
        "\n",
        "def columnMajor(my_list):\n",
        "  row_count = len(my_list)\n",
        "  column_count = len(my_list[0])\n",
        "\t# accessing element row wise\n",
        "  for i in range(row_count):\n",
        "    for j in range(column_count):\n",
        "      print(my_list[j][i], end= ' ')\n",
        "    print()\n",
        "\n",
        "columnMajor(python_class_marks)"
      ],
      "metadata": {
        "id": "hfyRSkimitnc",
        "colab": {
          "base_uri": "https://localhost:8080/"
        },
        "outputId": "6abfa7c9-fda6-4c18-ecce-76fdf48111ee"
      },
      "execution_count": null,
      "outputs": [
        {
          "output_type": "stream",
          "name": "stdout",
          "text": [
            "anna bindu chris deepta eshan fiona \n",
            "10 9 10 9 10 9 \n",
            "9 0 9 9 9 10 \n",
            "8 8 8 8 8 8 \n",
            "10 8 10 8 9 8 \n",
            "10 10 10 10 10 10 \n"
          ]
        }
      ]
    },
    {
      "cell_type": "code",
      "source": [
        "#@title Max of 2-D lists  (only on the basis of first element)\n",
        "scores = [ [100, 25, 14, 73],\n",
        "           [46, 1965, 72, 53],\n",
        "           [37, 98, 99, 15]\n",
        "         ]\n",
        "\n",
        "print(scores)\n",
        "print(max(scores))\n",
        "\n",
        "scores = [ [100, 1098725, 14, 73],\n",
        "           [46, 1965, 72, 53],\n",
        "           [3798, 98, 99, 15]\n",
        "         ]\n",
        "\n",
        "print(scores)\n",
        "print(max(scores))\n",
        "\n"
      ],
      "metadata": {
        "colab": {
          "base_uri": "https://localhost:8080/"
        },
        "id": "JkmViOaRASPF",
        "outputId": "4371c69c-1190-4824-b581-33297eabd962"
      },
      "execution_count": null,
      "outputs": [
        {
          "output_type": "stream",
          "name": "stdout",
          "text": [
            "[[100, 25, 14, 73], [46, 1965, 72, 53], [37, 98, 99, 15]]\n",
            "[100, 25, 14, 73]\n",
            "[[100, 1098725, 14, 73], [46, 1965, 72, 53], [3798, 98, 99, 15]]\n",
            "[3798, 98, 99, 15]\n"
          ]
        }
      ]
    },
    {
      "cell_type": "code",
      "source": [
        "#@title Sorting of 2-D lists (only on the basis of first element)\n",
        "#@title Max of 2-D lists  (only on the basis of first element)\n",
        "scores = [ [3, 25, 14, 73],\n",
        "           [1, 1965, 72, 53],\n",
        "           [2, 98, 99, 15]\n",
        "         ]\n",
        "print('Before Sorting: ', scores)\n",
        "scores.sort()\n",
        "print('After sorting: ', scores)\n",
        "\n",
        "\n",
        "scores = [ [10, 1098725, 14, 73],\n",
        "           [4, 1965, 72, 53],\n",
        "           [7, 98, 99, 15]\n",
        "         ]\n",
        "print('Before Sorting: ', scores)\n",
        "scores.sort()\n",
        "print('After sorting: ', scores)"
      ],
      "metadata": {
        "colab": {
          "base_uri": "https://localhost:8080/"
        },
        "id": "xyYMvcVreuGb",
        "outputId": "24af12fc-471a-4cf5-aabd-de5dd6d99b3d"
      },
      "execution_count": null,
      "outputs": [
        {
          "output_type": "stream",
          "name": "stdout",
          "text": [
            "Before Sorting:  [[3, 25, 14, 73], [1, 1965, 72, 53], [2, 98, 99, 15]]\n",
            "After sorting:  [[1, 1965, 72, 53], [2, 98, 99, 15], [3, 25, 14, 73]]\n",
            "Before Sorting:  [[10, 1098725, 14, 73], [4, 1965, 72, 53], [7, 98, 99, 15]]\n",
            "After sorting:  [[4, 1965, 72, 53], [7, 98, 99, 15], [10, 1098725, 14, 73]]\n"
          ]
        }
      ]
    },
    {
      "cell_type": "code",
      "source": [
        "#@title Sorting 2-D lists (based on any column; based on multiple columns)\n",
        "scores = [ [3, 25, 14, 73],\n",
        "           [1, 1965, 72, 53],\n",
        "           [2, 98, 99, 15]\n",
        "         ]\n",
        "\n",
        "scores = [ [1, \"namasthe\"],\n",
        "          [2, \"gujarathi\"]]\n",
        "\n",
        "# do the default sorting based on the first key\n",
        "scores.sort()\n",
        "\n",
        "#scored_sorted = sorted(scores, key = lambda x: (x[3], x[column_number_2]))\n",
        "\n",
        "scores_sorted = sorted(scores, key = lambda x: (x[1]))\n",
        "\n",
        "print('Before sorting: ', scores)\n",
        "print('After sorting (default sort order based on the firs column): ', scores)\n",
        "print('After sorting (Sorting based on the 4th column using lambda function: ', scores_sorted)\n"
      ],
      "metadata": {
        "colab": {
          "base_uri": "https://localhost:8080/"
        },
        "id": "S1eIteTqX47u",
        "outputId": "9f959d14-f8b7-44f3-9b7d-755dc4223975"
      },
      "execution_count": null,
      "outputs": [
        {
          "output_type": "stream",
          "name": "stdout",
          "text": [
            "Before sorting:  [[1, 'namasthe'], [2, 'gujarathi']]\n",
            "After sorting (default sort order based on the firs column):  [[1, 'namasthe'], [2, 'gujarathi']]\n",
            "After sorting (Sorting based on the 4th column using lambda function:  [[2, 'gujarathi'], [1, 'namasthe']]\n"
          ]
        }
      ]
    },
    {
      "cell_type": "code",
      "source": [
        "#@title Sorting: Multiple Keys\n",
        "# Python program to sort a list by multiple\n",
        "# attributes using lambda function\n",
        "\n",
        "# Define the list and declare in variable\n",
        "list_defined=[\n",
        "    [1, 'Arun', 'Computer', 50000],\n",
        "    [2, 'Betty', 'Physics', 20000],\n",
        "    [3, 'Abby', 'Chemistry', 30000],\n",
        "    [4, 'Chris', 'English', 40000]]\n",
        "\n",
        "# Sort the list using sorted() function\n",
        "# and lambda function for multiple attributes\n",
        "sorted_list = sorted(list_defined, key = lambda x: (x[1], x[2]))\n",
        "sorted_list = sorted(list_defined, key = lambda x: (x[3], x[1], x[2]))\n",
        "# Print the sorted list\n",
        "print(sorted_list)\n"
      ],
      "metadata": {
        "id": "07aYU2WcFpVt"
      },
      "execution_count": null,
      "outputs": []
    },
    {
      "cell_type": "markdown",
      "source": [
        "#Other Operations on Lists"
      ],
      "metadata": {
        "id": "ysY0Xm1zC_-c"
      }
    },
    {
      "cell_type": "code",
      "source": [
        "#@title Zipping two or three lists\n",
        "names = [\"Anna\", \"Bindu\", \"Charlie\"]\n",
        "ages = [16, 17, 10]\n",
        "\n",
        "zipped_two = list(zip(names, ages))\n",
        "print(zipped_two)\n"
      ],
      "metadata": {
        "id": "OtnBbCUasGXV",
        "colab": {
          "base_uri": "https://localhost:8080/"
        },
        "outputId": "829c98c1-6eb5-40b4-819c-da1bef62dff9"
      },
      "execution_count": null,
      "outputs": [
        {
          "output_type": "stream",
          "name": "stdout",
          "text": [
            "[('Anna', 16), ('Bindu', 17), ('Charlie', 10)]\n"
          ]
        }
      ]
    },
    {
      "cell_type": "code",
      "source": [
        "#@title unzipping lists\n",
        "names, ages = zip(*zipped_two)\n",
        "print(names)\n",
        "print(ages)"
      ],
      "metadata": {
        "colab": {
          "base_uri": "https://localhost:8080/"
        },
        "id": "EoqmlQ4zJVAJ",
        "outputId": "ee656025-be49-4433-a65b-7aa9111edcfd"
      },
      "execution_count": null,
      "outputs": [
        {
          "output_type": "stream",
          "name": "stdout",
          "text": [
            "('Anna', 'Bindu', 'Charlie')\n",
            "(16, 17, 10)\n"
          ]
        }
      ]
    },
    {
      "cell_type": "code",
      "source": [
        "#@title mapping lists (Example 1)\n",
        "# The map() function in Python is used to apply a given function to all items in an iterable (like a list or tuple) and return a new iterable (typically a map object, which can be converted to a list or another collection type).\n",
        "\n",
        "\n",
        "list1 = [1, 2, 3]\n",
        "list2 = [4, 5, 6]\n",
        "\n",
        "sum_result = list(map(lambda x: x[0] + x[1], zip(list1, list2)))\n",
        "print(sum_result)\n",
        "\n"
      ],
      "metadata": {
        "id": "dPqwLI6RsLxM",
        "colab": {
          "base_uri": "https://localhost:8080/"
        },
        "outputId": "19483cbd-ad01-479b-b0c5-0e14b47496d4"
      },
      "execution_count": null,
      "outputs": [
        {
          "output_type": "stream",
          "name": "stdout",
          "text": [
            "[5, 7, 9]\n"
          ]
        }
      ]
    },
    {
      "cell_type": "code",
      "source": [
        "#@title mapping lists (Example 2)\n",
        "\n",
        "def format_person(name, age, city):\n",
        "    return f\"{name} is {age} years old and lives in {city}\"\n",
        "\n",
        "names = [\"Alice\", \"Bob\", \"Charlie\"]\n",
        "ages = [25, 30, 35]\n",
        "cities = [\"New York\", \"Los Angeles\", \"Chicago\"]\n",
        "\n",
        "formatted_result = list(map(format_person, names, ages, cities))\n",
        "print(*formatted_result, sep=\"\\n\")\n",
        "\n"
      ],
      "metadata": {
        "colab": {
          "base_uri": "https://localhost:8080/"
        },
        "id": "lUP6qtnXEzBD",
        "outputId": "c61b884e-7008-489e-d97c-20485fca45f5"
      },
      "execution_count": null,
      "outputs": [
        {
          "output_type": "stream",
          "name": "stdout",
          "text": [
            "Alice is 25 years old and lives in New York\n",
            "Bob is 30 years old and lives in Los Angeles\n",
            "Charlie is 35 years old and lives in Chicago\n"
          ]
        }
      ]
    },
    {
      "cell_type": "code",
      "source": [
        "#@title mapping lists (Example 3)\n",
        "def format_person(zipped_list):\n",
        "    return f\"{zipped_list[0]} is {zipped_list[1]} years old and lives in {zipped_list[2]}\"\n",
        "\n",
        "names = [\"Alice\", \"Bob\", \"Charlie\"]\n",
        "ages = [25, 30, 35]\n",
        "cities = [\"New York\", \"Los Angeles\", \"Chicago\"]\n",
        "\n",
        "formatted_result = list(map(format_person, zip(names, ages, cities)))\n",
        "print(*formatted_result, sep=\"\\n\")"
      ],
      "metadata": {
        "colab": {
          "base_uri": "https://localhost:8080/"
        },
        "id": "HMdJo5nXFL8D",
        "outputId": "09e9222e-031f-4f79-95ab-5a92edf7958e"
      },
      "execution_count": null,
      "outputs": [
        {
          "output_type": "stream",
          "name": "stdout",
          "text": [
            "Alice is 25 years old and lives in New York\n",
            "Bob is 30 years old and lives in Los Angeles\n",
            "Charlie is 35 years old and lives in Chicago\n"
          ]
        }
      ]
    },
    {
      "cell_type": "code",
      "source": [],
      "metadata": {
        "colab": {
          "base_uri": "https://localhost:8080/"
        },
        "id": "p1ja5gDYvYVK",
        "outputId": "0b0a38de-6563-4117-99f9-fde2017897d9"
      },
      "execution_count": null,
      "outputs": [
        {
          "output_type": "stream",
          "name": "stdout",
          "text": [
            "1. Appending inside the fuction\n",
            "7.691136360168457\n",
            "2. Assigning append to a variable and using the variable inside the fuction\n",
            "7.873494625091553\n",
            "3. Using the list comprehension\n",
            "3.2372326850891113\n"
          ]
        }
      ]
    },
    {
      "cell_type": "code",
      "source": [],
      "metadata": {
        "colab": {
          "base_uri": "https://localhost:8080/"
        },
        "id": "DS6hfPexGG2V",
        "outputId": "74e9240c-8d12-4cf5-bc9b-8b123d9733ef"
      },
      "execution_count": null,
      "outputs": [
        {
          "output_type": "stream",
          "name": "stdout",
          "text": [
            "[[2, 'Betty', 'Physics', 20000], [3, 'Abby', 'Chemistry', 30000], [4, 'Chris', 'English', 40000], [1, 'Arun', 'Computer', 50000]]\n"
          ]
        }
      ]
    },
    {
      "cell_type": "code",
      "source": [
        "#@title List Comprehension vs Loops: Which is faster?\n",
        "import time\n",
        "iterations = 100000000\n",
        "\n",
        "print('1. Appending inside the fuction')\n",
        "start = time.time()\n",
        "mylist = []\n",
        "for i in range(iterations):\n",
        "    mylist.append(i+1)\n",
        "end = time.time()\n",
        "print(end - start)\n",
        "\n",
        "\n",
        "print('2. Assigning append to a variable and using the variable inside the fuction')\n",
        "start = time.time()\n",
        "mylist = []\n",
        "operation = mylist.append\n",
        "for i in range(iterations):\n",
        "    operation(i+1)\n",
        "end = time.time()\n",
        "print(end - start)\n",
        "\n",
        "\n",
        "print('3. Using the list comprehension')\n",
        "start = time.time()\n",
        "mylist = [i+1 for i in range(iterations)]\n",
        "end = time.time()\n",
        "print(end - start)\n",
        "\n"
      ],
      "metadata": {
        "id": "YCQxOll7D57y"
      },
      "execution_count": null,
      "outputs": []
    },
    {
      "cell_type": "markdown",
      "source": [
        "#Lists: Some interesting problems"
      ],
      "metadata": {
        "id": "c6IdLYl39_XC"
      }
    },
    {
      "cell_type": "code",
      "source": [
        "#@title DOB problem\n",
        "# N number of people are entering the room.\n",
        "# What is the value of N for the two people to share the same birthday?\n",
        "import random\n",
        "\n",
        "dob_list = [0] * 365\n",
        "print(dob_list)\n",
        "\n",
        "count = 0\n",
        "while True:\n",
        "  count += 1\n",
        "  dob_in = random.randint(1, 365)\n",
        "  dob_list[dob_in] += 1\n",
        "  if dob_list[dob_in] == 2:\n",
        "    break\n",
        "\n",
        "print(count)\n"
      ],
      "metadata": {
        "colab": {
          "base_uri": "https://localhost:8080/"
        },
        "id": "5uR7XBJk-Itx",
        "outputId": "7e724bbe-d663-4775-e312-fcf04e07867f"
      },
      "execution_count": null,
      "outputs": [
        {
          "output_type": "stream",
          "name": "stdout",
          "text": [
            "[0, 0, 0, 0, 0, 0, 0, 0, 0, 0, 0, 0, 0, 0, 0, 0, 0, 0, 0, 0, 0, 0, 0, 0, 0, 0, 0, 0, 0, 0, 0, 0, 0, 0, 0, 0, 0, 0, 0, 0, 0, 0, 0, 0, 0, 0, 0, 0, 0, 0, 0, 0, 0, 0, 0, 0, 0, 0, 0, 0, 0, 0, 0, 0, 0, 0, 0, 0, 0, 0, 0, 0, 0, 0, 0, 0, 0, 0, 0, 0, 0, 0, 0, 0, 0, 0, 0, 0, 0, 0, 0, 0, 0, 0, 0, 0, 0, 0, 0, 0, 0, 0, 0, 0, 0, 0, 0, 0, 0, 0, 0, 0, 0, 0, 0, 0, 0, 0, 0, 0, 0, 0, 0, 0, 0, 0, 0, 0, 0, 0, 0, 0, 0, 0, 0, 0, 0, 0, 0, 0, 0, 0, 0, 0, 0, 0, 0, 0, 0, 0, 0, 0, 0, 0, 0, 0, 0, 0, 0, 0, 0, 0, 0, 0, 0, 0, 0, 0, 0, 0, 0, 0, 0, 0, 0, 0, 0, 0, 0, 0, 0, 0, 0, 0, 0, 0, 0, 0, 0, 0, 0, 0, 0, 0, 0, 0, 0, 0, 0, 0, 0, 0, 0, 0, 0, 0, 0, 0, 0, 0, 0, 0, 0, 0, 0, 0, 0, 0, 0, 0, 0, 0, 0, 0, 0, 0, 0, 0, 0, 0, 0, 0, 0, 0, 0, 0, 0, 0, 0, 0, 0, 0, 0, 0, 0, 0, 0, 0, 0, 0, 0, 0, 0, 0, 0, 0, 0, 0, 0, 0, 0, 0, 0, 0, 0, 0, 0, 0, 0, 0, 0, 0, 0, 0, 0, 0, 0, 0, 0, 0, 0, 0, 0, 0, 0, 0, 0, 0, 0, 0, 0, 0, 0, 0, 0, 0, 0, 0, 0, 0, 0, 0, 0, 0, 0, 0, 0, 0, 0, 0, 0, 0, 0, 0, 0, 0, 0, 0, 0, 0, 0, 0, 0, 0, 0, 0, 0, 0, 0, 0, 0, 0, 0, 0, 0, 0, 0, 0, 0, 0, 0, 0, 0, 0, 0, 0, 0, 0, 0, 0, 0, 0, 0, 0, 0, 0, 0, 0, 0, 0, 0, 0, 0, 0, 0]\n",
            "17\n"
          ]
        }
      ]
    }
  ]
}