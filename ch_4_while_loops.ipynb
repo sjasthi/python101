{
  "nbformat": 4,
  "nbformat_minor": 0,
  "metadata": {
    "colab": {
      "provenance": [],
      "authorship_tag": "ABX9TyM7gnSNTFojGHI0jo5mXNJQ",
      "include_colab_link": true
    },
    "kernelspec": {
      "name": "python3",
      "display_name": "Python 3"
    },
    "language_info": {
      "name": "python"
    }
  },
  "cells": [
    {
      "cell_type": "markdown",
      "metadata": {
        "id": "view-in-github",
        "colab_type": "text"
      },
      "source": [
        "<a href=\"https://colab.research.google.com/github/sjasthi/python101/blob/main/ch_4_while_loops.ipynb\" target=\"_parent\"><img src=\"https://colab.research.google.com/assets/colab-badge.svg\" alt=\"Open In Colab\"/></a>"
      ]
    },
    {
      "cell_type": "markdown",
      "source": [
        "# Chapter 4: Repetition Structures\n",
        "## Loops\n",
        "### While loops\n"
      ],
      "metadata": {
        "id": "8CS7mRXRCHJr"
      }
    },
    {
      "cell_type": "code",
      "source": [
        "# we can not brute force the code to repeat a programming statement.\n",
        "# we got to be smarter in doing the repititions.\n",
        "print(\"testing\")\n",
        "print(\"testing\")\n",
        "print(\"testing\")\n",
        "print(\"testing\")\n",
        "print(\"testing\")\n",
        "print(\"testing\")\n",
        "print(\"testing\")\n",
        "print(\"testing\")\n",
        "print(\"testing\")\n",
        "print(\"testing\")\n",
        "print(\"testing\")\n",
        "print(\"testing\")"
      ],
      "metadata": {
        "colab": {
          "base_uri": "https://localhost:8080/"
        },
        "id": "JAo-WnV7DQmr",
        "outputId": "d4da6011-0801-4b27-b138-2f0cbdfb0bd4"
      },
      "execution_count": 4,
      "outputs": [
        {
          "output_type": "stream",
          "name": "stdout",
          "text": [
            "testing\n",
            "testing\n",
            "testing\n",
            "testing\n",
            "testing\n",
            "testing\n",
            "testing\n",
            "testing\n",
            "testing\n",
            "testing\n",
            "testing\n",
            "testing\n"
          ]
        }
      ]
    },
    {
      "cell_type": "code",
      "source": [
        "# Basic example of while loop\n",
        "n = 5\n",
        "while (n > 0) :\n",
        "    print(n)\n",
        "    n = n-1\n",
        "print(\"Take Off!\")\n",
        "print(n)"
      ],
      "metadata": {
        "colab": {
          "base_uri": "https://localhost:8080/"
        },
        "id": "HSbSycexG7IK",
        "outputId": "bc3028b6-a1ca-4c4e-c18d-adf9529b1bf4"
      },
      "execution_count": 5,
      "outputs": [
        {
          "output_type": "stream",
          "name": "stdout",
          "text": [
            "5\n",
            "4\n",
            "3\n",
            "2\n",
            "1\n",
            "Take Off!\n",
            "0\n"
          ]
        }
      ]
    },
    {
      "cell_type": "markdown",
      "source": [
        "### 2.1 The Bug Collector Problem\n",
        "A bug collector collects bugs every day for five days. Write a program that keeps a running total\n",
        "of the number of bugs collected during the five days. The loop should ask for the number of\n",
        "bugs collected for each day, and when the loop is finished, the program should display the total\n",
        "number of bugs collected."
      ],
      "metadata": {
        "id": "3HVcaXirKiMs"
      }
    },
    {
      "cell_type": "code",
      "source": [
        "day_count = 1\n",
        "total_bugs = 0\n",
        "\n",
        "# while (day_count < 6):  # ok\n",
        "# while (day_count <= 5): # ok\n",
        "# while (day_count < 5):  # not ok; One-off defect\n",
        "    \n",
        "while (day_count <= 5):    \n",
        "  print(\"Day Number: \", day_count)\n",
        "  bug_count = input(\"Enter the bugs you collected: \")\n",
        "  bug_count = int(bug_count)\n",
        "  total_bugs = total_bugs + bug_count\n",
        "  day_count = day_count + 1\n",
        "  \n",
        "# output\n",
        "print(\"Total number of bugs collected: \", total_bugs)"
      ],
      "metadata": {
        "id": "OGEHZllNKhiU"
      },
      "execution_count": null,
      "outputs": []
    },
    {
      "cell_type": "code",
      "source": [
        "# With minor enhancement\n",
        "# FInal version for programming assignment 2.1\n",
        "day_count = 1\n",
        "total_bugs = 0\n",
        "\n",
        "# while (day_count < 6):  # ok\n",
        "# while (day_count <= 5): # ok\n",
        "# while (day_count < 5):  # not ok; One-off defect\n",
        "    \n",
        "while (day_count <= 5):    \n",
        "  #print(\"Day Number: \", day_count)\n",
        "  bug_count = input(\"Enter the bugs you collected on day \" + str(day_count) + \": \")\n",
        "  bug_count = int(bug_count)\n",
        "  total_bugs = total_bugs + bug_count\n",
        "  day_count = day_count + 1\n",
        "  \n",
        "# output\n",
        "print(\"Total number of bugs collected: \", total_bugs)"
      ],
      "metadata": {
        "id": "grCtpF80Nh90"
      },
      "execution_count": null,
      "outputs": []
    },
    {
      "cell_type": "markdown",
      "source": [
        "### 2. Calories Burned\n",
        "Running on a particular treadmill you burn 4.2 calories per minute. Write a program that uses a\n",
        "loop to display the number of calories burned after 10, 15, 20, 25, and 30 minutes."
      ],
      "metadata": {
        "id": "HVzZrxAmPGFG"
      }
    },
    {
      "cell_type": "code",
      "source": [
        "# declare and initialize variables\n",
        "CAL_PER_MINUTE = 4.2\n",
        "starting_minute = 10\n",
        "\n",
        "# setup for loop\n",
        "while (starting_minute < 31):\n",
        "  calories_burned = starting_minute * CAL_PER_MINUTE\n",
        "  print(\"Number of calories burned after\", starting_minute, \"minutes: \", calories_burned)\n",
        "  starting_minute = starting_minute + 5\n",
        "\n",
        "# output\n",
        "print(\"Done!\")\n",
        "\n"
      ],
      "metadata": {
        "id": "whepmowLPSk4"
      },
      "execution_count": null,
      "outputs": []
    },
    {
      "cell_type": "markdown",
      "source": [
        "Number of calories burned after 10 minutes:  42.0\n",
        "Number of calories burned after 15 minutes:  63.0\n",
        "Number of calories burned after 20 minutes:  84.0\n",
        "Number of calories burned after 25 minutes:  105.0\n",
        "Number of calories burned after 30 minutes:  126.0\n",
        "Done!\n",
        "\n",
        "===============>\n",
        "\n",
        "Minutes    Calories\n",
        "10          42.0\n",
        "15          63.0\n",
        "20          84.0\n",
        "25         105.0\n",
        "30         126.0"
      ],
      "metadata": {
        "id": "2b43Zt64QVQg"
      }
    },
    {
      "cell_type": "code",
      "source": [
        "# declare and initialize variables\n",
        "CAL_PER_MINUTE = 4.2\n",
        "starting_minute = 10\n",
        "\n",
        "# setup for loop\n",
        "while (starting_minute < 31):\n",
        "  calories_burned = starting_minute * CAL_PER_MINUTE\n",
        "  print(\"Number of calories burned after\", starting_minute, \"minutes: \", calories_burned)\n",
        "  starting_minute = starting_minute + 5\n",
        "\n",
        "# output\n",
        "print(\"Done!\")\n",
        "\n"
      ],
      "metadata": {
        "id": "jHILbJLVQRBn"
      },
      "execution_count": null,
      "outputs": []
    },
    {
      "cell_type": "code",
      "source": [
        "# declare and initialize variables\n",
        "CAL_PER_MINUTE = 4.2\n",
        "starting_minute = 10\n",
        "\n",
        "# setup for loop\n",
        "print(\"Minutes  Calories\")\n",
        "while (starting_minute < 31):\n",
        "  calories_burned = starting_minute * CAL_PER_MINUTE\n",
        "  print(starting_minute, \" \", calories_burned)\n",
        "  starting_minute = starting_minute + 5\n",
        "\n",
        "# output\n",
        "print(\"Done!\")"
      ],
      "metadata": {
        "id": "JJ6rovNIQ6_B"
      },
      "execution_count": null,
      "outputs": []
    },
    {
      "cell_type": "markdown",
      "source": [
        "### Pennies for Pay\n",
        "Write a program that calculates the amount of money a person would earn over a period of time\n",
        "if his or her salary is one penny the first day, two pennies the second day, and continues to\n",
        "double each day. The program should ask the user for the number of days. Display a table\n",
        "showing what the salary was for each day, then show the total pay at the end of the period. The\n",
        "output should be displayed in a dollar amount, not the number of pennies.\n"
      ],
      "metadata": {
        "id": "BczU85UOPPia"
      }
    },
    {
      "cell_type": "code",
      "source": [
        "#TO BE DONE"
      ],
      "metadata": {
        "id": "L_GYD0KtSN0d"
      },
      "execution_count": null,
      "outputs": []
    },
    {
      "cell_type": "markdown",
      "source": [],
      "metadata": {
        "id": "zfm8_kq3KcYY"
      }
    }
  ]
}